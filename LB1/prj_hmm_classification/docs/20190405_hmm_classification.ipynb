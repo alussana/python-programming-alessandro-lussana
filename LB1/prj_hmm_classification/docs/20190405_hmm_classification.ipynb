{
 "cells": [
  {
   "cell_type": "markdown",
   "metadata": {},
   "source": [
    "# HMM classification - part 3\n",
    "  \n",
    "This doc lives in:"
   ]
  },
  {
   "cell_type": "code",
   "execution_count": 1,
   "metadata": {},
   "outputs": [
    {
     "name": "stdout",
     "output_type": "stream",
     "text": [
      "/home/alessandro/Unibo/python-programming-alessandro-lussana/LB1/prj_hmm_classification/docs\n"
     ]
    }
   ],
   "source": [
    "%%bash\n",
    "pwd"
   ]
  },
  {
   "cell_type": "markdown",
   "metadata": {},
   "source": [
    "## Random sampling the negative testing set\n",
    "TODO: this operation should be performed a number of times"
   ]
  },
  {
   "cell_type": "code",
   "execution_count": 2,
   "metadata": {},
   "outputs": [
    {
     "name": "stdout",
     "output_type": "stream",
     "text": [
      "/home/alessandro/Unibo/python-programming-alessandro-lussana/LB1/prj_hmm_classification/dataset\n",
      "P0A8I8\t1NS5;5TWJ;5TWK;\n",
      "Q9CRC3\t\n",
      "Q3SIR7\t\n",
      "Q1G9M5\t\n",
      "B8D726\t\n",
      "Q9VB30\t\n",
      "Q43213\t\n",
      "A8G9Z2\t\n",
      "Q9P8V3\t\n",
      "C3L742\t\n"
     ]
    },
    {
     "name": "stderr",
     "output_type": "stream",
     "text": [
      "Provided cores: 1\n",
      "Rules claiming more threads will be scaled down.\n",
      "Job counts:\n",
      "\tcount\tjobs\n",
      "\t1\trandom_sampling\n",
      "\t1\n",
      "\n",
      "rule random_sampling:\n",
      "    input: uniprot_kunitz_negative.gz\n",
      "    output: uniprot_kunitz_negative_sampled400.txt\n",
      "    jobid: 0\n",
      "    wildcards: list=uniprot_kunitz_negative, N=400\n",
      "\n",
      "zcat uniprot_kunitz_negative.gz | sort -R | sed -n '1,400p' > uniprot_kunitz_negative_sampled400.txt\n",
      "Finished job 0.\n",
      "1 of 1 steps (100%) done\n"
     ]
    }
   ],
   "source": [
    "%%bash\n",
    "cd ../dataset/\n",
    "pwd\n",
    "snakemake -p uniprot_kunitz_negative_sampled400.txt\n",
    "head uniprot_kunitz_negative_sampled400.txt"
   ]
  },
  {
   "cell_type": "markdown",
   "metadata": {},
   "source": [
    "## Extract fasta for the sampled negative testing set"
   ]
  },
  {
   "cell_type": "code",
   "execution_count": 3,
   "metadata": {},
   "outputs": [
    {
     "name": "stdout",
     "output_type": "stream",
     "text": [
      "/home/alessandro/Unibo/python-programming-alessandro-lussana/LB1/prj_hmm_classification/dataset\n",
      ">sp|Q2VZZ9|PAND_MAGSA Aspartate 1-decarboxylase OS=Magnetospirillum magneticum (strain AMB-1 / ATCC 700264) OX=342108 GN=panD PE=3 SV=1\n",
      "MMKIIRAKLHGIRVTNADLNYHGSITLDPEQCEMAGIYPMEFVDIWNKNSAARISTYVIF\n",
      "GEPGSRCCVLNGAAARTCQKGDELIIAASADISGPEKLYDIKPRILTFLPDNHVDQVLYY\n",
      "DVFQSEKRPYDFRIVDADKHTIESCHTWPNVDITKLRSDLAAKGWSEAEIDSFIASHFSL\n",
      ">sp|Q5P083|PDXJ_AROAE Pyridoxine 5'-phosphate synthase OS=Aromatoleum aromaticum (strain EbN1) OX=76114 GN=pdxJ PE=3 SV=1\n",
      "MIELGVNIDHVATLRQARRTWEPDPAWAAMEAHLGGADGITVHLREDRRHIQDEDVRRLR\n",
      "ELTQVKLNLEMAATDEMVGIACALRPEMAMLVPEGRHEVTTEGGLDVLAQEGRLKDVVAR\n",
      "LADAGIVTSVFIDAELGQVEAAARIGARVCEIHTGPYAHAFHAAGRDPQSAAVVDEIDKV\n",
      "RRAGEAIRALGMRFNAGHALNYYNVQPIARLPEVRELHIGHAIVSRSVFTGLRDAVREMK\n",
      "RLMREAAGVGR\n"
     ]
    },
    {
     "name": "stderr",
     "output_type": "stream",
     "text": [
      "Provided cores: 1\n",
      "Rules claiming more threads will be scaled down.\n",
      "Job counts:\n",
      "\tcount\tjobs\n",
      "\t1\tfilterfasta\n",
      "\t1\n",
      "\n",
      "rule filterfasta:\n",
      "    input: swissprot.fasta.gz, uniprot_kunitz_negative_sampled400.txt\n",
      "    output: uniprot_kunitz_negative_sampled400_filter_on_swissprot.fasta.gz\n",
      "    jobid: 0\n",
      "    wildcards: filter=uniprot_kunitz_negative_sampled400, db=swissprot\n",
      "\n",
      "python ../src/fastafilter.py swissprot.fasta.gz uniprot_kunitz_negative_sampled400.txt | gzip > uniprot_kunitz_negative_sampled400_filter_on_swissprot.fasta.gz\n",
      "Finished job 0.\n",
      "1 of 1 steps (100%) done\n"
     ]
    }
   ],
   "source": [
    "%%bash\n",
    "cd ../dataset/\n",
    "pwd\n",
    "snakemake -p uniprot_kunitz_negative_sampled400_filter_on_swissprot.fasta.gz\n",
    "zcat uniprot_kunitz_negative_sampled400_filter_on_swissprot.fasta.gz | head"
   ]
  },
  {
   "cell_type": "markdown",
   "metadata": {},
   "source": [
    "Check number of lines to be consistent "
   ]
  },
  {
   "cell_type": "code",
   "execution_count": 4,
   "metadata": {},
   "outputs": [
    {
     "name": "stdout",
     "output_type": "stream",
     "text": [
      "/home/alessandro/Unibo/python-programming-alessandro-lussana/LB1/prj_hmm_classification/dataset\n",
      "400 uniprot_kunitz_negative_sampled400.txt\n",
      "400\n"
     ]
    }
   ],
   "source": [
    "%%bash\n",
    "cd ../dataset/\n",
    "pwd\n",
    "wc -l uniprot_kunitz_negative_sampled400.txt\n",
    "zcat uniprot_kunitz_negative_sampled400_filter_on_swissprot.fasta.gz | grep \">\" | wc -l"
   ]
  },
  {
   "cell_type": "markdown",
   "metadata": {},
   "source": [
    "## run hmmsearch on the sampled negative testing set"
   ]
  },
  {
   "cell_type": "code",
   "execution_count": 5,
   "metadata": {},
   "outputs": [
    {
     "name": "stdout",
     "output_type": "stream",
     "text": [
      "/home/alessandro/Unibo/python-programming-alessandro-lussana/LB1/prj_hmm_classification/dataset\n",
      "#                                                                                                                                                            --- full sequence ---- --- best 1 domain ---- --- domain number estimation ----\n",
      "# target name            accession  query name                                                                                                    accession    E-value  score  bias   E-value  score  bias   exp reg clu  ov env dom rep inc description of target\n",
      "#    ------------------- ----------                                                                                          -------------------- ---------- --------- ------ ----- --------- ------ -----   --- --- --- --- --- --- --- --- ---------------------\n",
      "sp|P40520|YIF9_YEAST     -          chosen_blastclust_seq_for_intersec_rcsbpdb_wt_PF00014_len50_90_and_pdbefold_5pti_A_summary_S99_L0.95.pdbefold -                1.1    4.2   0.2       1.8    3.5   0.2   1.2   1   0   0   1   1   1   0 Uncharacterized protein YIL059C OS=Saccharomyces cerevisiae (strain ATCC 204508 / S288c) OX=559292 GN=YIL059C PE=1 SV=1\n",
      "sp|A0M8T2|WNT2_FELCA     -          chosen_blastclust_seq_for_intersec_rcsbpdb_wt_PF00014_len50_90_and_pdbefold_5pti_A_summary_S99_L0.95.pdbefold -                1.5    3.8   1.8       5.6    1.9   0.0   2.8   2   0   0   2   2   2   0 Protein Wnt-2 OS=Felis catus OX=9685 GN=WNT2 PE=3 SV=1\n",
      "sp|B8HA70|MSRA_PSECP     -          chosen_blastclust_seq_for_intersec_rcsbpdb_wt_PF00014_len50_90_and_pdbefold_5pti_A_summary_S99_L0.95.pdbefold -                2.2    3.2   0.0       6.2    1.8   0.0   1.7   1   0   0   1   1   1   0 Peptide methionine sulfoxide reductase MsrA OS=Pseudarthrobacter chlorophenolicus (strain ATCC 700700 / DSM 12829 / CIP 107037 / JCM 12360 / KCTC 9906 / NCIMB 13794 / A6) OX=452863 GN=msrA PE=3 SV=1\n",
      "sp|O02036|LCK_AEDAE      -          chosen_blastclust_seq_for_intersec_rcsbpdb_wt_PF00014_len50_90_and_pdbefold_5pti_A_summary_S99_L0.95.pdbefold -                2.7    3.0   1.6       5.6    1.9   0.5   2.0   2   0   0   2   2   2   0 Leucokinins OS=Aedes aegypti OX=7159 GN=AAEL010172 PE=1 SV=1\n",
      "sp|Q92084|PA2NA_NAJSP    -          chosen_blastclust_seq_for_intersec_rcsbpdb_wt_PF00014_len50_90_and_pdbefold_5pti_A_summary_S99_L0.95.pdbefold -                4.2    2.3   5.1       2.5    3.0   1.4   2.3   2   0   0   2   2   2   0 Neutral phospholipase A2 muscarinic inhibitor OS=Naja sputatrix OX=33626 PE=1 SV=1\n",
      "sp|Q2GCZ0|SYH_NEOSM      -          chosen_blastclust_seq_for_intersec_rcsbpdb_wt_PF00014_len50_90_and_pdbefold_5pti_A_summary_S99_L0.95.pdbefold -                7.2    1.6   0.0        17    0.4   0.0   1.4   1   0   0   1   1   1   0 Histidine--tRNA ligase OS=Neorickettsia sennetsu (strain ATCC VR-367 / Miyayama) OX=222891 GN=hisS PE=3 SV=1\n",
      "sp|Q13508|NAR3_HUMAN     -          chosen_blastclust_seq_for_intersec_rcsbpdb_wt_PF00014_len50_90_and_pdbefold_5pti_A_summary_S99_L0.95.pdbefold -                7.7    1.5   0.0        22    0.0   0.0   1.6   1   0   0   1   1   1   0 Ecto-ADP-ribosyltransferase 3 OS=Homo sapiens OX=9606 GN=ART3 PE=1 SV=2\n"
     ]
    },
    {
     "name": "stderr",
     "output_type": "stream",
     "text": [
      "Provided cores: 1\n",
      "Rules claiming more threads will be scaled down.\n",
      "Job counts:\n",
      "\tcount\tjobs\n",
      "\t1\thmm_db_search\n",
      "\t1\n",
      "\n",
      "rule hmm_db_search:\n",
      "    input: uniprot_kunitz_negative_sampled400_filter_on_swissprot.fasta.gz, chosen_blastclust_seq_for_intersec_rcsbpdb_wt_PF00014_len50_90_and_pdbefold_5pti_A_summary_S99_L0.95.pdbefold.hmm\n",
      "    output: chosen_blastclust_seq_for_intersec_rcsbpdb_wt_PF00014_len50_90_and_pdbefold_5pti_A_summary_S99_L0.95.pdbefold_vs_uniprot_kunitz_negative_sampled400_filter_on_swissprot.search_out\n",
      "    jobid: 0\n",
      "    wildcards: model=chosen_blastclust_seq_for_intersec_rcsbpdb_wt_PF00014_len50_90_and_pdbefold_5pti_A_summary_S99_L0.95.pdbefold, db=uniprot_kunitz_negative_sampled400_filter_on_swissprot\n",
      "\n",
      "hmmsearch --tblout chosen_blastclust_seq_for_intersec_rcsbpdb_wt_PF00014_len50_90_and_pdbefold_5pti_A_summary_S99_L0.95.pdbefold_vs_uniprot_kunitz_negative_sampled400_filter_on_swissprot.search_out --max --noali --domE 100000000 -E 100000000 chosen_blastclust_seq_for_intersec_rcsbpdb_wt_PF00014_len50_90_and_pdbefold_5pti_A_summary_S99_L0.95.pdbefold.hmm <(zcat uniprot_kunitz_negative_sampled400_filter_on_swissprot.fasta.gz) > /dev/null\n",
      "Finished job 0.\n",
      "1 of 1 steps (100%) done\n"
     ]
    }
   ],
   "source": [
    "%%bash\n",
    "cd ../dataset/\n",
    "pwd\n",
    "snakemake -p chosen_blastclust_seq_for_intersec_rcsbpdb_wt_PF00014_len50_90_and_pdbefold_5pti_A_summary_S99_L0.95.pdbefold_vs_uniprot_kunitz_negative_sampled400_filter_on_swissprot.search_out\n",
    "cat chosen_blastclust_seq_for_intersec_rcsbpdb_wt_PF00014_len50_90_and_pdbefold_5pti_A_summary_S99_L0.95.pdbefold_vs_uniprot_kunitz_negative_sampled400_filter_on_swissprot.search_out | head"
   ]
  },
  {
   "cell_type": "markdown",
   "metadata": {},
   "source": [
    "## Feeding the confusion matrix program"
   ]
  },
  {
   "cell_type": "code",
   "execution_count": 6,
   "metadata": {},
   "outputs": [
    {
     "name": "stdout",
     "output_type": "stream",
     "text": [
      "/home/alessandro/Unibo/python-programming-alessandro-lussana/LB1/prj_hmm_classification/dataset\n",
      "sp|Q28864|TFPI1_MACMU\t3e-27\t1\n",
      "sp|Q02445|TFPI1_RAT\t1.2e-25\t1\n",
      "sp|O54819|TFPI1_MOUSE\t8e-26\t1\n",
      "sp|P19761|TFPI1_RABIT\t1.1e-25\t1\n",
      "sp|P84875|PCPI_SABMA\t1.5e-23\t1\n",
      "sp|P83606|BMTI6_RHIMP\t3e-23\t1\n",
      "sp|Q7YRQ8|TFPI2_BOVIN\t4.3e-27\t1\n",
      "sp|O35536|TFPI2_MOUSE\t3.2e-24\t1\n",
      "sp|P86733|KCP_HALAI\t5.5e-25\t1\n",
      "sp|W4VSH9|VKT1_TRILK\t1.2e-25\t1\n"
     ]
    },
    {
     "name": "stderr",
     "output_type": "stream",
     "text": [
      "Provided cores: 1\n",
      "Rules claiming more threads will be scaled down.\n",
      "Job counts:\n",
      "\tcount\tjobs\n",
      "\t1\tcompute_confusion_matrix_feed_file\n",
      "\t1\n",
      "\n",
      "rule compute_confusion_matrix_feed_file:\n",
      "    input: chosen_blastclust_seq_for_intersec_rcsbpdb_wt_PF00014_len50_90_and_pdbefold_5pti_A_summary_S99_L0.95.pdbefold_vs_filtered_uniprot_kunitz_positive_filter_on_swissprot.search_out, chosen_blastclust_seq_for_intersec_rcsbpdb_wt_PF00014_len50_90_and_pdbefold_5pti_A_summary_S99_L0.95.pdbefold_vs_uniprot_kunitz_negative_sampled400_filter_on_swissprot.search_out\n",
      "    output: conf_list.gz\n",
      "    jobid: 0\n",
      "\n",
      "cat <(cat chosen_blastclust_seq_for_intersec_rcsbpdb_wt_PF00014_len50_90_and_pdbefold_5pti_A_summary_S99_L0.95.pdbefold_vs_filtered_uniprot_kunitz_positive_filter_on_swissprot.search_out | grep ^sp | tr -s \" \" \"\\t\" | cut -f1,8 | awk '{print $0\"\\t1\"}') <(cat chosen_blastclust_seq_for_intersec_rcsbpdb_wt_PF00014_len50_90_and_pdbefold_5pti_A_summary_S99_L0.95.pdbefold_vs_uniprot_kunitz_negative_sampled400_filter_on_swissprot.search_out | grep ^sp | tr -s \" \" \"\\t\" | cut -f1,8 | awk '{print $0\"\\t0\"}') | gzip > conf_list.gz\n",
      "Finished job 0.\n",
      "1 of 1 steps (100%) done\n"
     ]
    }
   ],
   "source": [
    "%%bash\n",
    "cd ../dataset/\n",
    "pwd\n",
    "snakemake -p conf_list.gz\n",
    "zcat conf_list.gz | head"
   ]
  },
  {
   "cell_type": "markdown",
   "metadata": {},
   "source": [
    "## Include hmmsearch-missed sequences with psudo-e-val"
   ]
  },
  {
   "cell_type": "code",
   "execution_count": 7,
   "metadata": {},
   "outputs": [
    {
     "name": "stdout",
     "output_type": "stream",
     "text": [
      "/home/alessandro/Unibo/python-programming-alessandro-lussana/LB1/prj_hmm_classification/dataset\n"
     ]
    }
   ],
   "source": [
    "%%bash\n",
    "cd ../dataset/\n",
    "pwd"
   ]
  },
  {
   "cell_type": "markdown",
   "metadata": {},
   "source": [
    "## Divide e-values by the dataset sizes\n",
    "[...]"
   ]
  },
  {
   "cell_type": "markdown",
   "metadata": {},
   "source": [
    "## Computing the confusion matrix"
   ]
  },
  {
   "cell_type": "markdown",
   "metadata": {},
   "source": [
    "**Note: done later after filling the confusion list with missing ids and anfter correcting the e-values**\n",
    "\n",
    "%%bash\n",
    "\n",
    "cd ../dataset/\n",
    "\n",
    "pwd\n",
    "\n",
    "snakemake -p conf_mat_th0.001\n",
    "\n",
    "cat conf_mat_th0.001"
   ]
  },
  {
   "cell_type": "markdown",
   "metadata": {},
   "source": [
    "## TODO\n",
    "* Find out why sequences are lost on the way T_T\n",
    "    * DONE: hmmsearch didn't do computations on sequences for which a seed hit was not found\n",
    "    * TODO: download the last version of swissprot not to lost sequences in filterfasta step\n",
    "* DONE Correct all e-values dividing for the number of sequences\n",
    "* DONE Reinclude the missing sequences in the (hmm)search_output, using the fake e-values == 1\n",
    "    * DONE: this is the file on which hmmsearch run for negative set calculations: uniprot_kunitz_negative_sampled400_filter_on_swissprot.fasta.gz; Below is the count of the dataset size: check is ok; grep -v will use a cut -f1 of uniprot_kunitz_negative_sampled400.txt"
   ]
  },
  {
   "cell_type": "code",
   "execution_count": 8,
   "metadata": {},
   "outputs": [
    {
     "name": "stdout",
     "output_type": "stream",
     "text": [
      "/home/alessandro/Unibo/python-programming-alessandro-lussana/LB1/prj_hmm_classification/dataset\n",
      "400\n"
     ]
    }
   ],
   "source": [
    "%%bash\n",
    "cd ../dataset/\n",
    "pwd\n",
    "zcat uniprot_kunitz_negative_sampled400_filter_on_swissprot.fasta.gz | grep -c \"^>\""
   ]
  },
  {
   "cell_type": "markdown",
   "metadata": {},
   "source": [
    "And the actual filter to generate this dataset is this one:"
   ]
  },
  {
   "cell_type": "code",
   "execution_count": 9,
   "metadata": {},
   "outputs": [
    {
     "name": "stdout",
     "output_type": "stream",
     "text": [
      "/home/alessandro/Unibo/python-programming-alessandro-lussana/LB1/prj_hmm_classification/dataset\n",
      "P0A8I8\t1NS5;5TWJ;5TWK;\n",
      "Q9CRC3\t\n",
      "Q3SIR7\t\n",
      "Q1G9M5\t\n",
      "B8D726\t\n",
      "Q9VB30\t\n",
      "Q43213\t\n",
      "A8G9Z2\t\n",
      "Q9P8V3\t\n",
      "C3L742\t\n",
      "400\n"
     ]
    }
   ],
   "source": [
    "%%bash\n",
    "cd ../dataset/\n",
    "pwd\n",
    "head uniprot_kunitz_negative_sampled400.txt\n",
    "cat uniprot_kunitz_negative_sampled400.txt | wc -l"
   ]
  },
  {
   "cell_type": "markdown",
   "metadata": {},
   "source": [
    "So, concatenate this to the confusion matrix feeder file:"
   ]
  },
  {
   "cell_type": "code",
   "execution_count": 10,
   "metadata": {},
   "outputs": [
    {
     "name": "stdout",
     "output_type": "stream",
     "text": [
      "/home/alessandro/Unibo/python-programming-alessandro-lussana/LB1/prj_hmm_classification/dataset\n",
      "710\n",
      "sp|Q28864|TFPI1_MACMU\t3e-27\t1\n",
      "sp|Q02445|TFPI1_RAT\t1.2e-25\t1\n",
      "sp|O54819|TFPI1_MOUSE\t8e-26\t1\n",
      "sp|P19761|TFPI1_RABIT\t1.1e-25\t1\n",
      "sp|P84875|PCPI_SABMA\t1.5e-23\t1\n",
      "sp|P83606|BMTI6_RHIMP\t3e-23\t1\n",
      "sp|Q7YRQ8|TFPI2_BOVIN\t4.3e-27\t1\n",
      "sp|O35536|TFPI2_MOUSE\t3.2e-24\t1\n",
      "sp|P86733|KCP_HALAI\t5.5e-25\t1\n",
      "sp|W4VSH9|VKT1_TRILK\t1.2e-25\t1\n"
     ]
    },
    {
     "name": "stderr",
     "output_type": "stream",
     "text": [
      "Provided cores: 1\n",
      "Rules claiming more threads will be scaled down.\n",
      "Job counts:\n",
      "\tcount\tjobs\n",
      "\t1\tadd_missing_id_to_conf_list\n",
      "\t1\n",
      "\n",
      "rule add_missing_id_to_conf_list:\n",
      "    input: conf_list.gz, uniprot_kunitz_negative_sampled400.txt\n",
      "    output: filled_conf_list.gz\n",
      "    jobid: 0\n",
      "\n",
      "cat <(zcat conf_list.gz) <(cat uniprot_kunitz_negative_sampled400.txt | cut -f1  | grep -v -f <(zcat conf_list.gz | cut -d '|' -f2) | awk '{print $0\"\\t1.0\\t0\"}') | gzip > filled_conf_list.gz\n",
      "Finished job 0.\n",
      "1 of 1 steps (100%) done\n"
     ]
    }
   ],
   "source": [
    "%%bash\n",
    "cd ../dataset/\n",
    "pwd\n",
    "snakemake -p filled_conf_list.gz\n",
    "zcat filled_conf_list.gz | wc -l\n",
    "zcat filled_conf_list.gz | head"
   ]
  },
  {
   "cell_type": "markdown",
   "metadata": {},
   "source": [
    "And now divide the e-vals for the datasets sizes:"
   ]
  },
  {
   "cell_type": "code",
   "execution_count": 11,
   "metadata": {},
   "outputs": [
    {
     "name": "stdout",
     "output_type": "stream",
     "text": [
      "/home/alessandro/Unibo/python-programming-alessandro-lussana/LB1/prj_hmm_classification/dataset\n",
      "710\n",
      "sp|Q28864|TFPI1_MACMU\t9.3e-25\t1\n",
      "sp|Q02445|TFPI1_RAT\t3.72e-23\t1\n",
      "sp|O54819|TFPI1_MOUSE\t2.48e-23\t1\n",
      "sp|P19761|TFPI1_RABIT\t3.41e-23\t1\n",
      "sp|P84875|PCPI_SABMA\t4.65e-21\t1\n",
      "sp|P83606|BMTI6_RHIMP\t9.3e-21\t1\n",
      "sp|Q7YRQ8|TFPI2_BOVIN\t1.333e-24\t1\n",
      "sp|O35536|TFPI2_MOUSE\t9.92e-22\t1\n",
      "sp|P86733|KCP_HALAI\t1.705e-22\t1\n",
      "sp|W4VSH9|VKT1_TRILK\t3.72e-23\t1\n"
     ]
    },
    {
     "name": "stderr",
     "output_type": "stream",
     "text": [
      "Provided cores: 1\n",
      "Rules claiming more threads will be scaled down.\n",
      "Job counts:\n",
      "\tcount\tjobs\n",
      "\t1\tcorrect_e_values\n",
      "\t1\n",
      "\n",
      "rule correct_e_values:\n",
      "    input: filled_conf_list.gz\n",
      "    output: corrected_filled_conf_list.gz\n",
      "    jobid: 0\n",
      "\n",
      "N=$(zcat filled_conf_list.gz | awk '$3==0{print $0}' | wc -l); P=$(zcat filled_conf_list.gz | awk '$3==1{print $0}' | wc -l); zcat filled_conf_list.gz | awk -v P=$P -v N=$N '{if($2 != 1.0 && $3 == 1){print $1\"\\t\"$2*P\"\\t\"$3}else if($2 != 1.0 && $3 == 0){print $1\"\\t\"$2*N\"\\t\"$3} else{print $0}}' | gzip > corrected_filled_conf_list.gz\n",
      "Finished job 0.\n",
      "1 of 1 steps (100%) done\n"
     ]
    }
   ],
   "source": [
    "%%bash\n",
    "cd ../dataset/\n",
    "pwd\n",
    "snakemake -p corrected_filled_conf_list.gz\n",
    "zcat corrected_filled_conf_list.gz | wc -l\n",
    "zcat corrected_filled_conf_list.gz | head"
   ]
  },
  {
   "cell_type": "markdown",
   "metadata": {},
   "source": [
    "## Confusion matrix results"
   ]
  },
  {
   "cell_type": "code",
   "execution_count": 12,
   "metadata": {},
   "outputs": [
    {
     "name": "stdout",
     "output_type": "stream",
     "text": [
      "/home/alessandro/Unibo/python-programming-alessandro-lussana/LB1/prj_hmm_classification/dataset\n",
      "TP\t308\n",
      "TN\t400\n",
      "FP\t0\n",
      "FN\t2\n",
      "acc\t0.997183\n",
      "tpr\t0.993548\n",
      "ppv\t1.000000\n",
      "mcc\t0.994286\n"
     ]
    },
    {
     "name": "stderr",
     "output_type": "stream",
     "text": [
      "Provided cores: 1\n",
      "Rules claiming more threads will be scaled down.\n",
      "Job counts:\n",
      "\tcount\tjobs\n",
      "\t1\tcompute_confusion_matrix\n",
      "\t1\n",
      "\n",
      "rule compute_confusion_matrix:\n",
      "    input: corrected_filled_conf_list.gz\n",
      "    output: conf_mat_th0.001\n",
      "    jobid: 0\n",
      "    wildcards: th=0.001\n",
      "\n",
      "python ../src/buildConfMatrix.py corrected_filled_conf_list.gz 0.001 > conf_mat_th0.001\n",
      "Finished job 0.\n",
      "1 of 1 steps (100%) done\n"
     ]
    }
   ],
   "source": [
    "%%bash\n",
    "cd ../dataset/\n",
    "pwd\n",
    "snakemake -p conf_mat_th0.001\n",
    "cat conf_mat_th0.001"
   ]
  }
 ],
 "metadata": {
  "kernelspec": {
   "display_name": "Python 3",
   "language": "python",
   "name": "python3"
  },
  "language_info": {
   "codemirror_mode": {
    "name": "ipython",
    "version": 3
   },
   "file_extension": ".py",
   "mimetype": "text/x-python",
   "name": "python",
   "nbconvert_exporter": "python",
   "pygments_lexer": "ipython3",
   "version": "3.6.2"
  }
 },
 "nbformat": 4,
 "nbformat_minor": 2
}
