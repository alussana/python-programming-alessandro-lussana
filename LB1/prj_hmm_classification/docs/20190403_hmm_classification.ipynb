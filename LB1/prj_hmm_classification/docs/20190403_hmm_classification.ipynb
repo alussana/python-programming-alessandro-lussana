{
 "cells": [
  {
   "cell_type": "markdown",
   "metadata": {},
   "source": [
    "# Protein Classification for Kunitz domain with HMM\n",
    "Pfam family entry: [Kunitz_BPTI](https://pfam.xfam.org/family/Kunitz_BPTI) (PF00014)\n",
    "\n",
    "This doc lives in:"
   ]
  },
  {
   "cell_type": "code",
   "execution_count": 1,
   "metadata": {},
   "outputs": [
    {
     "name": "stdout",
     "output_type": "stream",
     "text": [
      "/home/alessandro/Unibo/python-programming-alessandro-lussana/LB1/prj_hmm_classification/docs\n"
     ]
    }
   ],
   "source": [
    "%%bash\n",
    "pwd"
   ]
  },
  {
   "cell_type": "markdown",
   "metadata": {},
   "source": [
    "## Notes for this prj from LB1/prj_blast_classification/\n",
    "\n",
    "### blastclust\n",
    "blastclust -i ids_kunitz.fasta -o ids_kunits.clust -L 0.8 -S 90\n",
    "\n",
    "clusters together the sequences that share 90% sequence identity for 0.8 sequence length(?). The output is sorted such that in the first line there is the cluster with the greatest number of sequences\n",
    "\n",
    "This will be very useful for checking and removing redundancy when considering queries in PDB\n",
    "\n",
    "### HMM classificator framework\n",
    "* fetch pdb for kunitz and non-kunitz\n",
    "* check for redundancy and filter\n",
    "* train hmm with training set\n",
    "* optimize threshold\n",
    "* test hmm with different set (do some ten-fold cross-validation)\n",
    "* do further tests that will be discussed later\n",
    "\n",
    "### Fetch pdb files\n",
    "* Use RCSB PDB advanced search; note that you can filter for mutations, co-crystallization...\n",
    "* Use pdbefold to have a list of structures given a selected one\n",
    "\n",
    "### Report sections\n",
    "* Datasets\n",
    "* Model Building\n",
    "* Optimization\n",
    "* Performance\n",
    "\n",
    "### Misc\n",
    "* Consider Python \"set\" function to perform operations on sets; intersection, union etc. e.g. useful to compare lists of identifiers\n",
    "* This might be useful for finding deprecated software packages: http://lipid.biocomp.unibo.it/emidio/tmp/"
   ]
  },
  {
   "cell_type": "markdown",
   "metadata": {},
   "source": [
    "## Manual, boring workflow\n",
    "\n",
    "### pdb search\n",
    "\n",
    "Filters:\n",
    "* pfam domain \n",
    "* wildtype True\n",
    "* resolution < 3.5 A\n",
    "* sequence length, not to have big gaps in alignments: 50 - 90\n",
    "\n",
    "**params**\n",
    "\n",
    "Pfam Accession Number PF00014 and Resolution is between 0.0 and 3.5 and Sequence Length is between 50 and 90 and Percent Sequence Alignment Search : PDB can contain Expression Tag sequence = Yes , \n",
    "\n",
    "From the advanced search --> get results of the query --> select custom tabular report with customizable info\n",
    "5PTI seems to be a good candidate for being a representative of the struture\n",
    "* no other proteins linked --> active conformation\n",
    "* good resolution\n",
    "* has ligands, should not be a problem\n",
    "\n",
    "Prof pbtained note: 163 unique id_chain\n",
    "\n",
    "### pdbefold search\n",
    "Submit 5PTI search\n",
    "\n",
    "Note: 569 unique id_chain\n",
    "\n",
    "### match the search from pdb with the search from pdbefold\n",
    "Take the intersection"
   ]
  },
  {
   "cell_type": "markdown",
   "metadata": {},
   "source": [
    "Side note: to implement queue management of jobs [Sun Grid Engine](https://en.wikipedia.org/wiki/Oracle_Grid_Engine)"
   ]
  },
  {
   "cell_type": "markdown",
   "metadata": {},
   "source": [
    "## Handmade files\n",
    "I downloaded the pdb search results and the pdbefold search results"
   ]
  },
  {
   "cell_type": "code",
   "execution_count": 2,
   "metadata": {},
   "outputs": [
    {
     "name": "stdout",
     "output_type": "stream",
     "text": [
      "/home/alessandro/Unibo/python-programming-alessandro-lussana/LB1/prj_hmm_classification/dataset\n",
      "total 0\n",
      "lrwxrwxrwx 1 alessandro alessandro 35 apr  3 11:40 pdbefold_5pti_A_summary -> ../handmade/pdbefold_5pti_A_summary\n",
      "lrwxrwxrwx 1 alessandro alessandro 43 apr  3 12:16 rcsbpdb_wt_PF00014_len50_90.csv -> ../handmade/rcsbpdb_wt_PF00014_len50_90.csv\n",
      "lrwxrwxrwx 1 alessandro alessandro 23 apr  3 09:25 Snakefile -> ../snakefiles/Snakefile\n"
     ]
    }
   ],
   "source": [
    "%%bash\n",
    "cd ../dataset/\n",
    "pwd\n",
    "ls -lh"
   ]
  },
  {
   "cell_type": "markdown",
   "metadata": {},
   "source": [
    "### Parsing handmade files\n",
    "#### rcsbpdb_wt_PF00014_len50_90.txt.gz\n",
    ".META:\n",
    "\n",
    "1 ID_CHAIN\n",
    "\n",
    "2 Resolution\n",
    "\n",
    "3 Taxonomy\n",
    "\n",
    "4 Sequence\n",
    "\n",
    "5 Chain Length\n",
    "\n",
    "#### pdbefold_5pti_A_summary.txt.gz\n",
    ".META:\n",
    "1 ID_CHAIN\n",
    "\n",
    "2 Q-score\n",
    "\n",
    "3 P-score\n",
    "\n",
    "4 Z-score\n",
    "\n",
    "5 RMSD"
   ]
  },
  {
   "cell_type": "code",
   "execution_count": 3,
   "metadata": {},
   "outputs": [
    {
     "name": "stdout",
     "output_type": "stream",
     "text": [
      "/home/alessandro/Unibo/python-programming-alessandro-lussana/LB1/prj_hmm_classification/dataset\n",
      "1AAP_A\t1.50\tHomo_sapiens\tVREVCSEQAETGPCRAMISRWYFDVTEGKCAPFFYGGCGGNRNNFDTEEYCMAVCGSA\t58\n",
      "1AAP_B\t1.50\tHomo_sapiens\tVREVCSEQAETGPCRAMISRWYFDVTEGKCAPFFYGGCGGNRNNFDTEEYCMAVCGSA\t58\n",
      "1B0C_A\t2.80\tBos_taurus\tRPDFCLEPPYTGPCKARIIRYFYNAKAGLCQTFVYGGCRAKRNNFKSAEDCMRTCGGA\t58\n",
      "1B0C_B\t2.80\tBos_taurus\tRPDFCLEPPYTGPCKARIIRYFYNAKAGLCQTFVYGGCRAKRNNFKSAEDCMRTCGGA\t58\n",
      "1B0C_C\t2.80\tBos_taurus\tRPDFCLEPPYTGPCKARIIRYFYNAKAGLCQTFVYGGCRAKRNNFKSAEDCMRTCGGA\t58\n",
      "1B0C_D\t2.80\tBos_taurus\tRPDFCLEPPYTGPCKARIIRYFYNAKAGLCQTFVYGGCRAKRNNFKSAEDCMRTCGGA\t58\n",
      "1B0C_E\t2.80\tBos_taurus\tRPDFCLEPPYTGPCKARIIRYFYNAKAGLCQTFVYGGCRAKRNNFKSAEDCMRTCGGA\t58\n",
      "1BHC_A\t2.70\tBos_taurus\tRPDFCLEPPYTGPCKARIIRYFYNAKAGLCQTFVYGGCRAKRNNFKSAEDCMRTCGGA\t58\n",
      "1BHC_B\t2.70\tBos_taurus\tRPDFCLEPPYTGPCKARIIRYFYNAKAGLCQTFVYGGCRAKRNNFKSAEDCMRTCGGA\t58\n",
      "1BHC_C\t2.70\tBos_taurus\tRPDFCLEPPYTGPCKARIIRYFYNAKAGLCQTFVYGGCRAKRNNFKSAEDCMRTCGGA\t58\n",
      "5PTI_A\t1\t16.18\t11.93\t0.000\n",
      "9PTI_A\t0.999\t14.33\t11.2\t0.093\n",
      "7PTI_A\t0.9956\t12.59\t10.48\t0.199\n",
      "3LDI_A\t0.9595\t11.28\t9.896\t0.467\n",
      "1BPT_A\t0.959\t12.25\t10.33\t0.248\n",
      "2HEX_C\t0.9588\t11.01\t9.771\t0.474\n",
      "1YKT_B\t0.9554\t11.89\t10.17\t0.308\n",
      "1F7Z_I\t0.9549\t11.71\t10.09\t0.317\n",
      "3TGI_I\t0.9547\t11.8\t10.13\t0.320\n",
      "3TGK_I\t0.9533\t11.63\t10.05\t0.340\n"
     ]
    },
    {
     "name": "stderr",
     "output_type": "stream",
     "text": [
      "Provided cores: 1\n",
      "Rules claiming more threads will be scaled down.\n",
      "Job counts:\n",
      "\tcount\tjobs\n",
      "\t1\tparse_rcsbpdb_table\n",
      "\t1\n",
      "\n",
      "rule parse_rcsbpdb_table:\n",
      "    input: rcsbpdb_wt_PF00014_len50_90.csv\n",
      "    output: rcsbpdb_wt_PF00014_len50_90.txt.gz\n",
      "    jobid: 0\n",
      "\n",
      "cat rcsbpdb_wt_PF00014_len50_90.csv | sed 's/,/\t/g' | sed 's/\"//g' | sed 's/ /_/g' | sed '1d' | sed 's/\t/_/' | gzip > rcsbpdb_wt_PF00014_len50_90.txt.gz\n",
      "Finished job 0.\n",
      "1 of 1 steps (100%) done\n",
      "Provided cores: 1\n",
      "Rules claiming more threads will be scaled down.\n",
      "Job counts:\n",
      "\tcount\tjobs\n",
      "\t1\tparse_pdbefold_summary\n",
      "\t1\n",
      "\n",
      "rule parse_pdbefold_summary:\n",
      "    input: pdbefold_5pti_A_summary\n",
      "    output: pdbefold_5pti_A_summary.txt.gz\n",
      "    jobid: 0\n",
      "\n",
      "cat pdbefold_5pti_A_summary | sed '1,5d' | tr -s \" \" \"\\t\" | cut -f3- | awk '{print toupper($17)\"\t\"$1\"\t\"$2\"\t\"$3\"\t\"$4}' | sed 's/:/_/' | gzip > pdbefold_5pti_A_summary.txt.gz\n",
      "Finished job 0.\n",
      "1 of 1 steps (100%) done\n"
     ]
    }
   ],
   "source": [
    "%%bash\n",
    "cd ../dataset/\n",
    "pwd\n",
    "snakemake -p rcsbpdb_wt_PF00014_len50_90.txt.gz\n",
    "snakemake -p pdbefold_5pti_A_summary.txt.gz\n",
    "zcat rcsbpdb_wt_PF00014_len50_90.txt.gz | head\n",
    "zcat pdbefold_5pti_A_summary.txt.gz | head"
   ]
  },
  {
   "cell_type": "markdown",
   "metadata": {},
   "source": [
    "## Join the tables on the intersection of identifiers"
   ]
  },
  {
   "cell_type": "code",
   "execution_count": 4,
   "metadata": {},
   "outputs": [
    {
     "name": "stdout",
     "output_type": "stream",
     "text": [
      "/home/alessandro/Unibo/python-programming-alessandro-lussana/LB1/prj_hmm_classification/dataset\n",
      "1AAP_A\t1.50\tHomo_sapiens\tVREVCSEQAETGPCRAMISRWYFDVTEGKCAPFFYGGCGGNRNNFDTEEYCMAVCGSA\t58\t0.8785\t8.378\t8.472\t0.944\n",
      "1AAP_B\t1.50\tHomo_sapiens\tVREVCSEQAETGPCRAMISRWYFDVTEGKCAPFFYGGCGGNRNNFDTEEYCMAVCGSA\t58\t0.8667\t7.554\t8.024\t0.819\n",
      "1B0C_A\t2.80\tBos_taurus\tRPDFCLEPPYTGPCKARIIRYFYNAKAGLCQTFVYGGCRAKRNNFKSAEDCMRTCGGA\t58\t0.9454\t10.26\t9.419\t0.437\n",
      "1B0C_B\t2.80\tBos_taurus\tRPDFCLEPPYTGPCKARIIRYFYNAKAGLCQTFVYGGCRAKRNNFKSAEDCMRTCGGA\t58\t0.9463\t10.26\t9.419\t0.428\n",
      "1B0C_C\t2.80\tBos_taurus\tRPDFCLEPPYTGPCKARIIRYFYNAKAGLCQTFVYGGCRAKRNNFKSAEDCMRTCGGA\t58\t0.9457\t10.26\t9.419\t0.434\n",
      "1B0C_D\t2.80\tBos_taurus\tRPDFCLEPPYTGPCKARIIRYFYNAKAGLCQTFVYGGCRAKRNNFKSAEDCMRTCGGA\t58\t0.9447\t10.23\t9.402\t0.446\n",
      "1B0C_E\t2.80\tBos_taurus\tRPDFCLEPPYTGPCKARIIRYFYNAKAGLCQTFVYGGCRAKRNNFKSAEDCMRTCGGA\t58\t0.9453\t10.26\t9.419\t0.439\n",
      "1BHC_A\t2.70\tBos_taurus\tRPDFCLEPPYTGPCKARIIRYFYNAKAGLCQTFVYGGCRAKRNNFKSAEDCMRTCGGA\t58\t0.9484\t11.34\t9.924\t0.403\n",
      "1BHC_B\t2.70\tBos_taurus\tRPDFCLEPPYTGPCKARIIRYFYNAKAGLCQTFVYGGCRAKRNNFKSAEDCMRTCGGA\t58\t0.9477\t11.28\t9.896\t0.411\n",
      "1BHC_C\t2.70\tBos_taurus\tRPDFCLEPPYTGPCKARIIRYFYNAKAGLCQTFVYGGCRAKRNNFKSAEDCMRTCGGA\t58\t0.9474\t11.28\t9.896\t0.414\n"
     ]
    },
    {
     "name": "stderr",
     "output_type": "stream",
     "text": [
      "Provided cores: 1\n",
      "Rules claiming more threads will be scaled down.\n",
      "Job counts:\n",
      "\tcount\tjobs\n",
      "\t1\tintersect_with_all_data\n",
      "\t1\n",
      "\n",
      "rule intersect_with_all_data:\n",
      "    input: rcsbpdb_wt_PF00014_len50_90.txt.gz, pdbefold_5pti_A_summary.txt.gz\n",
      "    output: intersec_rcsbpdb_wt_PF00014_len50_90_and_pdbefold_5pti_A_summary.txt.gz\n",
      "    jobid: 0\n",
      "    wildcards: t1=rcsbpdb_wt_PF00014_len50_90, t2=pdbefold_5pti_A_summary\n",
      "\n",
      "join -j 1 <(zcat rcsbpdb_wt_PF00014_len50_90.txt.gz | sort) <(zcat pdbefold_5pti_A_summary.txt.gz | fgrep -f <(zcat rcsbpdb_wt_PF00014_len50_90.txt.gz | cut -f1) | sort ) | sed 's/ /\t/g' | gzip > intersec_rcsbpdb_wt_PF00014_len50_90_and_pdbefold_5pti_A_summary.txt.gz\n",
      "Finished job 0.\n",
      "1 of 1 steps (100%) done\n"
     ]
    }
   ],
   "source": [
    "%%bash\n",
    "cd ../dataset/\n",
    "pwd\n",
    "snakemake -p intersec_rcsbpdb_wt_PF00014_len50_90_and_pdbefold_5pti_A_summary.txt.gz\n",
    "zcat intersec_rcsbpdb_wt_PF00014_len50_90_and_pdbefold_5pti_A_summary.txt.gz | head"
   ]
  },
  {
   "cell_type": "markdown",
   "metadata": {},
   "source": [
    "## Download seqres from wwPDB\n",
    "wget this: http://lipid.biocomp.unibo.it/emidio/tmp/pdb_seqres.txt\n",
    "\n",
    "Not really needed since the sequence are already stored in rcsbpdb_wt_PF00014_len50_90.csv"
   ]
  },
  {
   "cell_type": "markdown",
   "metadata": {},
   "source": [
    "## run blastclust on intersection set \n",
    "Prof obtained 25 clusters using -S 99 -L 0.95; parameters are flexible, but you want at least 20 clusters"
   ]
  },
  {
   "cell_type": "markdown",
   "metadata": {},
   "source": [
    "Sort the identifiers from the clusters by resolution (or other custom parameter, e.g the length): extract the representative one for each cluster"
   ]
  }
 ],
 "metadata": {
  "kernelspec": {
   "display_name": "Python 3",
   "language": "python",
   "name": "python3"
  },
  "language_info": {
   "codemirror_mode": {
    "name": "ipython",
    "version": 3
   },
   "file_extension": ".py",
   "mimetype": "text/x-python",
   "name": "python",
   "nbconvert_exporter": "python",
   "pygments_lexer": "ipython3",
   "version": "3.6.2"
  }
 },
 "nbformat": 4,
 "nbformat_minor": 2
}
