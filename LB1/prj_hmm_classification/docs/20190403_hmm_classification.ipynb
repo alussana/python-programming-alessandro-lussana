{
 "cells": [
  {
   "cell_type": "markdown",
   "metadata": {},
   "source": [
    "# Protein Classification for Kunitz domain with HMM\n",
    "Pfam family entry: [Kunitz_BPTI](https://pfam.xfam.org/family/Kunitz_BPTI) (PF00014)\n",
    "\n",
    "This doc lives in:"
   ]
  },
  {
   "cell_type": "code",
   "execution_count": 1,
   "metadata": {},
   "outputs": [
    {
     "name": "stdout",
     "output_type": "stream",
     "text": [
      "/home/alessandro/Unibo/python-programming-alessandro-lussana/LB1/prj_hmm_classification/docs\n"
     ]
    }
   ],
   "source": [
    "%%bash\n",
    "pwd"
   ]
  },
  {
   "cell_type": "markdown",
   "metadata": {},
   "source": [
    "## Notes for this prj from LB1/prj_blast_classification/\n",
    "\n",
    "### blastclust\n",
    "blastclust -i ids_kunitz.fasta -o ids_kunits.clust -L 0.8 -S 90\n",
    "\n",
    "clusters together the sequences that share 90% sequence identity for 0.8 sequence length(?). The output is sorted such that in the first line there is the cluster with the greatest number of sequences\n",
    "\n",
    "This will be very useful for checking and removing redundancy when considering queries in PDB\n",
    "\n",
    "### HMM classificator framework\n",
    "* fetch pdb for kunitz and non-kunitz\n",
    "* check for redundancy and filter\n",
    "* train hmm with training set\n",
    "* optimize threshold\n",
    "* test hmm with different set (do some ten-fold cross-validation)\n",
    "* do further tests that will be discussed later\n",
    "\n",
    "### Fetch pdb files\n",
    "* Use RCSB PDB advanced search; note that you can filter for mutations, co-crystallization...\n",
    "* Use pdbefold to have a list of structures given a selected one\n",
    "\n",
    "### Report sections\n",
    "* Datasets\n",
    "* Model Building\n",
    "* Optimization\n",
    "* Performance\n",
    "\n",
    "### Misc\n",
    "* Consider Python \"set\" function to perform operations on sets; intersection, union etc. e.g. useful to compare lists of identifiers\n",
    "* This might be useful for finding deprecated software packages: http://lipid.biocomp.unibo.it/emidio/tmp/"
   ]
  },
  {
   "cell_type": "markdown",
   "metadata": {},
   "source": [
    "## Manual, boring workflow\n",
    "\n",
    "### pdb search\n",
    "\n",
    "Filters:\n",
    "* pfam domain \n",
    "* wildtype True\n",
    "* resolution < 3.5 A\n",
    "* sequence length, not to have big gaps in alignments: 50 - 90\n",
    "\n",
    "**params**\n",
    "\n",
    "Pfam Accession Number PF00014 and Resolution is between 0.0 and 3.5 and Sequence Length is between 50 and 90 and Percent Sequence Alignment Search : PDB can contain Expression Tag sequence = Yes , \n",
    "\n",
    "From the advanced search --> get results of the query --> select custom tabular report with customizable info\n",
    "5PTI seems to be a good candidate for being a representative of the struture\n",
    "* no other proteins linked --> active conformation\n",
    "* good resolution\n",
    "* has ligands, should not be a problem\n",
    "\n",
    "Prof pbtained note: 163 unique id_chain\n",
    "\n",
    "### pdbefold search\n",
    "Submit 5PTI search\n",
    "\n",
    "Note: 569 unique id_chain\n",
    "\n",
    "### match the search from pdb with the search from pdbefold\n",
    "Take the intersection"
   ]
  },
  {
   "cell_type": "markdown",
   "metadata": {},
   "source": [
    "Side note: to implement queue management of jobs [Sun Grid Engine](https://en.wikipedia.org/wiki/Oracle_Grid_Engine)"
   ]
  },
  {
   "cell_type": "markdown",
   "metadata": {},
   "source": [
    "## Handmade files\n",
    "I downloaded the pdb search results and the pdbefold search results"
   ]
  },
  {
   "cell_type": "code",
   "execution_count": 2,
   "metadata": {},
   "outputs": [
    {
     "name": "stdout",
     "output_type": "stream",
     "text": [
      "/home/alessandro/Unibo/python-programming-alessandro-lussana/LB1/prj_hmm_classification/dataset\n",
      "total 0\n",
      "lrwxrwxrwx 1 alessandro alessandro 35 apr  3 11:40 pdbefold_5pti_A_summary -> ../handmade/pdbefold_5pti_A_summary\n",
      "lrwxrwxrwx 1 alessandro alessandro 43 apr  3 12:16 rcsbpdb_wt_PF00014_len50_90.csv -> ../handmade/rcsbpdb_wt_PF00014_len50_90.csv\n",
      "lrwxrwxrwx 1 alessandro alessandro 23 apr  3 09:25 Snakefile -> ../snakefiles/Snakefile\n"
     ]
    }
   ],
   "source": [
    "%%bash\n",
    "cd ../dataset/\n",
    "pwd\n",
    "ls -lh"
   ]
  },
  {
   "cell_type": "markdown",
   "metadata": {},
   "source": [
    "### Parsing handmade files\n",
    "#### rcsbpdb_wt_PF00014_len50_90.txt.gz\n",
    ".META:\n",
    "\n",
    "1 ID_CHAIN\n",
    "\n",
    "2 Resolution\n",
    "\n",
    "3 Taxonomy\n",
    "\n",
    "4 Sequence\n",
    "\n",
    "5 Chain Length\n",
    "\n",
    "#### pdbefold_5pti_A_summary.txt.gz\n",
    ".META:\n",
    "1 ID_CHAIN\n",
    "\n",
    "2 Q-score\n",
    "\n",
    "3 P-score\n",
    "\n",
    "4 Z-score\n",
    "\n",
    "5 RMSD"
   ]
  },
  {
   "cell_type": "code",
   "execution_count": 3,
   "metadata": {},
   "outputs": [
    {
     "name": "stdout",
     "output_type": "stream",
     "text": [
      "/home/alessandro/Unibo/python-programming-alessandro-lussana/LB1/prj_hmm_classification/dataset\n",
      "1AAP_A\t1.50\tHomo_sapiens\tVREVCSEQAETGPCRAMISRWYFDVTEGKCAPFFYGGCGGNRNNFDTEEYCMAVCGSA\t58\n",
      "1AAP_B\t1.50\tHomo_sapiens\tVREVCSEQAETGPCRAMISRWYFDVTEGKCAPFFYGGCGGNRNNFDTEEYCMAVCGSA\t58\n",
      "1B0C_A\t2.80\tBos_taurus\tRPDFCLEPPYTGPCKARIIRYFYNAKAGLCQTFVYGGCRAKRNNFKSAEDCMRTCGGA\t58\n",
      "1B0C_B\t2.80\tBos_taurus\tRPDFCLEPPYTGPCKARIIRYFYNAKAGLCQTFVYGGCRAKRNNFKSAEDCMRTCGGA\t58\n",
      "1B0C_C\t2.80\tBos_taurus\tRPDFCLEPPYTGPCKARIIRYFYNAKAGLCQTFVYGGCRAKRNNFKSAEDCMRTCGGA\t58\n",
      "1B0C_D\t2.80\tBos_taurus\tRPDFCLEPPYTGPCKARIIRYFYNAKAGLCQTFVYGGCRAKRNNFKSAEDCMRTCGGA\t58\n",
      "1B0C_E\t2.80\tBos_taurus\tRPDFCLEPPYTGPCKARIIRYFYNAKAGLCQTFVYGGCRAKRNNFKSAEDCMRTCGGA\t58\n",
      "1BHC_A\t2.70\tBos_taurus\tRPDFCLEPPYTGPCKARIIRYFYNAKAGLCQTFVYGGCRAKRNNFKSAEDCMRTCGGA\t58\n",
      "1BHC_B\t2.70\tBos_taurus\tRPDFCLEPPYTGPCKARIIRYFYNAKAGLCQTFVYGGCRAKRNNFKSAEDCMRTCGGA\t58\n",
      "1BHC_C\t2.70\tBos_taurus\tRPDFCLEPPYTGPCKARIIRYFYNAKAGLCQTFVYGGCRAKRNNFKSAEDCMRTCGGA\t58\n",
      "5PTI_A\t1\t16.18\t11.93\t0.000\n",
      "9PTI_A\t0.999\t14.33\t11.2\t0.093\n",
      "7PTI_A\t0.9956\t12.59\t10.48\t0.199\n",
      "3LDI_A\t0.9595\t11.28\t9.896\t0.467\n",
      "1BPT_A\t0.959\t12.25\t10.33\t0.248\n",
      "2HEX_C\t0.9588\t11.01\t9.771\t0.474\n",
      "1YKT_B\t0.9554\t11.89\t10.17\t0.308\n",
      "1F7Z_I\t0.9549\t11.71\t10.09\t0.317\n",
      "3TGI_I\t0.9547\t11.8\t10.13\t0.320\n",
      "3TGK_I\t0.9533\t11.63\t10.05\t0.340\n"
     ]
    },
    {
     "name": "stderr",
     "output_type": "stream",
     "text": [
      "Provided cores: 1\n",
      "Rules claiming more threads will be scaled down.\n",
      "Job counts:\n",
      "\tcount\tjobs\n",
      "\t1\tparse_rcsbpdb_table\n",
      "\t1\n",
      "\n",
      "rule parse_rcsbpdb_table:\n",
      "    input: rcsbpdb_wt_PF00014_len50_90.csv\n",
      "    output: rcsbpdb_wt_PF00014_len50_90.txt.gz\n",
      "    jobid: 0\n",
      "\n",
      "cat rcsbpdb_wt_PF00014_len50_90.csv | sed 's/,/\t/g' | sed 's/\"//g' | sed 's/ /_/g' | sed '1d' | sed 's/\t/_/' | gzip > rcsbpdb_wt_PF00014_len50_90.txt.gz\n",
      "Finished job 0.\n",
      "1 of 1 steps (100%) done\n",
      "Provided cores: 1\n",
      "Rules claiming more threads will be scaled down.\n",
      "Job counts:\n",
      "\tcount\tjobs\n",
      "\t1\tparse_pdbefold_summary\n",
      "\t1\n",
      "\n",
      "rule parse_pdbefold_summary:\n",
      "    input: pdbefold_5pti_A_summary\n",
      "    output: pdbefold_5pti_A_summary.txt.gz\n",
      "    jobid: 0\n",
      "\n",
      "cat pdbefold_5pti_A_summary | sed '1,5d' | tr -s \" \" \"\\t\" | cut -f3- | awk '{print toupper($17)\"\t\"$1\"\t\"$2\"\t\"$3\"\t\"$4}' | sed 's/:/_/' | gzip > pdbefold_5pti_A_summary.txt.gz\n",
      "Finished job 0.\n",
      "1 of 1 steps (100%) done\n"
     ]
    }
   ],
   "source": [
    "%%bash\n",
    "cd ../dataset/\n",
    "pwd\n",
    "snakemake -p rcsbpdb_wt_PF00014_len50_90.txt.gz\n",
    "snakemake -p pdbefold_5pti_A_summary.txt.gz\n",
    "zcat rcsbpdb_wt_PF00014_len50_90.txt.gz | head\n",
    "zcat pdbefold_5pti_A_summary.txt.gz | head"
   ]
  },
  {
   "cell_type": "markdown",
   "metadata": {},
   "source": [
    "## Join the tables on the intersection of identifiers"
   ]
  },
  {
   "cell_type": "code",
   "execution_count": 4,
   "metadata": {},
   "outputs": [
    {
     "name": "stdout",
     "output_type": "stream",
     "text": [
      "/home/alessandro/Unibo/python-programming-alessandro-lussana/LB1/prj_hmm_classification/dataset\n",
      "1AAP_A\t1.50\tHomo_sapiens\tVREVCSEQAETGPCRAMISRWYFDVTEGKCAPFFYGGCGGNRNNFDTEEYCMAVCGSA\t58\t0.8785\t8.378\t8.472\t0.944\n",
      "1AAP_B\t1.50\tHomo_sapiens\tVREVCSEQAETGPCRAMISRWYFDVTEGKCAPFFYGGCGGNRNNFDTEEYCMAVCGSA\t58\t0.8667\t7.554\t8.024\t0.819\n",
      "1B0C_A\t2.80\tBos_taurus\tRPDFCLEPPYTGPCKARIIRYFYNAKAGLCQTFVYGGCRAKRNNFKSAEDCMRTCGGA\t58\t0.9454\t10.26\t9.419\t0.437\n",
      "1B0C_B\t2.80\tBos_taurus\tRPDFCLEPPYTGPCKARIIRYFYNAKAGLCQTFVYGGCRAKRNNFKSAEDCMRTCGGA\t58\t0.9463\t10.26\t9.419\t0.428\n",
      "1B0C_C\t2.80\tBos_taurus\tRPDFCLEPPYTGPCKARIIRYFYNAKAGLCQTFVYGGCRAKRNNFKSAEDCMRTCGGA\t58\t0.9457\t10.26\t9.419\t0.434\n",
      "1B0C_D\t2.80\tBos_taurus\tRPDFCLEPPYTGPCKARIIRYFYNAKAGLCQTFVYGGCRAKRNNFKSAEDCMRTCGGA\t58\t0.9447\t10.23\t9.402\t0.446\n",
      "1B0C_E\t2.80\tBos_taurus\tRPDFCLEPPYTGPCKARIIRYFYNAKAGLCQTFVYGGCRAKRNNFKSAEDCMRTCGGA\t58\t0.9453\t10.26\t9.419\t0.439\n",
      "1BHC_A\t2.70\tBos_taurus\tRPDFCLEPPYTGPCKARIIRYFYNAKAGLCQTFVYGGCRAKRNNFKSAEDCMRTCGGA\t58\t0.9484\t11.34\t9.924\t0.403\n",
      "1BHC_B\t2.70\tBos_taurus\tRPDFCLEPPYTGPCKARIIRYFYNAKAGLCQTFVYGGCRAKRNNFKSAEDCMRTCGGA\t58\t0.9477\t11.28\t9.896\t0.411\n",
      "1BHC_C\t2.70\tBos_taurus\tRPDFCLEPPYTGPCKARIIRYFYNAKAGLCQTFVYGGCRAKRNNFKSAEDCMRTCGGA\t58\t0.9474\t11.28\t9.896\t0.414\n"
     ]
    },
    {
     "name": "stderr",
     "output_type": "stream",
     "text": [
      "Provided cores: 1\n",
      "Rules claiming more threads will be scaled down.\n",
      "Job counts:\n",
      "\tcount\tjobs\n",
      "\t1\tintersect_with_all_data\n",
      "\t1\n",
      "\n",
      "rule intersect_with_all_data:\n",
      "    input: rcsbpdb_wt_PF00014_len50_90.txt.gz, pdbefold_5pti_A_summary.txt.gz\n",
      "    output: intersec_rcsbpdb_wt_PF00014_len50_90_and_pdbefold_5pti_A_summary.txt.gz\n",
      "    jobid: 0\n",
      "    wildcards: t1=rcsbpdb_wt_PF00014_len50_90, t2=pdbefold_5pti_A_summary\n",
      "\n",
      "join -j 1 <(zcat rcsbpdb_wt_PF00014_len50_90.txt.gz | sort) <(zcat pdbefold_5pti_A_summary.txt.gz | fgrep -f <(zcat rcsbpdb_wt_PF00014_len50_90.txt.gz | cut -f1) | sort ) | sed 's/ /\t/g' | gzip > intersec_rcsbpdb_wt_PF00014_len50_90_and_pdbefold_5pti_A_summary.txt.gz\n",
      "Finished job 0.\n",
      "1 of 1 steps (100%) done\n"
     ]
    }
   ],
   "source": [
    "%%bash\n",
    "cd ../dataset/\n",
    "pwd\n",
    "snakemake -p intersec_rcsbpdb_wt_PF00014_len50_90_and_pdbefold_5pti_A_summary.txt.gz\n",
    "zcat intersec_rcsbpdb_wt_PF00014_len50_90_and_pdbefold_5pti_A_summary.txt.gz | head"
   ]
  },
  {
   "cell_type": "markdown",
   "metadata": {},
   "source": [
    "## Download seqres from wwPDB\n",
    "wget this: http://lipid.biocomp.unibo.it/emidio/tmp/pdb_seqres.txt\n",
    "\n",
    "Not really needed since the sequence are already stored in rcsbpdb_wt_PF00014_len50_90.csv"
   ]
  },
  {
   "cell_type": "markdown",
   "metadata": {},
   "source": [
    "## run blastclust on intersection set \n",
    "Prof obtained 25 clusters using -S 99 -L 0.95; parameters are flexible, but you want at least 20 clusters"
   ]
  },
  {
   "cell_type": "markdown",
   "metadata": {},
   "source": [
    "--> Sort the identifiers from the clusters by resolution (or other custom parameter, e.g the length): extract the representative one for each cluster\n",
    "\n",
    "Do do so:\n",
    "\n",
    "First, generate fasta file from the intersection table:"
   ]
  },
  {
   "cell_type": "code",
   "execution_count": 5,
   "metadata": {},
   "outputs": [
    {
     "name": "stdout",
     "output_type": "stream",
     "text": [
      "/home/alessandro/Unibo/python-programming-alessandro-lussana/LB1/prj_hmm_classification/dataset\n",
      ">1AAP_A\n",
      "VREVCSEQAETGPCRAMISRWYFDVTEGKCAPFFYGGCGGNRNNFDTEEYCMAVCGSA\n",
      ">1AAP_B\n",
      "VREVCSEQAETGPCRAMISRWYFDVTEGKCAPFFYGGCGGNRNNFDTEEYCMAVCGSA\n",
      ">1B0C_A\n",
      "RPDFCLEPPYTGPCKARIIRYFYNAKAGLCQTFVYGGCRAKRNNFKSAEDCMRTCGGA\n",
      ">1B0C_B\n",
      "RPDFCLEPPYTGPCKARIIRYFYNAKAGLCQTFVYGGCRAKRNNFKSAEDCMRTCGGA\n",
      ">1B0C_C\n",
      "RPDFCLEPPYTGPCKARIIRYFYNAKAGLCQTFVYGGCRAKRNNFKSAEDCMRTCGGA\n"
     ]
    },
    {
     "name": "stderr",
     "output_type": "stream",
     "text": [
      "Provided cores: 1\n",
      "Rules claiming more threads will be scaled down.\n",
      "Job counts:\n",
      "\tcount\tjobs\n",
      "\t1\tintersection2fasta\n",
      "\t1\n",
      "\n",
      "rule intersection2fasta:\n",
      "    input: intersec_rcsbpdb_wt_PF00014_len50_90_and_pdbefold_5pti_A_summary.txt.gz\n",
      "    output: intersec_rcsbpdb_wt_PF00014_len50_90_and_pdbefold_5pti_A_summary.fasta\n",
      "    jobid: 0\n",
      "    wildcards: t1=rcsbpdb_wt_PF00014_len50_90, t2=pdbefold_5pti_A_summary\n",
      "\n",
      "zcat intersec_rcsbpdb_wt_PF00014_len50_90_and_pdbefold_5pti_A_summary.txt.gz | awk '{print \">\"$1\"\\n\"$4}' > intersec_rcsbpdb_wt_PF00014_len50_90_and_pdbefold_5pti_A_summary.fasta\n",
      "Finished job 0.\n",
      "1 of 1 steps (100%) done\n"
     ]
    }
   ],
   "source": [
    "%%bash\n",
    "cd ../dataset/\n",
    "pwd\n",
    "snakemake -p intersec_rcsbpdb_wt_PF00014_len50_90_and_pdbefold_5pti_A_summary.fasta\n",
    "head intersec_rcsbpdb_wt_PF00014_len50_90_and_pdbefold_5pti_A_summary.fasta"
   ]
  },
  {
   "cell_type": "markdown",
   "metadata": {},
   "source": [
    "Then, compute the clusters of these sequences using blastclust:"
   ]
  },
  {
   "cell_type": "code",
   "execution_count": 6,
   "metadata": {},
   "outputs": [
    {
     "name": "stdout",
     "output_type": "stream",
     "text": [
      "/home/alessandro/Unibo/python-programming-alessandro-lussana/LB1/prj_hmm_classification/dataset\n",
      "Apr 3, 2019  6:42 PM Start clustering of 162 queries\n",
      "1B0C_A 1B0C_B 1B0C_C 1B0C_D 1B0C_E 1BHC_A 1BHC_B 1BHC_C 1BHC_D 1BHC_E 1BHC_F 1BHC_G 1BHC_H 1BHC_I 1BHC_J 1BPI_A 1BTH_P 1BTH_Q 1BZ5_A 1BZ5_B 1BZ5_C 1BZ5_D 1BZ5_E 1BZX_I 1CBW_D 1CBW_I 1D0D_B 1EAW_B 1EAW_D 1FY8_I 1MTN_D 1MTN_H 1TPA_I 2FTL_I 2HEX_A 2HEX_B 2HEX_C 2HEX_D 2HEX_E 2IJO_I 2KAI_I 2PTC_I 2R9P_E 2R9P_F 2R9P_G 2R9P_I 2RA3_C 2RA3_I 2TGP_I 2TPI_I 3BTK_I 3FP6_I 3FP8_I 3GYM_I 3GYM_J 3LDI_A 3LDI_B 3LDI_C 3LDI_D 3LDI_E 3LDJ_A 3LDJ_B 3LDJ_C 3LDM_A 3LDM_B 3LDM_C 3LDM_D 3LDM_E 3TPI_I 3U1J_E 4DG4_C 4DG4_E 4DG4_F 4DG4_H 4PTI_A 4WWY_C 4WWY_I 4Y0Y_I 5PTI_A 6F1F_A 6F1F_B 6F1F_C 6F1F_D 6F1F_E 6PTI_A 9PTI_A 1YKT_B 4WXV_C 4WXV_I 5YVU_I \n",
      "1AAP_A 1AAP_B 1TAW_B 1ZJD_B 1BRC_I 1CA0_D 1CA0_I 3L33_E 3L33_F 3L33_G 3L33_H \n",
      "3BYB_A 3BYB_B 3BYB_C 3UIR_C 3UIR_D 5ZJ3_A 5ZJ3_B 5ZJ3_C 3D65_I \n",
      "3WNY_A 3WNY_B 3WNY_C 3WNY_E 3WNY_F 3WNY_G 3WNY_H 3WNY_I \n",
      "1Y62_A 1Y62_B 1Y62_C 1Y62_D 1Y62_E 1Y62_F \n",
      "1F5R_I 1F7Z_I 3TGI_I 3TGJ_I 3TGK_I \n",
      "4U30_W 4U30_X 4U30_Y 4U30_Z \n",
      "4ISN_B 4ISL_B 4ISO_B \n",
      "4NTW_B 4NTX_B 4NTY_B \n"
     ]
    },
    {
     "name": "stderr",
     "output_type": "stream",
     "text": [
      "Provided cores: 1\n",
      "Rules claiming more threads will be scaled down.\n",
      "Job counts:\n",
      "\tcount\tjobs\n",
      "\t1\trun_blastclust\n",
      "\t1\n",
      "\n",
      "rule run_blastclust:\n",
      "    input: intersec_rcsbpdb_wt_PF00014_len50_90_and_pdbefold_5pti_A_summary.fasta\n",
      "    output: intersec_rcsbpdb_wt_PF00014_len50_90_and_pdbefold_5pti_A_summary_S99_L0.95_blastclust_out.gz\n",
      "    jobid: 0\n",
      "    wildcards: db=intersec_rcsbpdb_wt_PF00014_len50_90_and_pdbefold_5pti_A_summary, S=99, L=0.95\n",
      "\n",
      "blastclust -i intersec_rcsbpdb_wt_PF00014_len50_90_and_pdbefold_5pti_A_summary.fasta -L 0.95 -S 99 | gzip > intersec_rcsbpdb_wt_PF00014_len50_90_and_pdbefold_5pti_A_summary_S99_L0.95_blastclust_out.gz\n",
      "Finished job 0.\n",
      "1 of 1 steps (100%) done\n"
     ]
    }
   ],
   "source": [
    "%%bash\n",
    "cd ../dataset/\n",
    "pwd\n",
    "snakemake -p intersec_rcsbpdb_wt_PF00014_len50_90_and_pdbefold_5pti_A_summary_S99_L0.95_blastclust_out.gz\n",
    "zcat intersec_rcsbpdb_wt_PF00014_len50_90_and_pdbefold_5pti_A_summary_S99_L0.95_blastclust_out.gz | head"
   ]
  },
  {
   "cell_type": "markdown",
   "metadata": {},
   "source": [
    "Finally, filter the intersection table to remove redundancy given the clustering; the representative sequence for each cluster is selected according to the best resolution of the structure"
   ]
  },
  {
   "cell_type": "code",
   "execution_count": 7,
   "metadata": {},
   "outputs": [
    {
     "name": "stdout",
     "output_type": "stream",
     "text": [
      "/home/alessandro/Unibo/python-programming-alessandro-lussana/LB1/prj_hmm_classification/dataset\n",
      "5PTI_A\t1.00\tBos_taurus\tRPDFCLEPPYTGPCKARIIRYFYNAKAGLCQTFVYGGCRAKRNNFKSAEDCMRTCGGA\t58\t1\t16.18\t11.93\t0.000\n",
      "1AAP_A\t1.50\tHomo_sapiens\tVREVCSEQAETGPCRAMISRWYFDVTEGKCAPFFYGGCGGNRNNFDTEEYCMAVCGSA\t58\t0.8785\t8.378\t8.472\t0.944\n",
      "3BYB_A\t1.63\tPseudonaja_textilis\tKDRPDFCELPADTGPCRVRFPSFYYNPDEKKCLEFIYGGCEGNANNFITKEECESTCAA\t59\t0.8603\t10.23\t9.402\t0.867\n",
      "3WNY_A\t1.30\tBos_taurus\tRPAFCLEPPYAGPGKARIIRYFYNAKAGAAQAFVYGGVRAKRNNFASAADALAACAAAGGKKK\t63\t0.934\t10.78\t9.662\t0.551\n",
      "1Y62_A\t2.45\tConus_striatus\tKDRPSLCDLPADSGSGTKAEKRIYYNSARKQCLRFDYTGQGGNENNFRRTYDCQRTCLYT\t60\t0.8862\t10.53\t9.544\t0.897\n",
      "1F7Z_I\t1.55\tBos_taurus\tRPDFCLEPPYTGPCKARIIRYFYNAKAGLCQTFVYGGCRAKRNNFKSAEDCMRTCGGAIGPWENL\t65\t0.9549\t11.71\t10.09\t0.317\n",
      "4U30_W\t2.50\tHomo_sapiens\tTVAACANLPIVRGPCRAFIQLWAFDAVKGKCVLFPYGGCQGNGNKFYSEKECREYCGVP\t59\t0.7769\t7.288\t7.874\t1.001\n",
      "4ISO_B\t2.01\tHomo_sapiens\tQTEDYCLASNKVGRCRGSFPRWYYDPTEQICKSFVYGGCLGNKNNYLREEECILACRGVQ\t60\t0.8457\t6.038\t7.132\t0.768\n",
      "4NTW_B\t2.07\tMicrurus_tener\tEIRPAFCYEDPPFFQKCGAFVDSYYFNRSRITCVHFFYGQCDVNQNHFTTMSECNRVCHG\t60\t0.6925\t9.322\t8.958\t1.516\n",
      "1KTH_A\t0.95\tHomo_sapiens\tETDICKLPKDEGTCRDFILKWYYDPNTKSCARFWYGGCGGNENKFGSQKECEKVCAPV\t58\t0.8585\t9.597\t9.096\t1.218\n"
     ]
    },
    {
     "name": "stderr",
     "output_type": "stream",
     "text": [
      "Provided cores: 1\n",
      "Rules claiming more threads will be scaled down.\n",
      "Job counts:\n",
      "\tcount\tjobs\n",
      "\t1\textract_representative_sequences\n",
      "\t1\n",
      "\n",
      "rule extract_representative_sequences:\n",
      "    input: intersec_rcsbpdb_wt_PF00014_len50_90_and_pdbefold_5pti_A_summary_S99_L0.95_blastclust_out.gz, intersec_rcsbpdb_wt_PF00014_len50_90_and_pdbefold_5pti_A_summary.txt.gz\n",
      "    output: chosen_blastclust_seq_for_intersec_rcsbpdb_wt_PF00014_len50_90_and_pdbefold_5pti_A_summary_S99_L0.95.txt\n",
      "    jobid: 0\n",
      "    wildcards: sequences=intersec_rcsbpdb_wt_PF00014_len50_90_and_pdbefold_5pti_A_summary, S=99, L=0.95\n",
      "\n",
      "for cluster in $(zcat intersec_rcsbpdb_wt_PF00014_len50_90_and_pdbefold_5pti_A_summary_S99_L0.95_blastclust_out.gz | sed '1d' | sed 's/ /%/g'); do zcat intersec_rcsbpdb_wt_PF00014_len50_90_and_pdbefold_5pti_A_summary.txt.gz | grep -w -f <(echo $cluster | sed 's/%/\\n/g') | sort -n -k2 | sed -n '1p'; done > chosen_blastclust_seq_for_intersec_rcsbpdb_wt_PF00014_len50_90_and_pdbefold_5pti_A_summary_S99_L0.95.txt\n",
      "Finished job 0.\n",
      "1 of 1 steps (100%) done\n"
     ]
    }
   ],
   "source": [
    "%%bash\n",
    "cd ../dataset/\n",
    "pwd\n",
    "snakemake -p chosen_blastclust_seq_for_intersec_rcsbpdb_wt_PF00014_len50_90_and_pdbefold_5pti_A_summary_S99_L0.95.txt\n",
    "head chosen_blastclust_seq_for_intersec_rcsbpdb_wt_PF00014_len50_90_and_pdbefold_5pti_A_summary_S99_L0.95.txt "
   ]
  },
  {
   "cell_type": "markdown",
   "metadata": {},
   "source": [
    "Prepare the selected sequences in fasta format for further processing with hmmer"
   ]
  },
  {
   "cell_type": "code",
   "execution_count": 8,
   "metadata": {},
   "outputs": [
    {
     "name": "stdout",
     "output_type": "stream",
     "text": [
      "/home/alessandro/Unibo/python-programming-alessandro-lussana/LB1/prj_hmm_classification/dataset\n",
      ">5PTI_A\n",
      "RPDFCLEPPYTGPCKARIIRYFYNAKAGLCQTFVYGGCRAKRNNFKSAEDCMRTCGGA\n",
      ">1AAP_A\n",
      "VREVCSEQAETGPCRAMISRWYFDVTEGKCAPFFYGGCGGNRNNFDTEEYCMAVCGSA\n",
      ">3BYB_A\n",
      "KDRPDFCELPADTGPCRVRFPSFYYNPDEKKCLEFIYGGCEGNANNFITKEECESTCAA\n",
      ">3WNY_A\n",
      "RPAFCLEPPYAGPGKARIIRYFYNAKAGAAQAFVYGGVRAKRNNFASAADALAACAAAGGKKK\n",
      ">1Y62_A\n",
      "KDRPSLCDLPADSGSGTKAEKRIYYNSARKQCLRFDYTGQGGNENNFRRTYDCQRTCLYT\n"
     ]
    },
    {
     "name": "stderr",
     "output_type": "stream",
     "text": [
      "Provided cores: 1\n",
      "Rules claiming more threads will be scaled down.\n",
      "Job counts:\n",
      "\tcount\tjobs\n",
      "\t1\tfiltered_intersection2fasta\n",
      "\t1\n",
      "\n",
      "rule filtered_intersection2fasta:\n",
      "    input: chosen_blastclust_seq_for_intersec_rcsbpdb_wt_PF00014_len50_90_and_pdbefold_5pti_A_summary_S99_L0.95.txt\n",
      "    output: chosen_blastclust_seq_for_intersec_rcsbpdb_wt_PF00014_len50_90_and_pdbefold_5pti_A_summary_S99_L0.95.fasta\n",
      "    jobid: 0\n",
      "    wildcards: sequences=intersec_rcsbpdb_wt_PF00014_len50_90_and_pdbefold_5pti_A_summary, S=99, L=0.95\n",
      "\n",
      "cat chosen_blastclust_seq_for_intersec_rcsbpdb_wt_PF00014_len50_90_and_pdbefold_5pti_A_summary_S99_L0.95.txt | awk '{print \">\"$1\"\\n\"$4}' > chosen_blastclust_seq_for_intersec_rcsbpdb_wt_PF00014_len50_90_and_pdbefold_5pti_A_summary_S99_L0.95.fasta\n",
      "Finished job 0.\n",
      "1 of 1 steps (100%) done\n"
     ]
    }
   ],
   "source": [
    "%%bash\n",
    "cd ../dataset/\n",
    "pwd\n",
    "snakemake -p chosen_blastclust_seq_for_intersec_rcsbpdb_wt_PF00014_len50_90_and_pdbefold_5pti_A_summary_S99_L0.95.fasta\n",
    "head chosen_blastclust_seq_for_intersec_rcsbpdb_wt_PF00014_len50_90_and_pdbefold_5pti_A_summary_S99_L0.95.fasta"
   ]
  }
 ],
 "metadata": {
  "kernelspec": {
   "display_name": "Python 3",
   "language": "python",
   "name": "python3"
  },
  "language_info": {
   "codemirror_mode": {
    "name": "ipython",
    "version": 3
   },
   "file_extension": ".py",
   "mimetype": "text/x-python",
   "name": "python",
   "nbconvert_exporter": "python",
   "pygments_lexer": "ipython3",
   "version": "3.6.2"
  }
 },
 "nbformat": 4,
 "nbformat_minor": 2
}
