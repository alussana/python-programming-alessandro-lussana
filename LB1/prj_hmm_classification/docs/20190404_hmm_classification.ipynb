{
 "cells": [
  {
   "cell_type": "markdown",
   "metadata": {},
   "source": [
    "# HMM classification - part 2\n",
    "\n",
    "This doc lives in:"
   ]
  },
  {
   "cell_type": "code",
   "execution_count": 1,
   "metadata": {},
   "outputs": [
    {
     "name": "stdout",
     "output_type": "stream",
     "text": [
      "/home/alessandro/Unibo/python-programming-alessandro-lussana/LB1/prj_hmm_classification/docs\n"
     ]
    }
   ],
   "source": [
    "%%bash\n",
    "pwd"
   ]
  },
  {
   "cell_type": "markdown",
   "metadata": {},
   "source": [
    "In the previous episode... workflow completed until the generation of fasta file with choosen 25 kunitz-containing sequences (after clustering and selection of representative sequences to avoid redundancies)\n",
    "\n",
    "## Model generation in dumb way (sequence only)\n",
    "\n",
    "Will be worth to demonstrate that taking into account the structural alignment allows to increase the alignment correctess, and consequently the classification performance of the resulting model\n",
    "\n",
    "### Step1: run muscle for MSAing the 25 kunitz seqs:"
   ]
  },
  {
   "cell_type": "code",
   "execution_count": 2,
   "metadata": {},
   "outputs": [
    {
     "name": "stdout",
     "output_type": "stream",
     "text": [
      "/home/alessandro/Unibo/python-programming-alessandro-lussana/LB1/prj_hmm_classification/dataset\n",
      ">1BUN_B\n",
      "--------------------------RKRHPDCDK-PPDTKICQTVVRAFYYKPSAKRCV\n",
      "QFRYGGCNGNGNHFKSDHLCRCECLEYR------------\n",
      ">4NTW_B\n",
      "--------------------------EIRPAFCYEDPPFFQKCGAFVDSYYFNRSRITCV\n",
      "HFFYGQCDVNQNHFTTMSECNRVCHG--------------\n",
      ">1DTX_A\n",
      "--------------------------EPRRKLCIL-HRNPGRCYDKIPAFYYNQKKKQCE\n",
      "RFDWSGCGGNSNRFKTIEECRRTCIG--------------\n",
      ">5YV7_A\n"
     ]
    },
    {
     "name": "stderr",
     "output_type": "stream",
     "text": [
      "Provided cores: 1\n",
      "Rules claiming more threads will be scaled down.\n",
      "Job counts:\n",
      "\tcount\tjobs\n",
      "\t1\textract_representative_sequences\n",
      "\t1\tfiltered_intersection2fasta\n",
      "\t1\tintersect_with_all_data\n",
      "\t1\tintersection2fasta\n",
      "\t1\tmuscle_align\n",
      "\t1\tparse_pdbefold_summary\n",
      "\t1\tparse_rcsbpdb_table\n",
      "\t1\trun_blastclust\n",
      "\t8\n",
      "\n",
      "rule parse_pdbefold_summary:\n",
      "    input: pdbefold_5pti_A_summary\n",
      "    output: pdbefold_5pti_A_summary.txt.gz\n",
      "    jobid: 6\n",
      "\n",
      "cat pdbefold_5pti_A_summary | sed '1,5d' | tr -s \" \" \"\\t\" | cut -f3- | awk '{print toupper($17)\"\t\"$1\"\t\"$2\"\t\"$3\"\t\"$4}' | sed 's/:/_/' | gzip > pdbefold_5pti_A_summary.txt.gz\n",
      "Finished job 6.\n",
      "1 of 8 steps (12%) done\n",
      "\n",
      "rule parse_rcsbpdb_table:\n",
      "    input: rcsbpdb_wt_PF00014_len50_90.csv\n",
      "    output: rcsbpdb_wt_PF00014_len50_90.txt.gz\n",
      "    jobid: 7\n",
      "\n",
      "cat rcsbpdb_wt_PF00014_len50_90.csv | sed 's/,/\t/g' | sed 's/\"//g' | sed 's/ /_/g' | sed '1d' | sed 's/\t/_/' | gzip > rcsbpdb_wt_PF00014_len50_90.txt.gz\n",
      "Finished job 7.\n",
      "2 of 8 steps (25%) done\n",
      "\n",
      "rule intersect_with_all_data:\n",
      "    input: rcsbpdb_wt_PF00014_len50_90.txt.gz, pdbefold_5pti_A_summary.txt.gz\n",
      "    output: intersec_rcsbpdb_wt_PF00014_len50_90_and_pdbefold_5pti_A_summary.txt.gz\n",
      "    jobid: 4\n",
      "    wildcards: t1=rcsbpdb_wt_PF00014_len50_90, t2=pdbefold_5pti_A_summary\n",
      "\n",
      "join -j 1 <(zcat rcsbpdb_wt_PF00014_len50_90.txt.gz | sort) <(zcat pdbefold_5pti_A_summary.txt.gz | fgrep -f <(zcat rcsbpdb_wt_PF00014_len50_90.txt.gz | cut -f1) | sort ) | sed 's/ /\t/g' | gzip > intersec_rcsbpdb_wt_PF00014_len50_90_and_pdbefold_5pti_A_summary.txt.gz\n",
      "Finished job 4.\n",
      "3 of 8 steps (38%) done\n",
      "\n",
      "rule intersection2fasta:\n",
      "    input: intersec_rcsbpdb_wt_PF00014_len50_90_and_pdbefold_5pti_A_summary.txt.gz\n",
      "    output: intersec_rcsbpdb_wt_PF00014_len50_90_and_pdbefold_5pti_A_summary.fasta\n",
      "    jobid: 5\n",
      "    wildcards: t1=rcsbpdb_wt_PF00014_len50_90, t2=pdbefold_5pti_A_summary\n",
      "\n",
      "zcat intersec_rcsbpdb_wt_PF00014_len50_90_and_pdbefold_5pti_A_summary.txt.gz | awk '{print \">\"$1\"\\n\"$4}' > intersec_rcsbpdb_wt_PF00014_len50_90_and_pdbefold_5pti_A_summary.fasta\n",
      "Finished job 5.\n",
      "4 of 8 steps (50%) done\n",
      "\n",
      "rule run_blastclust:\n",
      "    input: intersec_rcsbpdb_wt_PF00014_len50_90_and_pdbefold_5pti_A_summary.fasta\n",
      "    output: intersec_rcsbpdb_wt_PF00014_len50_90_and_pdbefold_5pti_A_summary_S99_L0.95_blastclust_out.gz\n",
      "    jobid: 3\n",
      "    wildcards: db=intersec_rcsbpdb_wt_PF00014_len50_90_and_pdbefold_5pti_A_summary, S=99, L=0.95\n",
      "\n",
      "blastclust -i intersec_rcsbpdb_wt_PF00014_len50_90_and_pdbefold_5pti_A_summary.fasta -L 0.95 -S 99 | gzip > intersec_rcsbpdb_wt_PF00014_len50_90_and_pdbefold_5pti_A_summary_S99_L0.95_blastclust_out.gz\n",
      "Finished job 3.\n",
      "5 of 8 steps (62%) done\n",
      "\n",
      "rule extract_representative_sequences:\n",
      "    input: intersec_rcsbpdb_wt_PF00014_len50_90_and_pdbefold_5pti_A_summary_S99_L0.95_blastclust_out.gz, intersec_rcsbpdb_wt_PF00014_len50_90_and_pdbefold_5pti_A_summary.txt.gz\n",
      "    output: chosen_blastclust_seq_for_intersec_rcsbpdb_wt_PF00014_len50_90_and_pdbefold_5pti_A_summary_S99_L0.95.txt\n",
      "    jobid: 2\n",
      "    wildcards: sequences=intersec_rcsbpdb_wt_PF00014_len50_90_and_pdbefold_5pti_A_summary, S=99, L=0.95\n",
      "\n",
      "for cluster in $(zcat intersec_rcsbpdb_wt_PF00014_len50_90_and_pdbefold_5pti_A_summary_S99_L0.95_blastclust_out.gz | sed '1d' | sed 's/ /%/g'); do zcat intersec_rcsbpdb_wt_PF00014_len50_90_and_pdbefold_5pti_A_summary.txt.gz | grep -w -f <(echo $cluster | sed 's/%/\\n/g') | sort -n -k2 | sed -n '1p'; done > chosen_blastclust_seq_for_intersec_rcsbpdb_wt_PF00014_len50_90_and_pdbefold_5pti_A_summary_S99_L0.95.txt\n",
      "Finished job 2.\n",
      "6 of 8 steps (75%) done\n",
      "\n",
      "rule filtered_intersection2fasta:\n",
      "    input: chosen_blastclust_seq_for_intersec_rcsbpdb_wt_PF00014_len50_90_and_pdbefold_5pti_A_summary_S99_L0.95.txt\n",
      "    output: chosen_blastclust_seq_for_intersec_rcsbpdb_wt_PF00014_len50_90_and_pdbefold_5pti_A_summary_S99_L0.95.fasta.gz\n",
      "    jobid: 1\n",
      "    wildcards: sequences=intersec_rcsbpdb_wt_PF00014_len50_90_and_pdbefold_5pti_A_summary, S=99, L=0.95\n",
      "\n",
      "cat chosen_blastclust_seq_for_intersec_rcsbpdb_wt_PF00014_len50_90_and_pdbefold_5pti_A_summary_S99_L0.95.txt | awk '{print \">\"$1\"\\n\"$4}' | gzip > chosen_blastclust_seq_for_intersec_rcsbpdb_wt_PF00014_len50_90_and_pdbefold_5pti_A_summary_S99_L0.95.fasta.gz\n",
      "Finished job 1.\n",
      "7 of 8 steps (88%) done\n",
      "\n",
      "rule muscle_align:\n",
      "    input: chosen_blastclust_seq_for_intersec_rcsbpdb_wt_PF00014_len50_90_and_pdbefold_5pti_A_summary_S99_L0.95.fasta.gz\n",
      "    output: chosen_blastclust_seq_for_intersec_rcsbpdb_wt_PF00014_len50_90_and_pdbefold_5pti_A_summary_S99_L0.95.muscle.afa\n",
      "    jobid: 0\n",
      "    wildcards: sequences=chosen_blastclust_seq_for_intersec_rcsbpdb_wt_PF00014_len50_90_and_pdbefold_5pti_A_summary_S99_L0.95\n",
      "\n",
      "muscle -in <(zcat chosen_blastclust_seq_for_intersec_rcsbpdb_wt_PF00014_len50_90_and_pdbefold_5pti_A_summary_S99_L0.95.fasta.gz) > chosen_blastclust_seq_for_intersec_rcsbpdb_wt_PF00014_len50_90_and_pdbefold_5pti_A_summary_S99_L0.95.muscle.afa\n",
      "\n",
      "MUSCLE v3.8.1551 by Robert C. Edgar\n",
      "\n",
      "http://www.drive5.com/muscle\n",
      "This software is donated to the public domain.\n",
      "Please cite: Edgar, R.C. Nucleic Acids Res 32(5), 1792-97.\n",
      "\n",
      "63 25 seqs, lengths min 54, max 86, avg 62\n",
      "00:00:00    19 MB(-3%)  Iter   1    0.31%  K-mer dist pass 1\r",
      "00:00:00    19 MB(-3%)  Iter   1  100.00%  K-mer dist pass 1\r\n",
      "00:00:00    19 MB(-3%)  Iter   1    0.31%  K-mer dist pass 2\r",
      "00:00:00    19 MB(-3%)  Iter   1  100.00%  K-mer dist pass 2\r\n",
      "00:00:00    19 MB(-3%)  Iter   1    4.17%  Align node       \r",
      "00:00:00    21 MB(-3%)  Iter   1    8.33%  Align node\r",
      "00:00:00    21 MB(-3%)  Iter   1   12.50%  Align node\r",
      "00:00:00    21 MB(-3%)  Iter   1   16.67%  Align node\r",
      "00:00:00    21 MB(-3%)  Iter   1   20.83%  Align node\r",
      "00:00:00    21 MB(-3%)  Iter   1   25.00%  Align node\r",
      "00:00:00    21 MB(-3%)  Iter   1   29.17%  Align node\r",
      "00:00:00    21 MB(-3%)  Iter   1   33.33%  Align node\r",
      "00:00:00    21 MB(-3%)  Iter   1   37.50%  Align node\r",
      "00:00:00    21 MB(-3%)  Iter   1   41.67%  Align node\r",
      "00:00:00    21 MB(-3%)  Iter   1   45.83%  Align node\r",
      "00:00:00    21 MB(-3%)  Iter   1   50.00%  Align node\r",
      "00:00:00    21 MB(-3%)  Iter   1   54.17%  Align node\r",
      "00:00:00    21 MB(-3%)  Iter   1   58.33%  Align node\r",
      "00:00:00    21 MB(-3%)  Iter   1   62.50%  Align node\r",
      "00:00:00    21 MB(-3%)  Iter   1   66.67%  Align node\r",
      "00:00:00    21 MB(-3%)  Iter   1   70.83%  Align node\r",
      "00:00:00    22 MB(-3%)  Iter   1   75.00%  Align node\r",
      "00:00:00    22 MB(-3%)  Iter   1   79.17%  Align node\r",
      "00:00:00    22 MB(-3%)  Iter   1   83.33%  Align node\r",
      "00:00:00    22 MB(-3%)  Iter   1   87.50%  Align node\r",
      "00:00:00    22 MB(-3%)  Iter   1   91.67%  Align node\r",
      "00:00:00    22 MB(-3%)  Iter   1   95.83%  Align node\r",
      "00:00:00    22 MB(-3%)  Iter   1  100.00%  Align node\r",
      "00:00:00    22 MB(-3%)  Iter   1  100.00%  Align node\r\n",
      "00:00:00    22 MB(-3%)  Iter   1    4.00%  Root alignment\r",
      "00:00:00    22 MB(-3%)  Iter   1    8.00%  Root alignment\r",
      "00:00:00    22 MB(-3%)  Iter   1   12.00%  Root alignment\r",
      "00:00:00    22 MB(-3%)  Iter   1   16.00%  Root alignment\r",
      "00:00:00    22 MB(-3%)  Iter   1   20.00%  Root alignment\r",
      "00:00:00    22 MB(-3%)  Iter   1   24.00%  Root alignment\r",
      "00:00:00    22 MB(-3%)  Iter   1   28.00%  Root alignment\r",
      "00:00:00    22 MB(-3%)  Iter   1   32.00%  Root alignment\r",
      "00:00:00    22 MB(-3%)  Iter   1   36.00%  Root alignment\r",
      "00:00:00    22 MB(-3%)  Iter   1   40.00%  Root alignment\r",
      "00:00:00    22 MB(-3%)  Iter   1   44.00%  Root alignment\r",
      "00:00:00    22 MB(-3%)  Iter   1   48.00%  Root alignment\r",
      "00:00:00    22 MB(-3%)  Iter   1   52.00%  Root alignment\r",
      "00:00:00    22 MB(-3%)  Iter   1   56.00%  Root alignment\r",
      "00:00:00    22 MB(-3%)  Iter   1   60.00%  Root alignment\r",
      "00:00:00    22 MB(-3%)  Iter   1   64.00%  Root alignment\r",
      "00:00:00    22 MB(-3%)  Iter   1   68.00%  Root alignment\r",
      "00:00:00    22 MB(-3%)  Iter   1   72.00%  Root alignment\r",
      "00:00:00    22 MB(-3%)  Iter   1   76.00%  Root alignment\r",
      "00:00:00    22 MB(-3%)  Iter   1   80.00%  Root alignment\r",
      "00:00:00    22 MB(-3%)  Iter   1   84.00%  Root alignment\r",
      "00:00:00    22 MB(-3%)  Iter   1   88.00%  Root alignment\r",
      "00:00:00    22 MB(-3%)  Iter   1   92.00%  Root alignment\r",
      "00:00:00    22 MB(-3%)  Iter   1   96.00%  Root alignment\r",
      "00:00:00    22 MB(-3%)  Iter   1  100.00%  Root alignment\r",
      "00:00:00    22 MB(-3%)  Iter   1  100.00%  Root alignment\r\n",
      "00:00:00    22 MB(-3%)  Iter   2    4.35%  Refine tree   \r",
      "00:00:00    22 MB(-3%)  Iter   2    8.70%  Refine tree\r",
      "00:00:00    22 MB(-3%)  Iter   2   13.04%  Refine tree\r",
      "00:00:00    22 MB(-3%)  Iter   2   17.39%  Refine tree\r",
      "00:00:00    22 MB(-3%)  Iter   2   21.74%  Refine tree\r",
      "00:00:00    22 MB(-3%)  Iter   2   26.09%  Refine tree\r",
      "00:00:00    22 MB(-3%)  Iter   2   30.43%  Refine tree\r",
      "00:00:00    22 MB(-3%)  Iter   2   34.78%  Refine tree\r",
      "00:00:00    22 MB(-3%)  Iter   2   39.13%  Refine tree\r",
      "00:00:00    22 MB(-3%)  Iter   2   43.48%  Refine tree\r",
      "00:00:00    22 MB(-3%)  Iter   2   47.83%  Refine tree\r",
      "00:00:00    22 MB(-3%)  Iter   2   52.17%  Refine tree\r",
      "00:00:00    22 MB(-3%)  Iter   2   56.52%  Refine tree\r",
      "00:00:00    22 MB(-3%)  Iter   2   60.87%  Refine tree\r",
      "00:00:00    22 MB(-3%)  Iter   2   65.22%  Refine tree\r",
      "00:00:00    22 MB(-3%)  Iter   2   69.57%  Refine tree\r",
      "00:00:00    22 MB(-3%)  Iter   2   73.91%  Refine tree\r",
      "00:00:00    22 MB(-3%)  Iter   2  100.00%  Refine tree\r\n",
      "00:00:00    22 MB(-3%)  Iter   2    4.00%  Root alignment\r",
      "00:00:00    22 MB(-3%)  Iter   2    8.00%  Root alignment\r",
      "00:00:00    22 MB(-3%)  Iter   2   12.00%  Root alignment\r",
      "00:00:00    22 MB(-3%)  Iter   2   16.00%  Root alignment\r",
      "00:00:00    22 MB(-3%)  Iter   2   20.00%  Root alignment\r",
      "00:00:00    22 MB(-3%)  Iter   2   24.00%  Root alignment\r",
      "00:00:00    22 MB(-3%)  Iter   2   28.00%  Root alignment\r",
      "00:00:00    22 MB(-3%)  Iter   2   32.00%  Root alignment\r",
      "00:00:00    22 MB(-3%)  Iter   2   36.00%  Root alignment\r",
      "00:00:00    22 MB(-3%)  Iter   2   40.00%  Root alignment\r",
      "00:00:00    22 MB(-3%)  Iter   2   44.00%  Root alignment\r",
      "00:00:00    22 MB(-3%)  Iter   2   48.00%  Root alignment\r",
      "00:00:00    22 MB(-3%)  Iter   2   52.00%  Root alignment\r",
      "00:00:00    22 MB(-3%)  Iter   2   56.00%  Root alignment\r",
      "00:00:00    22 MB(-3%)  Iter   2   60.00%  Root alignment\r",
      "00:00:00    22 MB(-3%)  Iter   2   64.00%  Root alignment\r",
      "00:00:00    22 MB(-3%)  Iter   2   68.00%  Root alignment\r",
      "00:00:00    22 MB(-3%)  Iter   2   72.00%  Root alignment\r",
      "00:00:00    22 MB(-3%)  Iter   2   76.00%  Root alignment\r",
      "00:00:00    22 MB(-3%)  Iter   2   80.00%  Root alignment\r",
      "00:00:00    22 MB(-3%)  Iter   2   84.00%  Root alignment\r",
      "00:00:00    22 MB(-3%)  Iter   2   88.00%  Root alignment\r",
      "00:00:00    22 MB(-3%)  Iter   2   92.00%  Root alignment\r",
      "00:00:00    22 MB(-3%)  Iter   2   96.00%  Root alignment\r",
      "00:00:00    22 MB(-3%)  Iter   2  100.00%  Root alignment\r",
      "00:00:00    22 MB(-3%)  Iter   2  100.00%  Root alignment\r\n",
      "00:00:00    22 MB(-3%)  Iter   2  100.00%  Root alignment\r\n",
      "00:00:00    22 MB(-3%)  Iter   3    4.26%  Refine biparts\r",
      "00:00:00    22 MB(-3%)  Iter   3    6.38%  Refine biparts\r",
      "00:00:00    22 MB(-3%)  Iter   3    8.51%  Refine biparts\r",
      "00:00:00    22 MB(-3%)  Iter   3   10.64%  Refine biparts\r",
      "00:00:00    22 MB(-3%)  Iter   3   12.77%  Refine biparts\r",
      "00:00:00    22 MB(-3%)  Iter   3   14.89%  Refine biparts\r",
      "00:00:00    22 MB(-3%)  Iter   3   17.02%  Refine biparts\r",
      "00:00:00    22 MB(-3%)  Iter   3   19.15%  Refine biparts\r",
      "00:00:00    22 MB(-3%)  Iter   3   21.28%  Refine biparts\r",
      "00:00:00    22 MB(-3%)  Iter   3   23.40%  Refine biparts\r",
      "00:00:00    22 MB(-3%)  Iter   3   25.53%  Refine biparts\r",
      "00:00:00    22 MB(-3%)  Iter   3   27.66%  Refine biparts\r",
      "00:00:00    22 MB(-3%)  Iter   3   29.79%  Refine biparts\r",
      "00:00:00    22 MB(-3%)  Iter   3   31.91%  Refine biparts\r",
      "00:00:00    22 MB(-3%)  Iter   3   34.04%  Refine biparts\r",
      "00:00:00    22 MB(-3%)  Iter   3   36.17%  Refine biparts\r",
      "00:00:00    22 MB(-3%)  Iter   3   38.30%  Refine biparts\r",
      "00:00:00    22 MB(-3%)  Iter   3   40.43%  Refine biparts\r",
      "00:00:00    22 MB(-3%)  Iter   3   42.55%  Refine biparts\r",
      "00:00:00    22 MB(-3%)  Iter   3   44.68%  Refine biparts\r",
      "00:00:00    22 MB(-3%)  Iter   3   46.81%  Refine biparts\r",
      "00:00:00    22 MB(-3%)  Iter   3   48.94%  Refine biparts\r",
      "00:00:00    22 MB(-3%)  Iter   3   51.06%  Refine biparts\r",
      "00:00:00    22 MB(-3%)  Iter   3   53.19%  Refine biparts\r",
      "00:00:00    22 MB(-3%)  Iter   3   55.32%  Refine biparts\r",
      "00:00:00    22 MB(-3%)  Iter   3   57.45%  Refine biparts\r",
      "00:00:00    22 MB(-3%)  Iter   3   59.57%  Refine biparts\r",
      "00:00:00    22 MB(-3%)  Iter   3   61.70%  Refine biparts\r",
      "00:00:00    22 MB(-3%)  Iter   3   63.83%  Refine biparts\r",
      "00:00:00    22 MB(-3%)  Iter   3   65.96%  Refine biparts\r",
      "00:00:00    22 MB(-3%)  Iter   3   68.09%  Refine biparts\r",
      "00:00:00    22 MB(-3%)  Iter   3   70.21%  Refine biparts\r",
      "00:00:00    22 MB(-3%)  Iter   3   72.34%  Refine biparts\r",
      "00:00:00    22 MB(-3%)  Iter   3   74.47%  Refine biparts\r",
      "00:00:00    22 MB(-3%)  Iter   3   76.60%  Refine biparts\r",
      "00:00:00    22 MB(-3%)  Iter   3   78.72%  Refine biparts\r",
      "00:00:00    22 MB(-3%)  Iter   3   80.85%  Refine biparts\r",
      "00:00:00    22 MB(-3%)  Iter   3   82.98%  Refine biparts\r",
      "00:00:00    22 MB(-3%)  Iter   3   85.11%  Refine biparts\r",
      "00:00:00    22 MB(-3%)  Iter   3   87.23%  Refine biparts\r",
      "00:00:00    22 MB(-3%)  Iter   3   89.36%  Refine biparts\r",
      "00:00:00    22 MB(-3%)  Iter   3   91.49%  Refine biparts\r",
      "00:00:00    22 MB(-3%)  Iter   3   93.62%  Refine biparts\r",
      "00:00:00    22 MB(-3%)  Iter   3   95.74%  Refine biparts\r",
      "00:00:00    22 MB(-3%)  Iter   3   97.87%  Refine biparts\r",
      "00:00:00    22 MB(-3%)  Iter   3  100.00%  Refine biparts\r",
      "00:00:00    22 MB(-3%)  Iter   3  102.13%  Refine biparts\r",
      "00:00:00    22 MB(-3%)  Iter   3  100.00%  Refine biparts\r\n",
      "00:00:00    22 MB(-3%)  Iter   4    4.26%  Refine biparts\r",
      "00:00:00    22 MB(-3%)  Iter   4    6.38%  Refine biparts\r",
      "00:00:00    22 MB(-3%)  Iter   4    8.51%  Refine biparts\r",
      "00:00:00    22 MB(-3%)  Iter   4   10.64%  Refine biparts\r",
      "00:00:00    22 MB(-3%)  Iter   4   12.77%  Refine biparts\r",
      "00:00:00    22 MB(-3%)  Iter   4   14.89%  Refine biparts\r",
      "00:00:00    22 MB(-3%)  Iter   4   17.02%  Refine biparts\r",
      "00:00:00    22 MB(-3%)  Iter   4   19.15%  Refine biparts\r",
      "00:00:00    22 MB(-3%)  Iter   4   21.28%  Refine biparts\r",
      "00:00:00    22 MB(-3%)  Iter   4   23.40%  Refine biparts\r",
      "00:00:00    22 MB(-3%)  Iter   4   25.53%  Refine biparts\r",
      "00:00:00    22 MB(-3%)  Iter   4   27.66%  Refine biparts\r",
      "00:00:00    22 MB(-3%)  Iter   4   29.79%  Refine biparts\r",
      "00:00:00    22 MB(-3%)  Iter   4   31.91%  Refine biparts\r",
      "00:00:00    22 MB(-3%)  Iter   4   34.04%  Refine biparts\r",
      "00:00:00    22 MB(-3%)  Iter   4   36.17%  Refine biparts\r",
      "00:00:00    22 MB(-3%)  Iter   4   38.30%  Refine biparts\r",
      "00:00:00    22 MB(-3%)  Iter   4   40.43%  Refine biparts\r",
      "00:00:00    22 MB(-3%)  Iter   4   42.55%  Refine biparts\r",
      "00:00:00    22 MB(-3%)  Iter   4   44.68%  Refine biparts\r",
      "00:00:00    22 MB(-3%)  Iter   4   46.81%  Refine biparts\r",
      "00:00:00    22 MB(-3%)  Iter   4   48.94%  Refine biparts\r",
      "00:00:00    22 MB(-3%)  Iter   4   51.06%  Refine biparts\r",
      "00:00:00    22 MB(-3%)  Iter   4   53.19%  Refine biparts\r",
      "00:00:00    22 MB(-3%)  Iter   4   55.32%  Refine biparts\r",
      "00:00:00    22 MB(-3%)  Iter   4   57.45%  Refine biparts\r",
      "00:00:00    22 MB(-3%)  Iter   4   59.57%  Refine biparts\r",
      "00:00:00    22 MB(-3%)  Iter   4   61.70%  Refine biparts\r",
      "00:00:00    22 MB(-3%)  Iter   4   63.83%  Refine biparts\r",
      "00:00:00    22 MB(-3%)  Iter   4   65.96%  Refine biparts\r",
      "00:00:00    22 MB(-3%)  Iter   4   68.09%  Refine biparts\r",
      "00:00:00    22 MB(-3%)  Iter   4   70.21%  Refine biparts\r",
      "00:00:00    22 MB(-3%)  Iter   4   72.34%  Refine biparts\r",
      "00:00:00    22 MB(-3%)  Iter   4   74.47%  Refine biparts\r",
      "00:00:00    22 MB(-3%)  Iter   4   76.60%  Refine biparts\r",
      "00:00:00    22 MB(-3%)  Iter   4   78.72%  Refine biparts\r",
      "00:00:00    22 MB(-3%)  Iter   4   80.85%  Refine biparts\r",
      "00:00:00    22 MB(-3%)  Iter   4   82.98%  Refine biparts\r",
      "00:00:00    22 MB(-3%)  Iter   4   85.11%  Refine biparts\r",
      "00:00:00    22 MB(-3%)  Iter   4   87.23%  Refine biparts\r",
      "00:00:00    22 MB(-3%)  Iter   4   89.36%  Refine biparts\r",
      "00:00:00    22 MB(-3%)  Iter   4   91.49%  Refine biparts\r",
      "00:00:00    22 MB(-3%)  Iter   4   93.62%  Refine biparts\r",
      "00:00:00    22 MB(-3%)  Iter   4   95.74%  Refine biparts\r",
      "00:00:00    22 MB(-3%)  Iter   4   97.87%  Refine biparts\r",
      "00:00:00    22 MB(-3%)  Iter   4  100.00%  Refine biparts\r",
      "00:00:00    22 MB(-3%)  Iter   4  102.13%  Refine biparts\r",
      "00:00:00    22 MB(-3%)  Iter   4  100.00%  Refine biparts\r\n",
      "00:00:00    22 MB(-3%)  Iter   5    4.26%  Refine biparts\r",
      "00:00:00    22 MB(-3%)  Iter   5  100.00%  Refine biparts\r\n",
      "00:00:00    22 MB(-3%)  Iter   5  100.00%  Refine biparts\r\n",
      "00:00:00    22 MB(-3%)  Iter   6    4.26%  Refine biparts\r",
      "00:00:00    22 MB(-3%)  Iter   6    6.38%  Refine biparts\r",
      "00:00:00    22 MB(-3%)  Iter   6    8.51%  Refine biparts\r",
      "00:00:00    22 MB(-3%)  Iter   6   10.64%  Refine biparts\r",
      "00:00:00    22 MB(-3%)  Iter   6   12.77%  Refine biparts\r",
      "00:00:00    22 MB(-3%)  Iter   6   14.89%  Refine biparts\r",
      "00:00:00    22 MB(-3%)  Iter   6   17.02%  Refine biparts\r",
      "00:00:00    22 MB(-3%)  Iter   6   19.15%  Refine biparts\r",
      "00:00:00    22 MB(-3%)  Iter   6   21.28%  Refine biparts\r",
      "00:00:00    22 MB(-3%)  Iter   6   23.40%  Refine biparts\r",
      "00:00:00    22 MB(-3%)  Iter   6   25.53%  Refine biparts\r",
      "00:00:00    22 MB(-3%)  Iter   6   27.66%  Refine biparts\r",
      "00:00:00    22 MB(-3%)  Iter   6   29.79%  Refine biparts\r",
      "00:00:00    22 MB(-3%)  Iter   6   31.91%  Refine biparts\r",
      "00:00:00    22 MB(-3%)  Iter   6   34.04%  Refine biparts\r",
      "00:00:00    22 MB(-3%)  Iter   6   36.17%  Refine biparts\r",
      "00:00:00    22 MB(-3%)  Iter   6   38.30%  Refine biparts\r",
      "00:00:00    22 MB(-3%)  Iter   6   40.43%  Refine biparts\r",
      "00:00:00    22 MB(-3%)  Iter   6   42.55%  Refine biparts\r",
      "00:00:00    22 MB(-3%)  Iter   6   44.68%  Refine biparts\r",
      "00:00:00    22 MB(-3%)  Iter   6   46.81%  Refine biparts\r",
      "00:00:00    22 MB(-3%)  Iter   6   48.94%  Refine biparts\r",
      "00:00:00    22 MB(-3%)  Iter   6   51.06%  Refine biparts\r",
      "00:00:00    22 MB(-3%)  Iter   6   53.19%  Refine biparts\r",
      "00:00:00    22 MB(-3%)  Iter   6   55.32%  Refine biparts\r",
      "00:00:00    22 MB(-3%)  Iter   6   57.45%  Refine biparts\r",
      "00:00:00    22 MB(-3%)  Iter   6   59.57%  Refine biparts\r",
      "00:00:00    22 MB(-3%)  Iter   6   61.70%  Refine biparts\r",
      "00:00:00    22 MB(-3%)  Iter   6   63.83%  Refine biparts\r",
      "00:00:00    22 MB(-3%)  Iter   6   65.96%  Refine biparts\r",
      "00:00:00    22 MB(-3%)  Iter   6   68.09%  Refine biparts\r",
      "00:00:00    22 MB(-3%)  Iter   6   70.21%  Refine biparts\r",
      "00:00:00    22 MB(-3%)  Iter   6   72.34%  Refine biparts\r",
      "00:00:00    22 MB(-3%)  Iter   6   74.47%  Refine biparts\r",
      "00:00:00    22 MB(-3%)  Iter   6   76.60%  Refine biparts\r",
      "00:00:00    22 MB(-3%)  Iter   6   78.72%  Refine biparts\r",
      "00:00:00    22 MB(-3%)  Iter   6   80.85%  Refine biparts\r",
      "00:00:00    22 MB(-3%)  Iter   6   82.98%  Refine biparts\r",
      "00:00:00    22 MB(-3%)  Iter   6   85.11%  Refine biparts\r",
      "00:00:00    22 MB(-3%)  Iter   6   87.23%  Refine biparts\r",
      "00:00:00    22 MB(-3%)  Iter   6   89.36%  Refine biparts\r",
      "00:00:00    22 MB(-3%)  Iter   6   91.49%  Refine biparts\r",
      "00:00:00    22 MB(-3%)  Iter   6   93.62%  Refine biparts\r",
      "00:00:00    22 MB(-3%)  Iter   6   95.74%  Refine biparts\r",
      "00:00:00    22 MB(-3%)  Iter   6   97.87%  Refine biparts\r",
      "00:00:00    22 MB(-3%)  Iter   6  100.00%  Refine biparts\r",
      "00:00:00    22 MB(-3%)  Iter   6  102.13%  Refine biparts\r",
      "00:00:00    22 MB(-3%)  Iter   6  100.00%  Refine biparts\r\n",
      "Finished job 0.\n",
      "8 of 8 steps (100%) done\n"
     ]
    }
   ],
   "source": [
    "%%bash\n",
    "cd ../dataset/\n",
    "pwd\n",
    "snakemake -p chosen_blastclust_seq_for_intersec_rcsbpdb_wt_PF00014_len50_90_and_pdbefold_5pti_A_summary_S99_L0.95.muscle.afa\n",
    "head chosen_blastclust_seq_for_intersec_rcsbpdb_wt_PF00014_len50_90_and_pdbefold_5pti_A_summary_S99_L0.95.muscle.afa"
   ]
  },
  {
   "cell_type": "markdown",
   "metadata": {},
   "source": [
    "### Step2: run hmmbuild to build the model"
   ]
  },
  {
   "cell_type": "code",
   "execution_count": 3,
   "metadata": {},
   "outputs": [
    {
     "name": "stdout",
     "output_type": "stream",
     "text": [
      "/home/alessandro/Unibo/python-programming-alessandro-lussana/LB1/prj_hmm_classification/dataset\n",
      "# hmmbuild :: profile HMM construction from multiple sequence alignments\n",
      "# HMMER 3.1b2 (February 2015); http://hmmer.org/\n",
      "# Copyright (C) 2015 Howard Hughes Medical Institute.\n",
      "# Freely distributed under the GNU General Public License (GPLv3).\n",
      "# - - - - - - - - - - - - - - - - - - - - - - - - - - - - - - - - - - - -\n",
      "# input alignment file:             chosen_blastclust_seq_for_intersec_rcsbpdb_wt_PF00014_len50_90_and_pdbefold_5pti_A_summary_S99_L0.95.muscle.afa\n",
      "# output HMM file:                  chosen_blastclust_seq_for_intersec_rcsbpdb_wt_PF00014_len50_90_and_pdbefold_5pti_A_summary_S99_L0.95.muscle.hmm\n",
      "# - - - - - - - - - - - - - - - - - - - - - - - - - - - - - - - - - - - -\n",
      "\n",
      "# idx name                  nseq  alen  mlen eff_nseq re/pos description\n",
      "#---- -------------------- ----- ----- ----- -------- ------ -----------\n",
      "1     chosen_blastclust_seq_for_intersec_rcsbpdb_wt_PF00014_len50_90_and_pdbefold_5pti_A_summary_S99_L0.95.muscle    25   100    60     2.07  0.931 \n",
      "\n",
      "# CPU time: 0.05u 0.00s 00:00:00.05 Elapsed: 00:00:00.06\n",
      "HMMER3/f [3.1b2 | February 2015]\n",
      "NAME  chosen_blastclust_seq_for_intersec_rcsbpdb_wt_PF00014_len50_90_and_pdbefold_5pti_A_summary_S99_L0.95.muscle\n",
      "LENG  60\n",
      "ALPH  amino\n",
      "RF    no\n",
      "MM    no\n",
      "CONS  yes\n",
      "CS    no\n",
      "MAP   yes\n",
      "DATE  Thu Apr  4 20:10:09 2019\n"
     ]
    },
    {
     "name": "stderr",
     "output_type": "stream",
     "text": [
      "Provided cores: 1\n",
      "Rules claiming more threads will be scaled down.\n",
      "Job counts:\n",
      "\tcount\tjobs\n",
      "\t1\tbuild_hmm\n",
      "\t1\n",
      "\n",
      "rule build_hmm:\n",
      "    input: chosen_blastclust_seq_for_intersec_rcsbpdb_wt_PF00014_len50_90_and_pdbefold_5pti_A_summary_S99_L0.95.muscle.afa\n",
      "    output: chosen_blastclust_seq_for_intersec_rcsbpdb_wt_PF00014_len50_90_and_pdbefold_5pti_A_summary_S99_L0.95.muscle.hmm\n",
      "    jobid: 0\n",
      "    wildcards: msa=chosen_blastclust_seq_for_intersec_rcsbpdb_wt_PF00014_len50_90_and_pdbefold_5pti_A_summary_S99_L0.95, source=muscle\n",
      "\n",
      "hmmbuild --informat afa chosen_blastclust_seq_for_intersec_rcsbpdb_wt_PF00014_len50_90_and_pdbefold_5pti_A_summary_S99_L0.95.muscle.hmm chosen_blastclust_seq_for_intersec_rcsbpdb_wt_PF00014_len50_90_and_pdbefold_5pti_A_summary_S99_L0.95.muscle.afa\n",
      "Finished job 0.\n",
      "1 of 1 steps (100%) done\n"
     ]
    }
   ],
   "source": [
    "%%bash\n",
    "cd ../dataset/\n",
    "pwd\n",
    "snakemake -p chosen_blastclust_seq_for_intersec_rcsbpdb_wt_PF00014_len50_90_and_pdbefold_5pti_A_summary_S99_L0.95.muscle.hmm\n",
    "head chosen_blastclust_seq_for_intersec_rcsbpdb_wt_PF00014_len50_90_and_pdbefold_5pti_A_summary_S99_L0.95.muscle.hmm"
   ]
  },
  {
   "cell_type": "markdown",
   "metadata": {},
   "source": [
    "\\[classification and assessment of performance will be done later\\]"
   ]
  },
  {
   "cell_type": "markdown",
   "metadata": {},
   "source": [
    "## Multiple Structural Alignment\n",
    "From [pdbefold](http://www.ebi.ac.uk/msd-srv/ssm/)\n",
    "\n",
    "You can provide list of PDB entries: <PDBID\\>:<CHAINID\\>\n",
    "\n",
    "Note: procedure may take some time. prof is showing this with 5-6 structures only\n",
    "\n",
    "* Check manually the structures for each cluster to be problem proof before starting the alignment submission\n",
    "* Submit the list here: http://www.ebi.ac.uk/msd-srv/ssm/cgi-bin/ssmserver\n",
    "* Download FASTA alignment\n",
    "* Parse to have everything uppercase\n",
    "\n",
    "## hmmbuild on structure-derived sequence alignment\n",
    "\n",
    "* run hmmbuild from the aligned fasta\n",
    "* go to skylingn to get a nice visualization of the hmm profile: comment the conservation of typical residues etc; maybe compare this sequence logo with the one obtained from the non-structure-derived sequence alignment\n",
    "\n",
    "First, get the list of pdb (identifier:chain)s"
   ]
  },
  {
   "cell_type": "code",
   "execution_count": 4,
   "metadata": {},
   "outputs": [
    {
     "name": "stdout",
     "output_type": "stream",
     "text": [
      "/home/alessandro/Unibo/python-programming-alessandro-lussana/LB1/prj_hmm_classification/dataset\n"
     ]
    },
    {
     "name": "stderr",
     "output_type": "stream",
     "text": [
      "Provided cores: 1\n",
      "Rules claiming more threads will be scaled down.\n",
      "Job counts:\n",
      "\tcount\tjobs\n",
      "\t1\tcreate_chosen_ids_list\n",
      "\t1\n",
      "\n",
      "rule create_chosen_ids_list:\n",
      "    input: chosen_blastclust_seq_for_intersec_rcsbpdb_wt_PF00014_len50_90_and_pdbefold_5pti_A_summary_S99_L0.95.txt\n",
      "    output: chosen_blastclust_seq_for_intersec_rcsbpdb_wt_PF00014_len50_90_and_pdbefold_5pti_A_summary_S99_L0.95_idlist\n",
      "    jobid: 0\n",
      "    wildcards: sequences=chosen_blastclust_seq_for_intersec_rcsbpdb_wt_PF00014_len50_90_and_pdbefold_5pti_A_summary_S99_L0.95\n",
      "\n",
      "cat chosen_blastclust_seq_for_intersec_rcsbpdb_wt_PF00014_len50_90_and_pdbefold_5pti_A_summary_S99_L0.95.txt | cut -f1 | sed 's/_/:/' > chosen_blastclust_seq_for_intersec_rcsbpdb_wt_PF00014_len50_90_and_pdbefold_5pti_A_summary_S99_L0.95_idlist\n",
      "Finished job 0.\n",
      "1 of 1 steps (100%) done\n"
     ]
    }
   ],
   "source": [
    "%%bash\n",
    "cd ../dataset/\n",
    "pwd\n",
    "snakemake -p chosen_blastclust_seq_for_intersec_rcsbpdb_wt_PF00014_len50_90_and_pdbefold_5pti_A_summary_S99_L0.95_idlist"
   ]
  },
  {
   "cell_type": "markdown",
   "metadata": {},
   "source": [
    "Then use it to feed pdbefold\n",
    "\n",
    "**my session ID is 556-42-1FK**"
   ]
  },
  {
   "cell_type": "markdown",
   "metadata": {},
   "source": [
    "## Choose the negative testing set\n",
    "\n",
    "* Go to UniProt --> advanced search\n",
    "* chose same length, non-kunitz, reviewed: yes\n",
    "\n",
    "**length:[40 TO 500] NOT database:(type:pfam pf00014) AND reviewed:yes**\n",
    "\n",
    "Downloaded in ../handmade/uniprot_kunitz_negative.gz\n",
    "\n",
    "I renamed the file and deleted the header (first line: \"Entry   Cross-reference (PDB)\")\n",
    "\n",
    "Sets generation for testing: prof sort(ed) -R | head -100"
   ]
  },
  {
   "cell_type": "markdown",
   "metadata": {},
   "source": [
    "## Choose the positive testing set\n",
    "\n",
    "* Go to UniProt --> advanced search\n",
    "* search for 40-500L, kunitz, reviewed\n",
    "* Exclude sequences that are too similar to the training set: possible approaches\n",
    "    \n",
    "**database:(type:pfam pf00014) length:[40 TO 500] AND reviewed:yes**\n",
    "\n",
    "Downloaded in **../handmade/uniprot_kunitz_positives.gz**\n",
    "\n",
    "I renamed the file and deleted the header (first line: \"Entry   Cross-reference (PDB)\")"
   ]
  },
  {
   "cell_type": "code",
   "execution_count": 5,
   "metadata": {},
   "outputs": [
    {
     "name": "stdout",
     "output_type": "stream",
     "text": [
      "total 150M\n",
      "-rw-r--r-- 1 alessandro alessandro 3,3K apr  4 15:58 pdbefold_25_selected_kunitz.afa\n",
      "-rw-r--r-- 1 alessandro alessandro  78K apr  3 12:58 pdbefold_5pti_A_summary\n",
      "-rw-r--r-- 1 alessandro alessandro 147M apr  3 11:53 pdb_seqres.txt\n",
      "-rw-r--r-- 1 alessandro alessandro  18K apr  3 11:28 rcsbpdb_wt_PF00014_len50_90_addinfo.csv\n",
      "-rw-r--r-- 1 alessandro alessandro  16K apr  3 12:20 rcsbpdb_wt_PF00014_len50_90.csv\n",
      "-rw-r--r-- 1 alessandro alessandro 2,0M apr  4 18:03 uniprot_kunitz_negative.gz\n",
      "-rw-r--r-- 1 alessandro alessandro 1,6K apr  4 18:38 uniprot_kunitz_positive.gz\n"
     ]
    }
   ],
   "source": [
    "%%bash\n",
    "cd ../handmade/\n",
    "ls -lh"
   ]
  },
  {
   "cell_type": "markdown",
   "metadata": {},
   "source": [
    "In the meantime, MSA of structure finished. I downloaded the fasta alignment (afa) here:"
   ]
  },
  {
   "cell_type": "code",
   "execution_count": 6,
   "metadata": {},
   "outputs": [
    {
     "name": "stdout",
     "output_type": "stream",
     "text": [
      ">PDB:5pti:A STRUCTURE OF BOVINE PANCREATIC TRYPSIN INHIBITOR. \n",
      "--------rpdfcleppytgpckARIIRYFYNAKAGLCQTFVYGgCRA-KRNNFKSAEDCMRTCgga-\n",
      "\n",
      ">PDB:1aap:A X-RAY CRYSTAL STRUCTURE OF THE PROTEASE INHIBITOR \n",
      "--------vrevcseqaetgpcrAMISRWYFDVTEGKCAPFFYGgCGG-NRNNFDTEEYCMAVCg---\n",
      "\n",
      ">PDB:3byb:A CRYSTAL STRUCTURE OF TEXTILININ-1, A KUNITZ-TYPE S\n",
      "------kdrpdfcelpadtgpcrVRFPSFYYNPDEKKCLEFIYGgCEG-NANNFITKEECESTCa---\n",
      "\n",
      ">PDB:3wny:A A SIMPLIFIED BPTI VARIANT WITH POLY LYS AMINO ACID\n"
     ]
    }
   ],
   "source": [
    "%%bash\n",
    "head ../handmade/pdbefold_25_selected_kunitz.afa"
   ]
  },
  {
   "cell_type": "markdown",
   "metadata": {},
   "source": [
    "Symbolic links to the new handmade files are now present in ../dataset/"
   ]
  },
  {
   "cell_type": "code",
   "execution_count": 7,
   "metadata": {},
   "outputs": [
    {
     "name": "stdout",
     "output_type": "stream",
     "text": [
      "total 112M\n",
      "-rw-r--r-- 1 alessandro alessandro  809 apr  4 20:10 chosen_blastclust_seq_for_intersec_rcsbpdb_wt_PF00014_len50_90_and_pdbefold_5pti_A_summary_S99_L0.95.fasta.gz\n",
      "-rw-r--r-- 1 alessandro alessandro  175 apr  4 20:10 chosen_blastclust_seq_for_intersec_rcsbpdb_wt_PF00014_len50_90_and_pdbefold_5pti_A_summary_S99_L0.95_idlist\n",
      "-rw-r--r-- 1 alessandro alessandro 2,7K apr  4 20:10 chosen_blastclust_seq_for_intersec_rcsbpdb_wt_PF00014_len50_90_and_pdbefold_5pti_A_summary_S99_L0.95.muscle.afa\n",
      "-rw-r--r-- 1 alessandro alessandro  29K apr  4 20:10 chosen_blastclust_seq_for_intersec_rcsbpdb_wt_PF00014_len50_90_and_pdbefold_5pti_A_summary_S99_L0.95.muscle.hmm\n",
      "lrwxrwxrwx 1 alessandro alessandro   43 apr  4 16:11 chosen_blastclust_seq_for_intersec_rcsbpdb_wt_PF00014_len50_90_and_pdbefold_5pti_A_summary_S99_L0.95.pdbefold.afa -> ../handmade/pdbefold_25_selected_kunitz.afa\n",
      "-rw-r--r-- 1 alessandro alessandro 2,9K apr  4 20:10 chosen_blastclust_seq_for_intersec_rcsbpdb_wt_PF00014_len50_90_and_pdbefold_5pti_A_summary_S99_L0.95.txt\n",
      "-rw-r--r-- 1 alessandro alessandro  11K apr  4 20:10 intersec_rcsbpdb_wt_PF00014_len50_90_and_pdbefold_5pti_A_summary.fasta\n",
      "-rw-r--r-- 1 alessandro alessandro  552 apr  4 20:10 intersec_rcsbpdb_wt_PF00014_len50_90_and_pdbefold_5pti_A_summary_S99_L0.95_blastclust_out.gz\n",
      "-rw-r--r-- 1 alessandro alessandro 3,4K apr  4 20:10 intersec_rcsbpdb_wt_PF00014_len50_90_and_pdbefold_5pti_A_summary.txt.gz\n",
      "lrwxrwxrwx 1 alessandro alessandro   35 apr  3 11:40 pdbefold_5pti_A_summary -> ../handmade/pdbefold_5pti_A_summary\n",
      "-rw-r--r-- 1 alessandro alessandro 7,1K apr  4 20:10 pdbefold_5pti_A_summary.txt.gz\n",
      "lrwxrwxrwx 1 alessandro alessandro   43 apr  3 12:16 rcsbpdb_wt_PF00014_len50_90.csv -> ../handmade/rcsbpdb_wt_PF00014_len50_90.csv\n",
      "-rw-r--r-- 1 alessandro alessandro 1,8K apr  4 20:10 rcsbpdb_wt_PF00014_len50_90.txt.gz\n",
      "lrwxrwxrwx 1 alessandro alessandro   23 apr  3 09:25 Snakefile -> ../snakefiles/Snakefile\n",
      "-rw-r--r-- 1 alessandro alessandro 112M apr  4 18:41 swissprot.fasta.gz\n",
      "lrwxrwxrwx 1 alessandro alessandro   38 apr  4 16:12 uniprot_kunitz_negative.gz -> ../handmade/uniprot_kunitz_negative.gz\n",
      "lrwxrwxrwx 1 alessandro alessandro   38 apr  4 18:39 uniprot_kunitz_positive.gz -> ../handmade/uniprot_kunitz_positive.gz\n"
     ]
    }
   ],
   "source": [
    "%%bash\n",
    "cd ../dataset/\n",
    "ls -lh"
   ]
  },
  {
   "cell_type": "markdown",
   "metadata": {},
   "source": [
    "## Building HMM with structure-derived sequence alignment"
   ]
  },
  {
   "cell_type": "code",
   "execution_count": 8,
   "metadata": {},
   "outputs": [
    {
     "name": "stdout",
     "output_type": "stream",
     "text": [
      "# hmmbuild :: profile HMM construction from multiple sequence alignments\n",
      "# HMMER 3.1b2 (February 2015); http://hmmer.org/\n",
      "# Copyright (C) 2015 Howard Hughes Medical Institute.\n",
      "# Freely distributed under the GNU General Public License (GPLv3).\n",
      "# - - - - - - - - - - - - - - - - - - - - - - - - - - - - - - - - - - - -\n",
      "# input alignment file:             chosen_blastclust_seq_for_intersec_rcsbpdb_wt_PF00014_len50_90_and_pdbefold_5pti_A_summary_S99_L0.95.pdbefold.afa\n",
      "# output HMM file:                  chosen_blastclust_seq_for_intersec_rcsbpdb_wt_PF00014_len50_90_and_pdbefold_5pti_A_summary_S99_L0.95.pdbefold.hmm\n",
      "# - - - - - - - - - - - - - - - - - - - - - - - - - - - - - - - - - - - -\n",
      "\n",
      "# idx name                  nseq  alen  mlen eff_nseq re/pos description\n",
      "#---- -------------------- ----- ----- ----- -------- ------ -----------\n",
      "1     chosen_blastclust_seq_for_intersec_rcsbpdb_wt_PF00014_len50_90_and_pdbefold_5pti_A_summary_S99_L0.95.pdbefold    25    68    59     2.43  0.946 \n",
      "\n",
      "# CPU time: 0.07u 0.00s 00:00:00.07 Elapsed: 00:00:00.07\n",
      "HMMER3/f [3.1b2 | February 2015]\n",
      "NAME  chosen_blastclust_seq_for_intersec_rcsbpdb_wt_PF00014_len50_90_and_pdbefold_5pti_A_summary_S99_L0.95.pdbefold\n",
      "LENG  59\n",
      "ALPH  amino\n",
      "RF    no\n",
      "MM    no\n",
      "CONS  yes\n",
      "CS    no\n",
      "MAP   yes\n",
      "DATE  Thu Apr  4 20:10:10 2019\n"
     ]
    },
    {
     "name": "stderr",
     "output_type": "stream",
     "text": [
      "Provided cores: 1\n",
      "Rules claiming more threads will be scaled down.\n",
      "Job counts:\n",
      "\tcount\tjobs\n",
      "\t1\tbuild_hmm\n",
      "\t1\n",
      "\n",
      "rule build_hmm:\n",
      "    input: chosen_blastclust_seq_for_intersec_rcsbpdb_wt_PF00014_len50_90_and_pdbefold_5pti_A_summary_S99_L0.95.pdbefold.afa\n",
      "    output: chosen_blastclust_seq_for_intersec_rcsbpdb_wt_PF00014_len50_90_and_pdbefold_5pti_A_summary_S99_L0.95.pdbefold.hmm\n",
      "    jobid: 0\n",
      "    wildcards: msa=chosen_blastclust_seq_for_intersec_rcsbpdb_wt_PF00014_len50_90_and_pdbefold_5pti_A_summary_S99_L0.95, source=pdbefold\n",
      "\n",
      "hmmbuild --informat afa chosen_blastclust_seq_for_intersec_rcsbpdb_wt_PF00014_len50_90_and_pdbefold_5pti_A_summary_S99_L0.95.pdbefold.hmm chosen_blastclust_seq_for_intersec_rcsbpdb_wt_PF00014_len50_90_and_pdbefold_5pti_A_summary_S99_L0.95.pdbefold.afa\n",
      "Finished job 0.\n",
      "1 of 1 steps (100%) done\n"
     ]
    }
   ],
   "source": [
    "%%bash\n",
    "cd ../dataset/\n",
    "snakemake -p chosen_blastclust_seq_for_intersec_rcsbpdb_wt_PF00014_len50_90_and_pdbefold_5pti_A_summary_S99_L0.95.pdbefold.hmm\n",
    "head chosen_blastclust_seq_for_intersec_rcsbpdb_wt_PF00014_len50_90_and_pdbefold_5pti_A_summary_S99_L0.95.pdbefold.hmm"
   ]
  },
  {
   "cell_type": "markdown",
   "metadata": {},
   "source": [
    "## Filtering the positive set for similarity with the training set\n",
    "* best way: use blastclust to remove some extremely similar clusters\n",
    "* fast, ugly alternative: remove only the 25 training sequences\n",
    "\n",
    "Here I do the best way:"
   ]
  },
  {
   "cell_type": "code",
   "execution_count": 9,
   "metadata": {},
   "outputs": [
    {
     "name": "stdout",
     "output_type": "stream",
     "text": [
      "/home/alessandro/Unibo/python-programming-alessandro-lussana/LB1/prj_hmm_classification/dataset\n",
      "P00981\n",
      "P00982\n",
      "P00978\n",
      "Q64240\n",
      "P04366\n",
      "O95925\n",
      "P68425\n",
      "Q9WU03\n",
      "P29216\n",
      "Q07456\n",
      "310 filtered_uniprot_kunitz_positive.txt\n"
     ]
    },
    {
     "name": "stderr",
     "output_type": "stream",
     "text": [
      "Provided cores: 1\n",
      "Rules claiming more threads will be scaled down.\n",
      "Job counts:\n",
      "\tcount\tjobs\n",
      "\t1\tfilter_out_training_clusters\n",
      "\t1\n",
      "\n",
      "rule filter_out_training_clusters:\n",
      "    input: intersec_rcsbpdb_wt_PF00014_len50_90_and_pdbefold_5pti_A_summary_S99_L0.95_blastclust_out.gz, uniprot_kunitz_positive.gz\n",
      "    output: filtered_uniprot_kunitz_positive.txt\n",
      "    jobid: 0\n",
      "\n",
      "zcat uniprot_kunitz_positive.gz | grep -v -f <(zcat intersec_rcsbpdb_wt_PF00014_len50_90_and_pdbefold_5pti_A_summary_S99_L0.95_blastclust_out.gz | sed '1d' | sed 's/ $//g' | sed 's/ /\\n/g' | cut -b 1-4 | sort | uniq) | cut -f1 > filtered_uniprot_kunitz_positive.txt\n",
      "Finished job 0.\n",
      "1 of 1 steps (100%) done\n"
     ]
    }
   ],
   "source": [
    "%%bash\n",
    "cd ../dataset/\n",
    "pwd\n",
    "snakemake -p filtered_uniprot_kunitz_positive.txt\n",
    "cat filtered_uniprot_kunitz_positive.txt | head\n",
    "wc -l filtered_uniprot_kunitz_positive.txt"
   ]
  },
  {
   "cell_type": "markdown",
   "metadata": {},
   "source": [
    "## Retrieve multifasta testing sets\n",
    "### positive:"
   ]
  },
  {
   "cell_type": "code",
   "execution_count": 10,
   "metadata": {},
   "outputs": [
    {
     "name": "stdout",
     "output_type": "stream",
     "text": [
      "/home/alessandro/Unibo/python-programming-alessandro-lussana/LB1/prj_hmm_classification/dataset\n",
      ">sp|P84875|PCPI_SABMA Carboxypeptidase inhibitor SmCI OS=Sabellastarte magnifica OX=389514 PE=1 SV=1\n",
      "ISVCDLPADRGQCTAYIPQWFFNKTTEDCEKFVYGGCQGNANRFETKDDCIANCGCNLPS\n",
      "KVGPCRVSARMWFHNPETEKCEVFIYGGCHGNANRFATETECQEVCDRYQKPGFCYQPSE\n",
      "TGPCKGSFPRYYYDYEDGECKEFIYGGCEGNANNFETKESCENAC\n",
      ">sp|Q9D263|SPIT4_MOUSE Kunitz-type protease inhibitor 4 OS=Mus musculus OX=10090 GN=Spint4 PE=2 SV=1\n",
      "MKPTKLGFLLGLSLLCSLSPPVLSGVERLANYLCKDYNDPCLLDVEPGSCYEVHFRFFYN\n",
      "QTAKQCQIFLFTGCNGNLNNFKLKIDCDVTCHETYKNPPLPSGDKRKRSLRALATKNLAT\n",
      "DWRLTTLQPGRLRQTERKETLLQRARRESRRQPLARHHT\n",
      ">sp|Q9WU03|SPIT2_MOUSE Kunitz-type protease inhibitor 2 OS=Mus musculus OX=10090 GN=Spint2 PE=1 SV=1\n",
      "MAQLCELRRGRALLALVASLLLSGAQVASRELDVHESCGVSKVVGKCRASIPRWWYNITD\n"
     ]
    },
    {
     "name": "stderr",
     "output_type": "stream",
     "text": [
      "Provided cores: 1\n",
      "Rules claiming more threads will be scaled down.\n",
      "Job counts:\n",
      "\tcount\tjobs\n",
      "\t1\tfilterfasta\n",
      "\t1\n",
      "\n",
      "rule filterfasta:\n",
      "    input: swissprot.fasta.gz, filtered_uniprot_kunitz_positive.txt\n",
      "    output: filtered_uniprot_kunitz_positive_filter_on_swissprot.fasta.gz\n",
      "    jobid: 0\n",
      "    wildcards: filter=filtered_uniprot_kunitz_positive, db=swissprot\n",
      "\n",
      "python ../src/fastafilter.py swissprot.fasta.gz filtered_uniprot_kunitz_positive.txt | gzip > filtered_uniprot_kunitz_positive_filter_on_swissprot.fasta.gz\n",
      "Finished job 0.\n",
      "1 of 1 steps (100%) done\n"
     ]
    }
   ],
   "source": [
    "%%bash\n",
    "cd ../dataset/\n",
    "pwd\n",
    "snakemake -p filtered_uniprot_kunitz_positive_filter_on_swissprot.fasta.gz\n",
    "zcat filtered_uniprot_kunitz_positive_filter_on_swissprot.fasta.gz | head"
   ]
  },
  {
   "cell_type": "markdown",
   "metadata": {},
   "source": [
    "### Negative:"
   ]
  },
  {
   "cell_type": "code",
   "execution_count": 11,
   "metadata": {},
   "outputs": [
    {
     "name": "stdout",
     "output_type": "stream",
     "text": [
      "/home/alessandro/Unibo/python-programming-alessandro-lussana/LB1/prj_hmm_classification/dataset\n",
      "Q00604\n",
      "Q62433\n",
      "P13738\n",
      "P01179\n",
      "P25427\n",
      "P55769\n",
      "Q9D0T1\n",
      "Q4PSE2\n",
      "Q92886\n",
      "P80188\n"
     ]
    },
    {
     "name": "stderr",
     "output_type": "stream",
     "text": [
      "Provided cores: 1\n",
      "Rules claiming more threads will be scaled down.\n",
      "Job counts:\n",
      "\tcount\tjobs\n",
      "\t1\tget_negative_set_ids\n",
      "\t1\n",
      "\n",
      "rule get_negative_set_ids:\n",
      "    input: uniprot_kunitz_negative.gz\n",
      "    output: filtered_uniprot_kunitz_negative.txt\n",
      "    jobid: 0\n",
      "\n",
      "zcat uniprot_kunitz_negative.gz | cut -f1 > filtered_uniprot_kunitz_negative.txt\n",
      "Finished job 0.\n",
      "1 of 1 steps (100%) done\n"
     ]
    }
   ],
   "source": [
    "%%bash\n",
    "cd ../dataset/\n",
    "pwd\n",
    "snakemake -p filtered_uniprot_kunitz_negative.txt\n",
    "head filtered_uniprot_kunitz_negative.txt"
   ]
  },
  {
   "cell_type": "markdown",
   "metadata": {},
   "source": [
    "## Run hmmsearch\n",
    "### Positive set:"
   ]
  },
  {
   "cell_type": "code",
   "execution_count": 12,
   "metadata": {},
   "outputs": [
    {
     "name": "stdout",
     "output_type": "stream",
     "text": [
      "/home/alessandro/Unibo/python-programming-alessandro-lussana/LB1/prj_hmm_classification/dataset\n",
      "# hmmsearch :: search profile(s) against a sequence database\n",
      "# HMMER 3.1b2 (February 2015); http://hmmer.org/\n",
      "# Copyright (C) 2015 Howard Hughes Medical Institute.\n",
      "# Freely distributed under the GNU General Public License (GPLv3).\n",
      "# - - - - - - - - - - - - - - - - - - - - - - - - - - - - - - - - - - - -\n",
      "# query HMM file:                  chosen_blastclust_seq_for_intersec_rcsbpdb_wt_PF00014_len50_90_and_pdbefold_5pti_A_summary_S99_L0.95.pdbefold.hmm\n",
      "# target sequence database:        /dev/fd/63\n",
      "# - - - - - - - - - - - - - - - - - - - - - - - - - - - - - - - - - - - -\n",
      "\n",
      "Query:       chosen_blastclust_seq_for_intersec_rcsbpdb_wt_PF00014_len50_90_and_pdbefold_5pti_A_summary_S99_L0.95.pdbefold  [M=59]\n",
      "Scores for complete sequences (score includes all domains):\n",
      "   --- full sequence ---   --- best 1 domain ---    -#dom-\n",
      "    E-value  score  bias    E-value  score  bias    exp  N  Sequence                  Description\n",
      "    ------- ------ -----    ------- ------ -----   ---- --  --------                  -----------\n",
      "    4.7e-71  229.2  42.1      3e-27   88.9   8.0    3.2  3  sp|Q28864|TFPI1_MACMU      Tissue factor pathway inhibitor OS\n",
      "    2.1e-70  227.1  42.4    1.2e-25   83.8   5.9    3.2  3  sp|Q02445|TFPI1_RAT        Tissue factor pathway inhibitor OS\n",
      "    1.4e-68  221.3  39.0      8e-26   84.3   5.7    3.1  3  sp|O54819|TFPI1_MOUSE      Tissue factor pathway inhibitor OS\n",
      "    5.8e-67  216.1  39.1    1.1e-25   83.9   6.9    3.1  3  sp|P19761|TFPI1_RABIT      Tissue factor pathway inhibitor OS\n",
      "    2.7e-66  213.9  38.2    1.5e-23   77.1   7.0    3.0  3  sp|P84875|PCPI_SABMA       Carboxypeptidase inhibitor SmCI OS\n",
      "    1.1e-64  208.8  42.9      3e-23   76.1   8.8    3.2  3  sp|P83606|BMTI6_RHIMP      Kunitz-type serine protease inhibi\n"
     ]
    },
    {
     "name": "stderr",
     "output_type": "stream",
     "text": [
      "Provided cores: 1\n",
      "Rules claiming more threads will be scaled down.\n",
      "Job counts:\n",
      "\tcount\tjobs\n",
      "\t1\thmm_db_search\n",
      "\t1\n",
      "\n",
      "rule hmm_db_search:\n",
      "    input: filtered_uniprot_kunitz_positive_filter_on_swissprot.fasta.gz\n",
      "    output: chosen_blastclust_seq_for_intersec_rcsbpdb_wt_PF00014_len50_90_and_pdbefold_5pti_A_summary_S99_L0.95.pdbefold_vs_filtered_uniprot_kunitz_positive_filter_on_swissprot.search_out.gz\n",
      "    jobid: 0\n",
      "    wildcards: model=chosen_blastclust_seq_for_intersec_rcsbpdb_wt_PF00014_len50_90_and_pdbefold_5pti_A_summary_S99_L0.95.pdbefold, db=filtered_uniprot_kunitz_positive_filter_on_swissprot\n",
      "\n",
      "hmmsearch chosen_blastclust_seq_for_intersec_rcsbpdb_wt_PF00014_len50_90_and_pdbefold_5pti_A_summary_S99_L0.95.pdbefold.hmm <(zcat filtered_uniprot_kunitz_positive_filter_on_swissprot.fasta.gz) | gzip > chosen_blastclust_seq_for_intersec_rcsbpdb_wt_PF00014_len50_90_and_pdbefold_5pti_A_summary_S99_L0.95.pdbefold_vs_filtered_uniprot_kunitz_positive_filter_on_swissprot.search_out.gz\n",
      "Finished job 0.\n",
      "1 of 1 steps (100%) done\n"
     ]
    }
   ],
   "source": [
    "%%bash\n",
    "cd ../dataset/\n",
    "pwd\n",
    "snakemake -p chosen_blastclust_seq_for_intersec_rcsbpdb_wt_PF00014_len50_90_and_pdbefold_5pti_A_summary_S99_L0.95.pdbefold_vs_filtered_uniprot_kunitz_positive_filter_on_swissprot.search_out.gz\n",
    "zcat chosen_blastclust_seq_for_intersec_rcsbpdb_wt_PF00014_len50_90_and_pdbefold_5pti_A_summary_S99_L0.95.pdbefold_vs_filtered_uniprot_kunitz_positive_filter_on_swissprot.search_out.gz | head -20"
   ]
  },
  {
   "cell_type": "markdown",
   "metadata": {},
   "source": [
    "### Negative set:"
   ]
  },
  {
   "cell_type": "code",
   "execution_count": 13,
   "metadata": {},
   "outputs": [
    {
     "name": "stdout",
     "output_type": "stream",
     "text": [
      "/home/alessandro/Unibo/python-programming-alessandro-lussana/LB1/prj_hmm_classification/dataset\n",
      "# hmmsearch :: search profile(s) against a sequence database\n",
      "# HMMER 3.1b2 (February 2015); http://hmmer.org/\n",
      "# Copyright (C) 2015 Howard Hughes Medical Institute.\n",
      "# Freely distributed under the GNU General Public License (GPLv3).\n",
      "# - - - - - - - - - - - - - - - - - - - - - - - - - - - - - - - - - - - -\n",
      "# query HMM file:                  chosen_blastclust_seq_for_intersec_rcsbpdb_wt_PF00014_len50_90_and_pdbefold_5pti_A_summary_S99_L0.95.pdbefold.hmm\n",
      "# target sequence database:        /dev/fd/63\n",
      "# - - - - - - - - - - - - - - - - - - - - - - - - - - - - - - - - - - - -\n",
      "\n",
      "Query:       chosen_blastclust_seq_for_intersec_rcsbpdb_wt_PF00014_len50_90_and_pdbefold_5pti_A_summary_S99_L0.95.pdbefold  [M=59]\n",
      "Scores for complete sequences (score includes all domains):\n",
      "   --- full sequence ---   --- best 1 domain ---    -#dom-\n",
      "    E-value  score  bias    E-value  score  bias    exp  N  Sequence                  Description\n",
      "    ------- ------ -----    ------- ------ -----   ---- --  --------                  -----------\n",
      "   1.5e-197  644.7 184.1    1.8e-17   68.0   6.1   14.3 12  sp|Q868Z9|PPN_DROME        Papilin OS=Drosophila melanogaster\n",
      "   2.7e-176  576.7 160.0    6.7e-18   69.4   5.3   13.8 11  sp|O76840|PPN1_CAEEL       Papilin OS=Caenorhabditis elegans \n",
      "    5.8e-68  229.7  42.1    1.1e-23   87.9   8.3    3.2  3  sp|P10646|TFPI1_HUMAN      Tissue factor pathway inhibitor OS\n",
      "    8.4e-68  229.2  42.1    5.5e-24   88.9   8.0    3.2  3  sp|Q28864|TFPI1_MACMU      Tissue factor pathway inhibitor OS\n",
      "    3.8e-67  227.1  42.4    2.1e-22   83.8   5.9    3.2  3  sp|Q02445|TFPI1_RAT        Tissue factor pathway inhibitor OS\n",
      "    2.5e-65  221.3  39.0    1.4e-22   84.3   5.7    3.1  3  sp|O54819|TFPI1_MOUSE      Tissue factor pathway inhibitor OS\n"
     ]
    },
    {
     "name": "stderr",
     "output_type": "stream",
     "text": [
      "Provided cores: 1\n",
      "Rules claiming more threads will be scaled down.\n",
      "Job counts:\n",
      "\tcount\tjobs\n",
      "\t1\thmm_db_search\n",
      "\t1\n",
      "\n",
      "rule hmm_db_search:\n",
      "    input: swissprot.fasta.gz\n",
      "    output: chosen_blastclust_seq_for_intersec_rcsbpdb_wt_PF00014_len50_90_and_pdbefold_5pti_A_summary_S99_L0.95.pdbefold_vs_swissprot.search_out.gz\n",
      "    jobid: 0\n",
      "    wildcards: model=chosen_blastclust_seq_for_intersec_rcsbpdb_wt_PF00014_len50_90_and_pdbefold_5pti_A_summary_S99_L0.95.pdbefold, db=swissprot\n",
      "\n",
      "hmmsearch chosen_blastclust_seq_for_intersec_rcsbpdb_wt_PF00014_len50_90_and_pdbefold_5pti_A_summary_S99_L0.95.pdbefold.hmm <(zcat swissprot.fasta.gz) | gzip > chosen_blastclust_seq_for_intersec_rcsbpdb_wt_PF00014_len50_90_and_pdbefold_5pti_A_summary_S99_L0.95.pdbefold_vs_swissprot.search_out.gz\n",
      "Finished job 0.\n",
      "1 of 1 steps (100%) done\n"
     ]
    }
   ],
   "source": [
    "%%bash\n",
    "cd ../dataset/\n",
    "pwd\n",
    "snakemake -p chosen_blastclust_seq_for_intersec_rcsbpdb_wt_PF00014_len50_90_and_pdbefold_5pti_A_summary_S99_L0.95.pdbefold_vs_swissprot.search_out.gz\n",
    "zcat chosen_blastclust_seq_for_intersec_rcsbpdb_wt_PF00014_len50_90_and_pdbefold_5pti_A_summary_S99_L0.95.pdbefold_vs_swissprot.search_out.gz | head -20"
   ]
  },
  {
   "cell_type": "markdown",
   "metadata": {},
   "source": [
    "## Parse the hmmsearch results\n",
    "Keep the identifier and one of the e-value (test different values and their meaning in order to maximize the classificator performance)\n",
    "\n",
    "### Notes of e-value operative interpretation\n",
    "e-val is a function of the dataset size; if you hmmsearch a dataset that is made but only 1 sequence: you obtain an e-value that is x times higher than what you get in a database of x sequences --> due to Bonferroni Correction\n",
    "\n",
    "If you divide for the size of the datasets, you should be able to compare two searches"
   ]
  },
  {
   "cell_type": "markdown",
   "metadata": {},
   "source": [
    "## Classification of negatives\n",
    "You need to pass option not to neglet the non-hits: --max\n",
    "\n",
    "--max    : Turn all heuristic filters off (less speed, more power) \n",
    "\n",
    "or\n",
    "\n",
    "to scale the threshold, remove the e-value cutoff:\n",
    "\n",
    "--domE <x> : report domains <= this E-value threshold in output  [10.0]  (x>0)\n",
    "    \n",
    "(domE works for the domain e-value, there is also an option for the full sequence)\n",
    "\n",
    "**If you don't want the alignment: hmmsearch --noali**"
   ]
  },
  {
   "cell_type": "markdown",
   "metadata": {},
   "source": [
    "## Assessment of the performance\n",
    "* Correction of e-value\n",
    "* parse to have\n",
    "    * id\n",
    "    * score\n",
    "    * class (positive: 1; negative: 0)\n",
    "* feed the python script for computing the confusion_matrix with the info in point 2\n",
    "\n",
    "**For the report**: \n",
    "* TODO put some equations showing some assessment scores from the confusion matrix\n",
    "* TODO use also tcoffee for structure-based MSA and compare the HMMs\n",
    "* TODO automatize the threshold optimization (maybe with scikit-learn)\n",
    "* TODO plot ROC and compute the area under ROC"
   ]
  }
 ],
 "metadata": {
  "kernelspec": {
   "display_name": "Python 3",
   "language": "python",
   "name": "python3"
  },
  "language_info": {
   "codemirror_mode": {
    "name": "ipython",
    "version": 3
   },
   "file_extension": ".py",
   "mimetype": "text/x-python",
   "name": "python",
   "nbconvert_exporter": "python",
   "pygments_lexer": "ipython3",
   "version": "3.6.2"
  }
 },
 "nbformat": 4,
 "nbformat_minor": 2
}
