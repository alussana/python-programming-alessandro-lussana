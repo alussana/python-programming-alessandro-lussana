{
 "cells": [
  {
   "cell_type": "markdown",
   "metadata": {},
   "source": [
    "# Project Intro\n",
    "## Exercise"
   ]
  },
  {
   "cell_type": "markdown",
   "metadata": {},
   "source": [
    "Build a blast-based method to predict the presence of BPTI/Kunitz domain in proteins available in SwissProt using the human proteins as a reference.\n",
    "* Select all Proteins in SwissProt with BPTI/Kunitz domain\n",
    "* Separate human from non human proteins. Use the non human proteins as a positive in the testing set.\n",
    "* Generate a random set of negative of the same size of the positive set.\n",
    "* Remove both positives and negatives from SwissProt and perform the prediction based on the results of the blast search."
   ]
  },
  {
   "cell_type": "markdown",
   "metadata": {},
   "source": [
    "I downloaded from UniProt the following:\n",
    "* **sprot_pf00014_global_id.txt**: identifiers in SwissProt for proteins with BPTI/Kunitz domain\n",
    "* **prot_pf00014_human_id.txt**: identifiers in SwissProt for human proteins with BPTI/Kunitz domain\n",
    "* **sprot_pf00014_non_human_id**: identifiers in SwissProt for non-human proteins with BPTI/Kunitz domain\n",
    "* **sprot_non_pf00014_global_id.txt**: identifiers in SwissProt for proteins without BPTI/Kunitz domain\n",
    "* **swissprot.fasta.gz**: the whole UniProt/Swiss-Prot database in fasta format"
   ]
  },
  {
   "cell_type": "code",
   "execution_count": 1,
   "metadata": {},
   "outputs": [
    {
     "name": "stdout",
     "output_type": "stream",
     "text": [
      "/home/alessandro/Unibo/python-programming-alessandro-lussana/LB1/prj/dataset\n",
      "total 112M\n",
      "-rw-rw-r-- 1 alessandro alessandro 112M apr  1 14:48 swissprot.fasta.gz\n",
      "lrwxrwxrwx 1 alessandro alessandro   23 apr  1 16:44 Snakefile -> ../snakefiles/Snakefile\n",
      "lrwxrwxrwx 1 alessandro alessandro   43 apr  1 16:46 sprot_non_pf00014_global_id.txt -> ../handmade/sprot_non_pf00014_global_id.txt\n",
      "lrwxrwxrwx 1 alessandro alessandro   39 apr  1 16:46 sprot_pf00014_global_id.txt -> ../handmade/sprot_pf00014_global_id.txt\n",
      "lrwxrwxrwx 1 alessandro alessandro   38 apr  1 16:46 sprot_pf00014_human_id.txt -> ../handmade/sprot_pf00014_human_id.txt\n",
      "lrwxrwxrwx 1 alessandro alessandro   42 apr  1 16:47 sprot_pf00014_non_human_id.txt -> ../handmade/sprot_pf00014_non_human_id.txt\n"
     ]
    }
   ],
   "source": [
    "%%bash\n",
    "cd ../dataset/\n",
    "pwd\n",
    "ls -lhtr"
   ]
  },
  {
   "cell_type": "markdown",
   "metadata": {},
   "source": [
    "I extracted the sequences in fasta format from **swissprot.fasta.gz** using the following filters (one extraction for each filter):\n",
    "* sprot_pf00014_global_id.txt\n",
    "* sprot_pf00014_human_id.txt\n",
    "* sprot_pf00014_non_human_id.txt"
   ]
  },
  {
   "cell_type": "code",
   "execution_count": 2,
   "metadata": {},
   "outputs": [
    {
     "name": "stdout",
     "output_type": "stream",
     "text": [
      "/home/alessandro/Unibo/python-programming-alessandro-lussana/LB1/prj/dataset\n",
      "total 112M\n",
      "-rw-rw-r-- 1 alessandro alessandro 112M apr  1 14:48 swissprot.fasta.gz\n",
      "lrwxrwxrwx 1 alessandro alessandro   23 apr  1 16:44 Snakefile -> ../snakefiles/Snakefile\n",
      "lrwxrwxrwx 1 alessandro alessandro   43 apr  1 16:46 sprot_non_pf00014_global_id.txt -> ../handmade/sprot_non_pf00014_global_id.txt\n",
      "lrwxrwxrwx 1 alessandro alessandro   39 apr  1 16:46 sprot_pf00014_global_id.txt -> ../handmade/sprot_pf00014_global_id.txt\n",
      "lrwxrwxrwx 1 alessandro alessandro   38 apr  1 16:46 sprot_pf00014_human_id.txt -> ../handmade/sprot_pf00014_human_id.txt\n",
      "lrwxrwxrwx 1 alessandro alessandro   42 apr  1 16:47 sprot_pf00014_non_human_id.txt -> ../handmade/sprot_pf00014_non_human_id.txt\n",
      "-rw-r--r-- 1 alessandro alessandro  37K apr  1 17:19 sprot_pf00014_global_id_filter_on_swissprot.fasta.gz\n",
      "-rw-r--r-- 1 alessandro alessandro 8,4K apr  1 17:19 sprot_pf00014_human_id_filter_on_swissprot.fasta.gz\n",
      "-rw-r--r-- 1 alessandro alessandro  32K apr  1 17:19 sprot_pf00014_non_human_id_filter_on_swissprot.fasta.gz\n"
     ]
    },
    {
     "name": "stderr",
     "output_type": "stream",
     "text": [
      "Provided cores: 1\n",
      "Rules claiming more threads will be scaled down.\n",
      "Job counts:\n",
      "\tcount\tjobs\n",
      "\t1\tfilterfasta\n",
      "\t1\n",
      "\n",
      "rule filterfasta:\n",
      "    input: swissprot.fasta.gz, sprot_pf00014_global_id.txt\n",
      "    output: sprot_pf00014_global_id_filter_on_swissprot.fasta.gz\n",
      "    jobid: 0\n",
      "    wildcards: filter=sprot_pf00014_global_id, db=swissprot\n",
      "\n",
      "python ../src/fastafilter.py swissprot.fasta.gz sprot_pf00014_global_id.txt | gzip > sprot_pf00014_global_id_filter_on_swissprot.fasta.gz\n",
      "Finished job 0.\n",
      "1 of 1 steps (100%) done\n",
      "Provided cores: 1\n",
      "Rules claiming more threads will be scaled down.\n",
      "Job counts:\n",
      "\tcount\tjobs\n",
      "\t1\tfilterfasta\n",
      "\t1\n",
      "\n",
      "rule filterfasta:\n",
      "    input: swissprot.fasta.gz, sprot_pf00014_human_id.txt\n",
      "    output: sprot_pf00014_human_id_filter_on_swissprot.fasta.gz\n",
      "    jobid: 0\n",
      "    wildcards: filter=sprot_pf00014_human_id, db=swissprot\n",
      "\n",
      "python ../src/fastafilter.py swissprot.fasta.gz sprot_pf00014_human_id.txt | gzip > sprot_pf00014_human_id_filter_on_swissprot.fasta.gz\n",
      "Finished job 0.\n",
      "1 of 1 steps (100%) done\n",
      "Provided cores: 1\n",
      "Rules claiming more threads will be scaled down.\n",
      "Job counts:\n",
      "\tcount\tjobs\n",
      "\t1\tfilterfasta\n",
      "\t1\n",
      "\n",
      "rule filterfasta:\n",
      "    input: swissprot.fasta.gz, sprot_pf00014_non_human_id.txt\n",
      "    output: sprot_pf00014_non_human_id_filter_on_swissprot.fasta.gz\n",
      "    jobid: 0\n",
      "    wildcards: filter=sprot_pf00014_non_human_id, db=swissprot\n",
      "\n",
      "python ../src/fastafilter.py swissprot.fasta.gz sprot_pf00014_non_human_id.txt | gzip > sprot_pf00014_non_human_id_filter_on_swissprot.fasta.gz\n",
      "Finished job 0.\n",
      "1 of 1 steps (100%) done\n"
     ]
    }
   ],
   "source": [
    "%%bash\n",
    "cd ../dataset/\n",
    "pwd\n",
    "snakemake -p sprot_pf00014_global_id_filter_on_swissprot.fasta.gz\n",
    "snakemake -p sprot_pf00014_human_id_filter_on_swissprot.fasta.gz\n",
    "snakemake -p sprot_pf00014_non_human_id_filter_on_swissprot.fasta.gz\n",
    "ls -lhtr"
   ]
  },
  {
   "cell_type": "markdown",
   "metadata": {},
   "source": [
    "The positive set is made by the human sequences. There are 18 of them. The total number of sequences is 358. "
   ]
  },
  {
   "cell_type": "code",
   "execution_count": 3,
   "metadata": {},
   "outputs": [
    {
     "name": "stdout",
     "output_type": "stream",
     "text": [
      "/home/alessandro/Unibo/python-programming-alessandro-lussana/LB1/prj/dataset\n",
      "18 sprot_pf00014_human_id.txt\n",
      "358 sprot_pf00014_global_id.txt\n",
      "340 sprot_pf00014_non_human_id.txt\n"
     ]
    }
   ],
   "source": [
    "%%bash\n",
    "cd ../dataset/\n",
    "pwd\n",
    "wc -l sprot_pf00014_human_id.txt\n",
    "wc -l sprot_pf00014_global_id.txt\n",
    "wc -l sprot_pf00014_non_human_id.txt"
   ]
  },
  {
   "cell_type": "markdown",
   "metadata": {},
   "source": [
    "Check for consistency in the number of sequences: OK"
   ]
  },
  {
   "cell_type": "code",
   "execution_count": 4,
   "metadata": {},
   "outputs": [
    {
     "name": "stdout",
     "output_type": "stream",
     "text": [
      "/home/alessandro/Unibo/python-programming-alessandro-lussana/LB1/prj/dataset\n",
      "358\n",
      "18\n",
      "340\n"
     ]
    }
   ],
   "source": [
    "%%bash\n",
    "cd ../dataset/\n",
    "pwd\n",
    "zcat sprot_pf00014_global_id_filter_on_swissprot.fasta.gz | grep -c '>'\n",
    "zcat sprot_pf00014_human_id_filter_on_swissprot.fasta.gz | grep -c '>'\n",
    "zcat sprot_pf00014_non_human_id_filter_on_swissprot.fasta.gz | grep -c '>'"
   ]
  },
  {
   "cell_type": "markdown",
   "metadata": {},
   "source": [
    "Database search using human sequences as seed database:\n",
    "* sample 500 random identifiers from non-kunitz sequences\n",
    "* extract fasta of the previous set\n",
    "* index the databases\n",
    "* search for homology with blast"
   ]
  },
  {
   "cell_type": "code",
   "execution_count": 5,
   "metadata": {},
   "outputs": [
    {
     "name": "stdout",
     "output_type": "stream",
     "text": [
      "/home/alessandro/Unibo/python-programming-alessandro-lussana/LB1/prj/dataset\n",
      "\n",
      "\n",
      "Building a new DB, current time: 04/01/2019 17:19:51\n",
      "New DB name:   /home/alessandro/Unibo/python-programming-alessandro-lussana/LB1/prj/dataset/sprot_pf00014_non_human_id_filter_on_swissprot.fasta\n",
      "New DB title:  sprot_pf00014_non_human_id_filter_on_swissprot.fasta\n",
      "Sequence type: Protein\n",
      "Keep MBits: T\n",
      "Maximum file size: 1000000000B\n",
      "Adding sequences from FASTA; added 340 sequences in 0.00729704 seconds.\n",
      "\n",
      "\n",
      "Building a new DB, current time: 04/01/2019 17:19:52\n",
      "New DB name:   /home/alessandro/Unibo/python-programming-alessandro-lussana/LB1/prj/dataset/sprot_non_pf00014_global_id_sampled500_filter_on_swissprot.fasta\n",
      "New DB title:  sprot_non_pf00014_global_id_sampled500_filter_on_swissprot.fasta\n",
      "Sequence type: Protein\n",
      "Keep MBits: T\n",
      "Maximum file size: 1000000000B\n",
      "Adding sequences from FASTA; added 500 sequences in 0.018121 seconds.\n",
      "\n",
      "\n",
      "Building a new DB, current time: 04/01/2019 17:19:52\n",
      "New DB name:   /home/alessandro/Unibo/python-programming-alessandro-lussana/LB1/prj/dataset/sprot_pf00014_human_id_filter_on_swissprot.fasta\n",
      "New DB title:  sprot_pf00014_human_id_filter_on_swissprot.fasta\n",
      "Sequence type: Protein\n",
      "Keep MBits: T\n",
      "Maximum file size: 1000000000B\n",
      "Adding sequences from FASTA; added 18 sequences in 0.000830889 seconds.\n"
     ]
    },
    {
     "name": "stderr",
     "output_type": "stream",
     "text": [
      "Provided cores: 1\n",
      "Rules claiming more threads will be scaled down.\n",
      "Job counts:\n",
      "\tcount\tjobs\n",
      "\t1\trandom_sampling\n",
      "\t1\n",
      "\n",
      "rule random_sampling:\n",
      "    input: sprot_non_pf00014_global_id.txt\n",
      "    output: sprot_non_pf00014_global_id_sampled500.txt\n",
      "    jobid: 0\n",
      "    wildcards: list=sprot_non_pf00014_global_id, N=500\n",
      "\n",
      "cat sprot_non_pf00014_global_id.txt | sort -R | sed -n '1,500p' > sprot_non_pf00014_global_id_sampled500.txt\n",
      "Finished job 0.\n",
      "1 of 1 steps (100%) done\n",
      "Provided cores: 1\n",
      "Rules claiming more threads will be scaled down.\n",
      "Job counts:\n",
      "\tcount\tjobs\n",
      "\t1\tfilterfasta\n",
      "\t1\n",
      "\n",
      "rule filterfasta:\n",
      "    input: swissprot.fasta.gz, sprot_non_pf00014_global_id_sampled500.txt\n",
      "    output: sprot_non_pf00014_global_id_sampled500_filter_on_swissprot.fasta.gz\n",
      "    jobid: 0\n",
      "    wildcards: filter=sprot_non_pf00014_global_id_sampled500, db=swissprot\n",
      "\n",
      "python ../src/fastafilter.py swissprot.fasta.gz sprot_non_pf00014_global_id_sampled500.txt | gzip > sprot_non_pf00014_global_id_sampled500_filter_on_swissprot.fasta.gz\n",
      "Finished job 0.\n",
      "1 of 1 steps (100%) done\n",
      "Provided cores: 1\n",
      "Rules claiming more threads will be scaled down.\n",
      "Job counts:\n",
      "\tcount\tjobs\n",
      "\t1\tindex_protein_database\n",
      "\t1\n",
      "\n",
      "rule index_protein_database:\n",
      "    input: sprot_pf00014_non_human_id_filter_on_swissprot.fasta.gz\n",
      "    output: sprot_pf00014_non_human_id_filter_on_swissprot.fasta.phr\n",
      "    jobid: 0\n",
      "    wildcards: db=sprot_pf00014_non_human_id_filter_on_swissprot\n",
      "\n",
      "zcat sprot_pf00014_non_human_id_filter_on_swissprot.fasta.gz > sprot_pf00014_non_human_id_filter_on_swissprot.fasta; formatdb -i sprot_pf00014_non_human_id_filter_on_swissprot.fasta -p T\n",
      "Finished job 0.\n",
      "1 of 1 steps (100%) done\n",
      "Provided cores: 1\n",
      "Rules claiming more threads will be scaled down.\n",
      "Job counts:\n",
      "\tcount\tjobs\n",
      "\t1\tindex_protein_database\n",
      "\t1\n",
      "\n",
      "rule index_protein_database:\n",
      "    input: sprot_non_pf00014_global_id_sampled500_filter_on_swissprot.fasta.gz\n",
      "    output: sprot_non_pf00014_global_id_sampled500_filter_on_swissprot.fasta.phr\n",
      "    jobid: 0\n",
      "    wildcards: db=sprot_non_pf00014_global_id_sampled500_filter_on_swissprot\n",
      "\n",
      "zcat sprot_non_pf00014_global_id_sampled500_filter_on_swissprot.fasta.gz > sprot_non_pf00014_global_id_sampled500_filter_on_swissprot.fasta; formatdb -i sprot_non_pf00014_global_id_sampled500_filter_on_swissprot.fasta -p T\n",
      "Finished job 0.\n",
      "1 of 1 steps (100%) done\n",
      "Provided cores: 1\n",
      "Rules claiming more threads will be scaled down.\n",
      "Job counts:\n",
      "\tcount\tjobs\n",
      "\t1\tindex_protein_database\n",
      "\t1\n",
      "\n",
      "rule index_protein_database:\n",
      "    input: sprot_pf00014_human_id_filter_on_swissprot.fasta.gz\n",
      "    output: sprot_pf00014_human_id_filter_on_swissprot.fasta.phr\n",
      "    jobid: 0\n",
      "    wildcards: db=sprot_pf00014_human_id_filter_on_swissprot\n",
      "\n",
      "zcat sprot_pf00014_human_id_filter_on_swissprot.fasta.gz > sprot_pf00014_human_id_filter_on_swissprot.fasta; formatdb -i sprot_pf00014_human_id_filter_on_swissprot.fasta -p T\n",
      "Finished job 0.\n",
      "1 of 1 steps (100%) done\n"
     ]
    }
   ],
   "source": [
    "%%bash\n",
    "cd ../dataset/\n",
    "pwd\n",
    "snakemake -p sprot_non_pf00014_global_id_sampled500.txt\n",
    "snakemake -p sprot_non_pf00014_global_id_sampled500_filter_on_swissprot.fasta.gz\n",
    "snakemake -p sprot_pf00014_non_human_id_filter_on_swissprot.fasta.phr\n",
    "snakemake -p sprot_non_pf00014_global_id_sampled500_filter_on_swissprot.fasta.phr\n",
    "snakemake -p sprot_pf00014_human_id_filter_on_swissprot.fasta.phr"
   ]
  },
  {
   "cell_type": "markdown",
   "metadata": {},
   "source": [
    "In the previous step databases were created and indexed. Blast searches have to be performed:\n",
    "* human kunitz vs non-human kunits: to observe positive examples\n",
    "* human kunitz vs random non-kunits: to observe negative examples  \n",
    "\n",
    "Take into account the e-values and set a threshold to optimize the classification"
   ]
  },
  {
   "cell_type": "code",
   "execution_count": 6,
   "metadata": {},
   "outputs": [
    {
     "name": "stdout",
     "output_type": "stream",
     "text": [
      "/home/alessandro/Unibo/python-programming-alessandro-lussana/LB1/prj/dataset\n"
     ]
    },
    {
     "name": "stderr",
     "output_type": "stream",
     "text": [
      "Provided cores: 1\n",
      "Rules claiming more threads will be scaled down.\n",
      "Job counts:\n",
      "\tcount\tjobs\n",
      "\t1\tblast_run\n",
      "\t1\n",
      "\n",
      "rule blast_run:\n",
      "    input: sprot_pf00014_non_human_id_filter_on_swissprot.fasta, sprot_pf00014_human_id_filter_on_swissprot.fasta, sprot_pf00014_non_human_id_filter_on_swissprot.fasta.phr\n",
      "    output: sprot_pf00014_human_id_filter_on_swissprot_vs_sprot_pf00014_non_human_id_filter_on_swissprot_blast_run.gz\n",
      "    jobid: 0\n",
      "    wildcards: query=sprot_pf00014_human_id_filter_on_swissprot, database=sprot_pf00014_non_human_id_filter_on_swissprot\n",
      "\n",
      "blastpgp -i sprot_pf00014_human_id_filter_on_swissprot.fasta -d sprot_pf00014_non_human_id_filter_on_swissprot.fasta -e 1000 -m 8 | gzip > sprot_pf00014_human_id_filter_on_swissprot_vs_sprot_pf00014_non_human_id_filter_on_swissprot_blast_run.gz\n",
      "Finished job 0.\n",
      "1 of 1 steps (100%) done\n",
      "Provided cores: 1\n",
      "Rules claiming more threads will be scaled down.\n",
      "Job counts:\n",
      "\tcount\tjobs\n",
      "\t1\tblast_run\n",
      "\t1\n",
      "\n",
      "rule blast_run:\n",
      "    input: sprot_non_pf00014_global_id_sampled500_filter_on_swissprot.fasta, sprot_pf00014_human_id_filter_on_swissprot.fasta, sprot_non_pf00014_global_id_sampled500_filter_on_swissprot.fasta.phr\n",
      "    output: sprot_pf00014_human_id_filter_on_swissprot_vs_sprot_non_pf00014_global_id_sampled500_filter_on_swissprot_blast_run.gz\n",
      "    jobid: 0\n",
      "    wildcards: query=sprot_pf00014_human_id_filter_on_swissprot, database=sprot_non_pf00014_global_id_sampled500_filter_on_swissprot\n",
      "\n",
      "blastpgp -i sprot_pf00014_human_id_filter_on_swissprot.fasta -d sprot_non_pf00014_global_id_sampled500_filter_on_swissprot.fasta -e 1000 -m 8 | gzip > sprot_pf00014_human_id_filter_on_swissprot_vs_sprot_non_pf00014_global_id_sampled500_filter_on_swissprot_blast_run.gz\n",
      "Finished job 0.\n",
      "1 of 1 steps (100%) done\n"
     ]
    }
   ],
   "source": [
    "%%bash\n",
    "cd ../dataset/\n",
    "pwd\n",
    "snakemake -p sprot_pf00014_human_id_filter_on_swissprot_vs_sprot_pf00014_non_human_id_filter_on_swissprot_blast_run.gz\n",
    "snakemake -p sprot_pf00014_human_id_filter_on_swissprot_vs_sprot_non_pf00014_global_id_sampled500_filter_on_swissprot_blast_run.gz"
   ]
  },
  {
   "cell_type": "markdown",
   "metadata": {},
   "source": [
    "Maximize the classification performance to compute the confusion matrix; calculate:\n",
    "* accuracy\n",
    "* [...] coefficient"
   ]
  }
 ],
 "metadata": {
  "kernelspec": {
   "display_name": "Python 3",
   "language": "python",
   "name": "python3"
  },
  "language_info": {
   "codemirror_mode": {
    "name": "ipython",
    "version": 3
   },
   "file_extension": ".py",
   "mimetype": "text/x-python",
   "name": "python",
   "nbconvert_exporter": "python",
   "pygments_lexer": "ipython3",
   "version": "3.6.2"
  }
 },
 "nbformat": 4,
 "nbformat_minor": 2
}
