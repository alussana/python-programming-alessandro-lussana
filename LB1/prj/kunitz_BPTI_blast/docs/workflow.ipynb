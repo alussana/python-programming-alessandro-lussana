{
 "cells": [
  {
   "cell_type": "markdown",
   "metadata": {},
   "source": [
    "# Blast-based BPTI_Kunitz/non-BPTI_Kunitz classifier"
   ]
  },
  {
   "cell_type": "markdown",
   "metadata": {},
   "source": [
    "This doc lives in:"
   ]
  },
  {
   "cell_type": "code",
   "execution_count": 1,
   "metadata": {},
   "outputs": [
    {
     "name": "stdout",
     "output_type": "stream",
     "text": [
      "/home/alessandro/Unibo/python-programming-alessandro-lussana/LB1/prj/kunitz_BPTI_blast/docs\n"
     ]
    }
   ],
   "source": [
    "%%bash\n",
    "pwd"
   ]
  },
  {
   "cell_type": "markdown",
   "metadata": {},
   "source": [
    "## Handmade files"
   ]
  },
  {
   "cell_type": "markdown",
   "metadata": {},
   "source": [
    "### Lists of UniProt identifiers"
   ]
  },
  {
   "cell_type": "code",
   "execution_count": 7,
   "metadata": {},
   "outputs": [
    {
     "name": "stdout",
     "output_type": "stream",
     "text": [
      "/home/alessandro/Unibo/python-programming-alessandro-lussana/LB1/prj/kunitz_BPTI_blast/dataset\n",
      "lrwxrwxrwx    43 alessandro  2 mag 10:08  sprot_non_pf00014_global_id.txt -> ../handmade/sprot_non_pf00014_global_id.txt\n",
      "lrwxrwxrwx    39 alessandro  2 mag 10:08  sprot_pf00014_global_id.txt -> ../handmade/sprot_pf00014_global_id.txt\n",
      "lrwxrwxrwx    38 alessandro  2 mag 10:08  sprot_pf00014_human_id.txt -> ../handmade/sprot_pf00014_human_id.txt\n",
      "lrwxrwxrwx    42 alessandro  2 mag 14:45  sprot_pf00014_non_human_id.txt -> ../handmade/sprot_pf00014_non_human_id.txt\n",
      "\n",
      "\n",
      " 558870 sprot_non_pf00014_global_id.txt\n",
      "    358 sprot_pf00014_global_id.txt\n",
      "     18 sprot_pf00014_human_id.txt\n",
      "    340 sprot_pf00014_non_human_id.txt\n",
      " 559586 total\n",
      "\n",
      "\n",
      "==> sprot_non_pf00014_global_id.txt <==\n",
      "Q00604\n",
      "Q62433\n",
      "Q6NPS8\n",
      "P13738\n",
      "P01179\n",
      "\n",
      "==> sprot_pf00014_global_id.txt <==\n",
      "O76840\n",
      "Q868Z9\n",
      "O43278\n",
      "O43291\n",
      "P00981\n",
      "\n",
      "==> sprot_pf00014_human_id.txt <==\n",
      "O43278\n",
      "O43291\n",
      "P12111\n",
      "Q02388\n",
      "P10646\n",
      "\n",
      "==> sprot_pf00014_non_human_id.txt <==\n",
      "O76840\n",
      "Q868Z9\n",
      "P00981\n",
      "Q7TQN3\n",
      "P00982\n"
     ]
    }
   ],
   "source": [
    "%%bash\n",
    "cd ../dataset/\n",
    "pwd\n",
    "exa -lha | grep \"\\->.*txt$\"; echo -e \"\\n\"; wc -l $(exa -lha | grep \"\\->.*txt$\" | awk '{print $7}'); echo -e \"\\n\"\n",
    "head -n 5 $(exa -lha | grep \"\\->.*txt$\" | awk '{print $7}')"
   ]
  },
  {
   "cell_type": "markdown",
   "metadata": {},
   "source": [
    "### UniProt/SwissProt database in fasta format"
   ]
  },
  {
   "cell_type": "code",
   "execution_count": 9,
   "metadata": {},
   "outputs": [
    {
     "name": "stdout",
     "output_type": "stream",
     "text": [
      "/home/alessandro/Unibo/python-programming-alessandro-lussana/LB1/prj/kunitz_BPTI_blast/dataset\n",
      "\n",
      "\n",
      "Permissions Size User       Date Modified Name\n",
      "lrwxrwxrwx    48 alessandro  2 mag 10:08  swissprot.fasta.gz -> ../../kunitz_BPTI_hmm/dataset/swissProt.fasta.gz\n",
      "\n",
      "\n",
      "4191506\n",
      "559634\n",
      "\n",
      "\n",
      ">sp|Q4R5L1|AATC_MACFA Aspartate aminotransferase, cytoplasmic OS=Macaca fascicularis OX=9541 GN=GOT1 PE=2 SV=1\n",
      "MAPPSVFSEVPQAQPVLVFKLTADFREDPDPRKVNLGVGAYRTDDCHPWVLPVVKKVEQK\n",
      "IANDNSLNHEYLPILGLAEFRSCASRLALGDDSPALKEKRVGGVQSLGGTGALRIGADFL\n",
      "ARWYNGTNNKNTPVYVSSPTWENHNAVFSAAGFKDIRSYRYWDAEKRGLDLQGFLNDLEN\n",
      "APEFSIIVLHACAHNPTGTDPTPEQWKQIASVMKHRFLFPFFDSAYQGFASGNLERDAWA\n"
     ]
    }
   ],
   "source": [
    "%%bash\n",
    "cd ../dataset/\n",
    "pwd; echo -e \"\\n\"\n",
    "exa -lah swissprot.fasta.gz; echo -e \"\\n\"\n",
    "zcat swissprot.fasta.gz | wc -l\n",
    "zcat swissprot.fasta.gz | fgrep '>' | wc -l; echo -e \"\\n\"\n",
    "zcat swissprot.fasta.gz | head -n 5"
   ]
  },
  {
   "cell_type": "markdown",
   "metadata": {},
   "source": [
    "### Total number of sequence identifiers correspondence check"
   ]
  },
  {
   "cell_type": "markdown",
   "metadata": {},
   "source": [
    "SwissProt database (swissprot.fasta.gz) contains 406 additional sequences with respect to the union of kunitz (sprot_pf00014_global_id.txt) and non-kunitz (sprot_non_pf00014_global_id.txt) identifiers:"
   ]
  },
  {
   "cell_type": "code",
   "execution_count": 10,
   "metadata": {},
   "outputs": [
    {
     "name": "stdout",
     "output_type": "stream",
     "text": [
      "/home/alessandro/Unibo/python-programming-alessandro-lussana/LB1/prj/kunitz_BPTI_blast/dataset\n",
      "\n",
      "\n",
      "-406\n"
     ]
    }
   ],
   "source": [
    "%%bash\n",
    "cd ../dataset/\n",
    "pwd; echo -e \"\\n\"\n",
    "echo '558870+358-559634' | bc"
   ]
  },
  {
   "cell_type": "markdown",
   "metadata": {},
   "source": [
    "This may be due to the more recent time in which swissprot.fasta.gz has been created"
   ]
  },
  {
   "cell_type": "markdown",
   "metadata": {},
   "source": [
    "## Create and index the databases\n",
    "All sequences databases are in FASTA format"
   ]
  },
  {
   "cell_type": "markdown",
   "metadata": {},
   "source": [
    "### Seed set (BTPI/Kunits AND Human)"
   ]
  },
  {
   "cell_type": "code",
   "execution_count": 30,
   "metadata": {},
   "outputs": [
    {
     "name": "stdout",
     "output_type": "stream",
     "text": [
      "/home/alessandro/Unibo/python-programming-alessandro-lussana/LB1/prj/kunitz_BPTI_blast/dataset\n",
      "\n",
      "\n",
      "253\n",
      "\n",
      "\n",
      ">sp|Q06481|APLP2_HUMAN Amyloid-like protein 2 OS=Homo sapiens OX=9606 GN=APLP2 PE=1 SV=2\n",
      "MAATGTAAAAATGRLLLLLLVGLTAPALALAGYIEALAANAGTGFAVAEPQIAMFCGKLN\n",
      "MHVNIQTGKWEPDPTGTKSCFETKEEVLQYCQEMYPELQITNVMEANQRVSIDNWCRRDK\n",
      "KQCKSRFVTPFKCLVGEFVSDVLLVPEKCQFFHKERMEVCENHQHWHTVVKEACLTQGMT\n",
      "LYSYGMLLPCGVDQFHGTEYVCCPQTKIIGSVSKEEEEEDEEEEEEEDEEEDYDVYKSEF\n",
      "PTEADLEDFTEAAVDEDDEDEEEGEEVVEDRDYYYDTFKGDDYNEENPTEPGSDGTMSDK\n",
      "\n",
      "\n",
      "\n",
      "\n",
      "Building a new DB, current time: 05/02/2019 23:43:35\n",
      "New DB name:   /home/alessandro/Unibo/python-programming-alessandro-lussana/LB1/prj/kunitz_BPTI_blast/dataset/sprot_pf00014_human_id_filter_on_swissprot.fasta\n",
      "New DB title:  sprot_pf00014_human_id_filter_on_swissprot.fasta\n",
      "Sequence type: Protein\n",
      "Keep MBits: T\n",
      "Maximum file size: 1000000000B\n",
      "Adding sequences from FASTA; added 18 sequences in 0.000863075 seconds.\n"
     ]
    },
    {
     "name": "stderr",
     "output_type": "stream",
     "text": [
      "Nothing to be done.\n",
      "Provided cores: 1\n",
      "Rules claiming more threads will be scaled down.\n",
      "Job counts:\n",
      "\tcount\tjobs\n",
      "\t1\tindex_protein_database\n",
      "\t1\n",
      "\n",
      "rule index_protein_database:\n",
      "    input: sprot_pf00014_human_id_filter_on_swissprot.fasta.gz\n",
      "    output: sprot_pf00014_human_id_filter_on_swissprot.fasta.phr\n",
      "    jobid: 0\n",
      "    wildcards: db=sprot_pf00014_human_id_filter_on_swissprot\n",
      "\n",
      "zcat sprot_pf00014_human_id_filter_on_swissprot.fasta.gz > sprot_pf00014_human_id_filter_on_swissprot.fasta; makeblastdb -in sprot_pf00014_human_id_filter_on_swissprot.fasta -out sprot_pf00014_human_id_filter_on_swissprot.fasta -dbtype prot\n",
      "Finished job 0.\n",
      "1 of 1 steps (100%) done\n"
     ]
    }
   ],
   "source": [
    "%%bash\n",
    "cd ../dataset/\n",
    "pwd; echo -e \"\\n\"\n",
    "snakemake -p sprot_pf00014_human_id_filter_on_swissprot.fasta.gz\n",
    "zcat sprot_pf00014_human_id_filter_on_swissprot.fasta.gz | wc -l; echo -e \"\\n\"\n",
    "zcat sprot_pf00014_human_id_filter_on_swissprot.fasta.gz | head -n 6; echo -e \"\\n\"\n",
    "snakemake -p sprot_pf00014_human_id_filter_on_swissprot.fasta.phr"
   ]
  },
  {
   "cell_type": "markdown",
   "metadata": {},
   "source": [
    "### Positive set (BPTI/Kunitz NOT Human)"
   ]
  },
  {
   "cell_type": "code",
   "execution_count": 31,
   "metadata": {},
   "outputs": [
    {
     "name": "stdout",
     "output_type": "stream",
     "text": [
      "/home/alessandro/Unibo/python-programming-alessandro-lussana/LB1/prj/kunitz_BPTI_blast/dataset\n",
      "\n",
      "\n",
      "1475\n",
      "\n",
      "\n",
      ">sp|Q95241|A4_SAISC Amyloid-beta A4 protein OS=Saimiri sciureus OX=9521 GN=APP PE=2 SV=1\n",
      "MLPGLALLLLAAWTARALEVPTDGNAGLLAEPQIAMFCGRLNMHMNVQNGKWDSDPSGTK\n",
      "TCIDTKEGILQYCQEVYPELQITNVVEANQPVTIQNWCKRDRKQCKTHPHIVIPYRCLVG\n",
      "EFVSDALLVPDKCKFLHQERMDVCETHLHWHTVAKETCSEKSTNLHDYGMLLPCGIDKFR\n",
      "GVEFVCCPLAEESDHVDSADAEEDDSDVWWGGADTDYADGSEDKVVEVAEEEEVAEVEEE\n",
      "EADDDEDDEDGDEVEEEAEEPYEEATERTTSIATTTTTTTESVEEVVREVCSEQAETGPC\n",
      "\n",
      "\n",
      "\n",
      "\n",
      "Building a new DB, current time: 05/02/2019 23:43:40\n",
      "New DB name:   /home/alessandro/Unibo/python-programming-alessandro-lussana/LB1/prj/kunitz_BPTI_blast/dataset/sprot_pf00014_non_human_id_filter_on_swissprot.fasta\n",
      "New DB title:  sprot_pf00014_non_human_id_filter_on_swissprot.fasta\n",
      "Sequence type: Protein\n",
      "Keep MBits: T\n",
      "Maximum file size: 1000000000B\n",
      "Adding sequences from FASTA; added 340 sequences in 0.00759387 seconds.\n"
     ]
    },
    {
     "name": "stderr",
     "output_type": "stream",
     "text": [
      "Nothing to be done.\n",
      "Provided cores: 1\n",
      "Rules claiming more threads will be scaled down.\n",
      "Job counts:\n",
      "\tcount\tjobs\n",
      "\t1\tindex_protein_database\n",
      "\t1\n",
      "\n",
      "rule index_protein_database:\n",
      "    input: sprot_pf00014_non_human_id_filter_on_swissprot.fasta.gz\n",
      "    output: sprot_pf00014_non_human_id_filter_on_swissprot.fasta.phr\n",
      "    jobid: 0\n",
      "    wildcards: db=sprot_pf00014_non_human_id_filter_on_swissprot\n",
      "\n",
      "zcat sprot_pf00014_non_human_id_filter_on_swissprot.fasta.gz > sprot_pf00014_non_human_id_filter_on_swissprot.fasta; makeblastdb -in sprot_pf00014_non_human_id_filter_on_swissprot.fasta -out sprot_pf00014_non_human_id_filter_on_swissprot.fasta -dbtype prot\n",
      "Finished job 0.\n",
      "1 of 1 steps (100%) done\n"
     ]
    }
   ],
   "source": [
    "%%bash\n",
    "cd ../dataset/\n",
    "pwd; echo -e \"\\n\"\n",
    "snakemake -p sprot_pf00014_non_human_id_filter_on_swissprot.fasta.gz\n",
    "zcat sprot_pf00014_non_human_id_filter_on_swissprot.fasta.gz | wc -l; echo -e \"\\n\"\n",
    "zcat sprot_pf00014_non_human_id_filter_on_swissprot.fasta.gz | head -n 6; echo -e \"\\n\"\n",
    "snakemake -p sprot_pf00014_non_human_id_filter_on_swissprot.fasta.phr"
   ]
  },
  {
   "cell_type": "markdown",
   "metadata": {},
   "source": [
    "### Negative set (NOT BPTI/Kunitz)\n",
    "(now a subset of 500 sequences for testing)"
   ]
  },
  {
   "cell_type": "code",
   "execution_count": 32,
   "metadata": {},
   "outputs": [
    {
     "name": "stdout",
     "output_type": "stream",
     "text": [
      "/home/alessandro/Unibo/python-programming-alessandro-lussana/LB1/prj/kunitz_BPTI_blast/dataset\n",
      "\n",
      "\n",
      "3740\n",
      "\n",
      "\n",
      "\n",
      "\n",
      "\n",
      "\n",
      "Building a new DB, current time: 05/02/2019 23:44:26\n",
      "New DB name:   /home/alessandro/Unibo/python-programming-alessandro-lussana/LB1/prj/kunitz_BPTI_blast/dataset/sprot_non_pf00014_global_id_sampled500_filter_on_swissprot.fasta\n",
      "New DB title:  sprot_non_pf00014_global_id_sampled500_filter_on_swissprot.fasta\n",
      "Sequence type: Protein\n",
      "Keep MBits: T\n",
      "Maximum file size: 1000000000B\n",
      "Adding sequences from FASTA; added 500 sequences in 0.012423 seconds.\n"
     ]
    },
    {
     "name": "stderr",
     "output_type": "stream",
     "text": [
      "Nothing to be done.\n",
      "gzip: sprot_non_pf00014_global_sampled500_id_filter_on_swissprot.fasta.gz: No such file or directory\n",
      "Provided cores: 1\n",
      "Rules claiming more threads will be scaled down.\n",
      "Job counts:\n",
      "\tcount\tjobs\n",
      "\t1\tindex_protein_database\n",
      "\t1\n",
      "\n",
      "rule index_protein_database:\n",
      "    input: sprot_non_pf00014_global_id_sampled500_filter_on_swissprot.fasta.gz\n",
      "    output: sprot_non_pf00014_global_id_sampled500_filter_on_swissprot.fasta.phr\n",
      "    jobid: 0\n",
      "    wildcards: db=sprot_non_pf00014_global_id_sampled500_filter_on_swissprot\n",
      "\n",
      "zcat sprot_non_pf00014_global_id_sampled500_filter_on_swissprot.fasta.gz > sprot_non_pf00014_global_id_sampled500_filter_on_swissprot.fasta; makeblastdb -in sprot_non_pf00014_global_id_sampled500_filter_on_swissprot.fasta -out sprot_non_pf00014_global_id_sampled500_filter_on_swissprot.fasta -dbtype prot\n",
      "Finished job 0.\n",
      "1 of 1 steps (100%) done\n"
     ]
    }
   ],
   "source": [
    "%%bash\n",
    "cd ../dataset/\n",
    "pwd; echo -e \"\\n\"\n",
    "snakemake -p sprot_non_pf00014_global_id_sampled500_filter_on_swissprot.fasta.gz;\n",
    "zcat sprot_non_pf00014_global_id_sampled500_filter_on_swissprot.fasta.gz | wc -l; echo -e \"\\n\"\n",
    "zcat sprot_non_pf00014_global_sampled500_id_filter_on_swissprot.fasta.gz | head -n 6; echo -e \"\\n\"\n",
    "snakemake -p sprot_non_pf00014_global_id_sampled500_filter_on_swissprot.fasta.phr"
   ]
  },
  {
   "cell_type": "markdown",
   "metadata": {},
   "source": [
    "## Perform PsiBlast search with seed set"
   ]
  },
  {
   "cell_type": "markdown",
   "metadata": {},
   "source": [
    "### Positive set"
   ]
  },
  {
   "cell_type": "code",
   "execution_count": 38,
   "metadata": {},
   "outputs": [
    {
     "name": "stdout",
     "output_type": "stream",
     "text": [
      "/home/alessandro/Unibo/python-programming-alessandro-lussana/LB1/prj/kunitz_BPTI_blast/dataset\n",
      "\n",
      "\n",
      "89699\n",
      "\n",
      "\n",
      "sp|Q06481|APLP2_HUMAN\tsp|P15943|APLP2_RAT\t91.667\t744\t56\t2\t24\t763\t24\t765\t0.0\t1342\n",
      "sp|Q06481|APLP2_HUMAN\tsp|O93279|A4_TAKRU\t48.062\t774\t338\t14\t12\t762\t4\t736\t0.0\t679\n",
      "sp|Q06481|APLP2_HUMAN\tsp|O93279|A4_TAKRU\t45.455\t11\t6\t0\t135\t145\t1\t11\t4322\t13.1\n",
      "sp|Q06481|APLP2_HUMAN\tsp|Q95241|A4_SAISC\t53.361\t476\t177\t10\t313\t762\t294\t750\t1.77e-159\t474\n",
      "sp|Q06481|APLP2_HUMAN\tsp|P12023|A4_MOUSE\t51.919\t495\t174\t12\t313\t762\t294\t769\t3.88e-158\t471\n",
      "sp|Q06481|APLP2_HUMAN\tsp|P08592|A4_RAT\t51.717\t495\t175\t12\t313\t762\t294\t769\t1.20e-157\t470\n",
      "sp|Q06481|APLP2_HUMAN\tsp|P79307|A4_PIG\t51.313\t495\t177\t11\t313\t762\t294\t769\t2.19e-156\t467\n",
      "sp|Q06481|APLP2_HUMAN\tsp|Q60495|A4_CAVPO\t51.111\t495\t178\t11\t313\t762\t294\t769\t1.01e-155\t465\n",
      "sp|Q06481|APLP2_HUMAN\tsp|Q5IS80|A4_PANTR\t51.111\t495\t178\t11\t313\t762\t294\t769\t3.43e-155\t464\n",
      "sp|Q06481|APLP2_HUMAN\tsp|P53601|A4_MACFA\t51.111\t495\t178\t11\t313\t762\t294\t769\t4.16e-155\t463\n",
      "\n",
      "\n",
      "340\n"
     ]
    },
    {
     "name": "stderr",
     "output_type": "stream",
     "text": [
      "Provided cores: 1\n",
      "Rules claiming more threads will be scaled down.\n",
      "Job counts:\n",
      "\tcount\tjobs\n",
      "\t1\tblast_run\n",
      "\t1\n",
      "\n",
      "rule blast_run:\n",
      "    input: sprot_pf00014_non_human_id_filter_on_swissprot.fasta, sprot_pf00014_human_id_filter_on_swissprot.fasta, sprot_pf00014_non_human_id_filter_on_swissprot.fasta.phr\n",
      "    output: sprot_pf00014_human_id_filter_on_swissprot_vs_sprot_pf00014_non_human_id_filter_on_swissprot_blast_run.gz\n",
      "    jobid: 0\n",
      "    wildcards: query=sprot_pf00014_human_id_filter_on_swissprot, database=sprot_pf00014_non_human_id_filter_on_swissprot\n",
      "\n",
      "psiblast -query sprot_pf00014_human_id_filter_on_swissprot.fasta -db sprot_pf00014_non_human_id_filter_on_swissprot.fasta -evalue 1000000000 -outfmt 6 -out sprot_pf00014_human_id_filter_on_swissprot_vs_sprot_pf00014_non_human_id_filter_on_swissprot_blast_run.gz.tmp;cat sprot_pf00014_human_id_filter_on_swissprot_vs_sprot_pf00014_non_human_id_filter_on_swissprot_blast_run.gz.tmp | gzip > sprot_pf00014_human_id_filter_on_swissprot_vs_sprot_pf00014_non_human_id_filter_on_swissprot_blast_run.gz; rm sprot_pf00014_human_id_filter_on_swissprot_vs_sprot_pf00014_non_human_id_filter_on_swissprot_blast_run.gz.tmp\n",
      "Finished job 0.\n",
      "1 of 1 steps (100%) done\n"
     ]
    }
   ],
   "source": [
    "%%bash\n",
    "cd ../dataset/\n",
    "pwd; echo -e \"\\n\"\n",
    "snakemake -p sprot_pf00014_human_id_filter_on_swissprot_vs_sprot_pf00014_non_human_id_filter_on_swissprot_blast_run.gz\n",
    "zcat sprot_pf00014_human_id_filter_on_swissprot_vs_sprot_pf00014_non_human_id_filter_on_swissprot_blast_run.gz | wc -l; echo -e \"\\n\"\n",
    "zcat sprot_pf00014_human_id_filter_on_swissprot_vs_sprot_pf00014_non_human_id_filter_on_swissprot_blast_run.gz | head; echo -e \"\\n\"\n",
    "zcat sprot_pf00014_human_id_filter_on_swissprot_vs_sprot_pf00014_non_human_id_filter_on_swissprot_blast_run.gz | cut -f2 | cut -d \"|\" -f2 | sort -u | wc -l"
   ]
  },
  {
   "cell_type": "markdown",
   "metadata": {},
   "source": [
    "### Negative set\n",
    "**Note**: some sequences (in this case 1 only) may not be represented in the results. Likely explanation: no alignment can be seeded using the BLAST method. Tune hyperparameters? Does not make a lot of sense, since the sequences that generates this error would be classified for sure in the negative class"
   ]
  },
  {
   "cell_type": "code",
   "execution_count": 39,
   "metadata": {},
   "outputs": [
    {
     "name": "stdout",
     "output_type": "stream",
     "text": [
      "/home/alessandro/Unibo/python-programming-alessandro-lussana/LB1/prj/kunitz_BPTI_blast/dataset\n",
      "\n",
      "\n",
      "229260\n",
      "\n",
      "\n",
      "sp|Q06481|APLP2_HUMAN\tsp|Q6U7Q0|ZN322_HUMAN\t24.615\t130\t81\t5\t485\t598\t265\t393\t0.013\t32.7\n",
      "sp|Q06481|APLP2_HUMAN\tsp|Q6U7Q0|ZN322_HUMAN\t100.000\t5\t0\t0\t130\t134\t182\t186\t999\t16.9\n",
      "sp|Q06481|APLP2_HUMAN\tsp|Q6U7Q0|ZN322_HUMAN\t21.429\t28\t22\t0\t61\t88\t228\t255\t2162\t15.8\n",
      "sp|Q06481|APLP2_HUMAN\tsp|Q6U7Q0|ZN322_HUMAN\t80.000\t5\t1\t0\t130\t134\t266\t270\t2703\t15.4\n",
      "sp|Q06481|APLP2_HUMAN\tsp|Q6U7Q0|ZN322_HUMAN\t22.857\t70\t39\t3\t28\t90\t112\t173\t3182\t15.4\n",
      "sp|Q06481|APLP2_HUMAN\tsp|Q6U7Q0|ZN322_HUMAN\t66.667\t6\t2\t0\t748\t753\t93\t98\t5370\t14.6\n",
      "\n",
      "\n",
      "499\n"
     ]
    },
    {
     "name": "stderr",
     "output_type": "stream",
     "text": [
      "Provided cores: 1\n",
      "Rules claiming more threads will be scaled down.\n",
      "Job counts:\n",
      "\tcount\tjobs\n",
      "\t1\tblast_run\n",
      "\t1\n",
      "\n",
      "rule blast_run:\n",
      "    input: sprot_non_pf00014_global_id_sampled500_filter_on_swissprot.fasta, sprot_pf00014_human_id_filter_on_swissprot.fasta, sprot_non_pf00014_global_id_sampled500_filter_on_swissprot.fasta.phr\n",
      "    output: sprot_pf00014_human_id_filter_on_swissprot_vs_sprot_non_pf00014_global_id_sampled500_filter_on_swissprot_blast_run.gz\n",
      "    jobid: 0\n",
      "    wildcards: query=sprot_pf00014_human_id_filter_on_swissprot, database=sprot_non_pf00014_global_id_sampled500_filter_on_swissprot\n",
      "\n",
      "psiblast -query sprot_pf00014_human_id_filter_on_swissprot.fasta -db sprot_non_pf00014_global_id_sampled500_filter_on_swissprot.fasta -evalue 1000000000 -outfmt 6 -out sprot_pf00014_human_id_filter_on_swissprot_vs_sprot_non_pf00014_global_id_sampled500_filter_on_swissprot_blast_run.gz.tmp;cat sprot_pf00014_human_id_filter_on_swissprot_vs_sprot_non_pf00014_global_id_sampled500_filter_on_swissprot_blast_run.gz.tmp | gzip > sprot_pf00014_human_id_filter_on_swissprot_vs_sprot_non_pf00014_global_id_sampled500_filter_on_swissprot_blast_run.gz; rm sprot_pf00014_human_id_filter_on_swissprot_vs_sprot_non_pf00014_global_id_sampled500_filter_on_swissprot_blast_run.gz.tmp\n",
      "Finished job 0.\n",
      "1 of 1 steps (100%) done\n"
     ]
    }
   ],
   "source": [
    "%%bash\n",
    "cd ../dataset/\n",
    "pwd; echo -e \"\\n\"\n",
    "snakemake -p sprot_pf00014_human_id_filter_on_swissprot_vs_sprot_non_pf00014_global_id_sampled500_filter_on_swissprot_blast_run.gz\n",
    "zcat sprot_pf00014_human_id_filter_on_swissprot_vs_sprot_non_pf00014_global_id_sampled500_filter_on_swissprot_blast_run.gz | wc -l; echo -e \"\\n\"\n",
    "zcat sprot_pf00014_human_id_filter_on_swissprot_vs_sprot_non_pf00014_global_id_sampled500_filter_on_swissprot_blast_run.gz | head -n 6; echo -e \"\\n\"\n",
    "zcat sprot_pf00014_human_id_filter_on_swissprot_vs_sprot_non_pf00014_global_id_sampled500_filter_on_swissprot_blast_run.gz | cut -f2 | cut -d \"|\" -f2 | sort -u | wc -l"
   ]
  },
  {
   "cell_type": "markdown",
   "metadata": {},
   "source": [
    "## Select the lowest e-value for each sequence"
   ]
  },
  {
   "cell_type": "markdown",
   "metadata": {},
   "source": [
    "### Positive set"
   ]
  },
  {
   "cell_type": "code",
   "execution_count": 40,
   "metadata": {},
   "outputs": [
    {
     "name": "stdout",
     "output_type": "stream",
     "text": [
      "/home/alessandro/Unibo/python-programming-alessandro-lussana/LB1/prj/kunitz_BPTI_blast/dataset\n",
      "\n",
      "\n",
      "340\n",
      "\n",
      "\n",
      "sp|A0A1Z0YU59|MAMB1_DENAN\t6.83e-15\n",
      "sp|A5X2X1|VKT_SISCA\t9.60e-17\n",
      "sp|A6MFL1|VKT1_DEMVE\t5.99e-15\n",
      "sp|A6MFL2|VKT2_DEMVE\t6.12e-15\n",
      "sp|A6MFL3|VKT3_DEMVE\t8.29e-17\n",
      "sp|A6MFL4|VKT4_DEMVE\t7.86e-17\n"
     ]
    },
    {
     "name": "stderr",
     "output_type": "stream",
     "text": [
      "Provided cores: 1\n",
      "Rules claiming more threads will be scaled down.\n",
      "Job counts:\n",
      "\tcount\tjobs\n",
      "\t1\tlist_min_evalues\n",
      "\t1\n",
      "\n",
      "rule list_min_evalues:\n",
      "    input: sprot_pf00014_human_id_filter_on_swissprot_vs_sprot_pf00014_non_human_id_filter_on_swissprot_blast_run.gz\n",
      "    output: sprot_pf00014_human_id_filter_on_swissprot_vs_sprot_pf00014_non_human_id_filter_on_swissprot_blast_min_eval.gz\n",
      "    jobid: 0\n",
      "    wildcards: blast_run=sprot_pf00014_human_id_filter_on_swissprot_vs_sprot_pf00014_non_human_id_filter_on_swissprot\n",
      "\n",
      "for id in $(zcat sprot_pf00014_human_id_filter_on_swissprot_vs_sprot_pf00014_non_human_id_filter_on_swissprot_blast_run.gz | cut -f2 | sort | uniq); do zcat sprot_pf00014_human_id_filter_on_swissprot_vs_sprot_pf00014_non_human_id_filter_on_swissprot_blast_run.gz | grep $id | cut -f2,11 | LC_ALL=c sort -gk2 | sed -n '1p'; done | gzip > sprot_pf00014_human_id_filter_on_swissprot_vs_sprot_pf00014_non_human_id_filter_on_swissprot_blast_min_eval.gz\n",
      "Finished job 0.\n",
      "1 of 1 steps (100%) done\n"
     ]
    }
   ],
   "source": [
    "%%bash\n",
    "cd ../dataset/\n",
    "pwd; echo -e \"\\n\"\n",
    "snakemake -p sprot_pf00014_human_id_filter_on_swissprot_vs_sprot_pf00014_non_human_id_filter_on_swissprot_blast_min_eval.gz\n",
    "zcat sprot_pf00014_human_id_filter_on_swissprot_vs_sprot_pf00014_non_human_id_filter_on_swissprot_blast_min_eval.gz | wc -l; echo -e \"\\n\"\n",
    "zcat sprot_pf00014_human_id_filter_on_swissprot_vs_sprot_pf00014_non_human_id_filter_on_swissprot_blast_min_eval.gz | head -6"
   ]
  },
  {
   "cell_type": "markdown",
   "metadata": {},
   "source": [
    "### Negative set"
   ]
  },
  {
   "cell_type": "code",
   "execution_count": 41,
   "metadata": {},
   "outputs": [
    {
     "name": "stdout",
     "output_type": "stream",
     "text": [
      "/home/alessandro/Unibo/python-programming-alessandro-lussana/LB1/prj/kunitz_BPTI_blast/dataset\n",
      "\n",
      "\n",
      "499\n",
      "\n",
      "\n",
      "sp|A0A1B4XBH3|SDNO_SORAA\t3.3\n",
      "sp|A0K848|TIG_BURCH\t12\n",
      "sp|A0QS96|RS12_MYCS2\t145\n",
      "sp|A0R2E6|GPGS_MYCS2\t141\n",
      "sp|A0RIC0|BIOD_BACAH\t87\n",
      "sp|A0RPY4|CMOA_CAMFF\t167\n"
     ]
    },
    {
     "name": "stderr",
     "output_type": "stream",
     "text": [
      "Provided cores: 1\n",
      "Rules claiming more threads will be scaled down.\n",
      "Job counts:\n",
      "\tcount\tjobs\n",
      "\t1\tlist_min_evalues\n",
      "\t1\n",
      "\n",
      "rule list_min_evalues:\n",
      "    input: sprot_pf00014_human_id_filter_on_swissprot_vs_sprot_non_pf00014_global_id_sampled500_filter_on_swissprot_blast_run.gz\n",
      "    output: sprot_pf00014_human_id_filter_on_swissprot_vs_sprot_non_pf00014_global_id_sampled500_filter_on_swissprot_blast_min_eval.gz\n",
      "    jobid: 0\n",
      "    wildcards: blast_run=sprot_pf00014_human_id_filter_on_swissprot_vs_sprot_non_pf00014_global_id_sampled500_filter_on_swissprot\n",
      "\n",
      "for id in $(zcat sprot_pf00014_human_id_filter_on_swissprot_vs_sprot_non_pf00014_global_id_sampled500_filter_on_swissprot_blast_run.gz | cut -f2 | sort | uniq); do zcat sprot_pf00014_human_id_filter_on_swissprot_vs_sprot_non_pf00014_global_id_sampled500_filter_on_swissprot_blast_run.gz | grep $id | cut -f2,11 | LC_ALL=c sort -gk2 | sed -n '1p'; done | gzip > sprot_pf00014_human_id_filter_on_swissprot_vs_sprot_non_pf00014_global_id_sampled500_filter_on_swissprot_blast_min_eval.gz\n",
      "Finished job 0.\n",
      "1 of 1 steps (100%) done\n"
     ]
    }
   ],
   "source": [
    "%%bash\n",
    "cd ../dataset/\n",
    "pwd; echo -e \"\\n\"\n",
    "snakemake -p sprot_pf00014_human_id_filter_on_swissprot_vs_sprot_non_pf00014_global_id_sampled500_filter_on_swissprot_blast_min_eval.gz\n",
    "zcat sprot_pf00014_human_id_filter_on_swissprot_vs_sprot_non_pf00014_global_id_sampled500_filter_on_swissprot_blast_min_eval.gz | wc -l; echo -e \"\\n\"\n",
    "zcat sprot_pf00014_human_id_filter_on_swissprot_vs_sprot_non_pf00014_global_id_sampled500_filter_on_swissprot_blast_min_eval.gz | head -6"
   ]
  }
 ],
 "metadata": {
  "kernelspec": {
   "display_name": "Python 3",
   "language": "python",
   "name": "python3"
  },
  "language_info": {
   "codemirror_mode": {
    "name": "ipython",
    "version": 3
   },
   "file_extension": ".py",
   "mimetype": "text/x-python",
   "name": "python",
   "nbconvert_exporter": "python",
   "pygments_lexer": "ipython3",
   "version": "3.6.2"
  }
 },
 "nbformat": 4,
 "nbformat_minor": 2
}
