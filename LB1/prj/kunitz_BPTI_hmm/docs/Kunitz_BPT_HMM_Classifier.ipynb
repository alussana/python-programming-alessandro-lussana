{
 "cells": [
  {
   "cell_type": "markdown",
   "metadata": {},
   "source": [
    "# Kunitz_BPTI HMM Classifier\n",
    "Pfam: [Kunitz_BPTI](https://pfam.xfam.org/family/Kunitz_BPTI) (PF00014)\n",
    "\n",
    "This doc lives in:"
   ]
  },
  {
   "cell_type": "code",
   "execution_count": 23,
   "metadata": {},
   "outputs": [
    {
     "name": "stdout",
     "output_type": "stream",
     "text": [
      "/home/alessandro/Unibo/python-programming-alessandro-lussana/LB1/prj/kunitz_BPTI_hmm/docs\n"
     ]
    }
   ],
   "source": [
    "%%bash\n",
    "pwd"
   ]
  },
  {
   "cell_type": "markdown",
   "metadata": {},
   "source": [
    "## Handmade files\n",
    "### UniProtKB/Swiss-Prot database\n",
    "FASTA format"
   ]
  },
  {
   "cell_type": "code",
   "execution_count": 24,
   "metadata": {},
   "outputs": [
    {
     "name": "stdout",
     "output_type": "stream",
     "text": [
      "/home/alessandro/Unibo/python-programming-alessandro-lussana/LB1/prj/kunitz_BPTI_hmm/dataset\n",
      "lrwxrwxrwx 1 alessandro alessandro 41 apr  8 17:02 swissProt.fasta.gz -> ../handmade/uniprot-reviewed_yes.fasta.gz\n"
     ]
    }
   ],
   "source": [
    "%%bash\n",
    "cd ../dataset/\n",
    "pwd\n",
    "ls -lh swissProt.fasta.gz"
   ]
  },
  {
   "cell_type": "markdown",
   "metadata": {},
   "source": [
    "### RCSB PDB identifiers\n",
    "#### Query parameters\n",
    "*Pfam Accession Number PF00014 and Resolution is between 0.0 and 3.5 and Sequence Length is between 50 and 90 and Percent Sequence Alignment Search : PDB can contain Expression Tag sequence = Yes ,*\n",
    "#### Query results\n",
    "ENTITY-BASED QUERY - the 84 entities (unique chains) map to 83 PDB entries (structures).\n",
    "\n",
    "163 unique ENTRY_CHAIN id (see wc -l without header line)\n",
    "#### .META info\n",
    "I downloaded a customizable table including the following information:\n",
    "* PDB ID\n",
    "* Chain ID\n",
    "* Resolution\n",
    "* Taxonomy\n",
    "* Sequence\n",
    "* Chain Length"
   ]
  },
  {
   "cell_type": "code",
   "execution_count": 25,
   "metadata": {},
   "outputs": [
    {
     "name": "stdout",
     "output_type": "stream",
     "text": [
      "/home/alessandro/Unibo/python-programming-alessandro-lussana/LB1/prj/kunitz_BPTI_hmm/dataset\n",
      "lrwxrwxrwx 1 alessandro alessandro 30 apr  8 17:02 PF00014_pdb_tab -> ../handmade/tabularResults.csv\n",
      "163\n",
      "PDB ID,Chain ID,Resolution,Taxonomy,Sequence,Chain Length\n",
      "\"1AAP\",\"A\",\"1.50\",\"Homo sapiens\",\"VREVCSEQAETGPCRAMISRWYFDVTEGKCAPFFYGGCGGNRNNFDTEEYCMAVCGSA\",\"58\"\n",
      "\"1AAP\",\"B\",\"1.50\",\"Homo sapiens\",\"VREVCSEQAETGPCRAMISRWYFDVTEGKCAPFFYGGCGGNRNNFDTEEYCMAVCGSA\",\"58\"\n",
      "\"1B0C\",\"A\",\"2.80\",\"Bos taurus\",\"RPDFCLEPPYTGPCKARIIRYFYNAKAGLCQTFVYGGCRAKRNNFKSAEDCMRTCGGA\",\"58\"\n",
      "\"1B0C\",\"B\",\"2.80\",\"Bos taurus\",\"RPDFCLEPPYTGPCKARIIRYFYNAKAGLCQTFVYGGCRAKRNNFKSAEDCMRTCGGA\",\"58\"\n"
     ]
    }
   ],
   "source": [
    "%%bash\n",
    "cd ../dataset/\n",
    "pwd\n",
    "ls -lh PF00014_pdb_tab\n",
    "cat PF00014_pdb_tab | sed '1d' | wc -l\n",
    "head -5 PF00014_pdb_tab"
   ]
  },
  {
   "cell_type": "markdown",
   "metadata": {},
   "source": [
    "### pdbefold search identifiers\n",
    "[5pti](https://www.ebi.ac.uk/pdbe/entry/pdb/5pti) was chosen as a representative chain structure for BPTI/Kunitz domain (... include why). We run a database search to detect strucutral simlarity between 5pti and the whole PDB database using [PDBeFold](https://www.ebi.ac.uk/msd-srv/ssm/) web interface.\n",
    "* Normal precision: 569 unique chains, will be used in the workflow\n",
    "* Highesti precision: 318 unique chains, will not be used in the workflow"
   ]
  },
  {
   "cell_type": "code",
   "execution_count": 26,
   "metadata": {},
   "outputs": [
    {
     "name": "stdout",
     "output_type": "stream",
     "text": [
      "/home/alessandro/Unibo/python-programming-alessandro-lussana/LB1/prj/kunitz_BPTI_hmm/dataset\n",
      "lrwxrwxrwx 1 alessandro alessandro 37 apr  8 17:02 5pti_pdbefold -> ../handmade/5pti_pdbefold_normal_prec\n",
      "569\n",
      " PDBe Fold v2.59. (src3) 14 Apr 2014 result file.\n",
      "\n",
      "                   RESULT SUMMARY\n",
      "\n",
      "   ##      Q-score      P-score     Z-score   RMSD    Nalgn Nsse Ngaps Seq-%     Nmd Nres-Q Nsse-Q Nres-T Nsse-T Query Target\n",
      "    1           1       16.18       11.93     0.000    58    4    0           1    0     58      4     58      4    PDB 5pti:A  PDB 5pti:A\n",
      "    2       0.999       14.33        11.2     0.093    58    4    0      0.9828    0     58      4     58      4    PDB 5pti:A  PDB 9pti:A\n",
      "    3      0.9956       12.59       10.48     0.199    58    4    0      0.9655    0     58      4     58      4    PDB 5pti:A  PDB 7pti:A\n",
      "    4      0.9595       11.28       9.896     0.467    57    4    0           1    0     58      4     57      4    PDB 5pti:A  PDB 3ldi:A\n",
      "    5       0.959       12.25       10.33     0.248    56    4    0      0.9821    0     58      4     56      4    PDB 5pti:A  PDB 1bpt:A\n"
     ]
    }
   ],
   "source": [
    "%%bash\n",
    "cd ../dataset/\n",
    "pwd\n",
    "ls -lh 5pti_pdbefold\n",
    "cat 5pti_pdbefold | sed '1,5d' | wc -l\n",
    "cat 5pti_pdbefold | head"
   ]
  },
  {
   "cell_type": "markdown",
   "metadata": {},
   "source": [
    "## Workflow\n",
    "### Parsing handmade files\n",
    "#### PF00014_pdb.gz\n",
    "* 1 ID_CHAIN\n",
    "* 2 Resolution\n",
    "* 3 Taxonomy\n",
    "* 4 Sequence\n",
    "* 5 Chain Length"
   ]
  },
  {
   "cell_type": "code",
   "execution_count": 27,
   "metadata": {},
   "outputs": [
    {
     "name": "stdout",
     "output_type": "stream",
     "text": [
      "/home/alessandro/Unibo/python-programming-alessandro-lussana/LB1/prj/kunitz_BPTI_hmm/dataset\n",
      "163\n",
      "1AAP_A\t1.50\tHomo_sapiens\tVREVCSEQAETGPCRAMISRWYFDVTEGKCAPFFYGGCGGNRNNFDTEEYCMAVCGSA\t58\n",
      "1AAP_B\t1.50\tHomo_sapiens\tVREVCSEQAETGPCRAMISRWYFDVTEGKCAPFFYGGCGGNRNNFDTEEYCMAVCGSA\t58\n",
      "1B0C_A\t2.80\tBos_taurus\tRPDFCLEPPYTGPCKARIIRYFYNAKAGLCQTFVYGGCRAKRNNFKSAEDCMRTCGGA\t58\n",
      "1B0C_B\t2.80\tBos_taurus\tRPDFCLEPPYTGPCKARIIRYFYNAKAGLCQTFVYGGCRAKRNNFKSAEDCMRTCGGA\t58\n",
      "1B0C_C\t2.80\tBos_taurus\tRPDFCLEPPYTGPCKARIIRYFYNAKAGLCQTFVYGGCRAKRNNFKSAEDCMRTCGGA\t58\n"
     ]
    },
    {
     "name": "stderr",
     "output_type": "stream",
     "text": [
      "Provided cores: 1\n",
      "Rules claiming more threads will be scaled down.\n",
      "Job counts:\n",
      "\tcount\tjobs\n",
      "\t1\tparse_rcsbpdb_table\n",
      "\t1\n",
      "\n",
      "rule parse_rcsbpdb_table:\n",
      "    input: PF00014_pdb_tab\n",
      "    output: PF00014_pdb.gz\n",
      "    jobid: 0\n",
      "\n",
      "cat PF00014_pdb_tab | sed 's/,/\t/g' | sed 's/\"//g' | sed 's/ /_/g' | sed '1d' | sed 's/\t/_/' | gzip > PF00014_pdb.gz\n",
      "Finished job 0.\n",
      "1 of 1 steps (100%) done\n"
     ]
    }
   ],
   "source": [
    "%%bash\n",
    "cd ../dataset/\n",
    "pwd\n",
    "snakemake -p PF00014_pdb.gz\n",
    "zcat PF00014_pdb.gz | wc -l\n",
    "zcat PF00014_pdb.gz | head -5"
   ]
  },
  {
   "cell_type": "markdown",
   "metadata": {},
   "source": [
    "Side note: the id intersection between ../handmade/5pti_pdbefold_highest_prec and PF00014_pdb.gz is 160 in size (over 163, at most); tested with:"
   ]
  },
  {
   "cell_type": "code",
   "execution_count": 31,
   "metadata": {},
   "outputs": [
    {
     "name": "stdout",
     "output_type": "stream",
     "text": [
      "/home/alessandro/Unibo/python-programming-alessandro-lussana/LB1/prj/kunitz_BPTI_hmm/dataset\n",
      "160\n"
     ]
    }
   ],
   "source": [
    "%%bash\n",
    "cd ../dataset/\n",
    "pwd\n",
    "cat ../handmade/5pti_pdbefold_highest_prec | tr -s \" \" \"\\t\" | cut -f19 | sed '1,5d' | awk '{print toupper($0)}' | sed 's/:/_/g' | grep -f <(zcat PF00014_pdb.gz | cut -f1) | wc -l"
   ]
  },
  {
   "cell_type": "markdown",
   "metadata": {},
   "source": [
    "#### 5pti_pdbefold.gz\n",
    "* 1 ID_CHAIN\n",
    "* 2 Q-score\n",
    "* 3 P-score\n",
    "* 4 Z-score\n",
    "* 5 RMSD"
   ]
  },
  {
   "cell_type": "code",
   "execution_count": 29,
   "metadata": {},
   "outputs": [
    {
     "name": "stdout",
     "output_type": "stream",
     "text": [
      "/home/alessandro/Unibo/python-programming-alessandro-lussana/LB1/prj/kunitz_BPTI_hmm/dataset\n",
      "569\n",
      "5PTI_A\t1\t16.18\t11.93\t0.000\n",
      "9PTI_A\t0.999\t14.33\t11.2\t0.093\n",
      "7PTI_A\t0.9956\t12.59\t10.48\t0.199\n",
      "3LDI_A\t0.9595\t11.28\t9.896\t0.467\n",
      "1BPT_A\t0.959\t12.25\t10.33\t0.248\n"
     ]
    },
    {
     "name": "stderr",
     "output_type": "stream",
     "text": [
      "Provided cores: 1\n",
      "Rules claiming more threads will be scaled down.\n",
      "Job counts:\n",
      "\tcount\tjobs\n",
      "\t1\tparse_pdbefold_summary\n",
      "\t1\n",
      "\n",
      "rule parse_pdbefold_summary:\n",
      "    input: 5pti_pdbefold\n",
      "    output: 5pti_pdbefold.gz\n",
      "    jobid: 0\n",
      "\n",
      "cat 5pti_pdbefold | sed '1,5d' | tr -s \" \" \"\\t\" | cut -f3- | awk '{print toupper($17)\"\t\"$1\"\t\"$2\"\t\"$3\"\t\"$4}' | sed 's/:/_/' | gzip > 5pti_pdbefold.gz\n",
      "Finished job 0.\n",
      "1 of 1 steps (100%) done\n"
     ]
    }
   ],
   "source": [
    "%%bash\n",
    "cd ../dataset/\n",
    "pwd\n",
    "snakemake -p 5pti_pdbefold.gz\n",
    "zcat 5pti_pdbefold.gz | wc -l\n",
    "zcat 5pti_pdbefold.gz | head -5"
   ]
  },
  {
   "cell_type": "markdown",
   "metadata": {},
   "source": [
    "### Intersect and join the previous two files\n",
    "Create a table with candidate sequences suitable for builing the HMM\n",
    "\n",
    "**PF00014_pdb.5pti_pdbefold.gz**\n",
    "\n",
    "Note: PF00014_pdb is not a pefect subset of 5pti_pdbefold: 1 sequence was not structurally aligned with 5pti (see below)"
   ]
  },
  {
   "cell_type": "code",
   "execution_count": 30,
   "metadata": {},
   "outputs": [
    {
     "name": "stdout",
     "output_type": "stream",
     "text": [
      "/home/alessandro/Unibo/python-programming-alessandro-lussana/LB1/prj/kunitz_BPTI_hmm/dataset\n",
      "162\n",
      "1AAP_A\t1.50\tHomo_sapiens\tVREVCSEQAETGPCRAMISRWYFDVTEGKCAPFFYGGCGGNRNNFDTEEYCMAVCGSA\t58\t0.8785\t8.378\t8.472\t0.944\n",
      "1AAP_B\t1.50\tHomo_sapiens\tVREVCSEQAETGPCRAMISRWYFDVTEGKCAPFFYGGCGGNRNNFDTEEYCMAVCGSA\t58\t0.8667\t7.554\t8.024\t0.819\n",
      "1B0C_A\t2.80\tBos_taurus\tRPDFCLEPPYTGPCKARIIRYFYNAKAGLCQTFVYGGCRAKRNNFKSAEDCMRTCGGA\t58\t0.9454\t10.26\t9.419\t0.437\n",
      "1B0C_B\t2.80\tBos_taurus\tRPDFCLEPPYTGPCKARIIRYFYNAKAGLCQTFVYGGCRAKRNNFKSAEDCMRTCGGA\t58\t0.9463\t10.26\t9.419\t0.428\n",
      "1B0C_C\t2.80\tBos_taurus\tRPDFCLEPPYTGPCKARIIRYFYNAKAGLCQTFVYGGCRAKRNNFKSAEDCMRTCGGA\t58\t0.9457\t10.26\t9.419\t0.434\n"
     ]
    },
    {
     "name": "stderr",
     "output_type": "stream",
     "text": [
      "Provided cores: 1\n",
      "Rules claiming more threads will be scaled down.\n",
      "Job counts:\n",
      "\tcount\tjobs\n",
      "\t1\tintersect_and_join\n",
      "\t1\n",
      "\n",
      "rule intersect_and_join:\n",
      "    input: PF00014_pdb.gz, 5pti_pdbefold.gz\n",
      "    output: PF00014_pdb.5pti_pdbefold.txt.gz\n",
      "    jobid: 0\n",
      "\n",
      "join -j 1 <(zcat PF00014_pdb.gz | sort) <(zcat 5pti_pdbefold.gz | fgrep -f <(zcat PF00014_pdb.gz | cut -f1) | sort ) | sed 's/ /\t/g' | gzip > PF00014_pdb.5pti_pdbefold.txt.gz\n",
      "Finished job 0.\n",
      "1 of 1 steps (100%) done\n"
     ]
    }
   ],
   "source": [
    "%%bash\n",
    "cd ../dataset/\n",
    "pwd\n",
    "snakemake -p PF00014_pdb.5pti_pdbefold.txt.gz\n",
    "zcat PF00014_pdb.5pti_pdbefold.txt.gz | wc -l\n",
    "zcat PF00014_pdb.5pti_pdbefold.txt.gz | head -5"
   ]
  },
  {
   "cell_type": "markdown",
   "metadata": {},
   "source": [
    "The chain that does not appear in the pdbefold summary is: **[4BQD_A](https://www.ebi.ac.uk/pdbe/entry/pdb/4bqd/)**\n",
    "\n",
    "By the way **4BQD_B** is present in both PF00014_pdb.gz and 5pti_pdbefold.gz, and is then reported in PF00014_pdb.5pti_pdbefold.gz\n",
    "\n",
    "4BQD_B has the exact same sequence of 4BQD_A, therefore would be excluded in the following filtering procedure for redundancy and would not contribute to the model building \n"
   ]
  },
  {
   "cell_type": "code",
   "execution_count": 9,
   "metadata": {},
   "outputs": [
    {
     "name": "stdout",
     "output_type": "stream",
     "text": [
      "/home/alessandro/Unibo/python-programming-alessandro-lussana/LB1/prj/kunitz_BPTI_hmm/dataset\n",
      "4BQD_A\n",
      "4BQD_B\t0.7973\t10.69\t9.622\t0.853\n",
      "4BQD_A\t2.48\tHomo_sapiens\tDSEEDEEHTIITDTELPPLKLMHSFCAFKADDGPCKAIMKRFFFNIFTRQCEEFIYGGCEGNQNRFESLEECKKMCTRD\t79\n",
      "4BQD_B\t2.48\tHomo_sapiens\tDSEEDEEHTIITDTELPPLKLMHSFCAFKADDGPCKAIMKRFFFNIFTRQCEEFIYGGCEGNQNRFESLEECKKMCTRD\t79\n",
      "0\n"
     ]
    }
   ],
   "source": [
    "%%bash\n",
    "cd ../dataset/\n",
    "pwd\n",
    "zcat PF00014_pdb.gz | cut -f1 | grep -v -f <(zcat PF00014_pdb.5pti_pdbefold.gz | cut -f1)\n",
    "zcat 5pti_pdbefold.gz | grep 4BQD\n",
    "zcat PF00014_pdb.gz | grep 4BQD\n",
    "diff <(zcat PF00014_pdb.gz | grep 4BQD_A | cut -f4) <(zcat PF00014_pdb.gz | grep 4BQD_B | cut -f4) | wc -l"
   ]
  },
  {
   "cell_type": "markdown",
   "metadata": {},
   "source": [
    "### Filter the candidate sequences removing redundancy\n",
    "Before building the HMM we want to cluster the candidate sequences according to their identity; for each cluster, only one representative sequence will be selected and used to build the model. The criterium for chosing the representative sequences is the best resolution of the pdb structure.\n",
    "#### Extract fasta using sequences id\n",
    "**PF00014_pdb.5pti_pdbefold.fasta**"
   ]
  },
  {
   "cell_type": "code",
   "execution_count": 32,
   "metadata": {},
   "outputs": [
    {
     "name": "stdout",
     "output_type": "stream",
     "text": [
      "/home/alessandro/Unibo/python-programming-alessandro-lussana/LB1/prj/kunitz_BPTI_hmm/dataset\n",
      "324\n",
      ">1AAP_A\n",
      "VREVCSEQAETGPCRAMISRWYFDVTEGKCAPFFYGGCGGNRNNFDTEEYCMAVCGSA\n",
      ">1AAP_B\n",
      "VREVCSEQAETGPCRAMISRWYFDVTEGKCAPFFYGGCGGNRNNFDTEEYCMAVCGSA\n",
      ">1B0C_A\n",
      "RPDFCLEPPYTGPCKARIIRYFYNAKAGLCQTFVYGGCRAKRNNFKSAEDCMRTCGGA\n"
     ]
    },
    {
     "name": "stderr",
     "output_type": "stream",
     "text": [
      "Provided cores: 1\n",
      "Rules claiming more threads will be scaled down.\n",
      "Job counts:\n",
      "\tcount\tjobs\n",
      "\t1\tintersection2fasta\n",
      "\t1\n",
      "\n",
      "rule intersection2fasta:\n",
      "    input: PF00014_pdb.5pti_pdbefold.txt.gz\n",
      "    output: PF00014_pdb.5pti_pdbefold.fasta\n",
      "    jobid: 0\n",
      "    wildcards: seqs=PF00014_pdb.5pti_pdbefold\n",
      "\n",
      "zcat PF00014_pdb.5pti_pdbefold.txt.gz | awk '{print \">\"$1\"\\n\"$4}' > PF00014_pdb.5pti_pdbefold.fasta\n",
      "Finished job 0.\n",
      "1 of 1 steps (100%) done\n"
     ]
    }
   ],
   "source": [
    "%%bash\n",
    "cd ../dataset/\n",
    "pwd\n",
    "snakemake -p PF00014_pdb.5pti_pdbefold.fasta\n",
    "cat PF00014_pdb.5pti_pdbefold.fasta | wc -l\n",
    "cat PF00014_pdb.5pti_pdbefold.fasta | head -6"
   ]
  },
  {
   "cell_type": "markdown",
   "metadata": {},
   "source": [
    "#### Cluster the candidate sequences\n",
    "**PF00014_pdb.5pti_pdbefold_S99_L0.95_clust.gz**\n",
    "\n",
    "Using parameters S=99, L=0.95 the sequences are clustered in 25 clusters (see wc -l without the header line)"
   ]
  },
  {
   "cell_type": "code",
   "execution_count": 33,
   "metadata": {},
   "outputs": [
    {
     "name": "stdout",
     "output_type": "stream",
     "text": [
      "/home/alessandro/Unibo/python-programming-alessandro-lussana/LB1/prj/kunitz_BPTI_hmm/dataset\n",
      "26\n",
      "Apr 8, 2019  5:25 PM Start clustering of 162 queries\n",
      "1B0C_A 1B0C_B 1B0C_C 1B0C_D 1B0C_E 1BHC_A 1BHC_B 1BHC_C 1BHC_D 1BHC_E 1BHC_F 1BHC_G 1BHC_H 1BHC_I 1BHC_J 1BPI_A 1BTH_P 1BTH_Q 1BZ5_A 1BZ5_B 1BZ5_C 1BZ5_D 1BZ5_E 1BZX_I 1CBW_D 1CBW_I 1D0D_B 1EAW_B 1EAW_D 1FY8_I 1MTN_D 1MTN_H 1TPA_I 2FTL_I 2HEX_A 2HEX_B 2HEX_C 2HEX_D 2HEX_E 2IJO_I 2KAI_I 2PTC_I 2R9P_E 2R9P_F 2R9P_G 2R9P_I 2RA3_C 2RA3_I 2TGP_I 2TPI_I 3BTK_I 3FP6_I 3FP8_I 3GYM_I 3GYM_J 3LDI_A 3LDI_B 3LDI_C 3LDI_D 3LDI_E 3LDJ_A 3LDJ_B 3LDJ_C 3LDM_A 3LDM_B 3LDM_C 3LDM_D 3LDM_E 3TPI_I 3U1J_E 4DG4_C 4DG4_E 4DG4_F 4DG4_H 4PTI_A 4WWY_C 4WWY_I 4Y0Y_I 5PTI_A 6F1F_A 6F1F_B 6F1F_C 6F1F_D 6F1F_E 6PTI_A 9PTI_A 1YKT_B 4WXV_C 4WXV_I 5YVU_I \n",
      "1AAP_A 1AAP_B 1TAW_B 1ZJD_B 1BRC_I 1CA0_D 1CA0_I 3L33_E 3L33_F 3L33_G 3L33_H \n",
      "3BYB_A 3BYB_B 3BYB_C 3UIR_C 3UIR_D 5ZJ3_A 5ZJ3_B 5ZJ3_C 3D65_I \n",
      "3WNY_A 3WNY_B 3WNY_C 3WNY_E 3WNY_F 3WNY_G 3WNY_H 3WNY_I \n"
     ]
    },
    {
     "name": "stderr",
     "output_type": "stream",
     "text": [
      "Provided cores: 1\n",
      "Rules claiming more threads will be scaled down.\n",
      "Job counts:\n",
      "\tcount\tjobs\n",
      "\t1\trun_blastclust\n",
      "\t1\n",
      "\n",
      "rule run_blastclust:\n",
      "    input: PF00014_pdb.5pti_pdbefold.fasta\n",
      "    output: PF00014_pdb.5pti_pdbefold_S99_L0.95_clust.gz\n",
      "    jobid: 0\n",
      "    wildcards: db=PF00014_pdb.5pti_pdbefold, S=99, L=0.95\n",
      "\n",
      "blastclust -i PF00014_pdb.5pti_pdbefold.fasta -L 0.95 -S 99 | gzip > PF00014_pdb.5pti_pdbefold_S99_L0.95_clust.gz\n",
      "Finished job 0.\n",
      "1 of 1 steps (100%) done\n"
     ]
    }
   ],
   "source": [
    "%%bash\n",
    "cd ../dataset/\n",
    "pwd\n",
    "snakemake -p PF00014_pdb.5pti_pdbefold_S99_L0.95_clust.gz\n",
    "zcat PF00014_pdb.5pti_pdbefold_S99_L0.95_clust.gz | wc -l\n",
    "zcat PF00014_pdb.5pti_pdbefold_S99_L0.95_clust.gz | head -5"
   ]
  },
  {
   "cell_type": "markdown",
   "metadata": {},
   "source": [
    "#### Filter the candidate sequences table according to the clustering results\n",
    "**nonredund_PF00014_pdb.5pti_pdbefold_S99_L0.95**"
   ]
  },
  {
   "cell_type": "code",
   "execution_count": 35,
   "metadata": {},
   "outputs": [
    {
     "name": "stdout",
     "output_type": "stream",
     "text": [
      "/home/alessandro/Unibo/python-programming-alessandro-lussana/LB1/prj/kunitz_BPTI_hmm/dataset\n",
      "25\n",
      "5PTI_A\t1.00\tBos_taurus\tRPDFCLEPPYTGPCKARIIRYFYNAKAGLCQTFVYGGCRAKRNNFKSAEDCMRTCGGA\t58\t1\t16.18\t11.93\t0.000\n",
      "1AAP_A\t1.50\tHomo_sapiens\tVREVCSEQAETGPCRAMISRWYFDVTEGKCAPFFYGGCGGNRNNFDTEEYCMAVCGSA\t58\t0.8785\t8.378\t8.472\t0.944\n",
      "3BYB_A\t1.63\tPseudonaja_textilis\tKDRPDFCELPADTGPCRVRFPSFYYNPDEKKCLEFIYGGCEGNANNFITKEECESTCAA\t59\t0.8603\t10.23\t9.402\t0.867\n",
      "3WNY_A\t1.30\tBos_taurus\tRPAFCLEPPYAGPGKARIIRYFYNAKAGAAQAFVYGGVRAKRNNFASAADALAACAAAGGKKK\t63\t0.934\t10.78\t9.662\t0.551\n",
      "1Y62_A\t2.45\tConus_striatus\tKDRPSLCDLPADSGSGTKAEKRIYYNSARKQCLRFDYTGQGGNENNFRRTYDCQRTCLYT\t60\t0.8862\t10.53\t9.544\t0.897\n"
     ]
    },
    {
     "name": "stderr",
     "output_type": "stream",
     "text": [
      "Provided cores: 1\n",
      "Rules claiming more threads will be scaled down.\n",
      "Job counts:\n",
      "\tcount\tjobs\n",
      "\t1\textract_representative_sequences\n",
      "\t1\n",
      "\n",
      "rule extract_representative_sequences:\n",
      "    input: PF00014_pdb.5pti_pdbefold_S99_L0.95_clust.gz, PF00014_pdb.5pti_pdbefold.txt.gz\n",
      "    output: nonredund_PF00014_pdb.5pti_pdbefold_S99_L0.95.txt.gz\n",
      "    jobid: 0\n",
      "    wildcards: sequences=PF00014_pdb.5pti_pdbefold, S=99, L=0.95\n",
      "\n",
      "for cluster in $(zcat PF00014_pdb.5pti_pdbefold_S99_L0.95_clust.gz | sed '1d' | sed 's/ /%/g'); do zcat PF00014_pdb.5pti_pdbefold.txt.gz | grep -w -f <(echo $cluster | sed 's/%/\\n/g') | sort -n -k2 | sed -n '1p'; done | gzip > nonredund_PF00014_pdb.5pti_pdbefold_S99_L0.95.txt.gz\n",
      "Finished job 0.\n",
      "1 of 1 steps (100%) done\n"
     ]
    }
   ],
   "source": [
    "%%bash\n",
    "cd ../dataset/\n",
    "pwd\n",
    "snakemake -p nonredund_PF00014_pdb.5pti_pdbefold_S99_L0.95.txt.gz\n",
    "zcat nonredund_PF00014_pdb.5pti_pdbefold_S99_L0.95.txt.gz | wc -l\n",
    "zcat nonredund_PF00014_pdb.5pti_pdbefold_S99_L0.95.txt.gz | head -5"
   ]
  },
  {
   "cell_type": "markdown",
   "metadata": {},
   "source": [
    "### Perform structure-based MSA with selected Kunitz representative sequences\n",
    "Differenct methods will be used, and the performance of the HMM classifiers will be compared\n",
    "\n",
    "#### Create a fasta file for the selected sequences\n",
    "**nonredund_PF00014_pdb.5pti_pdbefold_S99_L0.95.fasta**"
   ]
  },
  {
   "cell_type": "code",
   "execution_count": 36,
   "metadata": {},
   "outputs": [
    {
     "name": "stdout",
     "output_type": "stream",
     "text": [
      "/home/alessandro/Unibo/python-programming-alessandro-lussana/LB1/prj/kunitz_BPTI_hmm/dataset\n",
      "50\n",
      ">5PTI_A\n",
      "RPDFCLEPPYTGPCKARIIRYFYNAKAGLCQTFVYGGCRAKRNNFKSAEDCMRTCGGA\n",
      ">1AAP_A\n",
      "VREVCSEQAETGPCRAMISRWYFDVTEGKCAPFFYGGCGGNRNNFDTEEYCMAVCGSA\n",
      ">3BYB_A\n",
      "KDRPDFCELPADTGPCRVRFPSFYYNPDEKKCLEFIYGGCEGNANNFITKEECESTCAA\n"
     ]
    },
    {
     "name": "stderr",
     "output_type": "stream",
     "text": [
      "Provided cores: 1\n",
      "Rules claiming more threads will be scaled down.\n",
      "Job counts:\n",
      "\tcount\tjobs\n",
      "\t1\tintersection2fasta\n",
      "\t1\n",
      "\n",
      "rule intersection2fasta:\n",
      "    input: nonredund_PF00014_pdb.5pti_pdbefold_S99_L0.95.txt.gz\n",
      "    output: nonredund_PF00014_pdb.5pti_pdbefold_S99_L0.95.fasta\n",
      "    jobid: 0\n",
      "    wildcards: seqs=nonredund_PF00014_pdb.5pti_pdbefold_S99_L0.95\n",
      "\n",
      "zcat nonredund_PF00014_pdb.5pti_pdbefold_S99_L0.95.txt.gz | awk '{print \">\"$1\"\\n\"$4}' > nonredund_PF00014_pdb.5pti_pdbefold_S99_L0.95.fasta\n",
      "Finished job 0.\n",
      "1 of 1 steps (100%) done\n"
     ]
    }
   ],
   "source": [
    "%%bash\n",
    "cd ../dataset/\n",
    "pwd\n",
    "snakemake -p nonredund_PF00014_pdb.5pti_pdbefold_S99_L0.95.fasta\n",
    "cat nonredund_PF00014_pdb.5pti_pdbefold_S99_L0.95.fasta | wc -l\n",
    "cat nonredund_PF00014_pdb.5pti_pdbefold_S99_L0.95.fasta | head -6"
   ]
  },
  {
   "cell_type": "markdown",
   "metadata": {},
   "source": [
    "#### Create an id list for the selected sequences\n",
    "**nonredund_PF00014_pdb.5pti_pdbefold_S99_L0.95.idlist**"
   ]
  },
  {
   "cell_type": "code",
   "execution_count": 37,
   "metadata": {},
   "outputs": [
    {
     "name": "stdout",
     "output_type": "stream",
     "text": [
      "/home/alessandro/Unibo/python-programming-alessandro-lussana/LB1/prj/kunitz_BPTI_hmm/dataset\n",
      "25\n",
      "5PTI:A\n",
      "1AAP:A\n",
      "3BYB:A\n",
      "3WNY:A\n",
      "1Y62:A\n",
      "1F7Z:I\n",
      "4U30:W\n",
      "4ISO:B\n",
      "4NTW:B\n",
      "1KTH:A\n"
     ]
    },
    {
     "name": "stderr",
     "output_type": "stream",
     "text": [
      "Provided cores: 1\n",
      "Rules claiming more threads will be scaled down.\n",
      "Job counts:\n",
      "\tcount\tjobs\n",
      "\t1\tcreate_chosen_ids_list\n",
      "\t1\n",
      "\n",
      "rule create_chosen_ids_list:\n",
      "    input: nonredund_PF00014_pdb.5pti_pdbefold_S99_L0.95.txt.gz\n",
      "    output: nonredund_PF00014_pdb.5pti_pdbefold_S99_L0.95.idlist\n",
      "    jobid: 0\n",
      "    wildcards: sequences=nonredund_PF00014_pdb.5pti_pdbefold_S99_L0.95\n",
      "\n",
      "zcat nonredund_PF00014_pdb.5pti_pdbefold_S99_L0.95.txt.gz | cut -f1 | sed 's/_/:/' > nonredund_PF00014_pdb.5pti_pdbefold_S99_L0.95.idlist\n",
      "Finished job 0.\n",
      "1 of 1 steps (100%) done\n"
     ]
    }
   ],
   "source": [
    "%%bash\n",
    "cd ../dataset/\n",
    "pwd\n",
    "snakemake -p nonredund_PF00014_pdb.5pti_pdbefold_S99_L0.95.idlist\n",
    "cat nonredund_PF00014_pdb.5pti_pdbefold_S99_L0.95.idlist | wc -l\n",
    "cat nonredund_PF00014_pdb.5pti_pdbefold_S99_L0.95.idlist | head"
   ]
  },
  {
   "cell_type": "markdown",
   "metadata": {},
   "source": [
    "#### Fetch PDB files for selected sequences\n",
    "For each pdb, a monochain version - containing only the kunitz representative chain - is created\n",
    "\n",
    "**PDB.nonredund_PF00014_pdb.5pti_pdbefold_S99_L0.95/***"
   ]
  },
  {
   "cell_type": "code",
   "execution_count": 38,
   "metadata": {},
   "outputs": [
    {
     "name": "stdout",
     "output_type": "stream",
     "text": [
      "/home/alessandro/Unibo/python-programming-alessandro-lussana/LB1/prj/kunitz_BPTI_hmm/dataset\n",
      "27\n",
      "total 3,0M\n",
      "-rw-r--r-- 1 alessandro alessandro  69K apr  8 17:26 1AAP.A.pdb\n",
      "-rw-r--r-- 1 alessandro alessandro  80K apr  8 17:27 1BUN.B.pdb\n",
      "-rw-r--r-- 1 alessandro alessandro  75K apr  8 17:27 1DTX.A.pdb\n",
      "-rw-r--r-- 1 alessandro alessandro  88K apr  8 17:26 1F7Z.I.pdb\n",
      "-rw-r--r-- 1 alessandro alessandro 105K apr  8 17:27 1KTH.A.pdb\n",
      "-rw-r--r-- 1 alessandro alessandro  97K apr  8 17:27 1TFX.C.pdb\n",
      "-rw-r--r-- 1 alessandro alessandro  95K apr  8 17:26 1Y62.A.pdb\n",
      "-rw-r--r-- 1 alessandro alessandro  97K apr  8 17:27 1YC0.I.pdb\n",
      "-rw-r--r-- 1 alessandro alessandro 136K apr  8 17:27 1ZR0.B.pdb\n",
      "-rw-r--r-- 1 alessandro alessandro  93K apr  8 17:26 3BYB.A.pdb\n",
      "-rw-r--r-- 1 alessandro alessandro 113K apr  8 17:27 3M7Q.B.pdb\n",
      "-rw-r--r-- 1 alessandro alessandro 177K apr  8 17:27 3T62.D.pdb\n",
      "-rw-r--r-- 1 alessandro alessandro 149K apr  8 17:26 3WNY.A.pdb\n",
      "-rw-r--r-- 1 alessandro alessandro 142K apr  8 17:27 4BQD.B.pdb\n",
      "-rw-r--r-- 1 alessandro alessandro 195K apr  8 17:27 4DTG.K.pdb\n",
      "-rw-r--r-- 1 alessandro alessandro 108K apr  8 17:27 4ISO.B.pdb\n",
      "-rw-r--r-- 1 alessandro alessandro 131K apr  8 17:27 4NTW.B.pdb\n",
      "-rw-r--r-- 1 alessandro alessandro 125K apr  8 17:26 4U30.W.pdb\n",
      "-rw-r--r-- 1 alessandro alessandro  96K apr  8 17:27 4U32.X.pdb\n",
      "-rw-r--r-- 1 alessandro alessandro 231K apr  8 17:27 5NMV.K.pdb\n",
      "-rw-r--r-- 1 alessandro alessandro 146K apr  8 17:27 5NX1.C.pdb\n",
      "-rw-r--r-- 1 alessandro alessandro 133K apr  8 17:27 5NX1.D.pdb\n",
      "-rw-r--r-- 1 alessandro alessandro 120K apr  8 17:26 5PTI.A.pdb\n",
      "-rw-r--r-- 1 alessandro alessandro  69K apr  8 17:27 5YV7.A.pdb\n",
      "-rw-r--r-- 1 alessandro alessandro 124K apr  8 17:27 5YW1.I.pdb\n",
      "-rw-r--r-- 1 alessandro alessandro    0 apr  8 17:27 get_chains_completed\n"
     ]
    },
    {
     "name": "stderr",
     "output_type": "stream",
     "text": [
      "Provided cores: 1\n",
      "Rules claiming more threads will be scaled down.\n",
      "Job counts:\n",
      "\tcount\tjobs\n",
      "\t1\tget_pdb_files\n",
      "\t1\n",
      "\n",
      "rule get_pdb_files:\n",
      "    input: nonredund_PF00014_pdb.5pti_pdbefold_S99_L0.95.idlist\n",
      "    output: PDB.nonredund_PF00014_pdb.5pti_pdbefold_S99_L0.95/get_chains_completed\n",
      "    jobid: 0\n",
      "    wildcards: sequences=nonredund_PF00014_pdb.5pti_pdbefold_S99_L0.95\n",
      "\n",
      "idlist=$(cat nonredund_PF00014_pdb.5pti_pdbefold_S99_L0.95.idlist | sed 's/:/\\t/' | cut -f1); idarr=($(cat nonredund_PF00014_pdb.5pti_pdbefold_S99_L0.95.idlist | sed 's/:/\\t/' | cut -f1)); charr=($(cat nonredund_PF00014_pdb.5pti_pdbefold_S99_L0.95.idlist | sed 's/:/\\t/' | cut -f2)); i=0; for id in $idlist; do wget -P PDB.nonredund_PF00014_pdb.5pti_pdbefold_S99_L0.95/ http://www.rcsb.org/pdb/files/${id}.pdb; chain=${charr[$i]}; cat PDB.nonredund_PF00014_pdb.5pti_pdbefold_S99_L0.95/${id}.pdb | awk -v chain=$chain '{split($0,line); if((line[1]==\"ATOM\" || line[1]==\"ANISOU\") && line[5]!=chain) {getline} else {print  $0}}' > PDB.nonredund_PF00014_pdb.5pti_pdbefold_S99_L0.95/${id}.${chain}.pdb; rm PDB.nonredund_PF00014_pdb.5pti_pdbefold_S99_L0.95/${id}.pdb; i=$(echo \"$i+1\" | bc); done;touch PDB.nonredund_PF00014_pdb.5pti_pdbefold_S99_L0.95/get_chains_completed\n",
      "--2019-04-08 17:26:48--  http://www.rcsb.org/pdb/files/5PTI.pdb\n",
      "Resolving www.rcsb.org (www.rcsb.org)... 128.6.244.65\n",
      "Connecting to www.rcsb.org (www.rcsb.org)|128.6.244.65|:80... connected.\n",
      "HTTP request sent, awaiting response... 301 Moved Permanently\n",
      "Location: http://files.rcsb.org/view/5PTI.pdb [following]\n",
      "--2019-04-08 17:26:48--  http://files.rcsb.org/view/5PTI.pdb\n",
      "Resolving files.rcsb.org (files.rcsb.org)... 128.6.244.12\n",
      "Connecting to files.rcsb.org (files.rcsb.org)|128.6.244.12|:80... connected.\n",
      "HTTP request sent, awaiting response... 200 OK\n",
      "Length: unspecified [text/plain]\n",
      "Saving to: ‘PDB.nonredund_PF00014_pdb.5pti_pdbefold_S99_L0.95/5PTI.pdb’\n",
      "\n",
      "     0K .......... .......... .......... .......... ..........  119K\n",
      "    50K .......... .......... .......... .......... ..........  242K\n",
      "   100K .......... .......... .                                7,15M=0,6s\n",
      "\n",
      "2019-04-08 17:26:49 (193 KB/s) - ‘PDB.nonredund_PF00014_pdb.5pti_pdbefold_S99_L0.95/5PTI.pdb’ saved [124335]\n",
      "\n",
      "--2019-04-08 17:26:49--  http://www.rcsb.org/pdb/files/1AAP.pdb\n",
      "Resolving www.rcsb.org (www.rcsb.org)... 128.6.244.65\n",
      "Connecting to www.rcsb.org (www.rcsb.org)|128.6.244.65|:80... connected.\n",
      "HTTP request sent, awaiting response... 301 Moved Permanently\n",
      "Location: http://files.rcsb.org/view/1AAP.pdb [following]\n",
      "--2019-04-08 17:26:49--  http://files.rcsb.org/view/1AAP.pdb\n",
      "Resolving files.rcsb.org (files.rcsb.org)... 128.6.244.12\n",
      "Connecting to files.rcsb.org (files.rcsb.org)|128.6.244.12|:80... connected.\n",
      "HTTP request sent, awaiting response... 200 OK\n",
      "Length: unspecified [text/plain]\n",
      "Saving to: ‘PDB.nonredund_PF00014_pdb.5pti_pdbefold_S99_L0.95/1AAP.pdb’\n",
      "\n",
      "     0K .......... .......... .......... .......... ..........  119K\n",
      "    50K .......... .......... .......... .......... ..........  242K\n",
      "   100K ..                                                     5251G=0,6s\n",
      "\n",
      "2019-04-08 17:26:50 (164 KB/s) - ‘PDB.nonredund_PF00014_pdb.5pti_pdbefold_S99_L0.95/1AAP.pdb’ saved [105219]\n",
      "\n",
      "--2019-04-08 17:26:50--  http://www.rcsb.org/pdb/files/3BYB.pdb\n",
      "Resolving www.rcsb.org (www.rcsb.org)... 128.6.244.65\n",
      "Connecting to www.rcsb.org (www.rcsb.org)|128.6.244.65|:80... connected.\n",
      "HTTP request sent, awaiting response... 301 Moved Permanently\n",
      "Location: http://files.rcsb.org/view/3BYB.pdb [following]\n",
      "--2019-04-08 17:26:51--  http://files.rcsb.org/view/3BYB.pdb\n",
      "Resolving files.rcsb.org (files.rcsb.org)... 128.6.244.12\n",
      "Connecting to files.rcsb.org (files.rcsb.org)|128.6.244.12|:80... connected.\n",
      "HTTP request sent, awaiting response... 200 OK\n",
      "Length: unspecified [text/plain]\n",
      "Saving to: ‘PDB.nonredund_PF00014_pdb.5pti_pdbefold_S99_L0.95/3BYB.pdb’\n",
      "\n",
      "     0K .......... .......... .......... .......... ..........  119K\n",
      "    50K .......... .......... .......... .......... ..........  242K\n",
      "   100K .......... .......... .......... .......... .......... 1,96M\n",
      "   150K .......... .....                                       5,30M=0,7s\n",
      "\n",
      "2019-04-08 17:26:52 (253 KB/s) - ‘PDB.nonredund_PF00014_pdb.5pti_pdbefold_S99_L0.95/3BYB.pdb’ saved [169128]\n",
      "\n",
      "--2019-04-08 17:26:52--  http://www.rcsb.org/pdb/files/3WNY.pdb\n",
      "Resolving www.rcsb.org (www.rcsb.org)... 128.6.244.65\n",
      "Connecting to www.rcsb.org (www.rcsb.org)|128.6.244.65|:80... connected.\n",
      "HTTP request sent, awaiting response... 301 Moved Permanently\n",
      "Location: http://files.rcsb.org/view/3WNY.pdb [following]\n",
      "--2019-04-08 17:26:52--  http://files.rcsb.org/view/3WNY.pdb\n",
      "Resolving files.rcsb.org (files.rcsb.org)... 128.6.244.12\n",
      "Connecting to files.rcsb.org (files.rcsb.org)|128.6.244.12|:80... connected.\n",
      "HTTP request sent, awaiting response... 200 OK\n",
      "Length: unspecified [text/plain]\n",
      "Saving to: ‘PDB.nonredund_PF00014_pdb.5pti_pdbefold_S99_L0.95/3WNY.pdb’\n",
      "\n",
      "     0K .......... .......... .......... .......... ..........  158K\n",
      "    50K .......... .......... .......... .......... ..........  241K\n",
      "   100K .......... .......... .......... .......... .......... 1,38M\n",
      "   150K .......... .......... .......... .......... .......... 4,62M\n",
      "   200K .......... .......... .......... .......... ..........  469K\n",
      "   250K .......... .......... .......... .......... .......... 3,33M\n",
      "   300K .......... .......... .......... .......... ..........  555K\n",
      "   350K .......... .......... .......... .......... .......... 2,21M\n",
      "   400K .......... .......... .......... .......... ..........  706K\n",
      "   450K .......... .......... .......... .......... .......... 1,25M\n",
      "   500K .......... .......... .......... .......... .......... 3,17M\n",
      "   550K .......... .......... .......... .......... ..........  567K\n",
      "   600K .......... .......... .......... .......... .......... 2,41M\n",
      "   650K .......... .......... .......... .......... ..........  771K\n",
      "   700K .......... .......... .......... .                     1,04M=1,1s\n",
      "\n",
      "2019-04-08 17:26:54 (646 KB/s) - ‘PDB.nonredund_PF00014_pdb.5pti_pdbefold_S99_L0.95/3WNY.pdb’ saved [748764]\n",
      "\n",
      "--2019-04-08 17:26:54--  http://www.rcsb.org/pdb/files/1Y62.pdb\n",
      "Resolving www.rcsb.org (www.rcsb.org)... 128.6.244.65\n",
      "Connecting to www.rcsb.org (www.rcsb.org)|128.6.244.65|:80... connected.\n",
      "HTTP request sent, awaiting response... 301 Moved Permanently\n",
      "Location: http://files.rcsb.org/view/1Y62.pdb [following]\n",
      "--2019-04-08 17:26:54--  http://files.rcsb.org/view/1Y62.pdb\n",
      "Resolving files.rcsb.org (files.rcsb.org)... 128.6.244.12\n",
      "Connecting to files.rcsb.org (files.rcsb.org)|128.6.244.12|:80... connected.\n",
      "HTTP request sent, awaiting response... 200 OK\n",
      "Length: unspecified [text/plain]\n",
      "Saving to: ‘PDB.nonredund_PF00014_pdb.5pti_pdbefold_S99_L0.95/1Y62.pdb’\n",
      "\n",
      "     0K .......... .......... .......... .......... ..........  152K\n",
      "    50K .......... .......... .......... .......... ..........  431K\n",
      "   100K .......... .......... .......... .......... .......... 4,01M\n",
      "   150K .......... .......... .......... .......... .......... 7,89M\n",
      "   200K .......... .......... .......... .......... ..........  444K\n",
      "   250K .......... .......... .                                7,44M=0,6s\n",
      "\n",
      "2019-04-08 17:26:55 (470 KB/s) - ‘PDB.nonredund_PF00014_pdb.5pti_pdbefold_S99_L0.95/1Y62.pdb’ saved [277992]\n",
      "\n",
      "--2019-04-08 17:26:55--  http://www.rcsb.org/pdb/files/1F7Z.pdb\n",
      "Resolving www.rcsb.org (www.rcsb.org)... 128.6.244.65\n",
      "Connecting to www.rcsb.org (www.rcsb.org)|128.6.244.65|:80... connected.\n",
      "HTTP request sent, awaiting response... 301 Moved Permanently\n",
      "Location: http://files.rcsb.org/view/1F7Z.pdb [following]\n",
      "--2019-04-08 17:26:55--  http://files.rcsb.org/view/1F7Z.pdb\n",
      "Resolving files.rcsb.org (files.rcsb.org)... 128.6.244.12\n",
      "Connecting to files.rcsb.org (files.rcsb.org)|128.6.244.12|:80... connected.\n",
      "HTTP request sent, awaiting response... 200 OK\n",
      "Length: unspecified [text/plain]\n",
      "Saving to: ‘PDB.nonredund_PF00014_pdb.5pti_pdbefold_S99_L0.95/1F7Z.pdb’\n",
      "\n",
      "     0K .......... .......... .......... .......... ..........  119K\n",
      "    50K .......... .......... .......... .......... ..........  242K\n",
      "   100K .......... .......... .......... .......... .......... 1,53M\n",
      "   150K .......... .......... .......... .......... .......... 4,78M\n",
      "   200K .......... ...                                          135K=0,8s\n",
      "\n",
      "2019-04-08 17:26:57 (278 KB/s) - ‘PDB.nonredund_PF00014_pdb.5pti_pdbefold_S99_L0.95/1F7Z.pdb’ saved [218619]\n",
      "\n",
      "--2019-04-08 17:26:57--  http://www.rcsb.org/pdb/files/4U30.pdb\n",
      "Resolving www.rcsb.org (www.rcsb.org)... 128.6.244.65\n",
      "Connecting to www.rcsb.org (www.rcsb.org)|128.6.244.65|:80... connected.\n",
      "HTTP request sent, awaiting response... 301 Moved Permanently\n",
      "Location: http://files.rcsb.org/view/4U30.pdb [following]\n",
      "--2019-04-08 17:26:57--  http://files.rcsb.org/view/4U30.pdb\n",
      "Resolving files.rcsb.org (files.rcsb.org)... 128.6.244.12\n",
      "Connecting to files.rcsb.org (files.rcsb.org)|128.6.244.12|:80... connected.\n",
      "HTTP request sent, awaiting response... 200 OK\n",
      "Length: unspecified [text/plain]\n",
      "Saving to: ‘PDB.nonredund_PF00014_pdb.5pti_pdbefold_S99_L0.95/4U30.pdb’\n",
      "\n",
      "     0K .......... .......... .......... .......... ..........  119K\n",
      "    50K .......... .......... .......... .......... ..........  242K\n",
      "   100K .......... .......... .......... .......... .......... 1,63M\n",
      "   150K .......... .......... .......... .......... .......... 4,59M\n",
      "   200K .......... .......... .......... .......... ..........  259K\n",
      "   250K .......... .......... .......... .......... .......... 4,58M\n",
      "   300K .......... .......... .......... .......... ..........  465K\n",
      "   350K .......... .......... .......... .......... .......... 3,62M\n",
      "   400K .......... .......... .......... .......... ..........  777K\n",
      "   450K .......... .......... .......... .......... ..........  989K\n",
      "   500K .......... .......... .......... .......... .......... 4,14M\n",
      "   550K .......... .......... .......... .......... ..........  525K\n",
      "   600K .......... .......... .......... .......... .......... 2,40M\n",
      "   650K .......... .......... .......... .......... ..........  962K\n",
      "   700K .......... .......... .......... .......... ..........  930K\n",
      "   750K .......... ..                                          8,75M=1,3s\n",
      "\n",
      "2019-04-08 17:26:59 (569 KB/s) - ‘PDB.nonredund_PF00014_pdb.5pti_pdbefold_S99_L0.95/4U30.pdb’ saved [781002]\n",
      "\n",
      "--2019-04-08 17:26:59--  http://www.rcsb.org/pdb/files/4ISO.pdb\n",
      "Resolving www.rcsb.org (www.rcsb.org)... 128.6.244.65\n",
      "Connecting to www.rcsb.org (www.rcsb.org)|128.6.244.65|:80... connected.\n",
      "HTTP request sent, awaiting response... 301 Moved Permanently\n",
      "Location: http://files.rcsb.org/view/4ISO.pdb [following]\n",
      "--2019-04-08 17:26:59--  http://files.rcsb.org/view/4ISO.pdb\n",
      "Resolving files.rcsb.org (files.rcsb.org)... 128.6.244.12\n",
      "Connecting to files.rcsb.org (files.rcsb.org)|128.6.244.12|:80... connected.\n",
      "HTTP request sent, awaiting response... 200 OK\n",
      "Length: unspecified [text/plain]\n",
      "Saving to: ‘PDB.nonredund_PF00014_pdb.5pti_pdbefold_S99_L0.95/4ISO.pdb’\n",
      "\n",
      "     0K .......... .......... .......... .......... ..........  151K\n",
      "    50K .......... .......... .......... .......... ..........  473K\n",
      "   100K .......... .......... .......... .......... .......... 2,11M\n",
      "   150K .......... .......... .......... .......... .......... 4,14M\n",
      "   200K .......... .......... .......... .......... ..........  429K\n",
      "   250K ......                                                 25,1M=0,6s\n",
      "\n",
      "2019-04-08 17:27:00 (436 KB/s) - ‘PDB.nonredund_PF00014_pdb.5pti_pdbefold_S99_L0.95/4ISO.pdb’ saved [262197]\n",
      "\n",
      "--2019-04-08 17:27:00--  http://www.rcsb.org/pdb/files/4NTW.pdb\n",
      "Resolving www.rcsb.org (www.rcsb.org)... 128.6.244.65\n",
      "Connecting to www.rcsb.org (www.rcsb.org)|128.6.244.65|:80... connected.\n",
      "HTTP request sent, awaiting response... 301 Moved Permanently\n",
      "Location: http://files.rcsb.org/view/4NTW.pdb [following]\n",
      "--2019-04-08 17:27:00--  http://files.rcsb.org/view/4NTW.pdb\n",
      "Resolving files.rcsb.org (files.rcsb.org)... 128.6.244.12\n",
      "Connecting to files.rcsb.org (files.rcsb.org)|128.6.244.12|:80... connected.\n",
      "HTTP request sent, awaiting response... 200 OK\n",
      "Length: unspecified [text/plain]\n",
      "Saving to: ‘PDB.nonredund_PF00014_pdb.5pti_pdbefold_S99_L0.95/4NTW.pdb’\n",
      "\n",
      "     0K .......... .......... .......... .......... ..........  119K\n",
      "    50K .......... .......... .......... .......... ..........  240K\n",
      "   100K .......... .......... .......... .......... ..........  239K\n",
      "   150K .......... .......... .......... .......... ..........  236K\n",
      "   200K .......... .......... .......... .......... ..........  241K\n",
      "   250K .......... .......... .......... .......... ..........  239K\n",
      "   300K .......... .......... .......... .......... ..........  435K\n",
      "   350K .......... .......... .......... .......... ..........  452K\n",
      "   400K .......... .......... .......... .......... ..........  442K\n",
      "   450K ........                                               6,84M=1,8s\n",
      "\n",
      "2019-04-08 17:27:02 (253 KB/s) - ‘PDB.nonredund_PF00014_pdb.5pti_pdbefold_S99_L0.95/4NTW.pdb’ saved [469152]\n",
      "\n",
      "--2019-04-08 17:27:02--  http://www.rcsb.org/pdb/files/1KTH.pdb\n",
      "Resolving www.rcsb.org (www.rcsb.org)... 128.6.244.65\n",
      "Connecting to www.rcsb.org (www.rcsb.org)|128.6.244.65|:80... connected.\n",
      "HTTP request sent, awaiting response... 301 Moved Permanently\n",
      "Location: http://files.rcsb.org/view/1KTH.pdb [following]\n",
      "--2019-04-08 17:27:03--  http://files.rcsb.org/view/1KTH.pdb\n",
      "Resolving files.rcsb.org (files.rcsb.org)... 128.6.244.12\n",
      "Connecting to files.rcsb.org (files.rcsb.org)|128.6.244.12|:80... connected.\n",
      "HTTP request sent, awaiting response... 200 OK\n",
      "Length: unspecified [text/plain]\n",
      "Saving to: ‘PDB.nonredund_PF00014_pdb.5pti_pdbefold_S99_L0.95/1KTH.pdb’\n",
      "\n",
      "     0K .......... .......... .......... .......... ..........  119K\n",
      "    50K .......... .......... .......... .......... ..........  239K\n",
      "   100K .......                                                48,9M=0,6s\n",
      "\n",
      "2019-04-08 17:27:04 (171 KB/s) - ‘PDB.nonredund_PF00014_pdb.5pti_pdbefold_S99_L0.95/1KTH.pdb’ saved [110079]\n",
      "\n",
      "--2019-04-08 17:27:04--  http://www.rcsb.org/pdb/files/3T62.pdb\n",
      "Resolving www.rcsb.org (www.rcsb.org)... 128.6.244.65\n",
      "Connecting to www.rcsb.org (www.rcsb.org)|128.6.244.65|:80... connected.\n",
      "HTTP request sent, awaiting response... 301 Moved Permanently\n",
      "Location: http://files.rcsb.org/view/3T62.pdb [following]\n",
      "--2019-04-08 17:27:04--  http://files.rcsb.org/view/3T62.pdb\n",
      "Resolving files.rcsb.org (files.rcsb.org)... 128.6.244.12\n",
      "Connecting to files.rcsb.org (files.rcsb.org)|128.6.244.12|:80... connected.\n",
      "HTTP request sent, awaiting response... 200 OK\n",
      "Length: unspecified [text/plain]\n",
      "Saving to: ‘PDB.nonredund_PF00014_pdb.5pti_pdbefold_S99_L0.95/3T62.pdb’\n",
      "\n",
      "     0K .......... .......... .......... .......... ..........  119K\n",
      "    50K .......... .......... .......... .......... ..........  237K\n",
      "   100K .......... .......... .......... .......... ..........  238K\n",
      "   150K .......... .......... .......... .......... ..........  240K\n",
      "   200K .......... .......... .......... .......... ..........  239K\n",
      "   250K .......... .......... .......... .......... ..........  239K\n",
      "   300K .......... .......... .......... .......... ..........  239K\n",
      "   350K .......... .......... .......... .......... ..........  239K\n",
      "   400K .......... .......... .......... .......... ..........  239K\n",
      "   450K .......... .......... .......... .......... ..........  238K\n",
      "   500K .......... .......... .......... .......... ..........  436K\n",
      "   550K .......... .......... .......... .......... .......... 3,27M\n",
      "   600K .......... .......... .......... .......... ..........  450K\n",
      "   650K .......... .......... .......... .......... ..........  473K\n",
      "   700K .......... .......... .......... .......... ..........  517K\n",
      "   750K .......... .......... .......... .......... .......... 1,79M\n",
      "   800K .......... .......... .......... .......... ..........  494K\n",
      "   850K .......... .......... .......... .......... ..........  559K\n",
      "   900K .......... .......... .......... .......... .......... 1,40M\n",
      "   950K .......... .......... .......... .......... ..........  610K\n",
      "  1000K .......... .......... .......... .......... .......... 1,54M\n",
      "  1050K .......... .......... .......... .......... ..........  560K\n",
      "  1100K .......... .......... .......... .......... .......... 2,09M\n",
      "  1150K ...                                                    66,6K=3,3s\n",
      "\n",
      "2019-04-08 17:27:08 (351 KB/s) - ‘PDB.nonredund_PF00014_pdb.5pti_pdbefold_S99_L0.95/3T62.pdb’ saved [1181628]\n",
      "\n",
      "--2019-04-08 17:27:08--  http://www.rcsb.org/pdb/files/1ZR0.pdb\n",
      "Resolving www.rcsb.org (www.rcsb.org)... 128.6.244.65\n",
      "Connecting to www.rcsb.org (www.rcsb.org)|128.6.244.65|:80... connected.\n",
      "HTTP request sent, awaiting response... 301 Moved Permanently\n",
      "Location: http://files.rcsb.org/view/1ZR0.pdb [following]\n",
      "--2019-04-08 17:27:08--  http://files.rcsb.org/view/1ZR0.pdb\n",
      "Resolving files.rcsb.org (files.rcsb.org)... 128.6.244.12\n",
      "Connecting to files.rcsb.org (files.rcsb.org)|128.6.244.12|:80... connected.\n",
      "HTTP request sent, awaiting response... 200 OK\n",
      "Length: unspecified [text/plain]\n",
      "Saving to: ‘PDB.nonredund_PF00014_pdb.5pti_pdbefold_S99_L0.95/1ZR0.pdb’\n",
      "\n",
      "     0K .......... .......... .......... .......... .......... 89,5K\n",
      "    50K .......... .......... .......... .......... ..........  282K\n",
      "   100K .......... .......... .......... .......... ..........  448K\n",
      "   150K .......... .......... .......... .......... ..........  448K\n",
      "   200K .......... .......... .......... .......... ..........  469K\n",
      "   250K .......... .......... .......... .......... .......... 3,43M\n",
      "   300K .......... .......... .......... .......... ..........  441K\n",
      "   350K .......... .......... .......... .......... ..........  449K\n",
      "   400K .......... .......... .......... ...                    366K=1,4s\n",
      "\n",
      "2019-04-08 17:27:10 (311 KB/s) - ‘PDB.nonredund_PF00014_pdb.5pti_pdbefold_S99_L0.95/1ZR0.pdb’ saved [443961]\n",
      "\n",
      "--2019-04-08 17:27:10--  http://www.rcsb.org/pdb/files/3M7Q.pdb\n",
      "Resolving www.rcsb.org (www.rcsb.org)... 128.6.244.65\n",
      "Connecting to www.rcsb.org (www.rcsb.org)|128.6.244.65|:80... connected.\n",
      "HTTP request sent, awaiting response... 301 Moved Permanently\n",
      "Location: http://files.rcsb.org/view/3M7Q.pdb [following]\n",
      "--2019-04-08 17:27:11--  http://files.rcsb.org/view/3M7Q.pdb\n",
      "Resolving files.rcsb.org (files.rcsb.org)... 128.6.244.12\n",
      "Connecting to files.rcsb.org (files.rcsb.org)|128.6.244.12|:80... connected.\n",
      "HTTP request sent, awaiting response... 200 OK\n",
      "Length: unspecified [text/plain]\n",
      "Saving to: ‘PDB.nonredund_PF00014_pdb.5pti_pdbefold_S99_L0.95/3M7Q.pdb’\n",
      "\n",
      "     0K .......... .......... .......... .......... ..........  119K\n",
      "    50K .......... .......... .......... .......... ..........  239K\n",
      "   100K .......... .......... .......... .......... ..........  240K\n",
      "   150K .......... .......... .......... .......... ..........  240K\n",
      "   200K .......... .......... .......... .......... ......      225K=1,3s\n",
      "\n",
      "2019-04-08 17:27:12 (197 KB/s) - ‘PDB.nonredund_PF00014_pdb.5pti_pdbefold_S99_L0.95/3M7Q.pdb’ saved [252477]\n",
      "\n",
      "--2019-04-08 17:27:12--  http://www.rcsb.org/pdb/files/1TFX.pdb\n",
      "Resolving www.rcsb.org (www.rcsb.org)... 128.6.244.65\n",
      "Connecting to www.rcsb.org (www.rcsb.org)|128.6.244.65|:80... connected.\n",
      "HTTP request sent, awaiting response... 301 Moved Permanently\n",
      "Location: http://files.rcsb.org/view/1TFX.pdb [following]\n",
      "--2019-04-08 17:27:12--  http://files.rcsb.org/view/1TFX.pdb\n",
      "Resolving files.rcsb.org (files.rcsb.org)... 128.6.244.12\n",
      "Connecting to files.rcsb.org (files.rcsb.org)|128.6.244.12|:80... connected.\n",
      "HTTP request sent, awaiting response... 200 OK\n",
      "Length: unspecified [text/plain]\n",
      "Saving to: ‘PDB.nonredund_PF00014_pdb.5pti_pdbefold_S99_L0.95/1TFX.pdb’\n",
      "\n",
      "     0K .......... .......... .......... .......... ..........  119K\n",
      "    50K .......... .......... .......... .......... ..........  239K\n",
      "   100K .......... .......... .......... .......... ..........  240K\n",
      "   150K .......... .......... .......... .......... ..........  239K\n",
      "   200K .......... .......... .......... .......... ..........  242K\n",
      "   250K .......... .......... .......... .......... .......... 8,96M\n",
      "   300K .......... .......... .......... .......... ..........  221K\n",
      "   350K .......... .......... .......... .......... ....        233K=1,7s\n",
      "\n",
      "2019-04-08 17:27:15 (235 KB/s) - ‘PDB.nonredund_PF00014_pdb.5pti_pdbefold_S99_L0.95/1TFX.pdb’ saved [403623]\n",
      "\n",
      "--2019-04-08 17:27:15--  http://www.rcsb.org/pdb/files/5NMV.pdb\n",
      "Resolving www.rcsb.org (www.rcsb.org)... 128.6.244.65\n",
      "Connecting to www.rcsb.org (www.rcsb.org)|128.6.244.65|:80... connected.\n",
      "HTTP request sent, awaiting response... 301 Moved Permanently\n",
      "Location: http://files.rcsb.org/view/5NMV.pdb [following]\n",
      "--2019-04-08 17:27:15--  http://files.rcsb.org/view/5NMV.pdb\n",
      "Resolving files.rcsb.org (files.rcsb.org)... 128.6.244.12\n",
      "Connecting to files.rcsb.org (files.rcsb.org)|128.6.244.12|:80... connected.\n",
      "HTTP request sent, awaiting response... 200 OK\n",
      "Length: unspecified [text/plain]\n",
      "Saving to: ‘PDB.nonredund_PF00014_pdb.5pti_pdbefold_S99_L0.95/5NMV.pdb’\n",
      "\n",
      "     0K .......... .......... .......... .......... ..........  119K\n",
      "    50K .......... .......... .......... .......... ..........  239K\n",
      "   100K .......... .......... .......... .......... ..........  239K\n",
      "   150K .......... .......... .......... .......... ..........  241K\n",
      "   200K .......... .......... .......... .......... ..........  240K\n",
      "   250K .......... .......... .......... .......... .......... 8,90M\n",
      "   300K .......... .......... .......... .......... ..........  221K\n",
      "   350K .......... .......... .......... .......... ..........  428K\n",
      "   400K .......... .......... .......... .......... ..........  442K\n",
      "   450K .......... .......... .......... .......... ..........  449K\n",
      "   500K .......... .......... .......... .......... .......... 2,83M\n",
      "   550K .......... .......... .......... .......... ..........  441K\n",
      "   600K .......... .......... .......... .......... ..........  469K\n",
      "   650K .......... .......... .......... .......... .......... 2,60M\n",
      "   700K .......... .......... .......... .......... ..........  462K\n",
      "   750K .......... .......... .......... .......... ..........  520K\n",
      "   800K .......... .......... .......... .......... .......... 1,37M\n",
      "   850K .......... .......... .......... .......... ..........  510K\n",
      "   900K .......... .......... .......... .......... .......... 2,24M\n",
      "   950K .......... .......... .......... .......... ..........  492K\n",
      "  1000K .......... .......... ...                              1,71M=2,6s\n",
      "\n",
      "2019-04-08 17:27:18 (400 KB/s) - ‘PDB.nonredund_PF00014_pdb.5pti_pdbefold_S99_L0.95/5NMV.pdb’ saved [1048464]\n",
      "\n",
      "--2019-04-08 17:27:18--  http://www.rcsb.org/pdb/files/5NX1.pdb\n",
      "Resolving www.rcsb.org (www.rcsb.org)... 128.6.244.65\n",
      "Connecting to www.rcsb.org (www.rcsb.org)|128.6.244.65|:80... connected.\n",
      "HTTP request sent, awaiting response... 301 Moved Permanently\n",
      "Location: http://files.rcsb.org/view/5NX1.pdb [following]\n",
      "--2019-04-08 17:27:18--  http://files.rcsb.org/view/5NX1.pdb\n",
      "Resolving files.rcsb.org (files.rcsb.org)... 128.6.244.12\n",
      "Connecting to files.rcsb.org (files.rcsb.org)|128.6.244.12|:80... connected.\n",
      "HTTP request sent, awaiting response... 200 OK\n",
      "Length: unspecified [text/plain]\n",
      "Saving to: ‘PDB.nonredund_PF00014_pdb.5pti_pdbefold_S99_L0.95/5NX1.pdb’\n",
      "\n",
      "     0K .......... .......... .......... .......... ..........  119K\n",
      "    50K .......... .......... .......... .......... ..........  240K\n",
      "   100K .......... .......... .......... .......... ..........  239K\n",
      "   150K .......... .......... .......... .......... ..........  239K\n",
      "   200K .......... .......... .......... .......... ..........  242K\n",
      "   250K .......... .......... .......... .......... .......... 9,22M\n",
      "   300K .......... .......... .......... .......... ..........  221K\n",
      "   350K .......... .......... .......... .......... ..........  256K\n",
      "   400K .......... .......... .......... .......... ..........  226K\n",
      "   450K .......... .......... .......... .....                 5,53M=1,9s\n",
      "\n",
      "2019-04-08 17:27:21 (255 KB/s) - ‘PDB.nonredund_PF00014_pdb.5pti_pdbefold_S99_L0.95/5NX1.pdb’ saved [497502]\n",
      "\n",
      "--2019-04-08 17:27:21--  http://www.rcsb.org/pdb/files/4BQD.pdb\n",
      "Resolving www.rcsb.org (www.rcsb.org)... 128.6.244.65\n",
      "Connecting to www.rcsb.org (www.rcsb.org)|128.6.244.65|:80... connected.\n",
      "HTTP request sent, awaiting response... 301 Moved Permanently\n",
      "Location: http://files.rcsb.org/view/4BQD.pdb [following]\n",
      "--2019-04-08 17:27:21--  http://files.rcsb.org/view/4BQD.pdb\n",
      "Resolving files.rcsb.org (files.rcsb.org)... 128.6.244.12\n",
      "Connecting to files.rcsb.org (files.rcsb.org)|128.6.244.12|:80... connected.\n",
      "HTTP request sent, awaiting response... 200 OK\n",
      "Length: unspecified [text/plain]\n",
      "Saving to: ‘PDB.nonredund_PF00014_pdb.5pti_pdbefold_S99_L0.95/4BQD.pdb’\n",
      "\n",
      "     0K .......... .......... .......... .......... ..........  119K\n",
      "    50K .......... .......... .......... .......... ..........  240K\n",
      "   100K .......... .......... .......... .......... ..........  239K\n",
      "   150K .......... .......... .......... .......... ..........  240K\n",
      "   200K .......... .......... .......... .......... ..........  429K\n",
      "   250K .......... .......... .......... .......... .....      3,46M=1,2s\n",
      "\n",
      "2019-04-08 17:27:23 (251 KB/s) - ‘PDB.nonredund_PF00014_pdb.5pti_pdbefold_S99_L0.95/4BQD.pdb’ saved [302454]\n",
      "\n",
      "--2019-04-08 17:27:23--  http://www.rcsb.org/pdb/files/1YC0.pdb\n",
      "Resolving www.rcsb.org (www.rcsb.org)... 128.6.244.65\n",
      "Connecting to www.rcsb.org (www.rcsb.org)|128.6.244.65|:80... connected.\n",
      "HTTP request sent, awaiting response... 301 Moved Permanently\n",
      "Location: http://files.rcsb.org/view/1YC0.pdb [following]\n",
      "--2019-04-08 17:27:23--  http://files.rcsb.org/view/1YC0.pdb\n",
      "Resolving files.rcsb.org (files.rcsb.org)... 128.6.244.12\n",
      "Connecting to files.rcsb.org (files.rcsb.org)|128.6.244.12|:80... connected.\n",
      "HTTP request sent, awaiting response... 200 OK\n",
      "Length: unspecified [text/plain]\n",
      "Saving to: ‘PDB.nonredund_PF00014_pdb.5pti_pdbefold_S99_L0.95/1YC0.pdb’\n",
      "\n",
      "     0K .......... .......... .......... .......... ..........  118K\n",
      "    50K .......... .......... .......... .......... ..........  416K\n",
      "   100K .......... .......... .......... .......... ..........  415K\n",
      "   150K .......... .......... .......... .......... ..........  439K\n",
      "   200K .......... .......... .......... .......... .....       419K=0,9s\n",
      "\n",
      "2019-04-08 17:27:24 (277 KB/s) - ‘PDB.nonredund_PF00014_pdb.5pti_pdbefold_S99_L0.95/1YC0.pdb’ saved [251586]\n",
      "\n",
      "--2019-04-08 17:27:24--  http://www.rcsb.org/pdb/files/4DTG.pdb\n",
      "Resolving www.rcsb.org (www.rcsb.org)... 128.6.244.65\n",
      "Connecting to www.rcsb.org (www.rcsb.org)|128.6.244.65|:80... connected.\n",
      "HTTP request sent, awaiting response... 301 Moved Permanently\n",
      "Location: http://files.rcsb.org/view/4DTG.pdb [following]\n",
      "--2019-04-08 17:27:25--  http://files.rcsb.org/view/4DTG.pdb\n",
      "Resolving files.rcsb.org (files.rcsb.org)... 128.6.244.12\n",
      "Connecting to files.rcsb.org (files.rcsb.org)|128.6.244.12|:80... connected.\n",
      "HTTP request sent, awaiting response... 200 OK\n",
      "Length: unspecified [text/plain]\n",
      "Saving to: ‘PDB.nonredund_PF00014_pdb.5pti_pdbefold_S99_L0.95/4DTG.pdb’\n",
      "\n",
      "     0K .......... .......... .......... .......... ..........  119K\n",
      "    50K .......... .......... .......... .......... ..........  416K\n",
      "   100K .......... .......... .......... .......... ..........  260K\n",
      "   150K .......... .......... .......... .......... ..........  239K\n",
      "   200K .......... .......... .......... .......... ..........  239K\n",
      "   250K .......... .......... .......... .......... ..........  242K\n",
      "   300K .......... .......... .......... .......... .......... 2,14M\n",
      "   350K .......... .......... .......... .......... ..........  429K\n",
      "   400K .......... .......... .......... .......... ..........  439K\n",
      "   450K .......... .......... .......... .......... ..........  464K\n",
      "   500K .......... .......... .......... .......... .......... 2,39M\n",
      "   550K .......... .......... .......... .......... ..........  441K\n",
      "   600K .......... .......... .......... .......... ..........  495K\n",
      "   650K .......... .......... .......... .......... .......... 1,98M\n",
      "   700K .......... .......... .......... ...                    356K=2,1s\n",
      "\n",
      "2019-04-08 17:27:27 (354 KB/s) - ‘PDB.nonredund_PF00014_pdb.5pti_pdbefold_S99_L0.95/4DTG.pdb’ saved [750870]\n",
      "\n",
      "--2019-04-08 17:27:27--  http://www.rcsb.org/pdb/files/1BUN.pdb\n",
      "Resolving www.rcsb.org (www.rcsb.org)... 128.6.244.65\n",
      "Connecting to www.rcsb.org (www.rcsb.org)|128.6.244.65|:80... connected.\n",
      "HTTP request sent, awaiting response... 301 Moved Permanently\n",
      "Location: http://files.rcsb.org/view/1BUN.pdb [following]\n",
      "--2019-04-08 17:27:27--  http://files.rcsb.org/view/1BUN.pdb\n",
      "Resolving files.rcsb.org (files.rcsb.org)... 128.6.244.12\n",
      "Connecting to files.rcsb.org (files.rcsb.org)|128.6.244.12|:80... connected.\n",
      "HTTP request sent, awaiting response... 200 OK\n",
      "Length: unspecified [text/plain]\n",
      "Saving to: ‘PDB.nonredund_PF00014_pdb.5pti_pdbefold_S99_L0.95/1BUN.pdb’\n",
      "\n",
      "     0K .......... .......... .......... .......... ..........  119K\n",
      "    50K .......... .......... .......... .......... ..........  238K\n",
      "   100K .......... .......... .......... .......... ..........  242K\n",
      "   150K ....                                                   16,4M=0,8s\n",
      "\n",
      "2019-04-08 17:27:29 (184 KB/s) - ‘PDB.nonredund_PF00014_pdb.5pti_pdbefold_S99_L0.95/1BUN.pdb’ saved [157707]\n",
      "\n",
      "--2019-04-08 17:27:29--  http://www.rcsb.org/pdb/files/5YV7.pdb\n",
      "Resolving www.rcsb.org (www.rcsb.org)... 128.6.244.65\n",
      "Connecting to www.rcsb.org (www.rcsb.org)|128.6.244.65|:80... connected.\n",
      "HTTP request sent, awaiting response... 301 Moved Permanently\n",
      "Location: http://files.rcsb.org/view/5YV7.pdb [following]\n",
      "--2019-04-08 17:27:29--  http://files.rcsb.org/view/5YV7.pdb\n",
      "Resolving files.rcsb.org (files.rcsb.org)... 128.6.244.12\n",
      "Connecting to files.rcsb.org (files.rcsb.org)|128.6.244.12|:80... connected.\n",
      "HTTP request sent, awaiting response... 200 OK\n",
      "Length: unspecified [text/plain]\n",
      "Saving to: ‘PDB.nonredund_PF00014_pdb.5pti_pdbefold_S99_L0.95/5YV7.pdb’\n",
      "\n",
      "     0K .......... .......... .......... .......... ..........  119K\n",
      "    50K .......... ........                                    58,6M=0,4s\n",
      "\n",
      "2019-04-08 17:27:30 (163 KB/s) - ‘PDB.nonredund_PF00014_pdb.5pti_pdbefold_S99_L0.95/5YV7.pdb’ saved [70389]\n",
      "\n",
      "--2019-04-08 17:27:30--  http://www.rcsb.org/pdb/files/1DTX.pdb\n",
      "Resolving www.rcsb.org (www.rcsb.org)... 128.6.244.65\n",
      "Connecting to www.rcsb.org (www.rcsb.org)|128.6.244.65|:80... connected.\n",
      "HTTP request sent, awaiting response... 301 Moved Permanently\n",
      "Location: http://files.rcsb.org/view/1DTX.pdb [following]\n",
      "--2019-04-08 17:27:30--  http://files.rcsb.org/view/1DTX.pdb\n",
      "Resolving files.rcsb.org (files.rcsb.org)... 128.6.244.12\n",
      "Connecting to files.rcsb.org (files.rcsb.org)|128.6.244.12|:80... connected.\n",
      "HTTP request sent, awaiting response... 200 OK\n",
      "Length: unspecified [text/plain]\n",
      "Saving to: ‘PDB.nonredund_PF00014_pdb.5pti_pdbefold_S99_L0.95/1DTX.pdb’\n",
      "\n",
      "     0K .......... .......... .......... .......... ..........  119K\n",
      "    50K .......... .......... ....                             13,9M=0,4s\n",
      "\n",
      "2019-04-08 17:27:31 (176 KB/s) - ‘PDB.nonredund_PF00014_pdb.5pti_pdbefold_S99_L0.95/1DTX.pdb’ saved [75978]\n",
      "\n",
      "--2019-04-08 17:27:31--  http://www.rcsb.org/pdb/files/5NX1.pdb\n",
      "Resolving www.rcsb.org (www.rcsb.org)... 128.6.244.65\n",
      "Connecting to www.rcsb.org (www.rcsb.org)|128.6.244.65|:80... connected.\n",
      "HTTP request sent, awaiting response... 301 Moved Permanently\n",
      "Location: http://files.rcsb.org/view/5NX1.pdb [following]\n",
      "--2019-04-08 17:27:31--  http://files.rcsb.org/view/5NX1.pdb\n",
      "Resolving files.rcsb.org (files.rcsb.org)... 128.6.244.12\n",
      "Connecting to files.rcsb.org (files.rcsb.org)|128.6.244.12|:80... connected.\n",
      "HTTP request sent, awaiting response... 200 OK\n",
      "Length: unspecified [text/plain]\n",
      "Saving to: ‘PDB.nonredund_PF00014_pdb.5pti_pdbefold_S99_L0.95/5NX1.pdb’\n",
      "\n",
      "     0K .......... .......... .......... .......... ..........  128K\n",
      "    50K .......... .......... .......... .......... ..........  239K\n",
      "   100K .......... .......... .......... .......... ..........  240K\n",
      "   150K .......... .......... .......... .......... ..........  441K\n",
      "   200K .......... .......... .......... .......... ..........  457K\n",
      "   250K .......... .......... .......... .......... .......... 3,87M\n",
      "   300K .......... .......... .......... .......... ..........  436K\n",
      "   350K .......... .......... .......... .......... ..........  431K\n",
      "   400K .......... .......... .......... .......... ..........  470K\n",
      "   450K .......... .......... .......... .....                 4,43M=1,4s\n",
      "\n",
      "2019-04-08 17:27:33 (350 KB/s) - ‘PDB.nonredund_PF00014_pdb.5pti_pdbefold_S99_L0.95/5NX1.pdb’ saved [497502]\n",
      "\n",
      "--2019-04-08 17:27:33--  http://www.rcsb.org/pdb/files/4U32.pdb\n",
      "Resolving www.rcsb.org (www.rcsb.org)... 128.6.244.65\n",
      "Connecting to www.rcsb.org (www.rcsb.org)|128.6.244.65|:80... connected.\n",
      "HTTP request sent, awaiting response... 301 Moved Permanently\n",
      "Location: http://files.rcsb.org/view/4U32.pdb [following]\n",
      "--2019-04-08 17:27:33--  http://files.rcsb.org/view/4U32.pdb\n",
      "Resolving files.rcsb.org (files.rcsb.org)... 128.6.244.12\n",
      "Connecting to files.rcsb.org (files.rcsb.org)|128.6.244.12|:80... connected.\n",
      "HTTP request sent, awaiting response... 200 OK\n",
      "Length: unspecified [text/plain]\n",
      "Saving to: ‘PDB.nonredund_PF00014_pdb.5pti_pdbefold_S99_L0.95/4U32.pdb’\n",
      "\n",
      "     0K .......... .......... .......... .......... ..........  119K\n",
      "    50K .......... .......... .......... .......... ..........  239K\n",
      "   100K .......... .......... .......... .......... ..........  239K\n",
      "   150K .......... .......... .......... .......... ..........  240K\n",
      "   200K .......... .......... .......... ..                    15,1M=1,0s\n",
      "\n",
      "2019-04-08 17:27:35 (222 KB/s) - ‘PDB.nonredund_PF00014_pdb.5pti_pdbefold_S99_L0.95/4U32.pdb’ saved [237978]\n",
      "\n",
      "--2019-04-08 17:27:35--  http://www.rcsb.org/pdb/files/5YW1.pdb\n",
      "Resolving www.rcsb.org (www.rcsb.org)... 128.6.244.65\n",
      "Connecting to www.rcsb.org (www.rcsb.org)|128.6.244.65|:80... connected.\n",
      "HTTP request sent, awaiting response... 301 Moved Permanently\n",
      "Location: http://files.rcsb.org/view/5YW1.pdb [following]\n",
      "--2019-04-08 17:27:35--  http://files.rcsb.org/view/5YW1.pdb\n",
      "Resolving files.rcsb.org (files.rcsb.org)... 128.6.244.12\n",
      "Connecting to files.rcsb.org (files.rcsb.org)|128.6.244.12|:80... connected.\n",
      "HTTP request sent, awaiting response... 200 OK\n",
      "Length: unspecified [text/plain]\n",
      "Saving to: ‘PDB.nonredund_PF00014_pdb.5pti_pdbefold_S99_L0.95/5YW1.pdb’\n",
      "\n",
      "     0K .......... .......... .......... .......... ..........  119K\n",
      "    50K .......... .......... .......... .......... ..........  239K\n",
      "   100K .......... .......... .......... .......... ..........  239K\n",
      "   150K .......... .......... .......... .......... ..........  239K\n",
      "   200K .......... .......... .......... .......... ..........  323K\n",
      "   250K .......... .......... .......... .......... .......... 4,98M\n",
      "   300K .......... .......... .......... .......... ..........  450K\n",
      "   350K .......... .......... .......... .......... ..........  445K\n",
      "   400K .......... .......... .......... .......... ..........  447K\n",
      "   450K .......... .......... .......... .......... ..........  506K\n",
      "   500K .......... .......... .......... .......... .......... 2,43M\n",
      "   550K .......... .......... .......... .......... ..........  447K\n",
      "   600K .......... .......... .......... .......... ..........  556K\n",
      "   650K .......... .......... .......... .......... .......... 1,91M\n",
      "   700K .......... .......... .......... .......... ..........  463K\n",
      "   750K .......... .......... .......... .......... ..........  656K\n",
      "   800K .......... .......... .......... .......... .......... 1,21M\n",
      "   850K .......... .......... .......... ..........             527K=2,2s\n",
      "\n",
      "2019-04-08 17:27:38 (406 KB/s) - ‘PDB.nonredund_PF00014_pdb.5pti_pdbefold_S99_L0.95/5YW1.pdb’ saved [912060]\n",
      "\n",
      "Finished job 0.\n",
      "1 of 1 steps (100%) done\n"
     ]
    }
   ],
   "source": [
    "%%bash\n",
    "cd ../dataset/\n",
    "pwd\n",
    "snakemake -p PDB.nonredund_PF00014_pdb.5pti_pdbefold_S99_L0.95/get_chains_completed\n",
    "ls -lh PDB.nonredund_PF00014_pdb.5pti_pdbefold_S99_L0.95/ | wc -l\n",
    "ls -lh PDB.nonredund_PF00014_pdb.5pti_pdbefold_S99_L0.95/"
   ]
  },
  {
   "cell_type": "markdown",
   "metadata": {},
   "source": [
    "#### PDBeFold MSA\n",
    "nonredund_PF00014_pdb.5pti_pdbefold_S99_L0.95.idlist was used to feed [PDBeFold](http://www.ebi.ac.uk/msd-srv/ssm/) to peform structure-based sequences alignment\n",
    "\n",
    "Result was downloaded in fasta format in **nonredund_PF00014_pdb.5pti_pdbefold_S99_L0.95.pdbefold.afa**\n",
    "\n",
    "Note: an html file diplaying the pdbefold results summary has been saved in ../handmade/"
   ]
  },
  {
   "cell_type": "code",
   "execution_count": 39,
   "metadata": {},
   "outputs": [
    {
     "name": "stdout",
     "output_type": "stream",
     "text": [
      "/home/alessandro/Unibo/python-programming-alessandro-lussana/LB1/prj/kunitz_BPTI_hmm/dataset\n",
      "lrwxrwxrwx 1 alessandro alessandro 70 apr  8 17:02 nonredund_PF00014_pdb.5pti_pdbefold_S99_L0.95.pdbefold.afa -> ../handmade/nonredund_PF00014_pdb.5pti_pdbefold_S99_L0.95.pdbefold.afa\n",
      ">PDB:5pti:A STRUCTURE OF BOVINE PANCREATIC TRYPSIN INHIBITOR. \n",
      "--------rpdfcleppytgpckARIIRYFYNAKAGLCQTFVYGgCRA-KRNNFKSAEDCMRTCgga-\n",
      "\n",
      ">PDB:1aap:A X-RAY CRYSTAL STRUCTURE OF THE PROTEASE INHIBITOR \n",
      "--------vrevcseqaetgpcrAMISRWYFDVTEGKCAPFFYGgCGG-NRNNFDTEEYCMAVCg---\n"
     ]
    }
   ],
   "source": [
    "%%bash\n",
    "cd ../dataset/\n",
    "pwd\n",
    "ls -lh nonredund_PF00014_pdb.5pti_pdbefold_S99_L0.95.pdbefold.afa\n",
    "cat nonredund_PF00014_pdb.5pti_pdbefold_S99_L0.95.pdbefold.afa | head -5"
   ]
  },
  {
   "cell_type": "markdown",
   "metadata": {},
   "source": [
    "#### MUSTANG MSA"
   ]
  },
  {
   "cell_type": "code",
   "execution_count": 17,
   "metadata": {},
   "outputs": [
    {
     "name": "stdout",
     "output_type": "stream",
     "text": [
      "/home/alessandro/Unibo/python-programming-alessandro-lussana/LB1/prj/kunitz_BPTI_hmm/dataset\n"
     ]
    },
    {
     "name": "stderr",
     "output_type": "stream",
     "text": [
      "MissingInputException in line 65 of /home/alessandro/Unibo/python-programming-alessandro-lussana/LB1/prj/kunitz_BPTI_hmm/dataset/Snakefile:\n",
      "Missing input files for rule intersection2fasta:\n",
      "PF00014_pdb.5pti_pdbefold.txt.gz\n"
     ]
    },
    {
     "ename": "CalledProcessError",
     "evalue": "Command 'b'cd ../dataset/\\npwd\\nsnakemake -p nonredund_PF00014_pdb.5pti_pdbefold_S99_L0.95.mustang.afa\\n'' returned non-zero exit status 1.",
     "output_type": "error",
     "traceback": [
      "\u001b[0;31m---------------------------------------------------------------------------\u001b[0m",
      "\u001b[0;31mCalledProcessError\u001b[0m                        Traceback (most recent call last)",
      "\u001b[0;32m<ipython-input-17-778fabb7f735>\u001b[0m in \u001b[0;36m<module>\u001b[0;34m\u001b[0m\n\u001b[0;32m----> 1\u001b[0;31m \u001b[0mget_ipython\u001b[0m\u001b[0;34m(\u001b[0m\u001b[0;34m)\u001b[0m\u001b[0;34m.\u001b[0m\u001b[0mrun_cell_magic\u001b[0m\u001b[0;34m(\u001b[0m\u001b[0;34m'bash'\u001b[0m\u001b[0;34m,\u001b[0m \u001b[0;34m''\u001b[0m\u001b[0;34m,\u001b[0m \u001b[0;34m'cd ../dataset/\\npwd\\nsnakemake -p nonredund_PF00014_pdb.5pti_pdbefold_S99_L0.95.mustang.afa\\n'\u001b[0m\u001b[0;34m)\u001b[0m\u001b[0;34m\u001b[0m\u001b[0m\n\u001b[0m",
      "\u001b[0;32m~/miniconda3/lib/python3.6/site-packages/IPython/core/interactiveshell.py\u001b[0m in \u001b[0;36mrun_cell_magic\u001b[0;34m(self, magic_name, line, cell)\u001b[0m\n\u001b[1;32m   2345\u001b[0m                 \u001b[0mmagic_arg_s\u001b[0m \u001b[0;34m=\u001b[0m \u001b[0mself\u001b[0m\u001b[0;34m.\u001b[0m\u001b[0mvar_expand\u001b[0m\u001b[0;34m(\u001b[0m\u001b[0mline\u001b[0m\u001b[0;34m,\u001b[0m \u001b[0mstack_depth\u001b[0m\u001b[0;34m)\u001b[0m\u001b[0;34m\u001b[0m\u001b[0m\n\u001b[1;32m   2346\u001b[0m             \u001b[0;32mwith\u001b[0m \u001b[0mself\u001b[0m\u001b[0;34m.\u001b[0m\u001b[0mbuiltin_trap\u001b[0m\u001b[0;34m:\u001b[0m\u001b[0;34m\u001b[0m\u001b[0m\n\u001b[0;32m-> 2347\u001b[0;31m                 \u001b[0mresult\u001b[0m \u001b[0;34m=\u001b[0m \u001b[0mfn\u001b[0m\u001b[0;34m(\u001b[0m\u001b[0mmagic_arg_s\u001b[0m\u001b[0;34m,\u001b[0m \u001b[0mcell\u001b[0m\u001b[0;34m)\u001b[0m\u001b[0;34m\u001b[0m\u001b[0m\n\u001b[0m\u001b[1;32m   2348\u001b[0m             \u001b[0;32mreturn\u001b[0m \u001b[0mresult\u001b[0m\u001b[0;34m\u001b[0m\u001b[0m\n\u001b[1;32m   2349\u001b[0m \u001b[0;34m\u001b[0m\u001b[0m\n",
      "\u001b[0;32m~/miniconda3/lib/python3.6/site-packages/IPython/core/magics/script.py\u001b[0m in \u001b[0;36mnamed_script_magic\u001b[0;34m(line, cell)\u001b[0m\n\u001b[1;32m    140\u001b[0m             \u001b[0;32melse\u001b[0m\u001b[0;34m:\u001b[0m\u001b[0;34m\u001b[0m\u001b[0m\n\u001b[1;32m    141\u001b[0m                 \u001b[0mline\u001b[0m \u001b[0;34m=\u001b[0m \u001b[0mscript\u001b[0m\u001b[0;34m\u001b[0m\u001b[0m\n\u001b[0;32m--> 142\u001b[0;31m             \u001b[0;32mreturn\u001b[0m \u001b[0mself\u001b[0m\u001b[0;34m.\u001b[0m\u001b[0mshebang\u001b[0m\u001b[0;34m(\u001b[0m\u001b[0mline\u001b[0m\u001b[0;34m,\u001b[0m \u001b[0mcell\u001b[0m\u001b[0;34m)\u001b[0m\u001b[0;34m\u001b[0m\u001b[0m\n\u001b[0m\u001b[1;32m    143\u001b[0m \u001b[0;34m\u001b[0m\u001b[0m\n\u001b[1;32m    144\u001b[0m         \u001b[0;31m# write a basic docstring:\u001b[0m\u001b[0;34m\u001b[0m\u001b[0;34m\u001b[0m\u001b[0m\n",
      "\u001b[0;32m</home/alessandro/miniconda3/lib/python3.6/site-packages/decorator.py:decorator-gen-110>\u001b[0m in \u001b[0;36mshebang\u001b[0;34m(self, line, cell)\u001b[0m\n",
      "\u001b[0;32m~/miniconda3/lib/python3.6/site-packages/IPython/core/magic.py\u001b[0m in \u001b[0;36m<lambda>\u001b[0;34m(f, *a, **k)\u001b[0m\n\u001b[1;32m    185\u001b[0m     \u001b[0;31m# but it's overkill for just that one bit of state.\u001b[0m\u001b[0;34m\u001b[0m\u001b[0;34m\u001b[0m\u001b[0m\n\u001b[1;32m    186\u001b[0m     \u001b[0;32mdef\u001b[0m \u001b[0mmagic_deco\u001b[0m\u001b[0;34m(\u001b[0m\u001b[0marg\u001b[0m\u001b[0;34m)\u001b[0m\u001b[0;34m:\u001b[0m\u001b[0;34m\u001b[0m\u001b[0m\n\u001b[0;32m--> 187\u001b[0;31m         \u001b[0mcall\u001b[0m \u001b[0;34m=\u001b[0m \u001b[0;32mlambda\u001b[0m \u001b[0mf\u001b[0m\u001b[0;34m,\u001b[0m \u001b[0;34m*\u001b[0m\u001b[0ma\u001b[0m\u001b[0;34m,\u001b[0m \u001b[0;34m**\u001b[0m\u001b[0mk\u001b[0m\u001b[0;34m:\u001b[0m \u001b[0mf\u001b[0m\u001b[0;34m(\u001b[0m\u001b[0;34m*\u001b[0m\u001b[0ma\u001b[0m\u001b[0;34m,\u001b[0m \u001b[0;34m**\u001b[0m\u001b[0mk\u001b[0m\u001b[0;34m)\u001b[0m\u001b[0;34m\u001b[0m\u001b[0m\n\u001b[0m\u001b[1;32m    188\u001b[0m \u001b[0;34m\u001b[0m\u001b[0m\n\u001b[1;32m    189\u001b[0m         \u001b[0;32mif\u001b[0m \u001b[0mcallable\u001b[0m\u001b[0;34m(\u001b[0m\u001b[0marg\u001b[0m\u001b[0;34m)\u001b[0m\u001b[0;34m:\u001b[0m\u001b[0;34m\u001b[0m\u001b[0m\n",
      "\u001b[0;32m~/miniconda3/lib/python3.6/site-packages/IPython/core/magics/script.py\u001b[0m in \u001b[0;36mshebang\u001b[0;34m(self, line, cell)\u001b[0m\n\u001b[1;32m    243\u001b[0m             \u001b[0msys\u001b[0m\u001b[0;34m.\u001b[0m\u001b[0mstderr\u001b[0m\u001b[0;34m.\u001b[0m\u001b[0mflush\u001b[0m\u001b[0;34m(\u001b[0m\u001b[0;34m)\u001b[0m\u001b[0;34m\u001b[0m\u001b[0m\n\u001b[1;32m    244\u001b[0m         \u001b[0;32mif\u001b[0m \u001b[0margs\u001b[0m\u001b[0;34m.\u001b[0m\u001b[0mraise_error\u001b[0m \u001b[0;32mand\u001b[0m \u001b[0mp\u001b[0m\u001b[0;34m.\u001b[0m\u001b[0mreturncode\u001b[0m\u001b[0;34m!=\u001b[0m\u001b[0;36m0\u001b[0m\u001b[0;34m:\u001b[0m\u001b[0;34m\u001b[0m\u001b[0m\n\u001b[0;32m--> 245\u001b[0;31m             \u001b[0;32mraise\u001b[0m \u001b[0mCalledProcessError\u001b[0m\u001b[0;34m(\u001b[0m\u001b[0mp\u001b[0m\u001b[0;34m.\u001b[0m\u001b[0mreturncode\u001b[0m\u001b[0;34m,\u001b[0m \u001b[0mcell\u001b[0m\u001b[0;34m,\u001b[0m \u001b[0moutput\u001b[0m\u001b[0;34m=\u001b[0m\u001b[0mout\u001b[0m\u001b[0;34m,\u001b[0m \u001b[0mstderr\u001b[0m\u001b[0;34m=\u001b[0m\u001b[0merr\u001b[0m\u001b[0;34m)\u001b[0m\u001b[0;34m\u001b[0m\u001b[0m\n\u001b[0m\u001b[1;32m    246\u001b[0m \u001b[0;34m\u001b[0m\u001b[0m\n\u001b[1;32m    247\u001b[0m     \u001b[0;32mdef\u001b[0m \u001b[0m_run_script\u001b[0m\u001b[0;34m(\u001b[0m\u001b[0mself\u001b[0m\u001b[0;34m,\u001b[0m \u001b[0mp\u001b[0m\u001b[0;34m,\u001b[0m \u001b[0mcell\u001b[0m\u001b[0;34m,\u001b[0m \u001b[0mto_close\u001b[0m\u001b[0;34m)\u001b[0m\u001b[0;34m:\u001b[0m\u001b[0;34m\u001b[0m\u001b[0m\n",
      "\u001b[0;31mCalledProcessError\u001b[0m: Command 'b'cd ../dataset/\\npwd\\nsnakemake -p nonredund_PF00014_pdb.5pti_pdbefold_S99_L0.95.mustang.afa\\n'' returned non-zero exit status 1."
     ]
    }
   ],
   "source": [
    "%%bash\n",
    "cd ../dataset/\n",
    "pwd\n",
    "snakemake -p nonredund_PF00014_pdb.5pti_pdbefold_S99_L0.95.mustang.afa"
   ]
  },
  {
   "cell_type": "markdown",
   "metadata": {},
   "source": [
    "#### T-Coffee MSA"
   ]
  },
  {
   "cell_type": "code",
   "execution_count": null,
   "metadata": {},
   "outputs": [],
   "source": []
  },
  {
   "cell_type": "markdown",
   "metadata": {},
   "source": [
    "### Build HMM\n",
    "**nonredund_PF00014_pdb.5pti_pdbefold_S99_L0.95.pdbefold.hmm**"
   ]
  },
  {
   "cell_type": "code",
   "execution_count": 40,
   "metadata": {},
   "outputs": [
    {
     "name": "stdout",
     "output_type": "stream",
     "text": [
      "/home/alessandro/Unibo/python-programming-alessandro-lussana/LB1/prj/kunitz_BPTI_hmm/dataset\n",
      "# hmmbuild :: profile HMM construction from multiple sequence alignments\n",
      "# HMMER 3.1b2 (February 2015); http://hmmer.org/\n",
      "# Copyright (C) 2015 Howard Hughes Medical Institute.\n",
      "# Freely distributed under the GNU General Public License (GPLv3).\n",
      "# - - - - - - - - - - - - - - - - - - - - - - - - - - - - - - - - - - - -\n",
      "# input alignment file:             nonredund_PF00014_pdb.5pti_pdbefold_S99_L0.95.pdbefold.afa\n",
      "# output HMM file:                  nonredund_PF00014_pdb.5pti_pdbefold_S99_L0.95.pdbefold.hmm\n",
      "# - - - - - - - - - - - - - - - - - - - - - - - - - - - - - - - - - - - -\n",
      "\n",
      "# idx name                  nseq  alen  mlen eff_nseq re/pos description\n",
      "#---- -------------------- ----- ----- ----- -------- ------ -----------\n",
      "1     nonredund_PF00014_pdb.5pti_pdbefold_S99_L0.95.pdbefold    25    68    59     2.43  0.946 \n",
      "\n",
      "# CPU time: 0.06u 0.00s 00:00:00.06 Elapsed: 00:00:00.06\n",
      "199\n"
     ]
    },
    {
     "name": "stderr",
     "output_type": "stream",
     "text": [
      "Provided cores: 1\n",
      "Rules claiming more threads will be scaled down.\n",
      "Job counts:\n",
      "\tcount\tjobs\n",
      "\t1\tbuild_hmm\n",
      "\t1\n",
      "\n",
      "rule build_hmm:\n",
      "    input: nonredund_PF00014_pdb.5pti_pdbefold_S99_L0.95.pdbefold.afa\n",
      "    output: nonredund_PF00014_pdb.5pti_pdbefold_S99_L0.95.pdbefold.hmm\n",
      "    jobid: 0\n",
      "    wildcards: msa=nonredund_PF00014_pdb.5pti_pdbefold_S99_L0.95.pdbefold\n",
      "\n",
      "hmmbuild --informat afa nonredund_PF00014_pdb.5pti_pdbefold_S99_L0.95.pdbefold.hmm nonredund_PF00014_pdb.5pti_pdbefold_S99_L0.95.pdbefold.afa\n",
      "Finished job 0.\n",
      "1 of 1 steps (100%) done\n"
     ]
    }
   ],
   "source": [
    "%%bash\n",
    "cd ../dataset/\n",
    "pwd\n",
    "snakemake -p nonredund_PF00014_pdb.5pti_pdbefold_S99_L0.95.pdbefold.hmm\n",
    "cat nonredund_PF00014_pdb.5pti_pdbefold_S99_L0.95.pdbefold.hmm | wc -l"
   ]
  },
  {
   "cell_type": "markdown",
   "metadata": {},
   "source": [
    "### Download testing sets identifiers\n",
    "[...]\n",
    "\n",
    "**uniprot_kunitz_negative.gz**\n",
    "\n",
    "**uniprot_kunitz_positive.gz**"
   ]
  },
  {
   "cell_type": "code",
   "execution_count": 41,
   "metadata": {},
   "outputs": [
    {
     "name": "stdout",
     "output_type": "stream",
     "text": [
      "/home/alessandro/Unibo/python-programming-alessandro-lussana/LB1/prj/kunitz_BPTI_hmm/dataset\n",
      "442129\n",
      "lrwxrwxrwx 1 alessandro alessandro 38 apr  8 17:02 uniprot_kunitz_negative.gz -> ../handmade/uniprot_kunitz_negative.gz\n",
      "322\n",
      "lrwxrwxrwx 1 alessandro alessandro 38 apr  8 17:02 uniprot_kunitz_negative.gz -> ../handmade/uniprot_kunitz_negative.gz\n"
     ]
    }
   ],
   "source": [
    "%%bash\n",
    "cd ../dataset/\n",
    "pwd\n",
    "zcat uniprot_kunitz_negative.gz | wc -l\n",
    "ls -lh uniprot_kunitz_negative.gz\n",
    "zcat uniprot_kunitz_positive.gz | wc -l\n",
    "ls -lh uniprot_kunitz_negative.gz"
   ]
  },
  {
   "cell_type": "markdown",
   "metadata": {},
   "source": [
    "### Filter positive testing set to avoid redundancy with training examples\n",
    "**filtered_S99_L0.95_kunitz_positive.txt**"
   ]
  },
  {
   "cell_type": "code",
   "execution_count": 42,
   "metadata": {},
   "outputs": [
    {
     "name": "stdout",
     "output_type": "stream",
     "text": [
      "/home/alessandro/Unibo/python-programming-alessandro-lussana/LB1/prj/kunitz_BPTI_hmm/dataset\n",
      "310\n",
      "P00981\n",
      "P00982\n",
      "P00978\n",
      "Q64240\n",
      "P04366\n"
     ]
    },
    {
     "name": "stderr",
     "output_type": "stream",
     "text": [
      "Provided cores: 1\n",
      "Rules claiming more threads will be scaled down.\n",
      "Job counts:\n",
      "\tcount\tjobs\n",
      "\t1\tfilter_out_training_clusters\n",
      "\t1\n",
      "\n",
      "rule filter_out_training_clusters:\n",
      "    input: PF00014_pdb.5pti_pdbefold_S99_L0.95_clust.gz, uniprot_kunitz_positive.gz\n",
      "    output: filtered_S99_L0.95_kunitz_positive.txt\n",
      "    jobid: 0\n",
      "    wildcards: S=99, L=0.95\n",
      "\n",
      "zcat uniprot_kunitz_positive.gz | grep -v -f <(zcat PF00014_pdb.5pti_pdbefold_S99_L0.95_clust.gz | sed '1d' | sed 's/ $//g' | sed 's/ /\\n/g' | cut -b 1-4 | sort | uniq) | cut -f1 > filtered_S99_L0.95_kunitz_positive.txt\n",
      "Finished job 0.\n",
      "1 of 1 steps (100%) done\n"
     ]
    }
   ],
   "source": [
    "%%bash\n",
    "cd ../dataset/\n",
    "pwd\n",
    "snakemake -p filtered_S99_L0.95_kunitz_positive.txt\n",
    "cat filtered_S99_L0.95_kunitz_positive.txt | wc -l\n",
    "cat filtered_S99_L0.95_kunitz_positive.txt | head -5"
   ]
  },
  {
   "cell_type": "markdown",
   "metadata": {},
   "source": [
    "### Random sample the negative testing set"
   ]
  },
  {
   "cell_type": "markdown",
   "metadata": {},
   "source": [
    "#### Get random ids\n",
    "**samp400_uniprot_kunitz_negative**"
   ]
  },
  {
   "cell_type": "code",
   "execution_count": 43,
   "metadata": {},
   "outputs": [
    {
     "name": "stdout",
     "output_type": "stream",
     "text": [
      "/home/alessandro/Unibo/python-programming-alessandro-lussana/LB1/prj/kunitz_BPTI_hmm/dataset\n",
      "400\n",
      "Q4V7Q2\t\n",
      "B5BFN4\t\n",
      "Q0HN48\t\n",
      "Q3J7Z9\t\n",
      "O73948\t1T4G;1XU4;2B21;2F1H;2F1I;2F1J;2FPK;2FPL;2FPM;2GDJ;2I1Q;3FYH;3NTU;4DC9;4QKQ;\n"
     ]
    },
    {
     "name": "stderr",
     "output_type": "stream",
     "text": [
      "Provided cores: 1\n",
      "Rules claiming more threads will be scaled down.\n",
      "Job counts:\n",
      "\tcount\tjobs\n",
      "\t1\trandom_sampling\n",
      "\t1\n",
      "\n",
      "rule random_sampling:\n",
      "    input: uniprot_kunitz_negative.gz\n",
      "    output: samp400.uniprot_kunitz_negative\n",
      "    jobid: 0\n",
      "    wildcards: N=400, list=uniprot_kunitz_negative\n",
      "\n",
      "zcat uniprot_kunitz_negative.gz | sort -R | sed -n '1,400p' > samp400.uniprot_kunitz_negative\n",
      "Finished job 0.\n",
      "1 of 1 steps (100%) done\n"
     ]
    }
   ],
   "source": [
    "%%bash\n",
    "cd ../dataset/\n",
    "pwd\n",
    "snakemake -p samp400.uniprot_kunitz_negative\n",
    "cat samp400.uniprot_kunitz_negative | wc -l\n",
    "cat samp400.uniprot_kunitz_negative | head -5"
   ]
  },
  {
   "cell_type": "markdown",
   "metadata": {},
   "source": [
    "### Generate fasta files for testing run\n",
    "#### Positives:\n",
    "**snakemake -pn nonredund_PF00014_pdb.5pti_pdbefold_S99_L0.95.filter.swissProt.fasta.gz**"
   ]
  },
  {
   "cell_type": "code",
   "execution_count": 44,
   "metadata": {},
   "outputs": [
    {
     "name": "stdout",
     "output_type": "stream",
     "text": [
      "/home/alessandro/Unibo/python-programming-alessandro-lussana/LB1/prj/kunitz_BPTI_hmm/dataset\n",
      "996\n",
      ">sp|P84875|PCPI_SABMA Carboxypeptidase inhibitor SmCI OS=Sabellastarte magnifica OX=389514 PE=1 SV=1\n",
      "ISVCDLPADRGQCTAYIPQWFFNKTTEDCEKFVYGGCQGNANRFETKDDCIANCGCNLPS\n",
      "KVGPCRVSARMWFHNPETEKCEVFIYGGCHGNANRFATETECQEVCDRYQKPGFCYQPSE\n",
      "TGPCKGSFPRYYYDYEDGECKEFIYGGCEGNANNFETKESCENAC\n",
      ">sp|Q9D263|SPIT4_MOUSE Kunitz-type protease inhibitor 4 OS=Mus musculus OX=10090 GN=Spint4 PE=2 SV=1\n",
      "MKPTKLGFLLGLSLLCSLSPPVLSGVERLANYLCKDYNDPCLLDVEPGSCYEVHFRFFYN\n"
     ]
    },
    {
     "name": "stderr",
     "output_type": "stream",
     "text": [
      "Provided cores: 1\n",
      "Rules claiming more threads will be scaled down.\n",
      "Job counts:\n",
      "\tcount\tjobs\n",
      "\t1\tfilterfasta\n",
      "\t1\n",
      "\n",
      "rule filterfasta:\n",
      "    input: swissProt.fasta.gz, filtered_S99_L0.95_kunitz_positive.txt\n",
      "    output: filtered_S99_L0.95_kunitz_positive.txt.filter.swissProt.fasta.gz\n",
      "    jobid: 0\n",
      "    wildcards: filter=filtered_S99_L0.95_kunitz_positive.txt, db=swissProt\n",
      "\n",
      "python ../src/fastafilter.py swissProt.fasta.gz filtered_S99_L0.95_kunitz_positive.txt | gzip > filtered_S99_L0.95_kunitz_positive.txt.filter.swissProt.fasta.gz\n",
      "Finished job 0.\n",
      "1 of 1 steps (100%) done\n"
     ]
    }
   ],
   "source": [
    "%%bash\n",
    "cd ../dataset/\n",
    "pwd\n",
    "snakemake -p filtered_S99_L0.95_kunitz_positive.txt.filter.swissProt.fasta.gz\n",
    "zcat filtered_S99_L0.95_kunitz_positive.txt.filter.swissProt.fasta.gz | wc -l\n",
    "zcat filtered_S99_L0.95_kunitz_positive.txt.filter.swissProt.fasta.gz | head -6"
   ]
  },
  {
   "cell_type": "markdown",
   "metadata": {},
   "source": [
    "#### Negative\n",
    "**samp400.uniprot_kunitz_negative.filter.swissProt.fasta.gz**"
   ]
  },
  {
   "cell_type": "code",
   "execution_count": 45,
   "metadata": {},
   "outputs": [
    {
     "name": "stdout",
     "output_type": "stream",
     "text": [
      "/home/alessandro/Unibo/python-programming-alessandro-lussana/LB1/prj/kunitz_BPTI_hmm/dataset\n",
      "2276\n",
      ">sp|P27212|P6_TNVD Uncharacterized protein p6 OS=Tobacco necrosis virus (strain D) OX=12056 GN=ORF3 PE=4 SV=1\n",
      "MAYIIVHQRDPFPLLGVWIIVIIIVAVIGLLNQSPPERPYQTFKEDNSKIQYITIGGSTT\n",
      "TKVSTS\n",
      ">sp|A3M810|PDXB_ACIBT Erythronate-4-phosphate dehydrogenase OS=Acinetobacter baumannii (strain ATCC 17978 / CIP 53.77 / LMG 1025 / NCDC KC755 / 5377) OX=400667 GN=pdxB PE=3 SV=2\n",
      "MKIVADENLAFTDYFFSEFGDIQHKAGRTLTHTDVQDAEALLVRSVTAVNESLIQNTALK\n",
      "YVGSATIGTDHLDIQALEKQGITWANAAGCNAQAVAEYVITALLHLDASLLEQQEKFTLG\n",
      "IVGLGNVGKRLAYMAQLLGWKVIGFDPFVQLDSIENVSFQTLLQQANAVSIHVPLTKKGE\n",
      "HATYHLFDEKAFAALQPNTILINSARGPVVKEAALIEDIQRTQRKVVLDVFEHEPVISEE\n",
      "LLNMLALATPHIAGYSLEGKARGTQMIYEAFCQKFGYDINKRFETQLPACEDYFSRHDLK\n",
      "AVLKQKISQIYDIAQDDANIRACVKEGKVEQKAFDLLRKNYPLRREWAAHGGPQA\n"
     ]
    },
    {
     "name": "stderr",
     "output_type": "stream",
     "text": [
      "Provided cores: 1\n",
      "Rules claiming more threads will be scaled down.\n",
      "Job counts:\n",
      "\tcount\tjobs\n",
      "\t1\tfilterfasta\n",
      "\t1\n",
      "\n",
      "rule filterfasta:\n",
      "    input: swissProt.fasta.gz, samp400.uniprot_kunitz_negative\n",
      "    output: samp400.uniprot_kunitz_negative.filter.swissProt.fasta.gz\n",
      "    jobid: 0\n",
      "    wildcards: filter=samp400.uniprot_kunitz_negative, db=swissProt\n",
      "\n",
      "python ../src/fastafilter.py swissProt.fasta.gz samp400.uniprot_kunitz_negative | gzip > samp400.uniprot_kunitz_negative.filter.swissProt.fasta.gz\n",
      "Finished job 0.\n",
      "1 of 1 steps (100%) done\n"
     ]
    }
   ],
   "source": [
    "%%bash\n",
    "cd ../dataset/\n",
    "pwd\n",
    "snakemake -p samp400.uniprot_kunitz_negative.filter.swissProt.fasta.gz\n",
    "zcat samp400.uniprot_kunitz_negative.filter.swissProt.fasta.gz | wc -l\n",
    "zcat samp400.uniprot_kunitz_negative.filter.swissProt.fasta.gz | head"
   ]
  },
  {
   "cell_type": "markdown",
   "metadata": {},
   "source": [
    "### Run hmmsearch\n",
    "#### Positives testing set\n",
    "**nonredund_PF00014_pdb.5pti_pdbefold_S99_L0.95.pdbefold.vs.filtered_S99_L0.95_kunitz_positive.txt.filter.swissProt.search_out**"
   ]
  },
  {
   "cell_type": "code",
   "execution_count": 46,
   "metadata": {},
   "outputs": [
    {
     "name": "stdout",
     "output_type": "stream",
     "text": [
      "/home/alessandro/Unibo/python-programming-alessandro-lussana/LB1/prj/kunitz_BPTI_hmm/dataset\n",
      "323\n",
      "#                                                                                                      --- full sequence ---- --- best 1 domain ---- --- domain number estimation ----\n",
      "# target name             accession  query name                                             accession    E-value  score  bias   E-value  score  bias   exp reg clu  ov env dom rep inc description of target\n",
      "#     ------------------- ----------                                   -------------------- ---------- --------- ------ ----- --------- ------ -----   --- --- --- --- --- --- --- --- ---------------------\n",
      "sp|Q28864|TFPI1_MACMU     -          nonredund_PF00014_pdb.5pti_pdbefold_S99_L0.95.pdbefold -            4.7e-71  229.2  42.1     3e-27   88.9   8.0   3.2   3   0   0   3   3   3   3 Tissue factor pathway inhibitor OS=Macaca mulatta OX=9544 GN=TFPI PE=2 SV=1\n",
      "sp|Q02445|TFPI1_RAT       -          nonredund_PF00014_pdb.5pti_pdbefold_S99_L0.95.pdbefold -            2.1e-70  227.1  42.4   1.2e-25   83.8   5.9   3.2   3   0   0   3   3   3   3 Tissue factor pathway inhibitor OS=Rattus norvegicus OX=10116 GN=Tfpi PE=2 SV=1\n",
      "sp|O54819|TFPI1_MOUSE     -          nonredund_PF00014_pdb.5pti_pdbefold_S99_L0.95.pdbefold -            1.4e-68  221.3  39.0     8e-26   84.3   5.7   3.1   3   0   0   3   3   3   3 Tissue factor pathway inhibitor OS=Mus musculus OX=10090 GN=Tfpi PE=2 SV=1\n"
     ]
    },
    {
     "name": "stderr",
     "output_type": "stream",
     "text": [
      "Provided cores: 1\n",
      "Rules claiming more threads will be scaled down.\n",
      "Job counts:\n",
      "\tcount\tjobs\n",
      "\t1\thmm_db_search\n",
      "\t1\n",
      "\n",
      "rule hmm_db_search:\n",
      "    input: filtered_S99_L0.95_kunitz_positive.txt.filter.swissProt.fasta.gz, nonredund_PF00014_pdb.5pti_pdbefold_S99_L0.95.pdbefold.hmm\n",
      "    output: nonredund_PF00014_pdb.5pti_pdbefold_S99_L0.95.pdbefold.vs.filtered_S99_L0.95_kunitz_positive.txt.filter.swissProt.search_out\n",
      "    jobid: 0\n",
      "    wildcards: model=nonredund_PF00014_pdb.5pti_pdbefold_S99_L0.95.pdbefold, db=filtered_S99_L0.95_kunitz_positive.txt.filter.swissProt\n",
      "\n",
      "hmmsearch --tblout nonredund_PF00014_pdb.5pti_pdbefold_S99_L0.95.pdbefold.vs.filtered_S99_L0.95_kunitz_positive.txt.filter.swissProt.search_out --max --noali --domE 100000000 -E 100000000 nonredund_PF00014_pdb.5pti_pdbefold_S99_L0.95.pdbefold.hmm <(zcat filtered_S99_L0.95_kunitz_positive.txt.filter.swissProt.fasta.gz) > /dev/null\n",
      "Finished job 0.\n",
      "1 of 1 steps (100%) done\n"
     ]
    }
   ],
   "source": [
    "%%bash\n",
    "cd ../dataset/\n",
    "pwd\n",
    "snakemake -p nonredund_PF00014_pdb.5pti_pdbefold_S99_L0.95.pdbefold.vs.filtered_S99_L0.95_kunitz_positive.txt.filter.swissProt.search_out\n",
    "cat nonredund_PF00014_pdb.5pti_pdbefold_S99_L0.95.pdbefold.vs.filtered_S99_L0.95_kunitz_positive.txt.filter.swissProt.search_out | wc -l\n",
    "cat nonredund_PF00014_pdb.5pti_pdbefold_S99_L0.95.pdbefold.vs.filtered_S99_L0.95_kunitz_positive.txt.filter.swissProt.search_out | head -6"
   ]
  },
  {
   "cell_type": "markdown",
   "metadata": {},
   "source": [
    "#### Negatives testing set\n",
    "**nonredund_PF00014_pdb.5pti_pdbefold_S99_L0.95.pdbefold.vs.samp400.uniprot_kunitz_negative.filter.swissProt.search_out**"
   ]
  },
  {
   "cell_type": "code",
   "execution_count": 47,
   "metadata": {},
   "outputs": [
    {
     "name": "stdout",
     "output_type": "stream",
     "text": [
      "/home/alessandro/Unibo/python-programming-alessandro-lussana/LB1/prj/kunitz_BPTI_hmm/dataset\n",
      "217\n",
      "#                                                                                                  --- full sequence ---- --- best 1 domain ---- --- domain number estimation ----\n",
      "# target name         accession  query name                                             accession    E-value  score  bias   E-value  score  bias   exp reg clu  ov env dom rep inc description of target\n",
      "# ------------------- ----------                                   -------------------- ---------- --------- ------ ----- --------- ------ -----   --- --- --- --- --- --- --- --- ---------------------\n",
      "sp|P00007|CYC_HIPAM   -          nonredund_PF00014_pdb.5pti_pdbefold_S99_L0.95.pdbefold -                1.7    3.5   0.0       3.9    2.4   0.0   1.5   1   0   0   1   1   1   0 Cytochrome c OS=Hippopotamus amphibius OX=9833 GN=CYCS PE=1 SV=2\n",
      "sp|P0C0Y9|RCEM_RHOSH  -          nonredund_PF00014_pdb.5pti_pdbefold_S99_L0.95.pdbefold -                1.9    3.4   0.0       3.6    2.5   0.0   1.4   1   0   0   1   1   1   0 Reaction center protein M chain OS=Rhodobacter sphaeroides OX=1063 GN=pufM PE=1 SV=2\n",
      "sp|P0C0F0|CSPA_STRPY  -          nonredund_PF00014_pdb.5pti_pdbefold_S99_L0.95.pdbefold -                2.1    3.3   0.0       2.4    3.1   0.0   1.3   1   0   0   1   1   1   0 Major cold shock protein (Fragment) OS=Streptococcus pyogenes OX=1314 GN=cspA PE=3 SV=1\n"
     ]
    },
    {
     "name": "stderr",
     "output_type": "stream",
     "text": [
      "Provided cores: 1\n",
      "Rules claiming more threads will be scaled down.\n",
      "Job counts:\n",
      "\tcount\tjobs\n",
      "\t1\thmm_db_search\n",
      "\t1\n",
      "\n",
      "rule hmm_db_search:\n",
      "    input: samp400.uniprot_kunitz_negative.filter.swissProt.fasta.gz, nonredund_PF00014_pdb.5pti_pdbefold_S99_L0.95.pdbefold.hmm\n",
      "    output: nonredund_PF00014_pdb.5pti_pdbefold_S99_L0.95.pdbefold.vs.samp400.uniprot_kunitz_negative.filter.swissProt.search_out\n",
      "    jobid: 0\n",
      "    wildcards: model=nonredund_PF00014_pdb.5pti_pdbefold_S99_L0.95.pdbefold, db=samp400.uniprot_kunitz_negative.filter.swissProt\n",
      "\n",
      "hmmsearch --tblout nonredund_PF00014_pdb.5pti_pdbefold_S99_L0.95.pdbefold.vs.samp400.uniprot_kunitz_negative.filter.swissProt.search_out --max --noali --domE 100000000 -E 100000000 nonredund_PF00014_pdb.5pti_pdbefold_S99_L0.95.pdbefold.hmm <(zcat samp400.uniprot_kunitz_negative.filter.swissProt.fasta.gz) > /dev/null\n",
      "Finished job 0.\n",
      "1 of 1 steps (100%) done\n"
     ]
    }
   ],
   "source": [
    "%%bash\n",
    "cd ../dataset/\n",
    "pwd\n",
    "snakemake -p nonredund_PF00014_pdb.5pti_pdbefold_S99_L0.95.pdbefold.vs.samp400.uniprot_kunitz_negative.filter.swissProt.search_out\n",
    "cat nonredund_PF00014_pdb.5pti_pdbefold_S99_L0.95.pdbefold.vs.samp400.uniprot_kunitz_negative.filter.swissProt.search_out | wc -l\n",
    "cat nonredund_PF00014_pdb.5pti_pdbefold_S99_L0.95.pdbefold.vs.samp400.uniprot_kunitz_negative.filter.swissProt.search_out | head -6"
   ]
  },
  {
   "cell_type": "markdown",
   "metadata": {},
   "source": [
    "### Generate file to feed the confusion matrix program"
   ]
  },
  {
   "cell_type": "markdown",
   "metadata": {},
   "source": [
    "#### Parse positives and negatives testing sets hmmsearch results\n",
    "**conflist.nonredund_PF00014_pdb.5pti_pdbefold_S99_L0.95.pdbefold.vs.filtered_S99_L0.95_kunitz_positive.txt.filter.swissProt.and.nonredund_PF00014_pdb.5pti_pdbefold_S99_L0.95.pdbefold.vs.samp400.uniprot_kunitz_negative.filter.swissProt.gz**"
   ]
  },
  {
   "cell_type": "code",
   "execution_count": 48,
   "metadata": {},
   "outputs": [
    {
     "name": "stdout",
     "output_type": "stream",
     "text": [
      "/home/alessandro/Unibo/python-programming-alessandro-lussana/LB1/prj/kunitz_BPTI_hmm/dataset\n",
      "514\n",
      "sp|Q28864|TFPI1_MACMU\t3e-27\t1\n",
      "sp|Q02445|TFPI1_RAT\t1.2e-25\t1\n",
      "sp|O54819|TFPI1_MOUSE\t8e-26\t1\n",
      "sp|P19761|TFPI1_RABIT\t1.1e-25\t1\n",
      "sp|P84875|PCPI_SABMA\t1.5e-23\t1\n",
      "sp|P83606|BMTI6_RHIMP\t3e-23\t1\n"
     ]
    },
    {
     "name": "stderr",
     "output_type": "stream",
     "text": [
      "Provided cores: 1\n",
      "Rules claiming more threads will be scaled down.\n",
      "Job counts:\n",
      "\tcount\tjobs\n",
      "\t1\tcompute_confusion_matrix_feed_file\n",
      "\t1\n",
      "\n",
      "rule compute_confusion_matrix_feed_file:\n",
      "    input: nonredund_PF00014_pdb.5pti_pdbefold_S99_L0.95.pdbefold.vs.filtered_S99_L0.95_kunitz_positive.txt.filter.swissProt.search_out, nonredund_PF00014_pdb.5pti_pdbefold_S99_L0.95.pdbefold.vs.samp400.uniprot_kunitz_negative.filter.swissProt.search_out\n",
      "    output: conflst.nonredund_PF00014_pdb.5pti_pdbefold_S99_L0.95.pdbefold.vs.filtered_S99_L0.95_kunitz_positive.txt.filter.swissProt.and.nonredund_PF00014_pdb.5pti_pdbefold_S99_L0.95.pdbefold.vs.samp400.uniprot_kunitz_negative.filter.swissProt.gz\n",
      "    jobid: 0\n",
      "    wildcards: p=nonredund_PF00014_pdb.5pti_pdbefold_S99_L0.95.pdbefold.vs.filtered_S99_L0.95_kunitz_positive.txt.filter.swissProt, n=nonredund_PF00014_pdb.5pti_pdbefold_S99_L0.95.pdbefold.vs.samp400.uniprot_kunitz_negative.filter.swissProt\n",
      "\n",
      "cat <(cat nonredund_PF00014_pdb.5pti_pdbefold_S99_L0.95.pdbefold.vs.filtered_S99_L0.95_kunitz_positive.txt.filter.swissProt.search_out | grep ^sp | tr -s \" \" \"\\t\" | cut -f1,8 | awk '{print $0\"\\t1\"}') <(cat nonredund_PF00014_pdb.5pti_pdbefold_S99_L0.95.pdbefold.vs.samp400.uniprot_kunitz_negative.filter.swissProt.search_out | grep ^sp | tr -s \" \" \"\\t\" | cut -f1,8 | awk '{print $0\"\\t0\"}') | gzip > conflst.nonredund_PF00014_pdb.5pti_pdbefold_S99_L0.95.pdbefold.vs.filtered_S99_L0.95_kunitz_positive.txt.filter.swissProt.and.nonredund_PF00014_pdb.5pti_pdbefold_S99_L0.95.pdbefold.vs.samp400.uniprot_kunitz_negative.filter.swissProt.gz\n",
      "Finished job 0.\n",
      "1 of 1 steps (100%) done\n"
     ]
    }
   ],
   "source": [
    "%%bash\n",
    "cd ../dataset/\n",
    "pwd\n",
    "snakemake -p conflst.nonredund_PF00014_pdb.5pti_pdbefold_S99_L0.95.pdbefold.vs.filtered_S99_L0.95_kunitz_positive.txt.filter.swissProt.and.nonredund_PF00014_pdb.5pti_pdbefold_S99_L0.95.pdbefold.vs.samp400.uniprot_kunitz_negative.filter.swissProt.gz\n",
    "zcat conflst.nonredund_PF00014_pdb.5pti_pdbefold_S99_L0.95.pdbefold.vs.filtered_S99_L0.95_kunitz_positive.txt.filter.swissProt.and.nonredund_PF00014_pdb.5pti_pdbefold_S99_L0.95.pdbefold.vs.samp400.uniprot_kunitz_negative.filter.swissProt | wc -l\n",
    "zcat conflst.nonredund_PF00014_pdb.5pti_pdbefold_S99_L0.95.pdbefold.vs.filtered_S99_L0.95_kunitz_positive.txt.filter.swissProt.and.nonredund_PF00014_pdb.5pti_pdbefold_S99_L0.95.pdbefold.vs.samp400.uniprot_kunitz_negative.filter.swissProt.gz | head -6"
   ]
  },
  {
   "cell_type": "markdown",
   "metadata": {},
   "source": [
    "#### Include hmmsearch-missed sequences using psudo-e-values\n",
    "**filled.conflist.nonredund_PF00014_pdb.5pti_pdbefold_S99_L0.95.pdbefold.vs.filtered_S99_L0.95_kunitz_positive.txt.filter.swissProt.and.nonredund_PF00014_pdb.5pti_pdbefold_S99_L0.95.pdbefold.vs.samp400.uniprot_kunitz_negative.filter.swissProt.gz**"
   ]
  },
  {
   "cell_type": "code",
   "execution_count": 49,
   "metadata": {},
   "outputs": [
    {
     "name": "stdout",
     "output_type": "stream",
     "text": [
      "/home/alessandro/Unibo/python-programming-alessandro-lussana/LB1/prj/kunitz_BPTI_hmm/dataset\n",
      "710\n",
      "sp|Q28864|TFPI1_MACMU\t3e-27\t1\n",
      "sp|Q02445|TFPI1_RAT\t1.2e-25\t1\n",
      "sp|O54819|TFPI1_MOUSE\t8e-26\t1\n",
      "sp|P19761|TFPI1_RABIT\t1.1e-25\t1\n",
      "sp|P84875|PCPI_SABMA\t1.5e-23\t1\n",
      "sp|P83606|BMTI6_RHIMP\t3e-23\t1\n"
     ]
    },
    {
     "name": "stderr",
     "output_type": "stream",
     "text": [
      "Provided cores: 1\n",
      "Rules claiming more threads will be scaled down.\n",
      "Job counts:\n",
      "\tcount\tjobs\n",
      "\t1\tadd_missing_id_to_conf_list\n",
      "\t1\n",
      "\n",
      "rule add_missing_id_to_conf_list:\n",
      "    input: conflst.nonredund_PF00014_pdb.5pti_pdbefold_S99_L0.95.pdbefold.vs.filtered_S99_L0.95_kunitz_positive.txt.filter.swissProt.and.nonredund_PF00014_pdb.5pti_pdbefold_S99_L0.95.pdbefold.vs.samp400.uniprot_kunitz_negative.filter.swissProt.gz, samp400.uniprot_kunitz_negative\n",
      "    output: filledconflst.nonredund_PF00014_pdb.5pti_pdbefold_S99_L0.95.pdbefold.vs.filtered_S99_L0.95_kunitz_positive.txt.filter.swissProt.and.nonredund_PF00014_pdb.5pti_pdbefold_S99_L0.95.pdbefold.vs.samp400.uniprot_kunitz_negative.filter.swissProt.gz\n",
      "    jobid: 0\n",
      "    wildcards: hmm=nonredund_PF00014_pdb.5pti_pdbefold_S99_L0.95.pdbefold, p=filtered_S99_L0.95_kunitz_positive.txt, n=samp400.uniprot_kunitz_negative\n",
      "\n",
      "cat <(zcat conflst.nonredund_PF00014_pdb.5pti_pdbefold_S99_L0.95.pdbefold.vs.filtered_S99_L0.95_kunitz_positive.txt.filter.swissProt.and.nonredund_PF00014_pdb.5pti_pdbefold_S99_L0.95.pdbefold.vs.samp400.uniprot_kunitz_negative.filter.swissProt.gz) <(cat samp400.uniprot_kunitz_negative | cut -f1 | grep -v -f <(zcat conflst.nonredund_PF00014_pdb.5pti_pdbefold_S99_L0.95.pdbefold.vs.filtered_S99_L0.95_kunitz_positive.txt.filter.swissProt.and.nonredund_PF00014_pdb.5pti_pdbefold_S99_L0.95.pdbefold.vs.samp400.uniprot_kunitz_negative.filter.swissProt.gz | cut -d '|' -f2) | awk '{print $0\"\\t1.0\\t0\"}') | gzip > filledconflst.nonredund_PF00014_pdb.5pti_pdbefold_S99_L0.95.pdbefold.vs.filtered_S99_L0.95_kunitz_positive.txt.filter.swissProt.and.nonredund_PF00014_pdb.5pti_pdbefold_S99_L0.95.pdbefold.vs.samp400.uniprot_kunitz_negative.filter.swissProt.gz\n",
      "Finished job 0.\n",
      "1 of 1 steps (100%) done\n"
     ]
    }
   ],
   "source": [
    "%%bash\n",
    "cd ../dataset/\n",
    "pwd\n",
    "snakemake -p filledconflst.nonredund_PF00014_pdb.5pti_pdbefold_S99_L0.95.pdbefold.vs.filtered_S99_L0.95_kunitz_positive.txt.filter.swissProt.and.nonredund_PF00014_pdb.5pti_pdbefold_S99_L0.95.pdbefold.vs.samp400.uniprot_kunitz_negative.filter.swissProt.gz\n",
    "zcat filledconflst.nonredund_PF00014_pdb.5pti_pdbefold_S99_L0.95.pdbefold.vs.filtered_S99_L0.95_kunitz_positive.txt.filter.swissProt.and.nonredund_PF00014_pdb.5pti_pdbefold_S99_L0.95.pdbefold.vs.samp400.uniprot_kunitz_negative.filter.swissProt.gz | wc -l\n",
    "zcat filledconflst.nonredund_PF00014_pdb.5pti_pdbefold_S99_L0.95.pdbefold.vs.filtered_S99_L0.95_kunitz_positive.txt.filter.swissProt.and.nonredund_PF00014_pdb.5pti_pdbefold_S99_L0.95.pdbefold.vs.samp400.uniprot_kunitz_negative.filter.swissProt.gz | head -6"
   ]
  },
  {
   "cell_type": "markdown",
   "metadata": {},
   "source": [
    "#### Correct e-values dividing by the database size\n",
    "**corr.filled.conflist.nonredund_PF00014_pdb.5pti_pdbefold_S99_L0.95.pdbefold.vs.filtered_S99_L0.95_kunitz_positive.txt.filter.swissProt.and.nonredund_PF00014_pdb.5pti_pdbefold_S99_L0.95.pdbefold.vs.samp400.uniprot_kunitz_negative.filter.swissProt.gz**"
   ]
  },
  {
   "cell_type": "code",
   "execution_count": 50,
   "metadata": {},
   "outputs": [
    {
     "name": "stdout",
     "output_type": "stream",
     "text": [
      "/home/alessandro/Unibo/python-programming-alessandro-lussana/LB1/prj/kunitz_BPTI_hmm/dataset\n",
      "710\n",
      "sp|Q28864|TFPI1_MACMU\t9.3e-25\t1\n",
      "sp|Q02445|TFPI1_RAT\t3.72e-23\t1\n",
      "sp|O54819|TFPI1_MOUSE\t2.48e-23\t1\n",
      "sp|P19761|TFPI1_RABIT\t3.41e-23\t1\n",
      "sp|P84875|PCPI_SABMA\t4.65e-21\t1\n"
     ]
    },
    {
     "name": "stderr",
     "output_type": "stream",
     "text": [
      "Provided cores: 1\n",
      "Rules claiming more threads will be scaled down.\n",
      "Job counts:\n",
      "\tcount\tjobs\n",
      "\t1\tcorrect_e_values\n",
      "\t1\n",
      "\n",
      "rule correct_e_values:\n",
      "    input: filledconflst.nonredund_PF00014_pdb.5pti_pdbefold_S99_L0.95.pdbefold.vs.filtered_S99_L0.95_kunitz_positive.txt.filter.swissProt.and.nonredund_PF00014_pdb.5pti_pdbefold_S99_L0.95.pdbefold.vs.samp400.uniprot_kunitz_negative.filter.swissProt.gz\n",
      "    output: corrconflst.nonredund_PF00014_pdb.5pti_pdbefold_S99_L0.95.pdbefold.vs.filtered_S99_L0.95_kunitz_positive.txt.filter.swissProt.and.nonredund_PF00014_pdb.5pti_pdbefold_S99_L0.95.pdbefold.vs.samp400.uniprot_kunitz_negative.filter.swissProt.gz\n",
      "    jobid: 0\n",
      "    wildcards: conflist=nonredund_PF00014_pdb.5pti_pdbefold_S99_L0.95.pdbefold.vs.filtered_S99_L0.95_kunitz_positive.txt.filter.swissProt.and.nonredund_PF00014_pdb.5pti_pdbefold_S99_L0.95.pdbefold.vs.samp400.uniprot_kunitz_negative.filter.swissProt\n",
      "\n",
      "N=$(zcat filledconflst.nonredund_PF00014_pdb.5pti_pdbefold_S99_L0.95.pdbefold.vs.filtered_S99_L0.95_kunitz_positive.txt.filter.swissProt.and.nonredund_PF00014_pdb.5pti_pdbefold_S99_L0.95.pdbefold.vs.samp400.uniprot_kunitz_negative.filter.swissProt.gz | awk '$3==0{print $0}' | wc -l); P=$(zcat filledconflst.nonredund_PF00014_pdb.5pti_pdbefold_S99_L0.95.pdbefold.vs.filtered_S99_L0.95_kunitz_positive.txt.filter.swissProt.and.nonredund_PF00014_pdb.5pti_pdbefold_S99_L0.95.pdbefold.vs.samp400.uniprot_kunitz_negative.filter.swissProt.gz | awk '$3==1{print $0}' | wc -l); zcat filledconflst.nonredund_PF00014_pdb.5pti_pdbefold_S99_L0.95.pdbefold.vs.filtered_S99_L0.95_kunitz_positive.txt.filter.swissProt.and.nonredund_PF00014_pdb.5pti_pdbefold_S99_L0.95.pdbefold.vs.samp400.uniprot_kunitz_negative.filter.swissProt.gz | awk -v P=$P -v N=$N '{if($2 != 1.0 && $3 == 1){print $1\"\\t\"$2*P\"\\t\"$3}else if($2 != 1.0 && $3 == 0){print $1\"\\t\"$2*N\"\\t\"$3} else{print $0}}' | gzip > corrconflst.nonredund_PF00014_pdb.5pti_pdbefold_S99_L0.95.pdbefold.vs.filtered_S99_L0.95_kunitz_positive.txt.filter.swissProt.and.nonredund_PF00014_pdb.5pti_pdbefold_S99_L0.95.pdbefold.vs.samp400.uniprot_kunitz_negative.filter.swissProt.gz\n",
      "Finished job 0.\n",
      "1 of 1 steps (100%) done\n"
     ]
    }
   ],
   "source": [
    "%%bash\n",
    "cd ../dataset/\n",
    "pwd\n",
    "snakemake -p corrconflst.nonredund_PF00014_pdb.5pti_pdbefold_S99_L0.95.pdbefold.vs.filtered_S99_L0.95_kunitz_positive.txt.filter.swissProt.and.nonredund_PF00014_pdb.5pti_pdbefold_S99_L0.95.pdbefold.vs.samp400.uniprot_kunitz_negative.filter.swissProt.gz\n",
    "zcat corrconflst.nonredund_PF00014_pdb.5pti_pdbefold_S99_L0.95.pdbefold.vs.filtered_S99_L0.95_kunitz_positive.txt.filter.swissProt.and.nonredund_PF00014_pdb.5pti_pdbefold_S99_L0.95.pdbefold.vs.samp400.uniprot_kunitz_negative.filter.swissProt.gz | wc -l\n",
    "zcat corrconflst.nonredund_PF00014_pdb.5pti_pdbefold_S99_L0.95.pdbefold.vs.filtered_S99_L0.95_kunitz_positive.txt.filter.swissProt.and.nonredund_PF00014_pdb.5pti_pdbefold_S99_L0.95.pdbefold.vs.samp400.uniprot_kunitz_negative.filter.swissProt.gz | head -5"
   ]
  },
  {
   "cell_type": "markdown",
   "metadata": {},
   "source": [
    "### Compute the confusion matrix\n",
    "**confmat_th0.001.corr.filled.conflist.nonredund_PF00014_pdb.5pti_pdbefold_S99_L0.95.pdbefold.vs.filtered_S99_L0.95_kunitz_positive.txt.filter.swissProt.and.nonredund_PF00014_pdb.5pti_pdbefold_S99_L0.95.pdbefold.vs.samp400.uniprot_kunitz_negative.filter.swissProt**"
   ]
  },
  {
   "cell_type": "code",
   "execution_count": 51,
   "metadata": {},
   "outputs": [
    {
     "name": "stdout",
     "output_type": "stream",
     "text": [
      "/home/alessandro/Unibo/python-programming-alessandro-lussana/LB1/prj/kunitz_BPTI_hmm/dataset\n",
      "TP\t308\n",
      "TN\t400\n",
      "FP\t0\n",
      "FN\t2\n",
      "acc\t0.997183\n",
      "tpr\t0.993548\n",
      "ppv\t1.000000\n",
      "mcc\t0.994286\n"
     ]
    },
    {
     "name": "stderr",
     "output_type": "stream",
     "text": [
      "Provided cores: 1\n",
      "Rules claiming more threads will be scaled down.\n",
      "Job counts:\n",
      "\tcount\tjobs\n",
      "\t1\tcompute_confusion_matrix\n",
      "\t1\n",
      "\n",
      "rule compute_confusion_matrix:\n",
      "    input: corrconflst.nonredund_PF00014_pdb.5pti_pdbefold_S99_L0.95.pdbefold.vs.filtered_S99_L0.95_kunitz_positive.txt.filter.swissProt.and.nonredund_PF00014_pdb.5pti_pdbefold_S99_L0.95.pdbefold.vs.samp400.uniprot_kunitz_negative.filter.swissProt.gz\n",
      "    output: confmat_th0.001.of.nonredund_PF00014_pdb.5pti_pdbefold_S99_L0.95.pdbefold.vs.filtered_S99_L0.95_kunitz_positive.txt.filter.swissProt.and.nonredund_PF00014_pdb.5pti_pdbefold_S99_L0.95.pdbefold.vs.samp400.uniprot_kunitz_negative.filter.swissProt\n",
      "    jobid: 0\n",
      "    wildcards: th=0.001, conflist=nonredund_PF00014_pdb.5pti_pdbefold_S99_L0.95.pdbefold.vs.filtered_S99_L0.95_kunitz_positive.txt.filter.swissProt.and.nonredund_PF00014_pdb.5pti_pdbefold_S99_L0.95.pdbefold.vs.samp400.uniprot_kunitz_negative.filter.swissProt\n",
      "\n",
      "python ../src/buildConfMatrix.py corrconflst.nonredund_PF00014_pdb.5pti_pdbefold_S99_L0.95.pdbefold.vs.filtered_S99_L0.95_kunitz_positive.txt.filter.swissProt.and.nonredund_PF00014_pdb.5pti_pdbefold_S99_L0.95.pdbefold.vs.samp400.uniprot_kunitz_negative.filter.swissProt.gz 0.001 > confmat_th0.001.of.nonredund_PF00014_pdb.5pti_pdbefold_S99_L0.95.pdbefold.vs.filtered_S99_L0.95_kunitz_positive.txt.filter.swissProt.and.nonredund_PF00014_pdb.5pti_pdbefold_S99_L0.95.pdbefold.vs.samp400.uniprot_kunitz_negative.filter.swissProt\n",
      "Finished job 0.\n",
      "1 of 1 steps (100%) done\n"
     ]
    }
   ],
   "source": [
    "%%bash\n",
    "cd ../dataset/\n",
    "pwd\n",
    "snakemake -p confmat_th0.001.of.nonredund_PF00014_pdb.5pti_pdbefold_S99_L0.95.pdbefold.vs.filtered_S99_L0.95_kunitz_positive.txt.filter.swissProt.and.nonredund_PF00014_pdb.5pti_pdbefold_S99_L0.95.pdbefold.vs.samp400.uniprot_kunitz_negative.filter.swissProt\n",
    "cat confmat_th0.001.of.nonredund_PF00014_pdb.5pti_pdbefold_S99_L0.95.pdbefold.vs.filtered_S99_L0.95_kunitz_positive.txt.filter.swissProt.and.nonredund_PF00014_pdb.5pti_pdbefold_S99_L0.95.pdbefold.vs.samp400.uniprot_kunitz_negative.filter.swissProt"
   ]
  },
  {
   "cell_type": "markdown",
   "metadata": {},
   "source": [
    "### [TODO (maybe) Demonstrate that non structure-based sequences alignment allows to build a worse HMM]"
   ]
  }
 ],
 "metadata": {
  "kernelspec": {
   "display_name": "Python 3",
   "language": "python",
   "name": "python3"
  },
  "language_info": {
   "codemirror_mode": {
    "name": "ipython",
    "version": 3
   },
   "file_extension": ".py",
   "mimetype": "text/x-python",
   "name": "python",
   "nbconvert_exporter": "python",
   "pygments_lexer": "ipython3",
   "version": "3.6.2"
  }
 },
 "nbformat": 4,
 "nbformat_minor": 2
}
