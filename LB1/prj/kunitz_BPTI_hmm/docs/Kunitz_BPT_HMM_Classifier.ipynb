{
 "cells": [
  {
   "cell_type": "markdown",
   "metadata": {},
   "source": [
    "# Kunitz_BPTI HMM Classifier\n",
    "Pfam: [Kunitz_BPTI](https://pfam.xfam.org/family/Kunitz_BPTI) (PF00014)\n",
    "\n",
    "This doc lives in:"
   ]
  },
  {
   "cell_type": "code",
   "execution_count": 23,
   "metadata": {},
   "outputs": [
    {
     "name": "stdout",
     "output_type": "stream",
     "text": [
      "/home/alessandro/Unibo/python-programming-alessandro-lussana/LB1/prj/kunitz_BPTI_hmm/docs\n"
     ]
    }
   ],
   "source": [
    "%%bash\n",
    "pwd"
   ]
  },
  {
   "cell_type": "markdown",
   "metadata": {},
   "source": [
    "## Handmade files\n",
    "### UniProtKB/Swiss-Prot database\n",
    "FASTA format"
   ]
  },
  {
   "cell_type": "code",
   "execution_count": 24,
   "metadata": {},
   "outputs": [
    {
     "name": "stdout",
     "output_type": "stream",
     "text": [
      "/home/alessandro/Unibo/python-programming-alessandro-lussana/LB1/prj/kunitz_BPTI_hmm/dataset\n",
      "lrwxrwxrwx 1 alessandro alessandro 41 apr  8 17:02 swissProt.fasta.gz -> ../handmade/uniprot-reviewed_yes.fasta.gz\n"
     ]
    }
   ],
   "source": [
    "%%bash\n",
    "cd ../dataset/\n",
    "pwd\n",
    "ls -lh swissProt.fasta.gz"
   ]
  },
  {
   "cell_type": "markdown",
   "metadata": {},
   "source": [
    "### RCSB PDB identifiers\n",
    "#### Query parameters\n",
    "*Pfam Accession Number PF00014 and Resolution is between 0.0 and 3.5 and Sequence Length is between 50 and 90 and Percent Sequence Alignment Search : PDB can contain Expression Tag sequence = Yes ,*\n",
    "#### Query results\n",
    "ENTITY-BASED QUERY - the 84 entities (unique chains) map to 83 PDB entries (structures).\n",
    "\n",
    "163 unique ENTRY_CHAIN id (see wc -l without header line)\n",
    "#### .META info\n",
    "I downloaded a customizable table including the following information:\n",
    "* PDB ID\n",
    "* Chain ID\n",
    "* Resolution\n",
    "* Taxonomy\n",
    "* Sequence\n",
    "* Chain Length"
   ]
  },
  {
   "cell_type": "code",
   "execution_count": 25,
   "metadata": {},
   "outputs": [
    {
     "name": "stdout",
     "output_type": "stream",
     "text": [
      "/home/alessandro/Unibo/python-programming-alessandro-lussana/LB1/prj/kunitz_BPTI_hmm/dataset\n",
      "lrwxrwxrwx 1 alessandro alessandro 30 apr  8 17:02 PF00014_pdb_tab -> ../handmade/tabularResults.csv\n",
      "163\n",
      "PDB ID,Chain ID,Resolution,Taxonomy,Sequence,Chain Length\n",
      "\"1AAP\",\"A\",\"1.50\",\"Homo sapiens\",\"VREVCSEQAETGPCRAMISRWYFDVTEGKCAPFFYGGCGGNRNNFDTEEYCMAVCGSA\",\"58\"\n",
      "\"1AAP\",\"B\",\"1.50\",\"Homo sapiens\",\"VREVCSEQAETGPCRAMISRWYFDVTEGKCAPFFYGGCGGNRNNFDTEEYCMAVCGSA\",\"58\"\n",
      "\"1B0C\",\"A\",\"2.80\",\"Bos taurus\",\"RPDFCLEPPYTGPCKARIIRYFYNAKAGLCQTFVYGGCRAKRNNFKSAEDCMRTCGGA\",\"58\"\n",
      "\"1B0C\",\"B\",\"2.80\",\"Bos taurus\",\"RPDFCLEPPYTGPCKARIIRYFYNAKAGLCQTFVYGGCRAKRNNFKSAEDCMRTCGGA\",\"58\"\n"
     ]
    }
   ],
   "source": [
    "%%bash\n",
    "cd ../dataset/\n",
    "pwd\n",
    "ls -lh PF00014_pdb_tab\n",
    "cat PF00014_pdb_tab | sed '1d' | wc -l\n",
    "head -5 PF00014_pdb_tab"
   ]
  },
  {
   "cell_type": "markdown",
   "metadata": {},
   "source": [
    "### pdbefold search identifiers\n",
    "[5pti](https://www.ebi.ac.uk/pdbe/entry/pdb/5pti) was chosen as a representative chain structure for BPTI/Kunitz domain (... include why). We run a database search to detect strucutral simlarity between 5pti and the whole PDB database using [PDBeFold](https://www.ebi.ac.uk/msd-srv/ssm/) web interface.\n",
    "* Normal precision: 569 unique chains, will be used in the workflow\n",
    "* Highesti precision: 318 unique chains, will not be used in the workflow"
   ]
  },
  {
   "cell_type": "code",
   "execution_count": 26,
   "metadata": {},
   "outputs": [
    {
     "name": "stdout",
     "output_type": "stream",
     "text": [
      "/home/alessandro/Unibo/python-programming-alessandro-lussana/LB1/prj/kunitz_BPTI_hmm/dataset\n",
      "lrwxrwxrwx 1 alessandro alessandro 37 apr  8 17:02 5pti_pdbefold -> ../handmade/5pti_pdbefold_normal_prec\n",
      "569\n",
      " PDBe Fold v2.59. (src3) 14 Apr 2014 result file.\n",
      "\n",
      "                   RESULT SUMMARY\n",
      "\n",
      "   ##      Q-score      P-score     Z-score   RMSD    Nalgn Nsse Ngaps Seq-%     Nmd Nres-Q Nsse-Q Nres-T Nsse-T Query Target\n",
      "    1           1       16.18       11.93     0.000    58    4    0           1    0     58      4     58      4    PDB 5pti:A  PDB 5pti:A\n",
      "    2       0.999       14.33        11.2     0.093    58    4    0      0.9828    0     58      4     58      4    PDB 5pti:A  PDB 9pti:A\n",
      "    3      0.9956       12.59       10.48     0.199    58    4    0      0.9655    0     58      4     58      4    PDB 5pti:A  PDB 7pti:A\n",
      "    4      0.9595       11.28       9.896     0.467    57    4    0           1    0     58      4     57      4    PDB 5pti:A  PDB 3ldi:A\n",
      "    5       0.959       12.25       10.33     0.248    56    4    0      0.9821    0     58      4     56      4    PDB 5pti:A  PDB 1bpt:A\n"
     ]
    }
   ],
   "source": [
    "%%bash\n",
    "cd ../dataset/\n",
    "pwd\n",
    "ls -lh 5pti_pdbefold\n",
    "cat 5pti_pdbefold | sed '1,5d' | wc -l\n",
    "cat 5pti_pdbefold | head"
   ]
  },
  {
   "cell_type": "markdown",
   "metadata": {},
   "source": [
    "## Workflow\n",
    "### Parsing handmade files\n",
    "#### PF00014_pdb.gz\n",
    "* 1 ID_CHAIN\n",
    "* 2 Resolution\n",
    "* 3 Taxonomy\n",
    "* 4 Sequence\n",
    "* 5 Chain Length"
   ]
  },
  {
   "cell_type": "code",
   "execution_count": 27,
   "metadata": {},
   "outputs": [
    {
     "name": "stdout",
     "output_type": "stream",
     "text": [
      "/home/alessandro/Unibo/python-programming-alessandro-lussana/LB1/prj/kunitz_BPTI_hmm/dataset\n",
      "163\n",
      "1AAP_A\t1.50\tHomo_sapiens\tVREVCSEQAETGPCRAMISRWYFDVTEGKCAPFFYGGCGGNRNNFDTEEYCMAVCGSA\t58\n",
      "1AAP_B\t1.50\tHomo_sapiens\tVREVCSEQAETGPCRAMISRWYFDVTEGKCAPFFYGGCGGNRNNFDTEEYCMAVCGSA\t58\n",
      "1B0C_A\t2.80\tBos_taurus\tRPDFCLEPPYTGPCKARIIRYFYNAKAGLCQTFVYGGCRAKRNNFKSAEDCMRTCGGA\t58\n",
      "1B0C_B\t2.80\tBos_taurus\tRPDFCLEPPYTGPCKARIIRYFYNAKAGLCQTFVYGGCRAKRNNFKSAEDCMRTCGGA\t58\n",
      "1B0C_C\t2.80\tBos_taurus\tRPDFCLEPPYTGPCKARIIRYFYNAKAGLCQTFVYGGCRAKRNNFKSAEDCMRTCGGA\t58\n"
     ]
    },
    {
     "name": "stderr",
     "output_type": "stream",
     "text": [
      "Provided cores: 1\n",
      "Rules claiming more threads will be scaled down.\n",
      "Job counts:\n",
      "\tcount\tjobs\n",
      "\t1\tparse_rcsbpdb_table\n",
      "\t1\n",
      "\n",
      "rule parse_rcsbpdb_table:\n",
      "    input: PF00014_pdb_tab\n",
      "    output: PF00014_pdb.gz\n",
      "    jobid: 0\n",
      "\n",
      "cat PF00014_pdb_tab | sed 's/,/\t/g' | sed 's/\"//g' | sed 's/ /_/g' | sed '1d' | sed 's/\t/_/' | gzip > PF00014_pdb.gz\n",
      "Finished job 0.\n",
      "1 of 1 steps (100%) done\n"
     ]
    }
   ],
   "source": [
    "%%bash\n",
    "cd ../dataset/\n",
    "pwd\n",
    "snakemake -p PF00014_pdb.gz\n",
    "zcat PF00014_pdb.gz | wc -l\n",
    "zcat PF00014_pdb.gz | head -5"
   ]
  },
  {
   "cell_type": "markdown",
   "metadata": {},
   "source": [
    "Side note: the id intersection between ../handmade/5pti_pdbefold_highest_prec and PF00014_pdb.gz is 160 in size (over 163, at most); tested with:"
   ]
  },
  {
   "cell_type": "code",
   "execution_count": 31,
   "metadata": {},
   "outputs": [
    {
     "name": "stdout",
     "output_type": "stream",
     "text": [
      "/home/alessandro/Unibo/python-programming-alessandro-lussana/LB1/prj/kunitz_BPTI_hmm/dataset\n",
      "160\n"
     ]
    }
   ],
   "source": [
    "%%bash\n",
    "cd ../dataset/\n",
    "pwd\n",
    "cat ../handmade/5pti_pdbefold_highest_prec | tr -s \" \" \"\\t\" | cut -f19 | sed '1,5d' | awk '{print toupper($0)}' | sed 's/:/_/g' | grep -f <(zcat PF00014_pdb.gz | cut -f1) | wc -l"
   ]
  },
  {
   "cell_type": "markdown",
   "metadata": {},
   "source": [
    "#### 5pti_pdbefold.gz\n",
    "* 1 ID_CHAIN\n",
    "* 2 Q-score\n",
    "* 3 P-score\n",
    "* 4 Z-score\n",
    "* 5 RMSD"
   ]
  },
  {
   "cell_type": "code",
   "execution_count": 29,
   "metadata": {},
   "outputs": [
    {
     "name": "stdout",
     "output_type": "stream",
     "text": [
      "/home/alessandro/Unibo/python-programming-alessandro-lussana/LB1/prj/kunitz_BPTI_hmm/dataset\n",
      "569\n",
      "5PTI_A\t1\t16.18\t11.93\t0.000\n",
      "9PTI_A\t0.999\t14.33\t11.2\t0.093\n",
      "7PTI_A\t0.9956\t12.59\t10.48\t0.199\n",
      "3LDI_A\t0.9595\t11.28\t9.896\t0.467\n",
      "1BPT_A\t0.959\t12.25\t10.33\t0.248\n"
     ]
    },
    {
     "name": "stderr",
     "output_type": "stream",
     "text": [
      "Provided cores: 1\n",
      "Rules claiming more threads will be scaled down.\n",
      "Job counts:\n",
      "\tcount\tjobs\n",
      "\t1\tparse_pdbefold_summary\n",
      "\t1\n",
      "\n",
      "rule parse_pdbefold_summary:\n",
      "    input: 5pti_pdbefold\n",
      "    output: 5pti_pdbefold.gz\n",
      "    jobid: 0\n",
      "\n",
      "cat 5pti_pdbefold | sed '1,5d' | tr -s \" \" \"\\t\" | cut -f3- | awk '{print toupper($17)\"\t\"$1\"\t\"$2\"\t\"$3\"\t\"$4}' | sed 's/:/_/' | gzip > 5pti_pdbefold.gz\n",
      "Finished job 0.\n",
      "1 of 1 steps (100%) done\n"
     ]
    }
   ],
   "source": [
    "%%bash\n",
    "cd ../dataset/\n",
    "pwd\n",
    "snakemake -p 5pti_pdbefold.gz\n",
    "zcat 5pti_pdbefold.gz | wc -l\n",
    "zcat 5pti_pdbefold.gz | head -5"
   ]
  },
  {
   "cell_type": "markdown",
   "metadata": {},
   "source": [
    "### Intersect and join the previous two files\n",
    "Create a table with candidate sequences suitable for builing the HMM\n",
    "\n",
    "**PF00014_pdb.5pti_pdbefold.gz**\n",
    "\n",
    "Note: PF00014_pdb is not a pefect subset of 5pti_pdbefold: 1 sequence was not structurally aligned with 5pti (see below)"
   ]
  },
  {
   "cell_type": "code",
   "execution_count": 30,
   "metadata": {},
   "outputs": [
    {
     "name": "stdout",
     "output_type": "stream",
     "text": [
      "/home/alessandro/Unibo/python-programming-alessandro-lussana/LB1/prj/kunitz_BPTI_hmm/dataset\n",
      "162\n",
      "1AAP_A\t1.50\tHomo_sapiens\tVREVCSEQAETGPCRAMISRWYFDVTEGKCAPFFYGGCGGNRNNFDTEEYCMAVCGSA\t58\t0.8785\t8.378\t8.472\t0.944\n",
      "1AAP_B\t1.50\tHomo_sapiens\tVREVCSEQAETGPCRAMISRWYFDVTEGKCAPFFYGGCGGNRNNFDTEEYCMAVCGSA\t58\t0.8667\t7.554\t8.024\t0.819\n",
      "1B0C_A\t2.80\tBos_taurus\tRPDFCLEPPYTGPCKARIIRYFYNAKAGLCQTFVYGGCRAKRNNFKSAEDCMRTCGGA\t58\t0.9454\t10.26\t9.419\t0.437\n",
      "1B0C_B\t2.80\tBos_taurus\tRPDFCLEPPYTGPCKARIIRYFYNAKAGLCQTFVYGGCRAKRNNFKSAEDCMRTCGGA\t58\t0.9463\t10.26\t9.419\t0.428\n",
      "1B0C_C\t2.80\tBos_taurus\tRPDFCLEPPYTGPCKARIIRYFYNAKAGLCQTFVYGGCRAKRNNFKSAEDCMRTCGGA\t58\t0.9457\t10.26\t9.419\t0.434\n"
     ]
    },
    {
     "name": "stderr",
     "output_type": "stream",
     "text": [
      "Provided cores: 1\n",
      "Rules claiming more threads will be scaled down.\n",
      "Job counts:\n",
      "\tcount\tjobs\n",
      "\t1\tintersect_and_join\n",
      "\t1\n",
      "\n",
      "rule intersect_and_join:\n",
      "    input: PF00014_pdb.gz, 5pti_pdbefold.gz\n",
      "    output: PF00014_pdb.5pti_pdbefold.txt.gz\n",
      "    jobid: 0\n",
      "\n",
      "join -j 1 <(zcat PF00014_pdb.gz | sort) <(zcat 5pti_pdbefold.gz | fgrep -f <(zcat PF00014_pdb.gz | cut -f1) | sort ) | sed 's/ /\t/g' | gzip > PF00014_pdb.5pti_pdbefold.txt.gz\n",
      "Finished job 0.\n",
      "1 of 1 steps (100%) done\n"
     ]
    }
   ],
   "source": [
    "%%bash\n",
    "cd ../dataset/\n",
    "pwd\n",
    "snakemake -p PF00014_pdb.5pti_pdbefold.txt.gz\n",
    "zcat PF00014_pdb.5pti_pdbefold.txt.gz | wc -l\n",
    "zcat PF00014_pdb.5pti_pdbefold.txt.gz | head -5"
   ]
  },
  {
   "cell_type": "markdown",
   "metadata": {},
   "source": [
    "The chain that does not appear in the pdbefold summary is: **[4BQD_A](https://www.ebi.ac.uk/pdbe/entry/pdb/4bqd/)**\n",
    "\n",
    "By the way **4BQD_B** is present in both PF00014_pdb.gz and 5pti_pdbefold.gz, and is then reported in PF00014_pdb.5pti_pdbefold.gz\n",
    "\n",
    "4BQD_B has the exact same sequence of 4BQD_A, therefore would be excluded in the following filtering procedure for redundancy and would not contribute to the model building \n"
   ]
  },
  {
   "cell_type": "code",
   "execution_count": 9,
   "metadata": {},
   "outputs": [
    {
     "name": "stdout",
     "output_type": "stream",
     "text": [
      "/home/alessandro/Unibo/python-programming-alessandro-lussana/LB1/prj/kunitz_BPTI_hmm/dataset\n",
      "4BQD_A\n",
      "4BQD_B\t0.7973\t10.69\t9.622\t0.853\n",
      "4BQD_A\t2.48\tHomo_sapiens\tDSEEDEEHTIITDTELPPLKLMHSFCAFKADDGPCKAIMKRFFFNIFTRQCEEFIYGGCEGNQNRFESLEECKKMCTRD\t79\n",
      "4BQD_B\t2.48\tHomo_sapiens\tDSEEDEEHTIITDTELPPLKLMHSFCAFKADDGPCKAIMKRFFFNIFTRQCEEFIYGGCEGNQNRFESLEECKKMCTRD\t79\n",
      "0\n"
     ]
    }
   ],
   "source": [
    "%%bash\n",
    "cd ../dataset/\n",
    "pwd\n",
    "zcat PF00014_pdb.gz | cut -f1 | grep -v -f <(zcat PF00014_pdb.5pti_pdbefold.gz | cut -f1)\n",
    "zcat 5pti_pdbefold.gz | grep 4BQD\n",
    "zcat PF00014_pdb.gz | grep 4BQD\n",
    "diff <(zcat PF00014_pdb.gz | grep 4BQD_A | cut -f4) <(zcat PF00014_pdb.gz | grep 4BQD_B | cut -f4) | wc -l"
   ]
  },
  {
   "cell_type": "markdown",
   "metadata": {},
   "source": [
    "### Filter the candidate sequences removing redundancy\n",
    "Before building the HMM we want to cluster the candidate sequences according to their identity; for each cluster, only one representative sequence will be selected and used to build the model. The criterium for chosing the representative sequences is the best resolution of the pdb structure.\n",
    "#### Extract fasta using sequences id\n",
    "**PF00014_pdb.5pti_pdbefold.fasta**"
   ]
  },
  {
   "cell_type": "code",
   "execution_count": 32,
   "metadata": {},
   "outputs": [
    {
     "name": "stdout",
     "output_type": "stream",
     "text": [
      "/home/alessandro/Unibo/python-programming-alessandro-lussana/LB1/prj/kunitz_BPTI_hmm/dataset\n",
      "324\n",
      ">1AAP_A\n",
      "VREVCSEQAETGPCRAMISRWYFDVTEGKCAPFFYGGCGGNRNNFDTEEYCMAVCGSA\n",
      ">1AAP_B\n",
      "VREVCSEQAETGPCRAMISRWYFDVTEGKCAPFFYGGCGGNRNNFDTEEYCMAVCGSA\n",
      ">1B0C_A\n",
      "RPDFCLEPPYTGPCKARIIRYFYNAKAGLCQTFVYGGCRAKRNNFKSAEDCMRTCGGA\n"
     ]
    },
    {
     "name": "stderr",
     "output_type": "stream",
     "text": [
      "Provided cores: 1\n",
      "Rules claiming more threads will be scaled down.\n",
      "Job counts:\n",
      "\tcount\tjobs\n",
      "\t1\tintersection2fasta\n",
      "\t1\n",
      "\n",
      "rule intersection2fasta:\n",
      "    input: PF00014_pdb.5pti_pdbefold.txt.gz\n",
      "    output: PF00014_pdb.5pti_pdbefold.fasta\n",
      "    jobid: 0\n",
      "    wildcards: seqs=PF00014_pdb.5pti_pdbefold\n",
      "\n",
      "zcat PF00014_pdb.5pti_pdbefold.txt.gz | awk '{print \">\"$1\"\\n\"$4}' > PF00014_pdb.5pti_pdbefold.fasta\n",
      "Finished job 0.\n",
      "1 of 1 steps (100%) done\n"
     ]
    }
   ],
   "source": [
    "%%bash\n",
    "cd ../dataset/\n",
    "pwd\n",
    "snakemake -p PF00014_pdb.5pti_pdbefold.fasta\n",
    "cat PF00014_pdb.5pti_pdbefold.fasta | wc -l\n",
    "cat PF00014_pdb.5pti_pdbefold.fasta | head -6"
   ]
  },
  {
   "cell_type": "markdown",
   "metadata": {},
   "source": [
    "#### Cluster the candidate sequences\n",
    "**PF00014_pdb.5pti_pdbefold_S99_L0.95_clust.gz**\n",
    "\n",
    "Using parameters S=99, L=0.95 the sequences are clustered in 25 clusters (see wc -l without the header line)"
   ]
  },
  {
   "cell_type": "code",
   "execution_count": 33,
   "metadata": {},
   "outputs": [
    {
     "name": "stdout",
     "output_type": "stream",
     "text": [
      "/home/alessandro/Unibo/python-programming-alessandro-lussana/LB1/prj/kunitz_BPTI_hmm/dataset\n",
      "26\n",
      "Apr 8, 2019  5:25 PM Start clustering of 162 queries\n",
      "1B0C_A 1B0C_B 1B0C_C 1B0C_D 1B0C_E 1BHC_A 1BHC_B 1BHC_C 1BHC_D 1BHC_E 1BHC_F 1BHC_G 1BHC_H 1BHC_I 1BHC_J 1BPI_A 1BTH_P 1BTH_Q 1BZ5_A 1BZ5_B 1BZ5_C 1BZ5_D 1BZ5_E 1BZX_I 1CBW_D 1CBW_I 1D0D_B 1EAW_B 1EAW_D 1FY8_I 1MTN_D 1MTN_H 1TPA_I 2FTL_I 2HEX_A 2HEX_B 2HEX_C 2HEX_D 2HEX_E 2IJO_I 2KAI_I 2PTC_I 2R9P_E 2R9P_F 2R9P_G 2R9P_I 2RA3_C 2RA3_I 2TGP_I 2TPI_I 3BTK_I 3FP6_I 3FP8_I 3GYM_I 3GYM_J 3LDI_A 3LDI_B 3LDI_C 3LDI_D 3LDI_E 3LDJ_A 3LDJ_B 3LDJ_C 3LDM_A 3LDM_B 3LDM_C 3LDM_D 3LDM_E 3TPI_I 3U1J_E 4DG4_C 4DG4_E 4DG4_F 4DG4_H 4PTI_A 4WWY_C 4WWY_I 4Y0Y_I 5PTI_A 6F1F_A 6F1F_B 6F1F_C 6F1F_D 6F1F_E 6PTI_A 9PTI_A 1YKT_B 4WXV_C 4WXV_I 5YVU_I \n",
      "1AAP_A 1AAP_B 1TAW_B 1ZJD_B 1BRC_I 1CA0_D 1CA0_I 3L33_E 3L33_F 3L33_G 3L33_H \n",
      "3BYB_A 3BYB_B 3BYB_C 3UIR_C 3UIR_D 5ZJ3_A 5ZJ3_B 5ZJ3_C 3D65_I \n",
      "3WNY_A 3WNY_B 3WNY_C 3WNY_E 3WNY_F 3WNY_G 3WNY_H 3WNY_I \n"
     ]
    },
    {
     "name": "stderr",
     "output_type": "stream",
     "text": [
      "Provided cores: 1\n",
      "Rules claiming more threads will be scaled down.\n",
      "Job counts:\n",
      "\tcount\tjobs\n",
      "\t1\trun_blastclust\n",
      "\t1\n",
      "\n",
      "rule run_blastclust:\n",
      "    input: PF00014_pdb.5pti_pdbefold.fasta\n",
      "    output: PF00014_pdb.5pti_pdbefold_S99_L0.95_clust.gz\n",
      "    jobid: 0\n",
      "    wildcards: db=PF00014_pdb.5pti_pdbefold, S=99, L=0.95\n",
      "\n",
      "blastclust -i PF00014_pdb.5pti_pdbefold.fasta -L 0.95 -S 99 | gzip > PF00014_pdb.5pti_pdbefold_S99_L0.95_clust.gz\n",
      "Finished job 0.\n",
      "1 of 1 steps (100%) done\n"
     ]
    }
   ],
   "source": [
    "%%bash\n",
    "cd ../dataset/\n",
    "pwd\n",
    "snakemake -p PF00014_pdb.5pti_pdbefold_S99_L0.95_clust.gz\n",
    "zcat PF00014_pdb.5pti_pdbefold_S99_L0.95_clust.gz | wc -l\n",
    "zcat PF00014_pdb.5pti_pdbefold_S99_L0.95_clust.gz | head -5"
   ]
  },
  {
   "cell_type": "markdown",
   "metadata": {},
   "source": [
    "#### Filter the candidate sequences table according to the clustering results\n",
    "**nonredund_PF00014_pdb.5pti_pdbefold_S99_L0.95**"
   ]
  },
  {
   "cell_type": "code",
   "execution_count": 35,
   "metadata": {},
   "outputs": [
    {
     "name": "stdout",
     "output_type": "stream",
     "text": [
      "/home/alessandro/Unibo/python-programming-alessandro-lussana/LB1/prj/kunitz_BPTI_hmm/dataset\n",
      "25\n",
      "5PTI_A\t1.00\tBos_taurus\tRPDFCLEPPYTGPCKARIIRYFYNAKAGLCQTFVYGGCRAKRNNFKSAEDCMRTCGGA\t58\t1\t16.18\t11.93\t0.000\n",
      "1AAP_A\t1.50\tHomo_sapiens\tVREVCSEQAETGPCRAMISRWYFDVTEGKCAPFFYGGCGGNRNNFDTEEYCMAVCGSA\t58\t0.8785\t8.378\t8.472\t0.944\n",
      "3BYB_A\t1.63\tPseudonaja_textilis\tKDRPDFCELPADTGPCRVRFPSFYYNPDEKKCLEFIYGGCEGNANNFITKEECESTCAA\t59\t0.8603\t10.23\t9.402\t0.867\n",
      "3WNY_A\t1.30\tBos_taurus\tRPAFCLEPPYAGPGKARIIRYFYNAKAGAAQAFVYGGVRAKRNNFASAADALAACAAAGGKKK\t63\t0.934\t10.78\t9.662\t0.551\n",
      "1Y62_A\t2.45\tConus_striatus\tKDRPSLCDLPADSGSGTKAEKRIYYNSARKQCLRFDYTGQGGNENNFRRTYDCQRTCLYT\t60\t0.8862\t10.53\t9.544\t0.897\n"
     ]
    },
    {
     "name": "stderr",
     "output_type": "stream",
     "text": [
      "Provided cores: 1\n",
      "Rules claiming more threads will be scaled down.\n",
      "Job counts:\n",
      "\tcount\tjobs\n",
      "\t1\textract_representative_sequences\n",
      "\t1\n",
      "\n",
      "rule extract_representative_sequences:\n",
      "    input: PF00014_pdb.5pti_pdbefold_S99_L0.95_clust.gz, PF00014_pdb.5pti_pdbefold.txt.gz\n",
      "    output: nonredund_PF00014_pdb.5pti_pdbefold_S99_L0.95.txt.gz\n",
      "    jobid: 0\n",
      "    wildcards: sequences=PF00014_pdb.5pti_pdbefold, S=99, L=0.95\n",
      "\n",
      "for cluster in $(zcat PF00014_pdb.5pti_pdbefold_S99_L0.95_clust.gz | sed '1d' | sed 's/ /%/g'); do zcat PF00014_pdb.5pti_pdbefold.txt.gz | grep -w -f <(echo $cluster | sed 's/%/\\n/g') | sort -n -k2 | sed -n '1p'; done | gzip > nonredund_PF00014_pdb.5pti_pdbefold_S99_L0.95.txt.gz\n",
      "Finished job 0.\n",
      "1 of 1 steps (100%) done\n"
     ]
    }
   ],
   "source": [
    "%%bash\n",
    "cd ../dataset/\n",
    "pwd\n",
    "snakemake -p nonredund_PF00014_pdb.5pti_pdbefold_S99_L0.95.txt.gz\n",
    "zcat nonredund_PF00014_pdb.5pti_pdbefold_S99_L0.95.txt.gz | wc -l\n",
    "zcat nonredund_PF00014_pdb.5pti_pdbefold_S99_L0.95.txt.gz | head -5"
   ]
  },
  {
   "cell_type": "markdown",
   "metadata": {},
   "source": [
    "### Perform structure-based MSA with selected Kunitz representative sequences\n",
    "Differenct methods will be used, and the performance of the HMM classifiers will be compared\n",
    "\n",
    "#### Create a fasta file for the selected sequences\n",
    "**nonredund_PF00014_pdb.5pti_pdbefold_S99_L0.95.fasta**"
   ]
  },
  {
   "cell_type": "code",
   "execution_count": 36,
   "metadata": {},
   "outputs": [
    {
     "name": "stdout",
     "output_type": "stream",
     "text": [
      "/home/alessandro/Unibo/python-programming-alessandro-lussana/LB1/prj/kunitz_BPTI_hmm/dataset\n",
      "50\n",
      ">5PTI_A\n",
      "RPDFCLEPPYTGPCKARIIRYFYNAKAGLCQTFVYGGCRAKRNNFKSAEDCMRTCGGA\n",
      ">1AAP_A\n",
      "VREVCSEQAETGPCRAMISRWYFDVTEGKCAPFFYGGCGGNRNNFDTEEYCMAVCGSA\n",
      ">3BYB_A\n",
      "KDRPDFCELPADTGPCRVRFPSFYYNPDEKKCLEFIYGGCEGNANNFITKEECESTCAA\n"
     ]
    },
    {
     "name": "stderr",
     "output_type": "stream",
     "text": [
      "Provided cores: 1\n",
      "Rules claiming more threads will be scaled down.\n",
      "Job counts:\n",
      "\tcount\tjobs\n",
      "\t1\tintersection2fasta\n",
      "\t1\n",
      "\n",
      "rule intersection2fasta:\n",
      "    input: nonredund_PF00014_pdb.5pti_pdbefold_S99_L0.95.txt.gz\n",
      "    output: nonredund_PF00014_pdb.5pti_pdbefold_S99_L0.95.fasta\n",
      "    jobid: 0\n",
      "    wildcards: seqs=nonredund_PF00014_pdb.5pti_pdbefold_S99_L0.95\n",
      "\n",
      "zcat nonredund_PF00014_pdb.5pti_pdbefold_S99_L0.95.txt.gz | awk '{print \">\"$1\"\\n\"$4}' > nonredund_PF00014_pdb.5pti_pdbefold_S99_L0.95.fasta\n",
      "Finished job 0.\n",
      "1 of 1 steps (100%) done\n"
     ]
    }
   ],
   "source": [
    "%%bash\n",
    "cd ../dataset/\n",
    "pwd\n",
    "snakemake -p nonredund_PF00014_pdb.5pti_pdbefold_S99_L0.95.fasta\n",
    "cat nonredund_PF00014_pdb.5pti_pdbefold_S99_L0.95.fasta | wc -l\n",
    "cat nonredund_PF00014_pdb.5pti_pdbefold_S99_L0.95.fasta | head -6"
   ]
  },
  {
   "cell_type": "markdown",
   "metadata": {},
   "source": [
    "#### Create an id list for the selected sequences\n",
    "**nonredund_PF00014_pdb.5pti_pdbefold_S99_L0.95.idlist**"
   ]
  },
  {
   "cell_type": "code",
   "execution_count": 7,
   "metadata": {},
   "outputs": [
    {
     "name": "stdout",
     "output_type": "stream",
     "text": [
      "/home/alessandro/Unibo/python-programming-alessandro-lussana/LB1/prj/kunitz_BPTI_hmm/dataset\n",
      "25\n",
      "5PTI:A\n",
      "1AAP:A\n",
      "3BYB:A\n",
      "3WNY:A\n",
      "1Y62:A\n",
      "1F7Z:I\n",
      "4U30:W\n",
      "4ISO:B\n",
      "4NTW:B\n",
      "1KTH:A\n"
     ]
    },
    {
     "name": "stderr",
     "output_type": "stream",
     "text": [
      "Provided cores: 1\n",
      "Rules claiming more threads will be scaled down.\n",
      "Job counts:\n",
      "\tcount\tjobs\n",
      "\t1\tcreate_chosen_ids_list\n",
      "\t1\n",
      "\n",
      "rule create_chosen_ids_list:\n",
      "    input: nonredund_PF00014_pdb.5pti_pdbefold_S99_L0.95.txt.gz\n",
      "    output: PDB.nonredund_PF00014_pdb.5pti_pdbefold_S99_L0.95/idlist\n",
      "    jobid: 0\n",
      "    wildcards: sequences=nonredund_PF00014_pdb.5pti_pdbefold_S99_L0.95\n",
      "\n",
      "zcat nonredund_PF00014_pdb.5pti_pdbefold_S99_L0.95.txt.gz | cut -f1 | sed 's/_/:/' > PDB.nonredund_PF00014_pdb.5pti_pdbefold_S99_L0.95/idlist\n",
      "Finished job 0.\n",
      "1 of 1 steps (100%) done\n"
     ]
    }
   ],
   "source": [
    "%%bash\n",
    "cd ../dataset/\n",
    "pwd\n",
    "snakemake -p PDB.nonredund_PF00014_pdb.5pti_pdbefold_S99_L0.95/idlist\n",
    "cat PDB.nonredund_PF00014_pdb.5pti_pdbefold_S99_L0.95/idlist | wc -l\n",
    "cat PDB.nonredund_PF00014_pdb.5pti_pdbefold_S99_L0.95/idlist | head"
   ]
  },
  {
   "cell_type": "markdown",
   "metadata": {},
   "source": [
    "#### Fetch PDB files for selected sequences\n",
    "For each pdb, a monochain version - containing only the kunitz representative chain - is created\n",
    "\n",
    "**PDB.nonredund_PF00014_pdb.5pti_pdbefold_S99_L0.95/***"
   ]
  },
  {
   "cell_type": "code",
   "execution_count": 10,
   "metadata": {},
   "outputs": [
    {
     "name": "stdout",
     "output_type": "stream",
     "text": [
      "/home/alessandro/Unibo/python-programming-alessandro-lussana/LB1/prj/kunitz_BPTI_hmm/dataset\n",
      "28\n",
      "total 1,1M\n",
      "-rw-r--r-- 1 alessandro alessandro 35K apr  8 23:40 1AAP.A.pdb\n",
      "-rw-r--r-- 1 alessandro alessandro 40K apr  8 23:41 1BUN.B.pdb\n",
      "-rw-r--r-- 1 alessandro alessandro 38K apr  8 23:41 1DTX.A.pdb\n",
      "-rw-r--r-- 1 alessandro alessandro 36K apr  8 23:40 1F7Z.I.pdb\n",
      "-rw-r--r-- 1 alessandro alessandro 36K apr  8 23:40 1KTH.A.pdb\n",
      "-rw-r--r-- 1 alessandro alessandro 38K apr  8 23:40 1TFX.C.pdb\n",
      "-rw-r--r-- 1 alessandro alessandro 36K apr  8 23:40 1Y62.A.pdb\n",
      "-rw-r--r-- 1 alessandro alessandro 43K apr  8 23:41 1YC0.I.pdb\n",
      "-rw-r--r-- 1 alessandro alessandro 41K apr  8 23:40 1ZR0.B.pdb\n",
      "-rw-r--r-- 1 alessandro alessandro 37K apr  8 23:40 3BYB.A.pdb\n",
      "-rw-r--r-- 1 alessandro alessandro 38K apr  8 23:40 3M7Q.B.pdb\n",
      "-rw-r--r-- 1 alessandro alessandro 34K apr  8 23:40 3T62.D.pdb\n",
      "-rw-r--r-- 1 alessandro alessandro 32K apr  8 23:40 3WNY.A.pdb\n",
      "-rw-r--r-- 1 alessandro alessandro 43K apr  8 23:41 4BQD.B.pdb\n",
      "-rw-r--r-- 1 alessandro alessandro 42K apr  8 23:41 4DTG.K.pdb\n",
      "-rw-r--r-- 1 alessandro alessandro 39K apr  8 23:40 4ISO.B.pdb\n",
      "-rw-r--r-- 1 alessandro alessandro 39K apr  8 23:40 4NTW.B.pdb\n",
      "-rw-r--r-- 1 alessandro alessandro 33K apr  8 23:40 4U30.W.pdb\n",
      "-rw-r--r-- 1 alessandro alessandro 34K apr  8 23:41 4U32.X.pdb\n",
      "-rw-r--r-- 1 alessandro alessandro 80K apr  8 23:40 5NMV.K.pdb\n",
      "-rw-r--r-- 1 alessandro alessandro 33K apr  8 23:40 5NX1.C.pdb\n",
      "-rw-r--r-- 1 alessandro alessandro 27K apr  8 23:41 5NX1.D.pdb\n",
      "-rw-r--r-- 1 alessandro alessandro 71K apr  8 23:40 5PTI.A.pdb\n",
      "-rw-r--r-- 1 alessandro alessandro 39K apr  8 23:41 5YV7.A.pdb\n",
      "-rw-r--r-- 1 alessandro alessandro 34K apr  8 23:41 5YW1.I.pdb\n",
      "-rw-r--r-- 1 alessandro alessandro   0 apr  8 23:41 get_chains_completed\n",
      "-rw-r--r-- 1 alessandro alessandro 175 apr  8 23:32 idlist\n"
     ]
    },
    {
     "name": "stderr",
     "output_type": "stream",
     "text": [
      "Provided cores: 1\n",
      "Rules claiming more threads will be scaled down.\n",
      "Job counts:\n",
      "\tcount\tjobs\n",
      "\t1\tget_pdb_files\n",
      "\t1\n",
      "\n",
      "rule get_pdb_files:\n",
      "    input: PDB.nonredund_PF00014_pdb.5pti_pdbefold_S99_L0.95/idlist\n",
      "    output: PDB.nonredund_PF00014_pdb.5pti_pdbefold_S99_L0.95/get_chains_completed\n",
      "    jobid: 0\n",
      "    wildcards: sequences=nonredund_PF00014_pdb.5pti_pdbefold_S99_L0.95\n",
      "\n",
      "idlist=$(cat PDB.nonredund_PF00014_pdb.5pti_pdbefold_S99_L0.95/idlist | sed 's/:/\\t/' | cut -f1); idarr=($(cat PDB.nonredund_PF00014_pdb.5pti_pdbefold_S99_L0.95/idlist | sed 's/:/\\t/' | cut -f1)); charr=($(cat PDB.nonredund_PF00014_pdb.5pti_pdbefold_S99_L0.95/idlist | sed 's/:/\\t/' | cut -f2)); i=0; for id in $idlist; do wget -P PDB.nonredund_PF00014_pdb.5pti_pdbefold_S99_L0.95/ http://www.rcsb.org/pdb/files/${id}.pdb; chain=${charr[$i]}; cat PDB.nonredund_PF00014_pdb.5pti_pdbefold_S99_L0.95/${id}.pdb | awk -v chain=$chain '{split($0,line); if(line[1]==\"ATOM\" && line[5]==chain) {print $0}}' > PDB.nonredund_PF00014_pdb.5pti_pdbefold_S99_L0.95/${id}.${chain}.pdb; rm PDB.nonredund_PF00014_pdb.5pti_pdbefold_S99_L0.95/${id}.pdb; i=$(echo \"$i+1\" | bc); done;touch PDB.nonredund_PF00014_pdb.5pti_pdbefold_S99_L0.95/get_chains_completed\n",
      "--2019-04-08 23:40:02--  http://www.rcsb.org/pdb/files/5PTI.pdb\n",
      "Resolving www.rcsb.org (www.rcsb.org)... 128.6.244.65\n",
      "Connecting to www.rcsb.org (www.rcsb.org)|128.6.244.65|:80... connected.\n",
      "HTTP request sent, awaiting response... 301 Moved Permanently\n",
      "Location: http://files.rcsb.org/view/5PTI.pdb [following]\n",
      "--2019-04-08 23:40:03--  http://files.rcsb.org/view/5PTI.pdb\n",
      "Resolving files.rcsb.org (files.rcsb.org)... 128.6.244.12\n",
      "Connecting to files.rcsb.org (files.rcsb.org)|128.6.244.12|:80... connected.\n",
      "HTTP request sent, awaiting response... 200 OK\n",
      "Length: unspecified [text/plain]\n",
      "Saving to: ‘PDB.nonredund_PF00014_pdb.5pti_pdbefold_S99_L0.95/5PTI.pdb’\n",
      "\n",
      "     0K .......... .......... .......... .......... .......... 81,2K\n",
      "    50K .......... .......... .......... .......... ..........  163K\n",
      "   100K .......... .......... .                                37,9M=0,9s\n",
      "\n",
      "2019-04-08 23:40:04 (131 KB/s) - ‘PDB.nonredund_PF00014_pdb.5pti_pdbefold_S99_L0.95/5PTI.pdb’ saved [124335]\n",
      "\n",
      "--2019-04-08 23:40:04--  http://www.rcsb.org/pdb/files/1AAP.pdb\n",
      "Resolving www.rcsb.org (www.rcsb.org)... 128.6.244.65\n",
      "Connecting to www.rcsb.org (www.rcsb.org)|128.6.244.65|:80... connected.\n",
      "HTTP request sent, awaiting response... 301 Moved Permanently\n",
      "Location: http://files.rcsb.org/view/1AAP.pdb [following]\n",
      "--2019-04-08 23:40:05--  http://files.rcsb.org/view/1AAP.pdb\n",
      "Resolving files.rcsb.org (files.rcsb.org)... 128.6.244.12\n",
      "Connecting to files.rcsb.org (files.rcsb.org)|128.6.244.12|:80... connected.\n",
      "HTTP request sent, awaiting response... 200 OK\n",
      "Length: unspecified [text/plain]\n",
      "Saving to: ‘PDB.nonredund_PF00014_pdb.5pti_pdbefold_S99_L0.95/1AAP.pdb’\n",
      "\n",
      "     0K .......... .......... .......... .......... .......... 81,5K\n",
      "    50K .......... .......... .......... .......... ..........  164K\n",
      "   100K ..                                                     5251G=0,9s\n",
      "\n",
      "2019-04-08 23:40:06 (112 KB/s) - ‘PDB.nonredund_PF00014_pdb.5pti_pdbefold_S99_L0.95/1AAP.pdb’ saved [105219]\n",
      "\n",
      "--2019-04-08 23:40:06--  http://www.rcsb.org/pdb/files/3BYB.pdb\n",
      "Resolving www.rcsb.org (www.rcsb.org)... 128.6.244.65\n",
      "Connecting to www.rcsb.org (www.rcsb.org)|128.6.244.65|:80... connected.\n",
      "HTTP request sent, awaiting response... 301 Moved Permanently\n",
      "Location: http://files.rcsb.org/view/3BYB.pdb [following]\n",
      "--2019-04-08 23:40:07--  http://files.rcsb.org/view/3BYB.pdb\n",
      "Resolving files.rcsb.org (files.rcsb.org)... 128.6.244.12\n",
      "Connecting to files.rcsb.org (files.rcsb.org)|128.6.244.12|:80... connected.\n",
      "HTTP request sent, awaiting response... 200 OK\n",
      "Length: unspecified [text/plain]\n",
      "Saving to: ‘PDB.nonredund_PF00014_pdb.5pti_pdbefold_S99_L0.95/3BYB.pdb’\n",
      "\n",
      "     0K .......... .......... .......... .......... ..........  118K\n",
      "    50K .......... .......... .......... .......... ..........  429K\n",
      "   100K .......... .......... .......... .......... .......... 3,27M\n",
      "   150K .......... .....                                        143K=0,7s\n",
      "\n",
      "2019-04-08 23:40:08 (249 KB/s) - ‘PDB.nonredund_PF00014_pdb.5pti_pdbefold_S99_L0.95/3BYB.pdb’ saved [169128]\n",
      "\n",
      "--2019-04-08 23:40:08--  http://www.rcsb.org/pdb/files/3WNY.pdb\n",
      "Resolving www.rcsb.org (www.rcsb.org)... 128.6.244.65\n",
      "Connecting to www.rcsb.org (www.rcsb.org)|128.6.244.65|:80... connected.\n",
      "HTTP request sent, awaiting response... 301 Moved Permanently\n",
      "Location: http://files.rcsb.org/view/3WNY.pdb [following]\n",
      "--2019-04-08 23:40:08--  http://files.rcsb.org/view/3WNY.pdb\n",
      "Resolving files.rcsb.org (files.rcsb.org)... 128.6.244.12\n",
      "Connecting to files.rcsb.org (files.rcsb.org)|128.6.244.12|:80... connected.\n",
      "HTTP request sent, awaiting response... 200 OK\n",
      "Length: unspecified [text/plain]\n",
      "Saving to: ‘PDB.nonredund_PF00014_pdb.5pti_pdbefold_S99_L0.95/3WNY.pdb’\n",
      "\n",
      "     0K .......... .......... .......... .......... ..........  118K\n",
      "    50K .......... .......... .......... .......... ..........  435K\n",
      "   100K .......... .......... .......... .......... .......... 3,19M\n",
      "   150K .......... .......... .......... .......... ..........  444K\n",
      "   200K .......... .......... .......... .......... ..........  441K\n",
      "   250K .......... .......... .......... .......... ..........  447K\n",
      "   300K .......... .......... .......... .......... ..........  453K\n",
      "   350K .......... .......... .......... .......... .......... 2,99M\n",
      "   400K .......... .......... .......... .......... ..........  460K\n",
      "   450K .......... .......... .......... .......... ..........  456K\n",
      "   500K .......... .......... .......... .......... .......... 3,35M\n",
      "   550K .......... .......... .......... .......... ..........  430K\n",
      "   600K .......... .......... .......... .......... ..........  469K\n",
      "   650K .......... .......... .......... .......... .......... 1,75M\n",
      "   700K .......... .......... .......... .                      366K=1,6s\n",
      "\n",
      "2019-04-08 23:40:10 (460 KB/s) - ‘PDB.nonredund_PF00014_pdb.5pti_pdbefold_S99_L0.95/3WNY.pdb’ saved [748764]\n",
      "\n",
      "--2019-04-08 23:40:10--  http://www.rcsb.org/pdb/files/1Y62.pdb\n",
      "Resolving www.rcsb.org (www.rcsb.org)... 128.6.244.65\n",
      "Connecting to www.rcsb.org (www.rcsb.org)|128.6.244.65|:80... connected.\n",
      "HTTP request sent, awaiting response... 301 Moved Permanently\n",
      "Location: http://files.rcsb.org/view/1Y62.pdb [following]\n",
      "--2019-04-08 23:40:11--  http://files.rcsb.org/view/1Y62.pdb\n",
      "Resolving files.rcsb.org (files.rcsb.org)... 128.6.244.12\n",
      "Connecting to files.rcsb.org (files.rcsb.org)|128.6.244.12|:80... connected.\n",
      "HTTP request sent, awaiting response... 200 OK\n",
      "Length: unspecified [text/plain]\n",
      "Saving to: ‘PDB.nonredund_PF00014_pdb.5pti_pdbefold_S99_L0.95/1Y62.pdb’\n",
      "\n",
      "     0K .......... .......... .......... .......... ..........  161K\n",
      "    50K .......... .......... .......... .......... ..........  163K\n",
      "   100K .......... .......... .......... .......... .......... 52,8M\n",
      "   150K .......... .......... .......... .......... ..........  162K\n",
      "   200K .......... .......... .......... .......... ..........  168K\n",
      "   250K .......... .......... .                                28,2M=1,2s\n",
      "\n",
      "2019-04-08 23:40:12 (222 KB/s) - ‘PDB.nonredund_PF00014_pdb.5pti_pdbefold_S99_L0.95/1Y62.pdb’ saved [277992]\n",
      "\n",
      "--2019-04-08 23:40:12--  http://www.rcsb.org/pdb/files/1F7Z.pdb\n",
      "Resolving www.rcsb.org (www.rcsb.org)... 128.6.244.65\n",
      "Connecting to www.rcsb.org (www.rcsb.org)|128.6.244.65|:80... connected.\n",
      "HTTP request sent, awaiting response... 301 Moved Permanently\n",
      "Location: http://files.rcsb.org/view/1F7Z.pdb [following]\n",
      "--2019-04-08 23:40:13--  http://files.rcsb.org/view/1F7Z.pdb\n",
      "Resolving files.rcsb.org (files.rcsb.org)... 128.6.244.12\n",
      "Connecting to files.rcsb.org (files.rcsb.org)|128.6.244.12|:80... connected.\n",
      "HTTP request sent, awaiting response... 200 OK\n",
      "Length: unspecified [text/plain]\n",
      "Saving to: ‘PDB.nonredund_PF00014_pdb.5pti_pdbefold_S99_L0.95/1F7Z.pdb’\n",
      "\n",
      "     0K .......... .......... .......... .......... ..........  118K\n",
      "    50K .......... .......... .......... .......... ..........  436K\n",
      "   100K .......... .......... .......... .......... .......... 2,98M\n",
      "   150K .......... .......... .......... .......... ..........  431K\n",
      "   200K .......... ...                                         53,7K=0,9s\n",
      "\n",
      "2019-04-08 23:40:14 (232 KB/s) - ‘PDB.nonredund_PF00014_pdb.5pti_pdbefold_S99_L0.95/1F7Z.pdb’ saved [218619]\n",
      "\n",
      "--2019-04-08 23:40:14--  http://www.rcsb.org/pdb/files/4U30.pdb\n",
      "Resolving www.rcsb.org (www.rcsb.org)... 128.6.244.65\n",
      "Connecting to www.rcsb.org (www.rcsb.org)|128.6.244.65|:80... connected.\n",
      "HTTP request sent, awaiting response... 301 Moved Permanently\n",
      "Location: http://files.rcsb.org/view/4U30.pdb [following]\n",
      "--2019-04-08 23:40:15--  http://files.rcsb.org/view/4U30.pdb\n",
      "Resolving files.rcsb.org (files.rcsb.org)... 128.6.244.12\n",
      "Connecting to files.rcsb.org (files.rcsb.org)|128.6.244.12|:80... connected.\n",
      "HTTP request sent, awaiting response... 200 OK\n",
      "Length: unspecified [text/plain]\n",
      "Saving to: ‘PDB.nonredund_PF00014_pdb.5pti_pdbefold_S99_L0.95/4U30.pdb’\n",
      "\n",
      "     0K .......... .......... .......... .......... .......... 81,3K\n",
      "    50K .......... .......... .......... .......... ..........  163K\n",
      "   100K .......... .......... .......... .......... .......... 52,6M\n",
      "   150K .......... .......... .......... .......... ..........  163K\n",
      "   200K .......... .......... .......... .......... ..........  163K\n",
      "   250K .......... .......... .......... .......... ..........  163K\n",
      "   300K .......... .......... .......... .......... ..........  162K\n",
      "   350K .......... .......... .......... .......... .......... 31,2M\n",
      "   400K .......... .......... .......... .......... ..........  163K\n",
      "   450K .......... .......... .......... .......... ..........  163K\n",
      "   500K .......... .......... .......... .......... .......... 28,0M\n",
      "   550K .......... .......... .......... .......... ..........  163K\n",
      "   600K .......... .......... .......... .......... ..........  163K\n",
      "   650K .......... .......... .......... .......... .......... 21,9M\n",
      "   700K .......... .......... .......... .......... ..........  163K\n",
      "   750K .......... ..                                          47,6M=3,7s\n",
      "\n",
      "2019-04-08 23:40:19 (207 KB/s) - ‘PDB.nonredund_PF00014_pdb.5pti_pdbefold_S99_L0.95/4U30.pdb’ saved [781002]\n",
      "\n",
      "--2019-04-08 23:40:19--  http://www.rcsb.org/pdb/files/4ISO.pdb\n",
      "Resolving www.rcsb.org (www.rcsb.org)... 128.6.244.65\n",
      "Connecting to www.rcsb.org (www.rcsb.org)|128.6.244.65|:80... connected.\n",
      "HTTP request sent, awaiting response... 301 Moved Permanently\n",
      "Location: http://files.rcsb.org/view/4ISO.pdb [following]\n",
      "--2019-04-08 23:40:19--  http://files.rcsb.org/view/4ISO.pdb\n",
      "Resolving files.rcsb.org (files.rcsb.org)... 128.6.244.12\n",
      "Connecting to files.rcsb.org (files.rcsb.org)|128.6.244.12|:80... connected.\n",
      "HTTP request sent, awaiting response... 200 OK\n",
      "Length: unspecified [text/plain]\n",
      "Saving to: ‘PDB.nonredund_PF00014_pdb.5pti_pdbefold_S99_L0.95/4ISO.pdb’\n",
      "\n",
      "     0K .......... .......... .......... .......... .......... 81,1K\n",
      "    50K .......... .......... .......... .......... ..........  163K\n",
      "   100K .......... .......... .......... .......... .......... 18,5M\n",
      "   150K .......... .......... .......... .......... ..........  163K\n",
      "   200K .......... .......... .......... .......... ..........  162K\n",
      "   250K ......                                                 33,3M=1,5s\n",
      "\n",
      "2019-04-08 23:40:21 (166 KB/s) - ‘PDB.nonredund_PF00014_pdb.5pti_pdbefold_S99_L0.95/4ISO.pdb’ saved [262197]\n",
      "\n",
      "--2019-04-08 23:40:21--  http://www.rcsb.org/pdb/files/4NTW.pdb\n",
      "Resolving www.rcsb.org (www.rcsb.org)... 128.6.244.65\n",
      "Connecting to www.rcsb.org (www.rcsb.org)|128.6.244.65|:80... connected.\n",
      "HTTP request sent, awaiting response... 301 Moved Permanently\n",
      "Location: http://files.rcsb.org/view/4NTW.pdb [following]\n",
      "--2019-04-08 23:40:22--  http://files.rcsb.org/view/4NTW.pdb\n",
      "Resolving files.rcsb.org (files.rcsb.org)... 128.6.244.12\n",
      "Connecting to files.rcsb.org (files.rcsb.org)|128.6.244.12|:80... connected.\n",
      "HTTP request sent, awaiting response... 200 OK\n",
      "Length: unspecified [text/plain]\n",
      "Saving to: ‘PDB.nonredund_PF00014_pdb.5pti_pdbefold_S99_L0.95/4NTW.pdb’\n",
      "\n",
      "     0K .......... .......... .......... .......... .......... 81,3K\n",
      "    50K .......... .......... .......... .......... ..........  163K\n",
      "   100K .......... .......... .......... .......... .......... 52,4M\n",
      "   150K .......... .......... .......... .......... ..........  395K\n",
      "   200K .......... .......... .......... .......... ..........  275K\n",
      "   250K .......... .......... .......... .......... ..........  163K\n",
      "   300K .......... .......... .......... .......... ..........  163K\n",
      "   350K .......... .......... .......... .......... .......... 18,3M\n",
      "   400K .......... .......... .......... .......... ..........  164K\n",
      "   450K ........                                               4,99M=2,2s\n",
      "\n",
      "2019-04-08 23:40:24 (213 KB/s) - ‘PDB.nonredund_PF00014_pdb.5pti_pdbefold_S99_L0.95/4NTW.pdb’ saved [469152]\n",
      "\n",
      "--2019-04-08 23:40:24--  http://www.rcsb.org/pdb/files/1KTH.pdb\n",
      "Resolving www.rcsb.org (www.rcsb.org)... 128.6.244.65\n",
      "Connecting to www.rcsb.org (www.rcsb.org)|128.6.244.65|:80... connected.\n",
      "HTTP request sent, awaiting response... 301 Moved Permanently\n",
      "Location: http://files.rcsb.org/view/1KTH.pdb [following]\n",
      "--2019-04-08 23:40:25--  http://files.rcsb.org/view/1KTH.pdb\n",
      "Resolving files.rcsb.org (files.rcsb.org)... 128.6.244.12\n",
      "Connecting to files.rcsb.org (files.rcsb.org)|128.6.244.12|:80... connected.\n",
      "HTTP request sent, awaiting response... 200 OK\n",
      "Length: unspecified [text/plain]\n",
      "Saving to: ‘PDB.nonredund_PF00014_pdb.5pti_pdbefold_S99_L0.95/1KTH.pdb’\n",
      "\n",
      "     0K .......... .......... .......... .......... ..........  108K\n",
      "    50K .......... .......... .......... .......... ..........  445K\n",
      "   100K .......                                                1,91M=0,6s\n",
      "\n",
      "2019-04-08 23:40:26 (186 KB/s) - ‘PDB.nonredund_PF00014_pdb.5pti_pdbefold_S99_L0.95/1KTH.pdb’ saved [110079]\n",
      "\n",
      "--2019-04-08 23:40:26--  http://www.rcsb.org/pdb/files/3T62.pdb\n",
      "Resolving www.rcsb.org (www.rcsb.org)... 128.6.244.65\n",
      "Connecting to www.rcsb.org (www.rcsb.org)|128.6.244.65|:80... connected.\n",
      "HTTP request sent, awaiting response... 301 Moved Permanently\n",
      "Location: http://files.rcsb.org/view/3T62.pdb [following]\n",
      "--2019-04-08 23:40:27--  http://files.rcsb.org/view/3T62.pdb\n",
      "Resolving files.rcsb.org (files.rcsb.org)... 128.6.244.12\n",
      "Connecting to files.rcsb.org (files.rcsb.org)|128.6.244.12|:80... connected.\n",
      "HTTP request sent, awaiting response... 200 OK\n",
      "Length: unspecified [text/plain]\n",
      "Saving to: ‘PDB.nonredund_PF00014_pdb.5pti_pdbefold_S99_L0.95/3T62.pdb’\n",
      "\n",
      "     0K .......... .......... .......... .......... .......... 18,1K\n",
      "    50K .......... .......... .......... .......... .......... 20,3K\n",
      "   100K .......... .......... .......... .......... .......... 92,6K\n",
      "   150K .......... .......... .......... .......... ..........  100K\n",
      "   200K .......... .......... .......... .......... ..........  216K\n",
      "   250K .......... .......... .......... .......... ..........  214K\n",
      "   300K .......... .......... .......... .......... ..........  201K\n",
      "   350K .......... .......... .......... .......... ..........  364K\n",
      "   400K .......... .......... .......... .......... ..........  228K\n",
      "   450K .......... .......... .......... .......... ..........  304K\n",
      "   500K .......... .......... .......... .......... ..........  280K\n",
      "   550K .......... .......... .......... .......... ..........  404K\n",
      "   600K .......... .......... .......... .......... ..........  420K\n",
      "   650K .......... .......... .......... .......... ..........  317K\n",
      "   700K .......... .......... .......... .......... ..........  427K\n",
      "   750K .......... .......... .......... .......... ..........  433K\n",
      "   800K .......... .......... .......... .......... ..........  434K\n",
      "   850K .......... .......... .......... .......... ..........  431K\n",
      "   900K .......... .......... .......... .......... ..........  686K\n",
      "   950K .......... .......... .......... .......... ..........  159K\n",
      "  1000K .......... .......... .......... .......... ..........  666K\n",
      "  1050K .......... .......... .......... .......... ..........  217K\n",
      "  1100K .......... .......... .......... .......... ..........  892K\n",
      "  1150K ...                                                    68,6K=9,3s\n",
      "\n",
      "2019-04-08 23:40:38 (123 KB/s) - ‘PDB.nonredund_PF00014_pdb.5pti_pdbefold_S99_L0.95/3T62.pdb’ saved [1181628]\n",
      "\n",
      "--2019-04-08 23:40:38--  http://www.rcsb.org/pdb/files/1ZR0.pdb\n",
      "Resolving www.rcsb.org (www.rcsb.org)... 128.6.244.65\n",
      "Connecting to www.rcsb.org (www.rcsb.org)|128.6.244.65|:80... connected.\n",
      "HTTP request sent, awaiting response... 301 Moved Permanently\n",
      "Location: http://files.rcsb.org/view/1ZR0.pdb [following]\n",
      "--2019-04-08 23:40:39--  http://files.rcsb.org/view/1ZR0.pdb\n",
      "Resolving files.rcsb.org (files.rcsb.org)... 128.6.244.12\n",
      "Connecting to files.rcsb.org (files.rcsb.org)|128.6.244.12|:80... connected.\n",
      "HTTP request sent, awaiting response... 200 OK\n",
      "Length: unspecified [text/plain]\n",
      "Saving to: ‘PDB.nonredund_PF00014_pdb.5pti_pdbefold_S99_L0.95/1ZR0.pdb’\n",
      "\n",
      "     0K .......... .......... .......... .......... .......... 94,7K\n",
      "    50K .......... .......... .......... .......... ..........  163K\n",
      "   100K .......... .......... .......... .......... ..........  162K\n",
      "   150K .......... .......... .......... .......... ..........  163K\n",
      "   200K .......... .......... .......... .......... ..........  163K\n",
      "   250K .......... .......... .......... .......... ..........  163K\n",
      "   300K .......... .......... .......... .......... ..........  164K\n",
      "   350K .......... .......... .......... .......... ..........  162K\n",
      "   400K .......... .......... .......... ...                   55,7M=2,7s\n",
      "\n",
      "2019-04-08 23:40:42 (162 KB/s) - ‘PDB.nonredund_PF00014_pdb.5pti_pdbefold_S99_L0.95/1ZR0.pdb’ saved [443961]\n",
      "\n",
      "--2019-04-08 23:40:42--  http://www.rcsb.org/pdb/files/3M7Q.pdb\n",
      "Resolving www.rcsb.org (www.rcsb.org)... 128.6.244.65\n",
      "Connecting to www.rcsb.org (www.rcsb.org)|128.6.244.65|:80... connected.\n",
      "HTTP request sent, awaiting response... 301 Moved Permanently\n",
      "Location: http://files.rcsb.org/view/3M7Q.pdb [following]\n",
      "--2019-04-08 23:40:42--  http://files.rcsb.org/view/3M7Q.pdb\n",
      "Resolving files.rcsb.org (files.rcsb.org)... 128.6.244.12\n",
      "Connecting to files.rcsb.org (files.rcsb.org)|128.6.244.12|:80... connected.\n",
      "HTTP request sent, awaiting response... 200 OK\n",
      "Length: unspecified [text/plain]\n",
      "Saving to: ‘PDB.nonredund_PF00014_pdb.5pti_pdbefold_S99_L0.95/3M7Q.pdb’\n",
      "\n",
      "     0K .......... .......... .......... .......... .......... 25,5K\n",
      "    50K .......... .......... .......... .......... .......... 61,9K\n",
      "   100K .......... .......... .......... .......... ..........  115K\n",
      "   150K .......... .......... .......... .......... ..........  217K\n",
      "   200K .......... .......... .......... .......... ......      205K=3,7s\n",
      "\n",
      "2019-04-08 23:40:47 (67,4 KB/s) - ‘PDB.nonredund_PF00014_pdb.5pti_pdbefold_S99_L0.95/3M7Q.pdb’ saved [252477]\n",
      "\n",
      "--2019-04-08 23:40:47--  http://www.rcsb.org/pdb/files/1TFX.pdb\n",
      "Resolving www.rcsb.org (www.rcsb.org)... 128.6.244.65\n",
      "Connecting to www.rcsb.org (www.rcsb.org)|128.6.244.65|:80... connected.\n",
      "HTTP request sent, awaiting response... 301 Moved Permanently\n",
      "Location: http://files.rcsb.org/view/1TFX.pdb [following]\n",
      "--2019-04-08 23:40:47--  http://files.rcsb.org/view/1TFX.pdb\n",
      "Resolving files.rcsb.org (files.rcsb.org)... 128.6.244.12\n",
      "Connecting to files.rcsb.org (files.rcsb.org)|128.6.244.12|:80... connected.\n",
      "HTTP request sent, awaiting response... 200 OK\n",
      "Length: unspecified [text/plain]\n",
      "Saving to: ‘PDB.nonredund_PF00014_pdb.5pti_pdbefold_S99_L0.95/1TFX.pdb’\n",
      "\n",
      "     0K .......... .......... .......... .......... .......... 81,1K\n",
      "    50K .......... .......... .......... .......... .......... 81,3K\n",
      "   100K .......... .......... .......... .......... .......... 81,5K\n",
      "   150K .......... .......... .......... .......... .......... 81,3K\n",
      "   200K .......... .......... .......... .......... .......... 81,5K\n",
      "   250K .......... .......... .......... .......... ..........  162K\n",
      "   300K .......... .......... .......... .......... ..........  163K\n",
      "   350K .......... .......... .......... .......... ....        369K=3,8s\n",
      "\n",
      "2019-04-08 23:40:51 (103 KB/s) - ‘PDB.nonredund_PF00014_pdb.5pti_pdbefold_S99_L0.95/1TFX.pdb’ saved [403623]\n",
      "\n",
      "--2019-04-08 23:40:51--  http://www.rcsb.org/pdb/files/5NMV.pdb\n",
      "Resolving www.rcsb.org (www.rcsb.org)... 128.6.244.65\n",
      "Connecting to www.rcsb.org (www.rcsb.org)|128.6.244.65|:80... connected.\n",
      "HTTP request sent, awaiting response... 301 Moved Permanently\n",
      "Location: http://files.rcsb.org/view/5NMV.pdb [following]\n",
      "--2019-04-08 23:40:52--  http://files.rcsb.org/view/5NMV.pdb\n",
      "Resolving files.rcsb.org (files.rcsb.org)... 128.6.244.12\n",
      "Connecting to files.rcsb.org (files.rcsb.org)|128.6.244.12|:80... connected.\n",
      "HTTP request sent, awaiting response... 200 OK\n",
      "Length: unspecified [text/plain]\n",
      "Saving to: ‘PDB.nonredund_PF00014_pdb.5pti_pdbefold_S99_L0.95/5NMV.pdb’\n",
      "\n",
      "     0K .......... .......... .......... .......... .......... 81,2K\n",
      "    50K .......... .......... .......... .......... .......... 81,7K\n",
      "   100K .......... .......... .......... .......... ..........  161K\n",
      "   150K .......... .......... .......... .......... ..........  131K\n",
      "   200K .......... .......... .......... .......... ..........  370K\n",
      "   250K .......... .......... .......... .......... ..........  403K\n",
      "   300K .......... .......... .......... .......... ..........  320K\n",
      "   350K .......... .......... .......... .......... ..........  270K\n",
      "   400K .......... .......... .......... .......... ..........  404K\n",
      "   450K .......... .......... .......... .......... ..........  432K\n",
      "   500K .......... .......... .......... .......... ..........  430K\n",
      "   550K .......... .......... .......... .......... ..........  433K\n",
      "   600K .......... .......... .......... .......... ..........  481K\n",
      "   650K .......... .......... .......... .......... ..........  950K\n",
      "   700K .......... .......... .......... .......... ..........  440K\n",
      "   750K .......... .......... .......... .......... ..........  525K\n",
      "   800K .......... .......... .......... .......... ..........  442K\n",
      "   850K .......... .......... .......... .......... ..........  468K\n",
      "   900K .......... .......... .......... .......... .......... 1,40M\n",
      "   950K .......... .......... .......... .......... ..........  527K\n",
      "  1000K .......... .......... ...                               607K=3,7s\n",
      "\n",
      "2019-04-08 23:40:56 (273 KB/s) - ‘PDB.nonredund_PF00014_pdb.5pti_pdbefold_S99_L0.95/5NMV.pdb’ saved [1048464]\n",
      "\n",
      "--2019-04-08 23:40:56--  http://www.rcsb.org/pdb/files/5NX1.pdb\n",
      "Resolving www.rcsb.org (www.rcsb.org)... 128.6.244.65\n",
      "Connecting to www.rcsb.org (www.rcsb.org)|128.6.244.65|:80... connected.\n",
      "HTTP request sent, awaiting response... 301 Moved Permanently\n",
      "Location: http://files.rcsb.org/view/5NX1.pdb [following]\n",
      "--2019-04-08 23:40:57--  http://files.rcsb.org/view/5NX1.pdb\n",
      "Resolving files.rcsb.org (files.rcsb.org)... 128.6.244.12\n",
      "Connecting to files.rcsb.org (files.rcsb.org)|128.6.244.12|:80... connected.\n",
      "HTTP request sent, awaiting response... 200 OK\n",
      "Length: unspecified [text/plain]\n",
      "Saving to: ‘PDB.nonredund_PF00014_pdb.5pti_pdbefold_S99_L0.95/5NX1.pdb’\n",
      "\n",
      "     0K .......... .......... .......... .......... ..........  160K\n",
      "    50K .......... .......... .......... .......... ..........  165K\n",
      "   100K .......... .......... .......... .......... ..........  406K\n",
      "   150K .......... .......... .......... .......... ..........  274K\n",
      "   200K .......... .......... .......... .......... ..........  163K\n",
      "   250K .......... .......... .......... .......... ..........  162K\n",
      "   300K .......... .......... .......... .......... ..........  163K\n",
      "   350K .......... .......... .......... .......... ..........  397K\n",
      "   400K .......... .......... .......... .......... ..........  436K\n",
      "   450K .......... .......... .......... .....                  327K=2,2s\n",
      "\n",
      "2019-04-08 23:40:59 (221 KB/s) - ‘PDB.nonredund_PF00014_pdb.5pti_pdbefold_S99_L0.95/5NX1.pdb’ saved [497502]\n",
      "\n",
      "--2019-04-08 23:40:59--  http://www.rcsb.org/pdb/files/4BQD.pdb\n",
      "Resolving www.rcsb.org (www.rcsb.org)... 128.6.244.65\n",
      "Connecting to www.rcsb.org (www.rcsb.org)|128.6.244.65|:80... connected.\n",
      "HTTP request sent, awaiting response... 301 Moved Permanently\n",
      "Location: http://files.rcsb.org/view/4BQD.pdb [following]\n",
      "--2019-04-08 23:41:00--  http://files.rcsb.org/view/4BQD.pdb\n",
      "Resolving files.rcsb.org (files.rcsb.org)... 128.6.244.12\n",
      "Connecting to files.rcsb.org (files.rcsb.org)|128.6.244.12|:80... connected.\n",
      "HTTP request sent, awaiting response... 200 OK\n",
      "Length: unspecified [text/plain]\n",
      "Saving to: ‘PDB.nonredund_PF00014_pdb.5pti_pdbefold_S99_L0.95/4BQD.pdb’\n",
      "\n",
      "     0K .......... .......... .......... .......... ..........  120K\n",
      "    50K .......... .......... .......... .......... ..........  418K\n",
      "   100K .......... .......... .......... .......... ..........  417K\n",
      "   150K .......... .......... .......... .......... ..........  424K\n",
      "   200K .......... .......... .......... .......... ..........  417K\n",
      "   250K .......... .......... .......... .......... .....       393K=1,0s\n",
      "\n",
      "2019-04-08 23:41:01 (293 KB/s) - ‘PDB.nonredund_PF00014_pdb.5pti_pdbefold_S99_L0.95/4BQD.pdb’ saved [302454]\n",
      "\n",
      "--2019-04-08 23:41:01--  http://www.rcsb.org/pdb/files/1YC0.pdb\n",
      "Resolving www.rcsb.org (www.rcsb.org)... 128.6.244.65\n",
      "Connecting to www.rcsb.org (www.rcsb.org)|128.6.244.65|:80... connected.\n",
      "HTTP request sent, awaiting response... 301 Moved Permanently\n",
      "Location: http://files.rcsb.org/view/1YC0.pdb [following]\n",
      "--2019-04-08 23:41:02--  http://files.rcsb.org/view/1YC0.pdb\n",
      "Resolving files.rcsb.org (files.rcsb.org)... 128.6.244.12\n",
      "Connecting to files.rcsb.org (files.rcsb.org)|128.6.244.12|:80... connected.\n",
      "HTTP request sent, awaiting response... 200 OK\n",
      "Length: unspecified [text/plain]\n",
      "Saving to: ‘PDB.nonredund_PF00014_pdb.5pti_pdbefold_S99_L0.95/1YC0.pdb’\n",
      "\n",
      "     0K .......... .......... .......... .......... .......... 80,9K\n",
      "    50K .......... .......... .......... .......... ..........  164K\n",
      "   100K .......... .......... .......... .......... ..........  163K\n",
      "   150K .......... .......... .......... .......... ..........  162K\n",
      "   200K .......... .......... .......... .......... .....       150K=1,8s\n",
      "\n",
      "2019-04-08 23:41:04 (133 KB/s) - ‘PDB.nonredund_PF00014_pdb.5pti_pdbefold_S99_L0.95/1YC0.pdb’ saved [251586]\n",
      "\n",
      "--2019-04-08 23:41:04--  http://www.rcsb.org/pdb/files/4DTG.pdb\n",
      "Resolving www.rcsb.org (www.rcsb.org)... 128.6.244.65\n",
      "Connecting to www.rcsb.org (www.rcsb.org)|128.6.244.65|:80... connected.\n",
      "HTTP request sent, awaiting response... 301 Moved Permanently\n",
      "Location: http://files.rcsb.org/view/4DTG.pdb [following]\n",
      "--2019-04-08 23:41:05--  http://files.rcsb.org/view/4DTG.pdb\n",
      "Resolving files.rcsb.org (files.rcsb.org)... 128.6.244.12\n",
      "Connecting to files.rcsb.org (files.rcsb.org)|128.6.244.12|:80... connected.\n",
      "HTTP request sent, awaiting response... 200 OK\n",
      "Length: unspecified [text/plain]\n",
      "Saving to: ‘PDB.nonredund_PF00014_pdb.5pti_pdbefold_S99_L0.95/4DTG.pdb’\n",
      "\n",
      "     0K .......... .......... .......... .......... .......... 81,4K\n",
      "    50K .......... .......... .......... .......... ..........  163K\n",
      "   100K .......... .......... .......... .......... ..........  163K\n",
      "   150K .......... .......... .......... .......... ..........  162K\n",
      "   200K .......... .......... .......... .......... ..........  163K\n",
      "   250K .......... .......... .......... .......... ..........  162K\n",
      "   300K .......... .......... .......... .......... ..........  393K\n",
      "   350K .......... .......... .......... .......... ..........  279K\n",
      "   400K .......... .......... .......... .......... ..........  163K\n",
      "   450K .......... .......... .......... .......... ..........  162K\n",
      "   500K .......... .......... .......... .......... ..........  164K\n",
      "   550K .......... .......... .......... .......... ..........  163K\n",
      "   600K .......... .......... .......... .......... .......... 22,2M\n",
      "   650K .......... .......... .......... .......... ..........  163K\n",
      "   700K .......... .......... .......... ...                    108K=4,3s\n",
      "\n",
      "2019-04-08 23:41:10 (171 KB/s) - ‘PDB.nonredund_PF00014_pdb.5pti_pdbefold_S99_L0.95/4DTG.pdb’ saved [750870]\n",
      "\n",
      "--2019-04-08 23:41:10--  http://www.rcsb.org/pdb/files/1BUN.pdb\n",
      "Resolving www.rcsb.org (www.rcsb.org)... 128.6.244.65\n",
      "Connecting to www.rcsb.org (www.rcsb.org)|128.6.244.65|:80... connected.\n",
      "HTTP request sent, awaiting response... 301 Moved Permanently\n",
      "Location: http://files.rcsb.org/view/1BUN.pdb [following]\n",
      "--2019-04-08 23:41:10--  http://files.rcsb.org/view/1BUN.pdb\n",
      "Resolving files.rcsb.org (files.rcsb.org)... 128.6.244.12\n",
      "Connecting to files.rcsb.org (files.rcsb.org)|128.6.244.12|:80... connected.\n",
      "HTTP request sent, awaiting response... 200 OK\n",
      "Length: unspecified [text/plain]\n",
      "Saving to: ‘PDB.nonredund_PF00014_pdb.5pti_pdbefold_S99_L0.95/1BUN.pdb’\n",
      "\n",
      "     0K .......... .......... .......... .......... ..........  116K\n",
      "    50K .......... .......... .......... .......... ..........  417K\n",
      "   100K .......... .......... .......... .......... ..........  409K\n",
      "   150K ....                                                   6,10M=0,7s\n",
      "\n",
      "2019-04-08 23:41:11 (229 KB/s) - ‘PDB.nonredund_PF00014_pdb.5pti_pdbefold_S99_L0.95/1BUN.pdb’ saved [157707]\n",
      "\n",
      "--2019-04-08 23:41:11--  http://www.rcsb.org/pdb/files/5YV7.pdb\n",
      "Resolving www.rcsb.org (www.rcsb.org)... 128.6.244.65\n",
      "Connecting to www.rcsb.org (www.rcsb.org)|128.6.244.65|:80... connected.\n",
      "HTTP request sent, awaiting response... 301 Moved Permanently\n",
      "Location: http://files.rcsb.org/view/5YV7.pdb [following]\n",
      "--2019-04-08 23:41:12--  http://files.rcsb.org/view/5YV7.pdb\n",
      "Resolving files.rcsb.org (files.rcsb.org)... 128.6.244.12\n",
      "Connecting to files.rcsb.org (files.rcsb.org)|128.6.244.12|:80... connected.\n",
      "HTTP request sent, awaiting response... 200 OK\n",
      "Length: unspecified [text/plain]\n",
      "Saving to: ‘PDB.nonredund_PF00014_pdb.5pti_pdbefold_S99_L0.95/5YV7.pdb’\n",
      "\n",
      "     0K .......... .......... .......... .......... .......... 81,0K\n",
      "    50K .......... ........                                    66,8M=0,6s\n",
      "\n",
      "2019-04-08 23:41:13 (111 KB/s) - ‘PDB.nonredund_PF00014_pdb.5pti_pdbefold_S99_L0.95/5YV7.pdb’ saved [70389]\n",
      "\n",
      "--2019-04-08 23:41:13--  http://www.rcsb.org/pdb/files/1DTX.pdb\n",
      "Resolving www.rcsb.org (www.rcsb.org)... 128.6.244.65\n",
      "Connecting to www.rcsb.org (www.rcsb.org)|128.6.244.65|:80... connected.\n",
      "HTTP request sent, awaiting response... 301 Moved Permanently\n",
      "Location: http://files.rcsb.org/view/1DTX.pdb [following]\n",
      "--2019-04-08 23:41:14--  http://files.rcsb.org/view/1DTX.pdb\n",
      "Resolving files.rcsb.org (files.rcsb.org)... 128.6.244.12\n",
      "Connecting to files.rcsb.org (files.rcsb.org)|128.6.244.12|:80... connected.\n",
      "HTTP request sent, awaiting response... 200 OK\n",
      "Length: unspecified [text/plain]\n",
      "Saving to: ‘PDB.nonredund_PF00014_pdb.5pti_pdbefold_S99_L0.95/1DTX.pdb’\n",
      "\n",
      "     0K .......... .......... .......... .......... ..........  161K\n",
      "    50K .......... .......... ....                             70,8M=0,3s\n",
      "\n",
      "2019-04-08 23:41:14 (239 KB/s) - ‘PDB.nonredund_PF00014_pdb.5pti_pdbefold_S99_L0.95/1DTX.pdb’ saved [75978]\n",
      "\n",
      "--2019-04-08 23:41:14--  http://www.rcsb.org/pdb/files/5NX1.pdb\n",
      "Resolving www.rcsb.org (www.rcsb.org)... 128.6.244.65\n",
      "Connecting to www.rcsb.org (www.rcsb.org)|128.6.244.65|:80... connected.\n",
      "HTTP request sent, awaiting response... 301 Moved Permanently\n",
      "Location: http://files.rcsb.org/view/5NX1.pdb [following]\n",
      "--2019-04-08 23:41:15--  http://files.rcsb.org/view/5NX1.pdb\n",
      "Resolving files.rcsb.org (files.rcsb.org)... 128.6.244.12\n",
      "Connecting to files.rcsb.org (files.rcsb.org)|128.6.244.12|:80... connected.\n",
      "HTTP request sent, awaiting response... 200 OK\n",
      "Length: unspecified [text/plain]\n",
      "Saving to: ‘PDB.nonredund_PF00014_pdb.5pti_pdbefold_S99_L0.95/5NX1.pdb’\n",
      "\n",
      "     0K .......... .......... .......... .......... .......... 80,9K\n",
      "    50K .......... .......... .......... .......... ..........  164K\n",
      "   100K .......... .......... .......... .......... ..........  162K\n",
      "   150K .......... .......... .......... .......... ..........  163K\n",
      "   200K .......... .......... .......... .......... ..........  162K\n",
      "   250K .......... .......... .......... .......... ..........  164K\n",
      "   300K .......... .......... .......... .......... ..........  163K\n",
      "   350K .......... .......... .......... .......... ..........  163K\n",
      "   400K .......... .......... .......... .......... ..........  163K\n",
      "   450K .......... .......... .......... .....                  117K=3,4s\n",
      "\n",
      "2019-04-08 23:41:19 (144 KB/s) - ‘PDB.nonredund_PF00014_pdb.5pti_pdbefold_S99_L0.95/5NX1.pdb’ saved [497502]\n",
      "\n",
      "--2019-04-08 23:41:19--  http://www.rcsb.org/pdb/files/4U32.pdb\n",
      "Resolving www.rcsb.org (www.rcsb.org)... 128.6.244.65\n",
      "Connecting to www.rcsb.org (www.rcsb.org)|128.6.244.65|:80... connected.\n",
      "HTTP request sent, awaiting response... 301 Moved Permanently\n",
      "Location: http://files.rcsb.org/view/4U32.pdb [following]\n",
      "--2019-04-08 23:41:19--  http://files.rcsb.org/view/4U32.pdb\n",
      "Resolving files.rcsb.org (files.rcsb.org)... 128.6.244.12\n",
      "Connecting to files.rcsb.org (files.rcsb.org)|128.6.244.12|:80... connected.\n",
      "HTTP request sent, awaiting response... 200 OK\n",
      "Length: unspecified [text/plain]\n",
      "Saving to: ‘PDB.nonredund_PF00014_pdb.5pti_pdbefold_S99_L0.95/4U32.pdb’\n",
      "\n",
      "     0K .......... .......... .......... .......... ..........  100K\n",
      "    50K .......... .......... .......... .......... ..........  162K\n",
      "   100K .......... .......... .......... .......... ..........  163K\n",
      "   150K .......... .......... .......... .......... ..........  163K\n",
      "   200K .......... .......... .......... ..                     106K=1,7s\n",
      "\n",
      "2019-04-08 23:41:21 (135 KB/s) - ‘PDB.nonredund_PF00014_pdb.5pti_pdbefold_S99_L0.95/4U32.pdb’ saved [237978]\n",
      "\n",
      "--2019-04-08 23:41:21--  http://www.rcsb.org/pdb/files/5YW1.pdb\n",
      "Resolving www.rcsb.org (www.rcsb.org)... 128.6.244.65\n",
      "Connecting to www.rcsb.org (www.rcsb.org)|128.6.244.65|:80... connected.\n",
      "HTTP request sent, awaiting response... 301 Moved Permanently\n",
      "Location: http://files.rcsb.org/view/5YW1.pdb [following]\n",
      "--2019-04-08 23:41:22--  http://files.rcsb.org/view/5YW1.pdb\n",
      "Resolving files.rcsb.org (files.rcsb.org)... 128.6.244.12\n",
      "Connecting to files.rcsb.org (files.rcsb.org)|128.6.244.12|:80... connected.\n",
      "HTTP request sent, awaiting response... 200 OK\n",
      "Length: unspecified [text/plain]\n",
      "Saving to: ‘PDB.nonredund_PF00014_pdb.5pti_pdbefold_S99_L0.95/5YW1.pdb’\n",
      "\n",
      "     0K .......... .......... .......... .......... .......... 81,0K\n",
      "    50K .......... .......... .......... .......... ..........  163K\n",
      "   100K .......... .......... .......... .......... ..........  163K\n",
      "   150K .......... .......... .......... .......... ..........  162K\n",
      "   200K .......... .......... .......... .......... ..........  163K\n",
      "   250K .......... .......... .......... .......... ..........  390K\n",
      "   300K .......... .......... .......... .......... ..........  348K\n",
      "   350K .......... .......... .......... .......... ..........  431K\n",
      "   400K .......... .......... .......... .......... ..........  431K\n",
      "   450K .......... .......... .......... .......... ..........  438K\n",
      "   500K .......... .......... .......... .......... ..........  438K\n",
      "   550K .......... .......... .......... .......... ..........  444K\n",
      "   600K .......... .......... .......... .......... ..........  530K\n",
      "   650K .......... .......... .......... .......... .......... 1,15M\n",
      "   700K .......... .......... .......... .......... ..........  444K\n",
      "   750K .......... .......... .......... .......... ..........  515K\n",
      "   800K .......... .......... .......... .......... .......... 1,79M\n",
      "   850K .......... .......... .......... ..........             387K=3,2s\n",
      "\n",
      "2019-04-08 23:41:25 (281 KB/s) - ‘PDB.nonredund_PF00014_pdb.5pti_pdbefold_S99_L0.95/5YW1.pdb’ saved [912060]\n",
      "\n",
      "Finished job 0.\n",
      "1 of 1 steps (100%) done\n"
     ]
    }
   ],
   "source": [
    "%%bash\n",
    "cd ../dataset/\n",
    "pwd\n",
    "snakemake -p PDB.nonredund_PF00014_pdb.5pti_pdbefold_S99_L0.95/get_chains_completed\n",
    "ls -lh PDB.nonredund_PF00014_pdb.5pti_pdbefold_S99_L0.95/ | wc -l\n",
    "ls -lh PDB.nonredund_PF00014_pdb.5pti_pdbefold_S99_L0.95/"
   ]
  },
  {
   "cell_type": "markdown",
   "metadata": {},
   "source": [
    "#### PDBeFold MSA\n",
    "PDB.nonredund_PF00014_pdb.5pti_pdbefold_S99_L0.95/idlist was used to feed [PDBeFold](http://www.ebi.ac.uk/msd-srv/ssm/) to peform structure-based sequences alignment\n",
    "\n",
    "Result was downloaded in fasta format in **nonredund_PF00014_pdb.5pti_pdbefold_S99_L0.95.pdbefold.afa**\n",
    "\n",
    "Note: an html file diplaying the pdbefold results summary has been saved in ../handmade/"
   ]
  },
  {
   "cell_type": "code",
   "execution_count": 39,
   "metadata": {},
   "outputs": [
    {
     "name": "stdout",
     "output_type": "stream",
     "text": [
      "/home/alessandro/Unibo/python-programming-alessandro-lussana/LB1/prj/kunitz_BPTI_hmm/dataset\n",
      "lrwxrwxrwx 1 alessandro alessandro 70 apr  8 17:02 nonredund_PF00014_pdb.5pti_pdbefold_S99_L0.95.pdbefold.afa -> ../handmade/nonredund_PF00014_pdb.5pti_pdbefold_S99_L0.95.pdbefold.afa\n",
      ">PDB:5pti:A STRUCTURE OF BOVINE PANCREATIC TRYPSIN INHIBITOR. \n",
      "--------rpdfcleppytgpckARIIRYFYNAKAGLCQTFVYGgCRA-KRNNFKSAEDCMRTCgga-\n",
      "\n",
      ">PDB:1aap:A X-RAY CRYSTAL STRUCTURE OF THE PROTEASE INHIBITOR \n",
      "--------vrevcseqaetgpcrAMISRWYFDVTEGKCAPFFYGgCGG-NRNNFDTEEYCMAVCg---\n"
     ]
    }
   ],
   "source": [
    "%%bash\n",
    "cd ../dataset/\n",
    "pwd\n",
    "ls -lh nonredund_PF00014_pdb.5pti_pdbefold_S99_L0.95.pdbefold.afa\n",
    "cat nonredund_PF00014_pdb.5pti_pdbefold_S99_L0.95.pdbefold.afa | head -5"
   ]
  },
  {
   "cell_type": "markdown",
   "metadata": {},
   "source": [
    "#### MUSTANG MSA\n",
    "**nonredund_PF00014_pdb.5pti_pdbefold_S99_L0.95.mustang.afa**"
   ]
  },
  {
   "cell_type": "code",
   "execution_count": 11,
   "metadata": {},
   "outputs": [
    {
     "name": "stdout",
     "output_type": "stream",
     "text": [
      "/home/alessandro/Unibo/python-programming-alessandro-lussana/LB1/prj/kunitz_BPTI_hmm/dataset\n",
      "\n",
      "\u001b[0;37;1;41m      MUSTANG (v3.2.3): A MUltiple STuructural AligNment alGorithm.        \u001b[0;0m\n",
      "\u001b[1;33;4;1;46m Authors:     \u001b[0;1;37;4;1;46m    A S Konagurthu,  J Whisstock, and P J Stuckey, A M Lesk. \u001b[0m\n",
      "\u001b[0;33;4;1;46m Reference:   \u001b[0;37;4;1;46m    A S Konagurthu et al. Proteins 64(3):559-574, 2006       \u001b[0m\n",
      "\u001b[0m\n",
      "\n",
      "Parsing the PDB file: \u001b[35m     5PTI.A.pdb\u001b[0m  (...contains \u001b[1m  58\u001b[0m residues.)  [ \u001b[32;4mOK\u001b[0m ]\n",
      "Parsing the PDB file: \u001b[35m     1AAP.A.pdb\u001b[0m  (...contains \u001b[1m  56\u001b[0m residues.)  [ \u001b[32;4mOK\u001b[0m ]\n",
      "Parsing the PDB file: \u001b[35m     3BYB.A.pdb\u001b[0m  (...contains \u001b[1m  58\u001b[0m residues.)  [ \u001b[32;4mOK\u001b[0m ]\n",
      "Parsing the PDB file: \u001b[35m     3WNY.A.pdb\u001b[0m  (...contains \u001b[1m  56\u001b[0m residues.)  [ \u001b[32;4mOK\u001b[0m ]\n",
      "Parsing the PDB file: \u001b[35m     1Y62.A.pdb\u001b[0m  (...contains \u001b[1m  56\u001b[0m residues.)  [ \u001b[32;4mOK\u001b[0m ]\n",
      "Parsing the PDB file: \u001b[35m     1F7Z.I.pdb\u001b[0m  (...contains \u001b[1m  56\u001b[0m residues.)  [ \u001b[32;4mOK\u001b[0m ]\n",
      "Parsing the PDB file: \u001b[35m     4U30.W.pdb\u001b[0m  (...contains \u001b[1m  54\u001b[0m residues.)  [ \u001b[32;4mOK\u001b[0m ]\n",
      "Parsing the PDB file: \u001b[35m     4ISO.B.pdb\u001b[0m  (...contains \u001b[1m  60\u001b[0m residues.)  [ \u001b[32;4mOK\u001b[0m ]\n",
      "Parsing the PDB file: \u001b[35m     4NTW.B.pdb\u001b[0m  (...contains \u001b[1m  59\u001b[0m residues.)  [ \u001b[32;4mOK\u001b[0m ]\n",
      "Parsing the PDB file: \u001b[35m     1KTH.A.pdb\u001b[0m  (...contains \u001b[1m  58\u001b[0m residues.)  [ \u001b[32;4mOK\u001b[0m ]\n",
      "Parsing the PDB file: \u001b[35m     3T62.D.pdb\u001b[0m  (...contains \u001b[1m  54\u001b[0m residues.)  [ \u001b[32;4mOK\u001b[0m ]\n",
      "Parsing the PDB file: \u001b[35m     1ZR0.B.pdb\u001b[0m  (...contains \u001b[1m  63\u001b[0m residues.)  [ \u001b[32;4mOK\u001b[0m ]\n",
      "Parsing the PDB file: \u001b[35m     3M7Q.B.pdb\u001b[0m  (...contains \u001b[1m  61\u001b[0m residues.)  [ \u001b[32;4mOK\u001b[0m ]\n",
      "Parsing the PDB file: \u001b[35m     1TFX.C.pdb\u001b[0m  (...contains \u001b[1m  58\u001b[0m residues.)  [ \u001b[32;4mOK\u001b[0m ]\n",
      "Parsing the PDB file: \u001b[35m     5NMV.K.pdb\u001b[0m  (...contains \u001b[1m  63\u001b[0m residues.)  [ \u001b[32;4mOK\u001b[0m ]\n",
      "Parsing the PDB file: \u001b[35m     5NX1.C.pdb\u001b[0m  (...contains \u001b[1m  54\u001b[0m residues.)  [ \u001b[32;4mOK\u001b[0m ]\n",
      "Parsing the PDB file: \u001b[35m     4BQD.B.pdb\u001b[0m  (...contains \u001b[1m  65\u001b[0m residues.)  [ \u001b[32;4mOK\u001b[0m ]\n",
      "Parsing the PDB file: \u001b[35m     1YC0.I.pdb\u001b[0m  (...contains \u001b[1m  66\u001b[0m residues.)  [ \u001b[32;4mOK\u001b[0m ]\n",
      "Parsing the PDB file: \u001b[35m     4DTG.K.pdb\u001b[0m  (...contains \u001b[1m  60\u001b[0m residues.)  [ \u001b[32;4mOK\u001b[0m ]\n",
      "Parsing the PDB file: \u001b[35m     1BUN.B.pdb\u001b[0m  (...contains \u001b[1m  61\u001b[0m residues.)  [ \u001b[32;4mOK\u001b[0m ]\n",
      "Parsing the PDB file: \u001b[35m     5YV7.A.pdb\u001b[0m  (...contains \u001b[1m  60\u001b[0m residues.)  [ \u001b[32;4mOK\u001b[0m ]\n",
      "Parsing the PDB file: \u001b[35m     1DTX.A.pdb\u001b[0m  (...contains \u001b[1m  58\u001b[0m residues.)  [ \u001b[32;4mOK\u001b[0m ]\n",
      "Parsing the PDB file: \u001b[35m     5NX1.D.pdb\u001b[0m  (...contains \u001b[1m  42\u001b[0m residues.)  [ \u001b[32;4mOK\u001b[0m ]\n",
      "Parsing the PDB file: \u001b[35m     4U32.X.pdb\u001b[0m  (...contains \u001b[1m  54\u001b[0m residues.)  [ \u001b[32;4mOK\u001b[0m ]\n",
      "Parsing the PDB file: \u001b[35m     5YW1.I.pdb\u001b[0m  (...contains \u001b[1m  55\u001b[0m residues.)  [ \u001b[32;4mOK\u001b[0m ]\n",
      "Calculating Distance Matrices...                                     [ \u001b[32;4mOK\u001b[0m ]\n",
      "Pairwise Comparisons:        1 of  300\b\b\b\b\b\b\b\b\b\b\b\b   2 of  300\b\b\b\b\b\b\b\b\b\b\b\b   3 of  300\b\b\b\b\b\b\b\b\b\b\b\b   4 of  300\b\b\b\b\b\b\b\b\b\b\b\b   5 of  300\b\b\b\b\b\b\b\b\b\b\b\b   6 of  300\b\b\b\b\b\b\b\b\b\b\b\b   7 of  300\b\b\b\b\b\b\b\b\b\b\b\b   8 of  300\b\b\b\b\b\b\b\b\b\b\b\b   9 of  300\b\b\b\b\b\b\b\b\b\b\b\b  10 of  300\b\b\b\b\b\b\b\b\b\b\b\b  11 of  300\b\b\b\b\b\b\b\b\b\b\b\b  12 of  300\b\b\b\b\b\b\b\b\b\b\b\b  13 of  300\b\b\b\b\b\b\b\b\b\b\b\b  14 of  300\b\b\b\b\b\b\b\b\b\b\b\b  15 of  300\b\b\b\b\b\b\b\b\b\b\b\b  16 of  300\b\b\b\b\b\b\b\b\b\b\b\b  17 of  300\b\b\b\b\b\b\b\b\b\b\b\b  18 of  300\b\b\b\b\b\b\b\b\b\b\b\b  19 of  300\b\b\b\b\b\b\b\b\b\b\b\b  20 of  300\b\b\b\b\b\b\b\b\b\b\b\b  21 of  300\b\b\b\b\b\b\b\b\b\b\b\b  22 of  300\b\b\b\b\b\b\b\b\b\b\b\b  23 of  300\b\b\b\b\b\b\b\b\b\b\b\b  24 of  300\b\b\b\b\b\b\b\b\b\b\b\b  25 of  300\b\b\b\b\b\b\b\b\b\b\b\b  26 of  300\b\b\b\b\b\b\b\b\b\b\b\b  27 of  300\b\b\b\b\b\b\b\b\b\b\b\b  28 of  300\b\b\b\b\b\b\b\b\b\b\b\b  29 of  300\b\b\b\b\b\b\b\b\b\b\b\b  30 of  300\b\b\b\b\b\b\b\b\b\b\b\b  31 of  300\b\b\b\b\b\b\b\b\b\b\b\b  32 of  300\b\b\b\b\b\b\b\b\b\b\b\b  33 of  300\b\b\b\b\b\b\b\b\b\b\b\b  34 of  300\b\b\b\b\b\b\b\b\b\b\b\b  35 of  300\b\b\b\b\b\b\b\b\b\b\b\b  36 of  300\b\b\b\b\b\b\b\b\b\b\b\b  37 of  300\b\b\b\b\b\b\b\b\b\b\b\b  38 of  300\b\b\b\b\b\b\b\b\b\b\b\b  39 of  300\b\b\b\b\b\b\b\b\b\b\b\b  40 of  300\b\b\b\b\b\b\b\b\b\b\b\b  41 of  300\b\b\b\b\b\b\b\b\b\b\b\b  42 of  300\b\b\b\b\b\b\b\b\b\b\b\b  43 of  300\b\b\b\b\b\b\b\b\b\b\b\b  44 of  300\b\b\b\b\b\b\b\b\b\b\b\b  45 of  300\b\b\b\b\b\b\b\b\b\b\b\b  46 of  300\b\b\b\b\b\b\b\b\b\b\b\b  47 of  300\b\b\b\b\b\b\b\b\b\b\b\b  48 of  300\b\b\b\b\b\b\b\b\b\b\b\b  49 of  300\b\b\b\b\b\b\b\b\b\b\b\b  50 of  300\b\b\b\b\b\b\b\b\b\b\b\b  51 of  300\b\b\b\b\b\b\b\b\b\b\b\b  52 of  300\b\b\b\b\b\b\b\b\b\b\b\b  53 of  300\b\b\b\b\b\b\b\b\b\b\b\b  54 of  300\b\b\b\b\b\b\b\b\b\b\b\b  55 of  300\b\b\b\b\b\b\b\b\b\b\b\b  56 of  300\b\b\b\b\b\b\b\b\b\b\b\b  57 of  300\b\b\b\b\b\b\b\b\b\b\b\b  58 of  300\b\b\b\b\b\b\b\b\b\b\b\b  59 of  300\b\b\b\b\b\b\b\b\b\b\b\b  60 of  300\b\b\b\b\b\b\b\b\b\b\b\b  61 of  300\b\b\b\b\b\b\b\b\b\b\b\b  62 of  300\b\b\b\b\b\b\b\b\b\b\b\b  63 of  300\b\b\b\b\b\b\b\b\b\b\b\b  64 of  300\b\b\b\b\b\b\b\b\b\b\b\b  65 of  300\b\b\b\b\b\b\b\b\b\b\b\b  66 of  300\b\b\b\b\b\b\b\b\b\b\b\b  67 of  300\b\b\b\b\b\b\b\b\b\b\b\b  68 of  300\b\b\b\b\b\b\b\b\b\b\b\b  69 of  300\b\b\b\b\b\b\b\b\b\b\b\b  70 of  300\b\b\b\b\b\b\b\b\b\b\b\b  71 of  300\b\b\b\b\b\b\b\b\b\b\b\b  72 of  300\b\b\b\b\b\b\b\b\b\b\b\b  73 of  300\b\b\b\b\b\b\b\b\b\b\b\b  74 of  300\b\b\b\b\b\b\b\b\b\b\b\b  75 of  300\b\b\b\b\b\b\b\b\b\b\b\b  76 of  300\b\b\b\b\b\b\b\b\b\b\b\b  77 of  300\b\b\b\b\b\b\b\b\b\b\b\b  78 of  300\b\b\b\b\b\b\b\b\b\b\b\b  79 of  300\b\b\b\b\b\b\b\b\b\b\b\b  80 of  300\b\b\b\b\b\b\b\b\b\b\b\b  81 of  300\b\b\b\b\b\b\b\b\b\b\b\b  82 of  300\b\b\b\b\b\b\b\b\b\b\b\b  83 of  300\b\b\b\b\b\b\b\b\b\b\b\b  84 of  300\b\b\b\b\b\b\b\b\b\b\b\b  85 of  300\b\b\b\b\b\b\b\b\b\b\b\b  86 of  300\b\b\b\b\b\b\b\b\b\b\b\b  87 of  300\b\b\b\b\b\b\b\b\b\b\b\b  88 of  300\b\b\b\b\b\b\b\b\b\b\b\b  89 of  300\b\b\b\b\b\b\b\b\b\b\b\b  90 of  300\b\b\b\b\b\b\b\b\b\b\b\b  91 of  300\b\b\b\b\b\b\b\b\b\b\b\b  92 of  300\b\b\b\b\b\b\b\b\b\b\b\b  93 of  300\b\b\b\b\b\b\b\b\b\b\b\b  94 of  300\b\b\b\b\b\b\b\b\b\b\b\b  95 of  300\b\b\b\b\b\b\b\b\b\b\b\b  96 of  300\b\b\b\b\b\b\b\b\b\b\b\b  97 of  300\b\b\b\b\b\b\b\b\b\b\b\b  98 of  300\b\b\b\b\b\b\b\b\b\b\b\b  99 of  300\b\b\b\b\b\b\b\b\b\b\b\b 100 of  300\b\b\b\b\b\b\b\b\b\b\b\b 101 of  300\b\b\b\b\b\b\b\b\b\b\b\b 102 of  300\b\b\b\b\b\b\b\b\b\b\b\b 103 of  300\b\b\b\b\b\b\b\b\b\b\b\b 104 of  300\b\b\b\b\b\b\b\b\b\b\b\b 105 of  300\b\b\b\b\b\b\b\b\b\b\b\b 106 of  300\b\b\b\b\b\b\b\b\b\b\b\b 107 of  300\b\b\b\b\b\b\b\b\b\b\b\b 108 of  300\b\b\b\b\b\b\b\b\b\b\b\b 109 of  300\b\b\b\b\b\b\b\b\b\b\b\b 110 of  300\b\b\b\b\b\b\b\b\b\b\b\b 111 of  300\b\b\b\b\b\b\b\b\b\b\b\b 112 of  300\b\b\b\b\b\b\b\b\b\b\b\b 113 of  300\b\b\b\b\b\b\b\b\b\b\b\b 114 of  300\b\b\b\b\b\b\b\b\b\b\b\b 115 of  300\b\b\b\b\b\b\b\b\b\b\b\b 116 of  300\b\b\b\b\b\b\b\b\b\b\b\b 117 of  300\b\b\b\b\b\b\b\b\b\b\b\b 118 of  300\b\b\b\b\b\b\b\b\b\b\b\b 119 of  300\b\b\b\b\b\b\b\b\b\b\b\b 120 of  300\b\b\b\b\b\b\b\b\b\b\b\b 121 of  300\b\b\b\b\b\b\b\b\b\b\b\b 122 of  300\b\b\b\b\b\b\b\b\b\b\b\b 123 of  300\b\b\b\b\b\b\b\b\b\b\b\b 124 of  300\b\b\b\b\b\b\b\b\b\b\b\b 125 of  300\b\b\b\b\b\b\b\b\b\b\b\b 126 of  300\b\b\b\b\b\b\b\b\b\b\b\b 127 of  300\b\b\b\b\b\b\b\b\b\b\b\b 128 of  300\b\b\b\b\b\b\b\b\b\b\b\b 129 of  300\b\b\b\b\b\b\b\b\b\b\b\b 130 of  300\b\b\b\b\b\b\b\b\b\b\b\b 131 of  300\b\b\b\b\b\b\b\b\b\b\b\b 132 of  300\b\b\b\b\b\b\b\b\b\b\b\b 133 of  300\b\b\b\b\b\b\b\b\b\b\b\b 134 of  300\b\b\b\b\b\b\b\b\b\b\b\b 135 of  300\b\b\b\b\b\b\b\b\b\b\b\b 136 of  300\b\b\b\b\b\b\b\b\b\b\b\b 137 of  300\b\b\b\b\b\b\b\b\b\b\b\b 138 of  300\b\b\b\b\b\b\b\b\b\b\b\b 139 of  300\b\b\b\b\b\b\b\b\b\b\b\b 140 of  300\b\b\b\b\b\b\b\b\b\b\b\b 141 of  300\b\b\b\b\b\b\b\b\b\b\b\b 142 of  300\b\b\b\b\b\b\b\b\b\b\b\b 143 of  300\b\b\b\b\b\b\b\b\b\b\b\b 144 of  300\b\b\b\b\b\b\b\b\b\b\b\b 145 of  300\b\b\b\b\b\b\b\b\b\b\b\b 146 of  300\b\b\b\b\b\b\b\b\b\b\b\b 147 of  300\b\b\b\b\b\b\b\b\b\b\b\b 148 of  300\b\b\b\b\b\b\b\b\b\b\b\b 149 of  300\b\b\b\b\b\b\b\b\b\b\b\b 150 of  300\b\b\b\b\b\b\b\b\b\b\b\b 151 of  300\b\b\b\b\b\b\b\b\b\b\b\b 152 of  300\b\b\b\b\b\b\b\b\b\b\b\b 153 of  300\b\b\b\b\b\b\b\b\b\b\b\b 154 of  300\b\b\b\b\b\b\b\b\b\b\b\b 155 of  300\b\b\b\b\b\b\b\b\b\b\b\b 156 of  300\b\b\b\b\b\b\b\b\b\b\b\b 157 of  300\b\b\b\b\b\b\b\b\b\b\b\b 158 of  300\b\b\b\b\b\b\b\b\b\b\b\b 159 of  300\b\b\b\b\b\b\b\b\b\b\b\b 160 of  300\b\b\b\b\b\b\b\b\b\b\b\b 161 of  300\b\b\b\b\b\b\b\b\b\b\b\b 162 of  300\b\b\b\b\b\b\b\b\b\b\b\b 163 of  300\b\b\b\b\b\b\b\b\b\b\b\b 164 of  300\b\b\b\b\b\b\b\b\b\b\b\b 165 of  300\b\b\b\b\b\b\b\b\b\b\b\b 166 of  300\b\b\b\b\b\b\b\b\b\b\b\b 167 of  300\b\b\b\b\b\b\b\b\b\b\b\b 168 of  300\b\b\b\b\b\b\b\b\b\b\b\b 169 of  300\b\b\b\b\b\b\b\b\b\b\b\b 170 of  300\b\b\b\b\b\b\b\b\b\b\b\b 171 of  300\b\b\b\b\b\b\b\b\b\b\b\b 172 of  300\b\b\b\b\b\b\b\b\b\b\b\b 173 of  300\b\b\b\b\b\b\b\b\b\b\b\b 174 of  300\b\b\b\b\b\b\b\b\b\b\b\b 175 of  300\b\b\b\b\b\b\b\b\b\b\b\b 176 of  300\b\b\b\b\b\b\b\b\b\b\b\b 177 of  300\b\b\b\b\b\b\b\b\b\b\b\b 178 of  300\b\b\b\b\b\b\b\b\b\b\b\b 179 of  300\b\b\b\b\b\b\b\b\b\b\b\b 180 of  300\b\b\b\b\b\b\b\b\b\b\b\b 181 of  300\b\b\b\b\b\b\b\b\b\b\b\b 182 of  300\b\b\b\b\b\b\b\b\b\b\b\b 183 of  300\b\b\b\b\b\b\b\b\b\b\b\b 184 of  300\b\b\b\b\b\b\b\b\b\b\b\b 185 of  300\b\b\b\b\b\b\b\b\b\b\b\b 186 of  300\b\b\b\b\b\b\b\b\b\b\b\b 187 of  300\b\b\b\b\b\b\b\b\b\b\b\b 188 of  300\b\b\b\b\b\b\b\b\b\b\b\b 189 of  300\b\b\b\b\b\b\b\b\b\b\b\b 190 of  300\b\b\b\b\b\b\b\b\b\b\b\b 191 of  300\b\b\b\b\b\b\b\b\b\b\b\b 192 of  300\b\b\b\b\b\b\b\b\b\b\b\b 193 of  300\b\b\b\b\b\b\b\b\b\b\b\b 194 of  300\b\b\b\b\b\b\b\b\b\b\b\b 195 of  300\b\b\b\b\b\b\b\b\b\b\b\b 196 of  300\b\b\b\b\b\b\b\b\b\b\b\b 197 of  300\b\b\b\b\b\b\b\b\b\b\b\b 198 of  300\b\b\b\b\b\b\b\b\b\b\b\b 199 of  300\b\b\b\b\b\b\b\b\b\b\b\b 200 of  300\b\b\b\b\b\b\b\b\b\b\b\b 201 of  300\b\b\b\b\b\b\b\b\b\b\b\b 202 of  300\b\b\b\b\b\b\b\b\b\b\b\b 203 of  300\b\b\b\b\b\b\b\b\b\b\b\b 204 of  300\b\b\b\b\b\b\b\b\b\b\b\b 205 of  300\b\b\b\b\b\b\b\b\b\b\b\b 206 of  300\b\b\b\b\b\b\b\b\b\b\b\b 207 of  300\b\b\b\b\b\b\b\b\b\b\b\b 208 of  300\b\b\b\b\b\b\b\b\b\b\b\b 209 of  300\b\b\b\b\b\b\b\b\b\b\b\b 210 of  300\b\b\b\b\b\b\b\b\b\b\b\b 211 of  300\b\b\b\b\b\b\b\b\b\b\b\b 212 of  300\b\b\b\b\b\b\b\b\b\b\b\b 213 of  300\b\b\b\b\b\b\b\b\b\b\b\b 214 of  300\b\b\b\b\b\b\b\b\b\b\b\b 215 of  300\b\b\b\b\b\b\b\b\b\b\b\b 216 of  300\b\b\b\b\b\b\b\b\b\b\b\b 217 of  300\b\b\b\b\b\b\b\b\b\b\b\b 218 of  300\b\b\b\b\b\b\b\b\b\b\b\b 219 of  300\b\b\b\b\b\b\b\b\b\b\b\b 220 of  300\b\b\b\b\b\b\b\b\b\b\b\b 221 of  300\b\b\b\b\b\b\b\b\b\b\b\b 222 of  300\b\b\b\b\b\b\b\b\b\b\b\b 223 of  300\b\b\b\b\b\b\b\b\b\b\b\b 224 of  300\b\b\b\b\b\b\b\b\b\b\b\b 225 of  300\b\b\b\b\b\b\b\b\b\b\b\b 226 of  300\b\b\b\b\b\b\b\b\b\b\b\b 227 of  300\b\b\b\b\b\b\b\b\b\b\b\b 228 of  300\b\b\b\b\b\b\b\b\b\b\b\b 229 of  300\b\b\b\b\b\b\b\b\b\b\b\b 230 of  300\b\b\b\b\b\b\b\b\b\b\b\b 231 of  300\b\b\b\b\b\b\b\b\b\b\b\b 232 of  300\b\b\b\b\b\b\b\b\b\b\b\b 233 of  300\b\b\b\b\b\b\b\b\b\b\b\b 234 of  300\b\b\b\b\b\b\b\b\b\b\b\b 235 of  300\b\b\b\b\b\b\b\b\b\b\b\b 236 of  300\b\b\b\b\b\b\b\b\b\b\b\b 237 of  300\b\b\b\b\b\b\b\b\b\b\b\b 238 of  300\b\b\b\b\b\b\b\b\b\b\b\b 239 of  300\b\b\b\b\b\b\b\b\b\b\b\b 240 of  300\b\b\b\b\b\b\b\b\b\b\b\b 241 of  300\b\b\b\b\b\b\b\b\b\b\b\b 242 of  300\b\b\b\b\b\b\b\b\b\b\b\b 243 of  300\b\b\b\b\b\b\b\b\b\b\b\b 244 of  300\b\b\b\b\b\b\b\b\b\b\b\b 245 of  300\b\b\b\b\b\b\b\b\b\b\b\b 246 of  300\b\b\b\b\b\b\b\b\b\b\b\b 247 of  300\b\b\b\b\b\b\b\b\b\b\b\b 248 of  300\b\b\b\b\b\b\b\b\b\b\b\b 249 of  300\b\b\b\b\b\b\b\b\b\b\b\b 250 of  300\b\b\b\b\b\b\b\b\b\b\b\b 251 of  300\b\b\b\b\b\b\b\b\b\b\b\b 252 of  300\b\b\b\b\b\b\b\b\b\b\b\b 253 of  300\b\b\b\b\b\b\b\b\b\b\b\b 254 of  300\b\b\b\b\b\b\b\b\b\b\b\b 255 of  300\b\b\b\b\b\b\b\b\b\b\b\b 256 of  300\b\b\b\b\b\b\b\b\b\b\b\b 257 of  300\b\b\b\b\b\b\b\b\b\b\b\b 258 of  300\b\b\b\b\b\b\b\b\b\b\b\b 259 of  300\b\b\b\b\b\b\b\b\b\b\b\b 260 of  300\b\b\b\b\b\b\b\b\b\b\b\b 261 of  300\b\b\b\b\b\b\b\b\b\b\b\b 262 of  300\b\b\b\b\b\b\b\b\b\b\b\b 263 of  300\b\b\b\b\b\b\b\b\b\b\b\b 264 of  300\b\b\b\b\b\b\b\b\b\b\b\b 265 of  300\b\b\b\b\b\b\b\b\b\b\b\b 266 of  300\b\b\b\b\b\b\b\b\b\b\b\b 267 of  300\b\b\b\b\b\b\b\b\b\b\b\b 268 of  300\b\b\b\b\b\b\b\b\b\b\b\b 269 of  300\b\b\b\b\b\b\b\b\b\b\b\b 270 of  300\b\b\b\b\b\b\b\b\b\b\b\b 271 of  300\b\b\b\b\b\b\b\b\b\b\b\b 272 of  300\b\b\b\b\b\b\b\b\b\b\b\b 273 of  300\b\b\b\b\b\b\b\b\b\b\b\b 274 of  300\b\b\b\b\b\b\b\b\b\b\b\b 275 of  300\b\b\b\b\b\b\b\b\b\b\b\b 276 of  300\b\b\b\b\b\b\b\b\b\b\b\b 277 of  300\b\b\b\b\b\b\b\b\b\b\b\b 278 of  300\b\b\b\b\b\b\b\b\b\b\b\b 279 of  300\b\b\b\b\b\b\b\b\b\b\b\b 280 of  300\b\b\b\b\b\b\b\b\b\b\b\b 281 of  300\b\b\b\b\b\b\b\b\b\b\b\b 282 of  300\b\b\b\b\b\b\b\b\b\b\b\b 283 of  300\b\b\b\b\b\b\b\b\b\b\b\b 284 of  300\b\b\b\b\b\b\b\b\b\b\b\b 285 of  300\b\b\b\b\b\b\b\b\b\b\b\b 286 of  300\b\b\b\b\b\b\b\b\b\b\b\b 287 of  300\b\b\b\b\b\b\b\b\b\b\b\b 288 of  300\b\b\b\b\b\b\b\b\b\b\b\b 289 of  300\b\b\b\b\b\b\b\b\b\b\b\b 290 of  300\b\b\b\b\b\b\b\b\b\b\b\b 291 of  300\b\b\b\b\b\b\b\b\b\b\b\b 292 of  300\b\b\b\b\b\b\b\b\b\b\b\b 293 of  300\b\b\b\b\b\b\b\b\b\b\b\b 294 of  300\b\b\b\b\b\b\b\b\b\b\b\b 295 of  300\b\b\b\b\b\b\b\b\b\b\b\b 296 of  300\b\b\b\b\b\b\b\b\b\b\b\b 297 of  300\b\b\b\b\b\b\b\b\b\b\b\b 298 of  300\b\b\b\b\b\b\b\b\b\b\b\b 299 of  300\b\b\b\b\b\b\b\b\b\b\b\b 300 of  300\b\b\b\b\b\b\b\b\b\b\b\b                                           [ \u001b[32;4mOK\u001b[0m ]\n",
      "Extending Edge-Weights thro' intermediate structures...              [ \u001b[32;4mOK\u001b[0m ]\n",
      "Final Alignment using the extended weights...                        [ \u001b[32;4mOK\u001b[0m ]\n",
      "Superposing structures on the core: [ \u001b[32;4mOK\u001b[0m ]\n",
      "Output alignment in fasta: \n",
      " (...writing \u001b[31;1mPDB.nonredund_PF00014_pdb.5pti_pdbefold_S99_L0.95/mustang.afasta\u001b[0m) [ \u001b[32;4mOK\u001b[0m ]\n",
      "\n",
      "All Done! Thank you for using \u001b[1mMUSTANG\u001b[0m.\n",
      "Running Time : 5.56  s.\n",
      "\u001b[36;4m.                                -=o0o=-                                  .\u001b[0m\n",
      "\u001b[36;3m|  Visit \u001b[0m\u001b[33;3mhttp://lcb.infotech.monash.edu.au\u001b[0m\u001b[36;3m for other supporting programs  |\u001b[0m\n",
      "\u001b[34;3m|            Some suggested utilities for you to try out:                 |\n",
      "\u001b[33;3m| SST\u001b[0m\u001b[36;3m: A Bayesian approach to assigning secondary structures.             \u001b[0m\u001b[33;3m|\u001b[0m\n",
      "\u001b[33;3m| MMLigner\u001b[0m\u001b[36;3m: Pairwise structural alignment using information & compression.\u001b[0m\u001b[33;3m|\u001b[0m\n",
      "\u001b[33;3m| Super\u001b[0m\u001b[36;3m: Rapidly screen entire PDB for well-superposable fragments.       \u001b[0m\u001b[33;3m|\u001b[0m\n",
      "\u001b[36;4m.                                -=o0o=-                                  .\u001b[0m\n",
      "lrwxrwxrwx 1 alessandro alessandro 64 apr  8 23:47 nonredund_PF00014_pdb.5pti_pdbefold_S99_L0.95.mustang.afa -> PDB.nonredund_PF00014_pdb.5pti_pdbefold_S99_L0.95/mustang.afasta\n",
      "99 nonredund_PF00014_pdb.5pti_pdbefold_S99_L0.95.mustang.afa\n",
      ">5PTI.A.pdb\n",
      "-------R------------PDFCLEPPY-TGPCKARIIRYFYNAKAGLCQTFVYGGCRAKRNNFKSAEDCMRTCGGA--\n",
      "-\n",
      "\n",
      ">1AAP.A.pdb\n",
      "-------V------------REVCSEQAE-TGPCRAMISRWYFDVTEGKCAPFFYGGCGGNRNNFDTEEYCMAVCG----\n"
     ]
    },
    {
     "name": "stderr",
     "output_type": "stream",
     "text": [
      "Provided cores: 1\n",
      "Rules claiming more threads will be scaled down.\n",
      "Job counts:\n",
      "\tcount\tjobs\n",
      "\t1\tmustang_msa\n",
      "\t1\n",
      "\n",
      "rule mustang_msa:\n",
      "    input: PDB.nonredund_PF00014_pdb.5pti_pdbefold_S99_L0.95/get_chains_completed, PDB.nonredund_PF00014_pdb.5pti_pdbefold_S99_L0.95/idlist\n",
      "    output: nonredund_PF00014_pdb.5pti_pdbefold_S99_L0.95.mustang.afa\n",
      "    jobid: 0\n",
      "    wildcards: sequences=nonredund_PF00014_pdb.5pti_pdbefold_S99_L0.95\n",
      "\n",
      "mustang -p PDB.nonredund_PF00014_pdb.5pti_pdbefold_S99_L0.95/ -o PDB.nonredund_PF00014_pdb.5pti_pdbefold_S99_L0.95/mustang -i $(cat PDB.nonredund_PF00014_pdb.5pti_pdbefold_S99_L0.95/idlist | sed 's/:/./' | awk '{print $0\".pdb\"}') -F fasta -s OFF; ln -s PDB.nonredund_PF00014_pdb.5pti_pdbefold_S99_L0.95/mustang.afasta nonredund_PF00014_pdb.5pti_pdbefold_S99_L0.95.mustang.afa\n",
      "Unable to set utime on symlink nonredund_PF00014_pdb.5pti_pdbefold_S99_L0.95.mustang.afa. Your Python build does not support it.\n",
      "Finished job 0.\n",
      "1 of 1 steps (100%) done\n"
     ]
    }
   ],
   "source": [
    "%%bash\n",
    "cd ../dataset/\n",
    "pwd\n",
    "snakemake -p nonredund_PF00014_pdb.5pti_pdbefold_S99_L0.95.mustang.afa\n",
    "ls -lh nonredund_PF00014_pdb.5pti_pdbefold_S99_L0.95.mustang.afa\n",
    "wc -l nonredund_PF00014_pdb.5pti_pdbefold_S99_L0.95.mustang.afa\n",
    "head -6 nonredund_PF00014_pdb.5pti_pdbefold_S99_L0.95.mustang.afa"
   ]
  },
  {
   "cell_type": "markdown",
   "metadata": {},
   "source": [
    "#### T-Coffee MSA"
   ]
  },
  {
   "cell_type": "code",
   "execution_count": null,
   "metadata": {},
   "outputs": [],
   "source": []
  },
  {
   "cell_type": "markdown",
   "metadata": {},
   "source": [
    "### Build HMM\n",
    "**nonredund_PF00014_pdb.5pti_pdbefold_S99_L0.95.pdbefold.hmm**"
   ]
  },
  {
   "cell_type": "code",
   "execution_count": 40,
   "metadata": {},
   "outputs": [
    {
     "name": "stdout",
     "output_type": "stream",
     "text": [
      "/home/alessandro/Unibo/python-programming-alessandro-lussana/LB1/prj/kunitz_BPTI_hmm/dataset\n",
      "# hmmbuild :: profile HMM construction from multiple sequence alignments\n",
      "# HMMER 3.1b2 (February 2015); http://hmmer.org/\n",
      "# Copyright (C) 2015 Howard Hughes Medical Institute.\n",
      "# Freely distributed under the GNU General Public License (GPLv3).\n",
      "# - - - - - - - - - - - - - - - - - - - - - - - - - - - - - - - - - - - -\n",
      "# input alignment file:             nonredund_PF00014_pdb.5pti_pdbefold_S99_L0.95.pdbefold.afa\n",
      "# output HMM file:                  nonredund_PF00014_pdb.5pti_pdbefold_S99_L0.95.pdbefold.hmm\n",
      "# - - - - - - - - - - - - - - - - - - - - - - - - - - - - - - - - - - - -\n",
      "\n",
      "# idx name                  nseq  alen  mlen eff_nseq re/pos description\n",
      "#---- -------------------- ----- ----- ----- -------- ------ -----------\n",
      "1     nonredund_PF00014_pdb.5pti_pdbefold_S99_L0.95.pdbefold    25    68    59     2.43  0.946 \n",
      "\n",
      "# CPU time: 0.06u 0.00s 00:00:00.06 Elapsed: 00:00:00.06\n",
      "199\n"
     ]
    },
    {
     "name": "stderr",
     "output_type": "stream",
     "text": [
      "Provided cores: 1\n",
      "Rules claiming more threads will be scaled down.\n",
      "Job counts:\n",
      "\tcount\tjobs\n",
      "\t1\tbuild_hmm\n",
      "\t1\n",
      "\n",
      "rule build_hmm:\n",
      "    input: nonredund_PF00014_pdb.5pti_pdbefold_S99_L0.95.pdbefold.afa\n",
      "    output: nonredund_PF00014_pdb.5pti_pdbefold_S99_L0.95.pdbefold.hmm\n",
      "    jobid: 0\n",
      "    wildcards: msa=nonredund_PF00014_pdb.5pti_pdbefold_S99_L0.95.pdbefold\n",
      "\n",
      "hmmbuild --informat afa nonredund_PF00014_pdb.5pti_pdbefold_S99_L0.95.pdbefold.hmm nonredund_PF00014_pdb.5pti_pdbefold_S99_L0.95.pdbefold.afa\n",
      "Finished job 0.\n",
      "1 of 1 steps (100%) done\n"
     ]
    }
   ],
   "source": [
    "%%bash\n",
    "cd ../dataset/\n",
    "pwd\n",
    "snakemake -p nonredund_PF00014_pdb.5pti_pdbefold_S99_L0.95.pdbefold.hmm\n",
    "cat nonredund_PF00014_pdb.5pti_pdbefold_S99_L0.95.pdbefold.hmm | wc -l"
   ]
  },
  {
   "cell_type": "markdown",
   "metadata": {},
   "source": [
    "### Download testing sets identifiers\n",
    "[...]\n",
    "\n",
    "**uniprot_kunitz_negative.gz**\n",
    "\n",
    "**uniprot_kunitz_positive.gz**"
   ]
  },
  {
   "cell_type": "code",
   "execution_count": 41,
   "metadata": {},
   "outputs": [
    {
     "name": "stdout",
     "output_type": "stream",
     "text": [
      "/home/alessandro/Unibo/python-programming-alessandro-lussana/LB1/prj/kunitz_BPTI_hmm/dataset\n",
      "442129\n",
      "lrwxrwxrwx 1 alessandro alessandro 38 apr  8 17:02 uniprot_kunitz_negative.gz -> ../handmade/uniprot_kunitz_negative.gz\n",
      "322\n",
      "lrwxrwxrwx 1 alessandro alessandro 38 apr  8 17:02 uniprot_kunitz_negative.gz -> ../handmade/uniprot_kunitz_negative.gz\n"
     ]
    }
   ],
   "source": [
    "%%bash\n",
    "cd ../dataset/\n",
    "pwd\n",
    "zcat uniprot_kunitz_negative.gz | wc -l\n",
    "ls -lh uniprot_kunitz_negative.gz\n",
    "zcat uniprot_kunitz_positive.gz | wc -l\n",
    "ls -lh uniprot_kunitz_negative.gz"
   ]
  },
  {
   "cell_type": "markdown",
   "metadata": {},
   "source": [
    "### Filter positive testing set to avoid redundancy with training examples\n",
    "**filtered_S99_L0.95_kunitz_positive.txt**"
   ]
  },
  {
   "cell_type": "code",
   "execution_count": 42,
   "metadata": {},
   "outputs": [
    {
     "name": "stdout",
     "output_type": "stream",
     "text": [
      "/home/alessandro/Unibo/python-programming-alessandro-lussana/LB1/prj/kunitz_BPTI_hmm/dataset\n",
      "310\n",
      "P00981\n",
      "P00982\n",
      "P00978\n",
      "Q64240\n",
      "P04366\n"
     ]
    },
    {
     "name": "stderr",
     "output_type": "stream",
     "text": [
      "Provided cores: 1\n",
      "Rules claiming more threads will be scaled down.\n",
      "Job counts:\n",
      "\tcount\tjobs\n",
      "\t1\tfilter_out_training_clusters\n",
      "\t1\n",
      "\n",
      "rule filter_out_training_clusters:\n",
      "    input: PF00014_pdb.5pti_pdbefold_S99_L0.95_clust.gz, uniprot_kunitz_positive.gz\n",
      "    output: filtered_S99_L0.95_kunitz_positive.txt\n",
      "    jobid: 0\n",
      "    wildcards: S=99, L=0.95\n",
      "\n",
      "zcat uniprot_kunitz_positive.gz | grep -v -f <(zcat PF00014_pdb.5pti_pdbefold_S99_L0.95_clust.gz | sed '1d' | sed 's/ $//g' | sed 's/ /\\n/g' | cut -b 1-4 | sort | uniq) | cut -f1 > filtered_S99_L0.95_kunitz_positive.txt\n",
      "Finished job 0.\n",
      "1 of 1 steps (100%) done\n"
     ]
    }
   ],
   "source": [
    "%%bash\n",
    "cd ../dataset/\n",
    "pwd\n",
    "snakemake -p filtered_S99_L0.95_kunitz_positive.txt\n",
    "cat filtered_S99_L0.95_kunitz_positive.txt | wc -l\n",
    "cat filtered_S99_L0.95_kunitz_positive.txt | head -5"
   ]
  },
  {
   "cell_type": "markdown",
   "metadata": {},
   "source": [
    "### Random sample the negative testing set"
   ]
  },
  {
   "cell_type": "markdown",
   "metadata": {},
   "source": [
    "#### Get random ids\n",
    "**samp400_uniprot_kunitz_negative**"
   ]
  },
  {
   "cell_type": "code",
   "execution_count": 43,
   "metadata": {},
   "outputs": [
    {
     "name": "stdout",
     "output_type": "stream",
     "text": [
      "/home/alessandro/Unibo/python-programming-alessandro-lussana/LB1/prj/kunitz_BPTI_hmm/dataset\n",
      "400\n",
      "Q4V7Q2\t\n",
      "B5BFN4\t\n",
      "Q0HN48\t\n",
      "Q3J7Z9\t\n",
      "O73948\t1T4G;1XU4;2B21;2F1H;2F1I;2F1J;2FPK;2FPL;2FPM;2GDJ;2I1Q;3FYH;3NTU;4DC9;4QKQ;\n"
     ]
    },
    {
     "name": "stderr",
     "output_type": "stream",
     "text": [
      "Provided cores: 1\n",
      "Rules claiming more threads will be scaled down.\n",
      "Job counts:\n",
      "\tcount\tjobs\n",
      "\t1\trandom_sampling\n",
      "\t1\n",
      "\n",
      "rule random_sampling:\n",
      "    input: uniprot_kunitz_negative.gz\n",
      "    output: samp400.uniprot_kunitz_negative\n",
      "    jobid: 0\n",
      "    wildcards: N=400, list=uniprot_kunitz_negative\n",
      "\n",
      "zcat uniprot_kunitz_negative.gz | sort -R | sed -n '1,400p' > samp400.uniprot_kunitz_negative\n",
      "Finished job 0.\n",
      "1 of 1 steps (100%) done\n"
     ]
    }
   ],
   "source": [
    "%%bash\n",
    "cd ../dataset/\n",
    "pwd\n",
    "snakemake -p samp400.uniprot_kunitz_negative\n",
    "cat samp400.uniprot_kunitz_negative | wc -l\n",
    "cat samp400.uniprot_kunitz_negative | head -5"
   ]
  },
  {
   "cell_type": "markdown",
   "metadata": {},
   "source": [
    "### Generate fasta files for testing run\n",
    "#### Positives:\n",
    "**snakemake -pn nonredund_PF00014_pdb.5pti_pdbefold_S99_L0.95.filter.swissProt.fasta.gz**"
   ]
  },
  {
   "cell_type": "code",
   "execution_count": 44,
   "metadata": {},
   "outputs": [
    {
     "name": "stdout",
     "output_type": "stream",
     "text": [
      "/home/alessandro/Unibo/python-programming-alessandro-lussana/LB1/prj/kunitz_BPTI_hmm/dataset\n",
      "996\n",
      ">sp|P84875|PCPI_SABMA Carboxypeptidase inhibitor SmCI OS=Sabellastarte magnifica OX=389514 PE=1 SV=1\n",
      "ISVCDLPADRGQCTAYIPQWFFNKTTEDCEKFVYGGCQGNANRFETKDDCIANCGCNLPS\n",
      "KVGPCRVSARMWFHNPETEKCEVFIYGGCHGNANRFATETECQEVCDRYQKPGFCYQPSE\n",
      "TGPCKGSFPRYYYDYEDGECKEFIYGGCEGNANNFETKESCENAC\n",
      ">sp|Q9D263|SPIT4_MOUSE Kunitz-type protease inhibitor 4 OS=Mus musculus OX=10090 GN=Spint4 PE=2 SV=1\n",
      "MKPTKLGFLLGLSLLCSLSPPVLSGVERLANYLCKDYNDPCLLDVEPGSCYEVHFRFFYN\n"
     ]
    },
    {
     "name": "stderr",
     "output_type": "stream",
     "text": [
      "Provided cores: 1\n",
      "Rules claiming more threads will be scaled down.\n",
      "Job counts:\n",
      "\tcount\tjobs\n",
      "\t1\tfilterfasta\n",
      "\t1\n",
      "\n",
      "rule filterfasta:\n",
      "    input: swissProt.fasta.gz, filtered_S99_L0.95_kunitz_positive.txt\n",
      "    output: filtered_S99_L0.95_kunitz_positive.txt.filter.swissProt.fasta.gz\n",
      "    jobid: 0\n",
      "    wildcards: filter=filtered_S99_L0.95_kunitz_positive.txt, db=swissProt\n",
      "\n",
      "python ../src/fastafilter.py swissProt.fasta.gz filtered_S99_L0.95_kunitz_positive.txt | gzip > filtered_S99_L0.95_kunitz_positive.txt.filter.swissProt.fasta.gz\n",
      "Finished job 0.\n",
      "1 of 1 steps (100%) done\n"
     ]
    }
   ],
   "source": [
    "%%bash\n",
    "cd ../dataset/\n",
    "pwd\n",
    "snakemake -p filtered_S99_L0.95_kunitz_positive.txt.filter.swissProt.fasta.gz\n",
    "zcat filtered_S99_L0.95_kunitz_positive.txt.filter.swissProt.fasta.gz | wc -l\n",
    "zcat filtered_S99_L0.95_kunitz_positive.txt.filter.swissProt.fasta.gz | head -6"
   ]
  },
  {
   "cell_type": "markdown",
   "metadata": {},
   "source": [
    "#### Negative\n",
    "**samp400.uniprot_kunitz_negative.filter.swissProt.fasta.gz**"
   ]
  },
  {
   "cell_type": "code",
   "execution_count": 45,
   "metadata": {},
   "outputs": [
    {
     "name": "stdout",
     "output_type": "stream",
     "text": [
      "/home/alessandro/Unibo/python-programming-alessandro-lussana/LB1/prj/kunitz_BPTI_hmm/dataset\n",
      "2276\n",
      ">sp|P27212|P6_TNVD Uncharacterized protein p6 OS=Tobacco necrosis virus (strain D) OX=12056 GN=ORF3 PE=4 SV=1\n",
      "MAYIIVHQRDPFPLLGVWIIVIIIVAVIGLLNQSPPERPYQTFKEDNSKIQYITIGGSTT\n",
      "TKVSTS\n",
      ">sp|A3M810|PDXB_ACIBT Erythronate-4-phosphate dehydrogenase OS=Acinetobacter baumannii (strain ATCC 17978 / CIP 53.77 / LMG 1025 / NCDC KC755 / 5377) OX=400667 GN=pdxB PE=3 SV=2\n",
      "MKIVADENLAFTDYFFSEFGDIQHKAGRTLTHTDVQDAEALLVRSVTAVNESLIQNTALK\n",
      "YVGSATIGTDHLDIQALEKQGITWANAAGCNAQAVAEYVITALLHLDASLLEQQEKFTLG\n",
      "IVGLGNVGKRLAYMAQLLGWKVIGFDPFVQLDSIENVSFQTLLQQANAVSIHVPLTKKGE\n",
      "HATYHLFDEKAFAALQPNTILINSARGPVVKEAALIEDIQRTQRKVVLDVFEHEPVISEE\n",
      "LLNMLALATPHIAGYSLEGKARGTQMIYEAFCQKFGYDINKRFETQLPACEDYFSRHDLK\n",
      "AVLKQKISQIYDIAQDDANIRACVKEGKVEQKAFDLLRKNYPLRREWAAHGGPQA\n"
     ]
    },
    {
     "name": "stderr",
     "output_type": "stream",
     "text": [
      "Provided cores: 1\n",
      "Rules claiming more threads will be scaled down.\n",
      "Job counts:\n",
      "\tcount\tjobs\n",
      "\t1\tfilterfasta\n",
      "\t1\n",
      "\n",
      "rule filterfasta:\n",
      "    input: swissProt.fasta.gz, samp400.uniprot_kunitz_negative\n",
      "    output: samp400.uniprot_kunitz_negative.filter.swissProt.fasta.gz\n",
      "    jobid: 0\n",
      "    wildcards: filter=samp400.uniprot_kunitz_negative, db=swissProt\n",
      "\n",
      "python ../src/fastafilter.py swissProt.fasta.gz samp400.uniprot_kunitz_negative | gzip > samp400.uniprot_kunitz_negative.filter.swissProt.fasta.gz\n",
      "Finished job 0.\n",
      "1 of 1 steps (100%) done\n"
     ]
    }
   ],
   "source": [
    "%%bash\n",
    "cd ../dataset/\n",
    "pwd\n",
    "snakemake -p samp400.uniprot_kunitz_negative.filter.swissProt.fasta.gz\n",
    "zcat samp400.uniprot_kunitz_negative.filter.swissProt.fasta.gz | wc -l\n",
    "zcat samp400.uniprot_kunitz_negative.filter.swissProt.fasta.gz | head"
   ]
  },
  {
   "cell_type": "markdown",
   "metadata": {},
   "source": [
    "### Run hmmsearch\n",
    "#### Positives testing set\n",
    "**nonredund_PF00014_pdb.5pti_pdbefold_S99_L0.95.pdbefold.vs.filtered_S99_L0.95_kunitz_positive.txt.filter.swissProt.search_out**"
   ]
  },
  {
   "cell_type": "code",
   "execution_count": 46,
   "metadata": {},
   "outputs": [
    {
     "name": "stdout",
     "output_type": "stream",
     "text": [
      "/home/alessandro/Unibo/python-programming-alessandro-lussana/LB1/prj/kunitz_BPTI_hmm/dataset\n",
      "323\n",
      "#                                                                                                      --- full sequence ---- --- best 1 domain ---- --- domain number estimation ----\n",
      "# target name             accession  query name                                             accession    E-value  score  bias   E-value  score  bias   exp reg clu  ov env dom rep inc description of target\n",
      "#     ------------------- ----------                                   -------------------- ---------- --------- ------ ----- --------- ------ -----   --- --- --- --- --- --- --- --- ---------------------\n",
      "sp|Q28864|TFPI1_MACMU     -          nonredund_PF00014_pdb.5pti_pdbefold_S99_L0.95.pdbefold -            4.7e-71  229.2  42.1     3e-27   88.9   8.0   3.2   3   0   0   3   3   3   3 Tissue factor pathway inhibitor OS=Macaca mulatta OX=9544 GN=TFPI PE=2 SV=1\n",
      "sp|Q02445|TFPI1_RAT       -          nonredund_PF00014_pdb.5pti_pdbefold_S99_L0.95.pdbefold -            2.1e-70  227.1  42.4   1.2e-25   83.8   5.9   3.2   3   0   0   3   3   3   3 Tissue factor pathway inhibitor OS=Rattus norvegicus OX=10116 GN=Tfpi PE=2 SV=1\n",
      "sp|O54819|TFPI1_MOUSE     -          nonredund_PF00014_pdb.5pti_pdbefold_S99_L0.95.pdbefold -            1.4e-68  221.3  39.0     8e-26   84.3   5.7   3.1   3   0   0   3   3   3   3 Tissue factor pathway inhibitor OS=Mus musculus OX=10090 GN=Tfpi PE=2 SV=1\n"
     ]
    },
    {
     "name": "stderr",
     "output_type": "stream",
     "text": [
      "Provided cores: 1\n",
      "Rules claiming more threads will be scaled down.\n",
      "Job counts:\n",
      "\tcount\tjobs\n",
      "\t1\thmm_db_search\n",
      "\t1\n",
      "\n",
      "rule hmm_db_search:\n",
      "    input: filtered_S99_L0.95_kunitz_positive.txt.filter.swissProt.fasta.gz, nonredund_PF00014_pdb.5pti_pdbefold_S99_L0.95.pdbefold.hmm\n",
      "    output: nonredund_PF00014_pdb.5pti_pdbefold_S99_L0.95.pdbefold.vs.filtered_S99_L0.95_kunitz_positive.txt.filter.swissProt.search_out\n",
      "    jobid: 0\n",
      "    wildcards: model=nonredund_PF00014_pdb.5pti_pdbefold_S99_L0.95.pdbefold, db=filtered_S99_L0.95_kunitz_positive.txt.filter.swissProt\n",
      "\n",
      "hmmsearch --tblout nonredund_PF00014_pdb.5pti_pdbefold_S99_L0.95.pdbefold.vs.filtered_S99_L0.95_kunitz_positive.txt.filter.swissProt.search_out --max --noali --domE 100000000 -E 100000000 nonredund_PF00014_pdb.5pti_pdbefold_S99_L0.95.pdbefold.hmm <(zcat filtered_S99_L0.95_kunitz_positive.txt.filter.swissProt.fasta.gz) > /dev/null\n",
      "Finished job 0.\n",
      "1 of 1 steps (100%) done\n"
     ]
    }
   ],
   "source": [
    "%%bash\n",
    "cd ../dataset/\n",
    "pwd\n",
    "snakemake -p nonredund_PF00014_pdb.5pti_pdbefold_S99_L0.95.pdbefold.vs.filtered_S99_L0.95_kunitz_positive.txt.filter.swissProt.search_out\n",
    "cat nonredund_PF00014_pdb.5pti_pdbefold_S99_L0.95.pdbefold.vs.filtered_S99_L0.95_kunitz_positive.txt.filter.swissProt.search_out | wc -l\n",
    "cat nonredund_PF00014_pdb.5pti_pdbefold_S99_L0.95.pdbefold.vs.filtered_S99_L0.95_kunitz_positive.txt.filter.swissProt.search_out | head -6"
   ]
  },
  {
   "cell_type": "markdown",
   "metadata": {},
   "source": [
    "#### Negatives testing set\n",
    "**nonredund_PF00014_pdb.5pti_pdbefold_S99_L0.95.pdbefold.vs.samp400.uniprot_kunitz_negative.filter.swissProt.search_out**"
   ]
  },
  {
   "cell_type": "code",
   "execution_count": 47,
   "metadata": {},
   "outputs": [
    {
     "name": "stdout",
     "output_type": "stream",
     "text": [
      "/home/alessandro/Unibo/python-programming-alessandro-lussana/LB1/prj/kunitz_BPTI_hmm/dataset\n",
      "217\n",
      "#                                                                                                  --- full sequence ---- --- best 1 domain ---- --- domain number estimation ----\n",
      "# target name         accession  query name                                             accession    E-value  score  bias   E-value  score  bias   exp reg clu  ov env dom rep inc description of target\n",
      "# ------------------- ----------                                   -------------------- ---------- --------- ------ ----- --------- ------ -----   --- --- --- --- --- --- --- --- ---------------------\n",
      "sp|P00007|CYC_HIPAM   -          nonredund_PF00014_pdb.5pti_pdbefold_S99_L0.95.pdbefold -                1.7    3.5   0.0       3.9    2.4   0.0   1.5   1   0   0   1   1   1   0 Cytochrome c OS=Hippopotamus amphibius OX=9833 GN=CYCS PE=1 SV=2\n",
      "sp|P0C0Y9|RCEM_RHOSH  -          nonredund_PF00014_pdb.5pti_pdbefold_S99_L0.95.pdbefold -                1.9    3.4   0.0       3.6    2.5   0.0   1.4   1   0   0   1   1   1   0 Reaction center protein M chain OS=Rhodobacter sphaeroides OX=1063 GN=pufM PE=1 SV=2\n",
      "sp|P0C0F0|CSPA_STRPY  -          nonredund_PF00014_pdb.5pti_pdbefold_S99_L0.95.pdbefold -                2.1    3.3   0.0       2.4    3.1   0.0   1.3   1   0   0   1   1   1   0 Major cold shock protein (Fragment) OS=Streptococcus pyogenes OX=1314 GN=cspA PE=3 SV=1\n"
     ]
    },
    {
     "name": "stderr",
     "output_type": "stream",
     "text": [
      "Provided cores: 1\n",
      "Rules claiming more threads will be scaled down.\n",
      "Job counts:\n",
      "\tcount\tjobs\n",
      "\t1\thmm_db_search\n",
      "\t1\n",
      "\n",
      "rule hmm_db_search:\n",
      "    input: samp400.uniprot_kunitz_negative.filter.swissProt.fasta.gz, nonredund_PF00014_pdb.5pti_pdbefold_S99_L0.95.pdbefold.hmm\n",
      "    output: nonredund_PF00014_pdb.5pti_pdbefold_S99_L0.95.pdbefold.vs.samp400.uniprot_kunitz_negative.filter.swissProt.search_out\n",
      "    jobid: 0\n",
      "    wildcards: model=nonredund_PF00014_pdb.5pti_pdbefold_S99_L0.95.pdbefold, db=samp400.uniprot_kunitz_negative.filter.swissProt\n",
      "\n",
      "hmmsearch --tblout nonredund_PF00014_pdb.5pti_pdbefold_S99_L0.95.pdbefold.vs.samp400.uniprot_kunitz_negative.filter.swissProt.search_out --max --noali --domE 100000000 -E 100000000 nonredund_PF00014_pdb.5pti_pdbefold_S99_L0.95.pdbefold.hmm <(zcat samp400.uniprot_kunitz_negative.filter.swissProt.fasta.gz) > /dev/null\n",
      "Finished job 0.\n",
      "1 of 1 steps (100%) done\n"
     ]
    }
   ],
   "source": [
    "%%bash\n",
    "cd ../dataset/\n",
    "pwd\n",
    "snakemake -p nonredund_PF00014_pdb.5pti_pdbefold_S99_L0.95.pdbefold.vs.samp400.uniprot_kunitz_negative.filter.swissProt.search_out\n",
    "cat nonredund_PF00014_pdb.5pti_pdbefold_S99_L0.95.pdbefold.vs.samp400.uniprot_kunitz_negative.filter.swissProt.search_out | wc -l\n",
    "cat nonredund_PF00014_pdb.5pti_pdbefold_S99_L0.95.pdbefold.vs.samp400.uniprot_kunitz_negative.filter.swissProt.search_out | head -6"
   ]
  },
  {
   "cell_type": "markdown",
   "metadata": {},
   "source": [
    "### Generate file to feed the confusion matrix program"
   ]
  },
  {
   "cell_type": "markdown",
   "metadata": {},
   "source": [
    "#### Parse positives and negatives testing sets hmmsearch results\n",
    "**conflist.nonredund_PF00014_pdb.5pti_pdbefold_S99_L0.95.pdbefold.vs.filtered_S99_L0.95_kunitz_positive.txt.filter.swissProt.and.nonredund_PF00014_pdb.5pti_pdbefold_S99_L0.95.pdbefold.vs.samp400.uniprot_kunitz_negative.filter.swissProt.gz**"
   ]
  },
  {
   "cell_type": "code",
   "execution_count": 48,
   "metadata": {},
   "outputs": [
    {
     "name": "stdout",
     "output_type": "stream",
     "text": [
      "/home/alessandro/Unibo/python-programming-alessandro-lussana/LB1/prj/kunitz_BPTI_hmm/dataset\n",
      "514\n",
      "sp|Q28864|TFPI1_MACMU\t3e-27\t1\n",
      "sp|Q02445|TFPI1_RAT\t1.2e-25\t1\n",
      "sp|O54819|TFPI1_MOUSE\t8e-26\t1\n",
      "sp|P19761|TFPI1_RABIT\t1.1e-25\t1\n",
      "sp|P84875|PCPI_SABMA\t1.5e-23\t1\n",
      "sp|P83606|BMTI6_RHIMP\t3e-23\t1\n"
     ]
    },
    {
     "name": "stderr",
     "output_type": "stream",
     "text": [
      "Provided cores: 1\n",
      "Rules claiming more threads will be scaled down.\n",
      "Job counts:\n",
      "\tcount\tjobs\n",
      "\t1\tcompute_confusion_matrix_feed_file\n",
      "\t1\n",
      "\n",
      "rule compute_confusion_matrix_feed_file:\n",
      "    input: nonredund_PF00014_pdb.5pti_pdbefold_S99_L0.95.pdbefold.vs.filtered_S99_L0.95_kunitz_positive.txt.filter.swissProt.search_out, nonredund_PF00014_pdb.5pti_pdbefold_S99_L0.95.pdbefold.vs.samp400.uniprot_kunitz_negative.filter.swissProt.search_out\n",
      "    output: conflst.nonredund_PF00014_pdb.5pti_pdbefold_S99_L0.95.pdbefold.vs.filtered_S99_L0.95_kunitz_positive.txt.filter.swissProt.and.nonredund_PF00014_pdb.5pti_pdbefold_S99_L0.95.pdbefold.vs.samp400.uniprot_kunitz_negative.filter.swissProt.gz\n",
      "    jobid: 0\n",
      "    wildcards: p=nonredund_PF00014_pdb.5pti_pdbefold_S99_L0.95.pdbefold.vs.filtered_S99_L0.95_kunitz_positive.txt.filter.swissProt, n=nonredund_PF00014_pdb.5pti_pdbefold_S99_L0.95.pdbefold.vs.samp400.uniprot_kunitz_negative.filter.swissProt\n",
      "\n",
      "cat <(cat nonredund_PF00014_pdb.5pti_pdbefold_S99_L0.95.pdbefold.vs.filtered_S99_L0.95_kunitz_positive.txt.filter.swissProt.search_out | grep ^sp | tr -s \" \" \"\\t\" | cut -f1,8 | awk '{print $0\"\\t1\"}') <(cat nonredund_PF00014_pdb.5pti_pdbefold_S99_L0.95.pdbefold.vs.samp400.uniprot_kunitz_negative.filter.swissProt.search_out | grep ^sp | tr -s \" \" \"\\t\" | cut -f1,8 | awk '{print $0\"\\t0\"}') | gzip > conflst.nonredund_PF00014_pdb.5pti_pdbefold_S99_L0.95.pdbefold.vs.filtered_S99_L0.95_kunitz_positive.txt.filter.swissProt.and.nonredund_PF00014_pdb.5pti_pdbefold_S99_L0.95.pdbefold.vs.samp400.uniprot_kunitz_negative.filter.swissProt.gz\n",
      "Finished job 0.\n",
      "1 of 1 steps (100%) done\n"
     ]
    }
   ],
   "source": [
    "%%bash\n",
    "cd ../dataset/\n",
    "pwd\n",
    "snakemake -p conflst.nonredund_PF00014_pdb.5pti_pdbefold_S99_L0.95.pdbefold.vs.filtered_S99_L0.95_kunitz_positive.txt.filter.swissProt.and.nonredund_PF00014_pdb.5pti_pdbefold_S99_L0.95.pdbefold.vs.samp400.uniprot_kunitz_negative.filter.swissProt.gz\n",
    "zcat conflst.nonredund_PF00014_pdb.5pti_pdbefold_S99_L0.95.pdbefold.vs.filtered_S99_L0.95_kunitz_positive.txt.filter.swissProt.and.nonredund_PF00014_pdb.5pti_pdbefold_S99_L0.95.pdbefold.vs.samp400.uniprot_kunitz_negative.filter.swissProt | wc -l\n",
    "zcat conflst.nonredund_PF00014_pdb.5pti_pdbefold_S99_L0.95.pdbefold.vs.filtered_S99_L0.95_kunitz_positive.txt.filter.swissProt.and.nonredund_PF00014_pdb.5pti_pdbefold_S99_L0.95.pdbefold.vs.samp400.uniprot_kunitz_negative.filter.swissProt.gz | head -6"
   ]
  },
  {
   "cell_type": "markdown",
   "metadata": {},
   "source": [
    "#### Include hmmsearch-missed sequences using psudo-e-values\n",
    "**filled.conflist.nonredund_PF00014_pdb.5pti_pdbefold_S99_L0.95.pdbefold.vs.filtered_S99_L0.95_kunitz_positive.txt.filter.swissProt.and.nonredund_PF00014_pdb.5pti_pdbefold_S99_L0.95.pdbefold.vs.samp400.uniprot_kunitz_negative.filter.swissProt.gz**"
   ]
  },
  {
   "cell_type": "code",
   "execution_count": 49,
   "metadata": {},
   "outputs": [
    {
     "name": "stdout",
     "output_type": "stream",
     "text": [
      "/home/alessandro/Unibo/python-programming-alessandro-lussana/LB1/prj/kunitz_BPTI_hmm/dataset\n",
      "710\n",
      "sp|Q28864|TFPI1_MACMU\t3e-27\t1\n",
      "sp|Q02445|TFPI1_RAT\t1.2e-25\t1\n",
      "sp|O54819|TFPI1_MOUSE\t8e-26\t1\n",
      "sp|P19761|TFPI1_RABIT\t1.1e-25\t1\n",
      "sp|P84875|PCPI_SABMA\t1.5e-23\t1\n",
      "sp|P83606|BMTI6_RHIMP\t3e-23\t1\n"
     ]
    },
    {
     "name": "stderr",
     "output_type": "stream",
     "text": [
      "Provided cores: 1\n",
      "Rules claiming more threads will be scaled down.\n",
      "Job counts:\n",
      "\tcount\tjobs\n",
      "\t1\tadd_missing_id_to_conf_list\n",
      "\t1\n",
      "\n",
      "rule add_missing_id_to_conf_list:\n",
      "    input: conflst.nonredund_PF00014_pdb.5pti_pdbefold_S99_L0.95.pdbefold.vs.filtered_S99_L0.95_kunitz_positive.txt.filter.swissProt.and.nonredund_PF00014_pdb.5pti_pdbefold_S99_L0.95.pdbefold.vs.samp400.uniprot_kunitz_negative.filter.swissProt.gz, samp400.uniprot_kunitz_negative\n",
      "    output: filledconflst.nonredund_PF00014_pdb.5pti_pdbefold_S99_L0.95.pdbefold.vs.filtered_S99_L0.95_kunitz_positive.txt.filter.swissProt.and.nonredund_PF00014_pdb.5pti_pdbefold_S99_L0.95.pdbefold.vs.samp400.uniprot_kunitz_negative.filter.swissProt.gz\n",
      "    jobid: 0\n",
      "    wildcards: hmm=nonredund_PF00014_pdb.5pti_pdbefold_S99_L0.95.pdbefold, p=filtered_S99_L0.95_kunitz_positive.txt, n=samp400.uniprot_kunitz_negative\n",
      "\n",
      "cat <(zcat conflst.nonredund_PF00014_pdb.5pti_pdbefold_S99_L0.95.pdbefold.vs.filtered_S99_L0.95_kunitz_positive.txt.filter.swissProt.and.nonredund_PF00014_pdb.5pti_pdbefold_S99_L0.95.pdbefold.vs.samp400.uniprot_kunitz_negative.filter.swissProt.gz) <(cat samp400.uniprot_kunitz_negative | cut -f1 | grep -v -f <(zcat conflst.nonredund_PF00014_pdb.5pti_pdbefold_S99_L0.95.pdbefold.vs.filtered_S99_L0.95_kunitz_positive.txt.filter.swissProt.and.nonredund_PF00014_pdb.5pti_pdbefold_S99_L0.95.pdbefold.vs.samp400.uniprot_kunitz_negative.filter.swissProt.gz | cut -d '|' -f2) | awk '{print $0\"\\t1.0\\t0\"}') | gzip > filledconflst.nonredund_PF00014_pdb.5pti_pdbefold_S99_L0.95.pdbefold.vs.filtered_S99_L0.95_kunitz_positive.txt.filter.swissProt.and.nonredund_PF00014_pdb.5pti_pdbefold_S99_L0.95.pdbefold.vs.samp400.uniprot_kunitz_negative.filter.swissProt.gz\n",
      "Finished job 0.\n",
      "1 of 1 steps (100%) done\n"
     ]
    }
   ],
   "source": [
    "%%bash\n",
    "cd ../dataset/\n",
    "pwd\n",
    "snakemake -p filledconflst.nonredund_PF00014_pdb.5pti_pdbefold_S99_L0.95.pdbefold.vs.filtered_S99_L0.95_kunitz_positive.txt.filter.swissProt.and.nonredund_PF00014_pdb.5pti_pdbefold_S99_L0.95.pdbefold.vs.samp400.uniprot_kunitz_negative.filter.swissProt.gz\n",
    "zcat filledconflst.nonredund_PF00014_pdb.5pti_pdbefold_S99_L0.95.pdbefold.vs.filtered_S99_L0.95_kunitz_positive.txt.filter.swissProt.and.nonredund_PF00014_pdb.5pti_pdbefold_S99_L0.95.pdbefold.vs.samp400.uniprot_kunitz_negative.filter.swissProt.gz | wc -l\n",
    "zcat filledconflst.nonredund_PF00014_pdb.5pti_pdbefold_S99_L0.95.pdbefold.vs.filtered_S99_L0.95_kunitz_positive.txt.filter.swissProt.and.nonredund_PF00014_pdb.5pti_pdbefold_S99_L0.95.pdbefold.vs.samp400.uniprot_kunitz_negative.filter.swissProt.gz | head -6"
   ]
  },
  {
   "cell_type": "markdown",
   "metadata": {},
   "source": [
    "#### Correct e-values dividing by the database size\n",
    "**corr.filled.conflist.nonredund_PF00014_pdb.5pti_pdbefold_S99_L0.95.pdbefold.vs.filtered_S99_L0.95_kunitz_positive.txt.filter.swissProt.and.nonredund_PF00014_pdb.5pti_pdbefold_S99_L0.95.pdbefold.vs.samp400.uniprot_kunitz_negative.filter.swissProt.gz**"
   ]
  },
  {
   "cell_type": "code",
   "execution_count": 50,
   "metadata": {},
   "outputs": [
    {
     "name": "stdout",
     "output_type": "stream",
     "text": [
      "/home/alessandro/Unibo/python-programming-alessandro-lussana/LB1/prj/kunitz_BPTI_hmm/dataset\n",
      "710\n",
      "sp|Q28864|TFPI1_MACMU\t9.3e-25\t1\n",
      "sp|Q02445|TFPI1_RAT\t3.72e-23\t1\n",
      "sp|O54819|TFPI1_MOUSE\t2.48e-23\t1\n",
      "sp|P19761|TFPI1_RABIT\t3.41e-23\t1\n",
      "sp|P84875|PCPI_SABMA\t4.65e-21\t1\n"
     ]
    },
    {
     "name": "stderr",
     "output_type": "stream",
     "text": [
      "Provided cores: 1\n",
      "Rules claiming more threads will be scaled down.\n",
      "Job counts:\n",
      "\tcount\tjobs\n",
      "\t1\tcorrect_e_values\n",
      "\t1\n",
      "\n",
      "rule correct_e_values:\n",
      "    input: filledconflst.nonredund_PF00014_pdb.5pti_pdbefold_S99_L0.95.pdbefold.vs.filtered_S99_L0.95_kunitz_positive.txt.filter.swissProt.and.nonredund_PF00014_pdb.5pti_pdbefold_S99_L0.95.pdbefold.vs.samp400.uniprot_kunitz_negative.filter.swissProt.gz\n",
      "    output: corrconflst.nonredund_PF00014_pdb.5pti_pdbefold_S99_L0.95.pdbefold.vs.filtered_S99_L0.95_kunitz_positive.txt.filter.swissProt.and.nonredund_PF00014_pdb.5pti_pdbefold_S99_L0.95.pdbefold.vs.samp400.uniprot_kunitz_negative.filter.swissProt.gz\n",
      "    jobid: 0\n",
      "    wildcards: conflist=nonredund_PF00014_pdb.5pti_pdbefold_S99_L0.95.pdbefold.vs.filtered_S99_L0.95_kunitz_positive.txt.filter.swissProt.and.nonredund_PF00014_pdb.5pti_pdbefold_S99_L0.95.pdbefold.vs.samp400.uniprot_kunitz_negative.filter.swissProt\n",
      "\n",
      "N=$(zcat filledconflst.nonredund_PF00014_pdb.5pti_pdbefold_S99_L0.95.pdbefold.vs.filtered_S99_L0.95_kunitz_positive.txt.filter.swissProt.and.nonredund_PF00014_pdb.5pti_pdbefold_S99_L0.95.pdbefold.vs.samp400.uniprot_kunitz_negative.filter.swissProt.gz | awk '$3==0{print $0}' | wc -l); P=$(zcat filledconflst.nonredund_PF00014_pdb.5pti_pdbefold_S99_L0.95.pdbefold.vs.filtered_S99_L0.95_kunitz_positive.txt.filter.swissProt.and.nonredund_PF00014_pdb.5pti_pdbefold_S99_L0.95.pdbefold.vs.samp400.uniprot_kunitz_negative.filter.swissProt.gz | awk '$3==1{print $0}' | wc -l); zcat filledconflst.nonredund_PF00014_pdb.5pti_pdbefold_S99_L0.95.pdbefold.vs.filtered_S99_L0.95_kunitz_positive.txt.filter.swissProt.and.nonredund_PF00014_pdb.5pti_pdbefold_S99_L0.95.pdbefold.vs.samp400.uniprot_kunitz_negative.filter.swissProt.gz | awk -v P=$P -v N=$N '{if($2 != 1.0 && $3 == 1){print $1\"\\t\"$2*P\"\\t\"$3}else if($2 != 1.0 && $3 == 0){print $1\"\\t\"$2*N\"\\t\"$3} else{print $0}}' | gzip > corrconflst.nonredund_PF00014_pdb.5pti_pdbefold_S99_L0.95.pdbefold.vs.filtered_S99_L0.95_kunitz_positive.txt.filter.swissProt.and.nonredund_PF00014_pdb.5pti_pdbefold_S99_L0.95.pdbefold.vs.samp400.uniprot_kunitz_negative.filter.swissProt.gz\n",
      "Finished job 0.\n",
      "1 of 1 steps (100%) done\n"
     ]
    }
   ],
   "source": [
    "%%bash\n",
    "cd ../dataset/\n",
    "pwd\n",
    "snakemake -p corrconflst.nonredund_PF00014_pdb.5pti_pdbefold_S99_L0.95.pdbefold.vs.filtered_S99_L0.95_kunitz_positive.txt.filter.swissProt.and.nonredund_PF00014_pdb.5pti_pdbefold_S99_L0.95.pdbefold.vs.samp400.uniprot_kunitz_negative.filter.swissProt.gz\n",
    "zcat corrconflst.nonredund_PF00014_pdb.5pti_pdbefold_S99_L0.95.pdbefold.vs.filtered_S99_L0.95_kunitz_positive.txt.filter.swissProt.and.nonredund_PF00014_pdb.5pti_pdbefold_S99_L0.95.pdbefold.vs.samp400.uniprot_kunitz_negative.filter.swissProt.gz | wc -l\n",
    "zcat corrconflst.nonredund_PF00014_pdb.5pti_pdbefold_S99_L0.95.pdbefold.vs.filtered_S99_L0.95_kunitz_positive.txt.filter.swissProt.and.nonredund_PF00014_pdb.5pti_pdbefold_S99_L0.95.pdbefold.vs.samp400.uniprot_kunitz_negative.filter.swissProt.gz | head -5"
   ]
  },
  {
   "cell_type": "markdown",
   "metadata": {},
   "source": [
    "### Compute the confusion matrix\n",
    "**confmat_th0.001.corr.filled.conflist.nonredund_PF00014_pdb.5pti_pdbefold_S99_L0.95.pdbefold.vs.filtered_S99_L0.95_kunitz_positive.txt.filter.swissProt.and.nonredund_PF00014_pdb.5pti_pdbefold_S99_L0.95.pdbefold.vs.samp400.uniprot_kunitz_negative.filter.swissProt**"
   ]
  },
  {
   "cell_type": "code",
   "execution_count": 51,
   "metadata": {},
   "outputs": [
    {
     "name": "stdout",
     "output_type": "stream",
     "text": [
      "/home/alessandro/Unibo/python-programming-alessandro-lussana/LB1/prj/kunitz_BPTI_hmm/dataset\n",
      "TP\t308\n",
      "TN\t400\n",
      "FP\t0\n",
      "FN\t2\n",
      "acc\t0.997183\n",
      "tpr\t0.993548\n",
      "ppv\t1.000000\n",
      "mcc\t0.994286\n"
     ]
    },
    {
     "name": "stderr",
     "output_type": "stream",
     "text": [
      "Provided cores: 1\n",
      "Rules claiming more threads will be scaled down.\n",
      "Job counts:\n",
      "\tcount\tjobs\n",
      "\t1\tcompute_confusion_matrix\n",
      "\t1\n",
      "\n",
      "rule compute_confusion_matrix:\n",
      "    input: corrconflst.nonredund_PF00014_pdb.5pti_pdbefold_S99_L0.95.pdbefold.vs.filtered_S99_L0.95_kunitz_positive.txt.filter.swissProt.and.nonredund_PF00014_pdb.5pti_pdbefold_S99_L0.95.pdbefold.vs.samp400.uniprot_kunitz_negative.filter.swissProt.gz\n",
      "    output: confmat_th0.001.of.nonredund_PF00014_pdb.5pti_pdbefold_S99_L0.95.pdbefold.vs.filtered_S99_L0.95_kunitz_positive.txt.filter.swissProt.and.nonredund_PF00014_pdb.5pti_pdbefold_S99_L0.95.pdbefold.vs.samp400.uniprot_kunitz_negative.filter.swissProt\n",
      "    jobid: 0\n",
      "    wildcards: th=0.001, conflist=nonredund_PF00014_pdb.5pti_pdbefold_S99_L0.95.pdbefold.vs.filtered_S99_L0.95_kunitz_positive.txt.filter.swissProt.and.nonredund_PF00014_pdb.5pti_pdbefold_S99_L0.95.pdbefold.vs.samp400.uniprot_kunitz_negative.filter.swissProt\n",
      "\n",
      "python ../src/buildConfMatrix.py corrconflst.nonredund_PF00014_pdb.5pti_pdbefold_S99_L0.95.pdbefold.vs.filtered_S99_L0.95_kunitz_positive.txt.filter.swissProt.and.nonredund_PF00014_pdb.5pti_pdbefold_S99_L0.95.pdbefold.vs.samp400.uniprot_kunitz_negative.filter.swissProt.gz 0.001 > confmat_th0.001.of.nonredund_PF00014_pdb.5pti_pdbefold_S99_L0.95.pdbefold.vs.filtered_S99_L0.95_kunitz_positive.txt.filter.swissProt.and.nonredund_PF00014_pdb.5pti_pdbefold_S99_L0.95.pdbefold.vs.samp400.uniprot_kunitz_negative.filter.swissProt\n",
      "Finished job 0.\n",
      "1 of 1 steps (100%) done\n"
     ]
    }
   ],
   "source": [
    "%%bash\n",
    "cd ../dataset/\n",
    "pwd\n",
    "snakemake -p confmat_th0.001.of.nonredund_PF00014_pdb.5pti_pdbefold_S99_L0.95.pdbefold.vs.filtered_S99_L0.95_kunitz_positive.txt.filter.swissProt.and.nonredund_PF00014_pdb.5pti_pdbefold_S99_L0.95.pdbefold.vs.samp400.uniprot_kunitz_negative.filter.swissProt\n",
    "cat confmat_th0.001.of.nonredund_PF00014_pdb.5pti_pdbefold_S99_L0.95.pdbefold.vs.filtered_S99_L0.95_kunitz_positive.txt.filter.swissProt.and.nonredund_PF00014_pdb.5pti_pdbefold_S99_L0.95.pdbefold.vs.samp400.uniprot_kunitz_negative.filter.swissProt"
   ]
  },
  {
   "cell_type": "markdown",
   "metadata": {},
   "source": [
    "### [TODO (maybe) Demonstrate that non structure-based sequences alignment allows to build a worse HMM]"
   ]
  }
 ],
 "metadata": {
  "kernelspec": {
   "display_name": "Python 3",
   "language": "python",
   "name": "python3"
  },
  "language_info": {
   "codemirror_mode": {
    "name": "ipython",
    "version": 3
   },
   "file_extension": ".py",
   "mimetype": "text/x-python",
   "name": "python",
   "nbconvert_exporter": "python",
   "pygments_lexer": "ipython3",
   "version": "3.6.2"
  }
 },
 "nbformat": 4,
 "nbformat_minor": 2
}
